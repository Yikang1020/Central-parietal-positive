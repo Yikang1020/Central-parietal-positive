{
 "cells": [
  {
   "cell_type": "code",
   "execution_count": 1,
   "id": "a5a9d201-b8ec-4bea-b30a-9ba471def755",
   "metadata": {},
   "outputs": [],
   "source": [
    "import os\n",
    "import sys\n",
    "import numpy as np\n",
    "import pandas as pd\n",
    "import random\n",
    "import matplotlib.pyplot as plt\n",
    "import seaborn as sns\n"
   ]
  },
  {
   "cell_type": "markdown",
   "id": "b49b882b-0d3c-46bd-9369-597b18f41b78",
   "metadata": {},
   "source": [
    "## Generate fake data"
   ]
  },
  {
   "cell_type": "code",
   "execution_count": 6,
   "id": "0c414e90-f55f-41b5-aea1-60fd63b23f4e",
   "metadata": {},
   "outputs": [],
   "source": [
    "def sin_wave(A, f, fs, phi, t, seed):\n",
    "    '''\n",
    "    params A: amplitude\n",
    "    params f: frequency\n",
    "    params fs: frequency sample rate\n",
    "    params phi: phase\n",
    "    params t: time\n",
    "    '''\n",
    "    random.seed(seed)\n",
    "    Ts = 1/fs #采样时间间隔\n",
    "    n = t/Ts\n",
    "    y = A*np.sin(2*np.pi*(f + 0.4*random.random() -0.2)*t + phi*(np.pi/180)) + random.random()\n",
    "    return y"
   ]
  },
  {
   "cell_type": "markdown",
   "id": "dade749e-04dd-45b8-a92d-d3f4823a7edb",
   "metadata": {},
   "source": [
    "epochs = 1000\n",
    "\n",
    "sample frequnecy = 512\n",
    "\n",
    "response-locked data -1s - 1s"
   ]
  },
  {
   "cell_type": "code",
   "execution_count": 46,
   "id": "84396a1c-5eab-4b13-82c3-5f3c176a77ad",
   "metadata": {},
   "outputs": [],
   "source": [
    "for i in range(1000):\n",
    "    seed = i\n",
    "    fs = 512\n",
    "    time = np.arange(-1,1,1/fs)\n",
    "    chan1 = sin_wave(A = 1, f = 0.25, fs = fs, phi = 90, t = time, seed = seed)\n",
    "    chan2 = sin_wave(A = 0.8, f = 0.2, fs = fs, phi = 100, t = time, seed = seed)\n",
    "    chan3 = sin_wave(A = 0.9, f = 0.3, fs = fs, phi = 70, t = time, seed = seed)\n",
    "\n",
    "    mat_tmp = np.array([[time,chan1],[time,chan2],[time,chan3]])\n",
    "    \n",
    "    mat_tmp = mat_tmp.transpose(2,1,0)\n",
    "    \n",
    "    mat_tmp = np.expand_dims(mat_tmp, axis = 3)\n",
    "    if i == 0:\n",
    "        mat = mat_tmp\n",
    "    else:\n",
    "        mat = np.concatenate((mat,mat_tmp),axis = 3)\n",
    "\n",
    "mat = mat.transpose(0,1,3,2)"
   ]
  },
  {
   "cell_type": "markdown",
   "id": "a56c20b8-6516-4833-af42-e3d5362d2929",
   "metadata": {},
   "source": [
    "epochs = 1000\n",
    "\n",
    "sample frequnecy = 512\n",
    "\n",
    "stimulus-locked data -0.5s - 0"
   ]
  },
  {
   "cell_type": "code",
   "execution_count": 88,
   "id": "498bc716-6f2c-46c7-9c91-3aaf0e9cf729",
   "metadata": {},
   "outputs": [],
   "source": [
    "cue_mat = np.zeros([256,2,1000,3])\n",
    "\n",
    "cue_mat[:,0,:,:] = np.reshape(np.arange(-0.5,0,1/fs),(256,1,1))"
   ]
  },
  {
   "cell_type": "markdown",
   "id": "24e9fd14-bbd6-4dad-95ca-c4b77e5d746b",
   "metadata": {},
   "source": [
    "# O’Connell et al., 2012"
   ]
  },
  {
   "cell_type": "markdown",
   "id": "83d8730e-d8b1-4d39-b651-c621681c9c5e",
   "metadata": {},
   "source": [
    "The CPP analysis consisted simply of averaging the single-trial waveforms, which were baseline-corrected relative to the 500-ms interval before target onset."
   ]
  },
  {
   "cell_type": "code",
   "execution_count": 96,
   "id": "300ae839-b0be-4030-a467-0adcf4163f72",
   "metadata": {},
   "outputs": [],
   "source": [
    "# average the single-trial waveforms\n",
    "mat_average = np.mean(mat, axis = 2)\n",
    "\n",
    "# baseline \n",
    "cue_mat_average = np.mean(cue_mat,axis = 2)\n",
    "\n",
    "baseline = np.mean(cue_mat_average, axis = 0)\n",
    "\n",
    "CPP_amplitude = mat_average[:,1,:] - baseline[0,:]"
   ]
  },
  {
   "cell_type": "markdown",
   "id": "94d5497a-392b-44a0-bd68-16c9137aacff",
   "metadata": {},
   "source": [
    "CPP amplitude and latency measures were taken from the average of three electrodes centered on standard site CPz.."
   ]
  },
  {
   "cell_type": "code",
   "execution_count": 97,
   "id": "6194e0d6-1b9d-4179-b014-8705b640eaa9",
   "metadata": {},
   "outputs": [],
   "source": [
    "CPP_amplitude = np.mean(CPP_amplitude, axis = 1)"
   ]
  },
  {
   "cell_type": "code",
   "execution_count": 99,
   "id": "0e0eab35-4f36-4d38-a24f-57884ed4e46e",
   "metadata": {},
   "outputs": [
    {
     "data": {
      "text/plain": [
       "[<matplotlib.lines.Line2D at 0x28c978338e0>]"
      ]
     },
     "execution_count": 99,
     "metadata": {},
     "output_type": "execute_result"
    },
    {
     "data": {
      "image/png": "[encoded data removed]",
      "text/plain": [
       "<Figure size 432x288 with 1 Axes>"
      ]
     },
     "metadata": {
      "needs_background": "light"
     },
     "output_type": "display_data"
    }
   ],
   "source": [
    "plt.plot(time, CPP_amplitude)"
   ]
  },
  {
   "cell_type": "code",
   "execution_count": null,
   "id": "285e235c-eab1-4c11-b447-cfe30fa7e74b",
   "metadata": {},
   "outputs": [],
   "source": []
  }
 ],
 "metadata": {
  "kernelspec": {
   "display_name": "Python 3 (ipykernel)",
   "language": "python",
   "name": "python3"
  },
  "language_info": {
   "codemirror_mode": {
    "name": "ipython",
    "version": 3
   },
   "file_extension": ".py",
   "mimetype": "text/x-python",
   "name": "python",
   "nbconvert_exporter": "python",
   "pygments_lexer": "ipython3",
   "version": "3.8.8"
  }
 },
 "nbformat": 4,
 "nbformat_minor": 5
}
