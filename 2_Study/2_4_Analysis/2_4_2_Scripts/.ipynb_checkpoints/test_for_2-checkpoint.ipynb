{
 "cells": [
  {
   "cell_type": "code",
   "execution_count": 1,
   "metadata": {},
   "outputs": [],
   "source": [
    "import kabuki\n",
    "import os\n",
    "import hddm\n",
    "import matplotlib.pyplot as plt\n",
    "import pickle\n",
    "from functools import partial\n",
    "from p_tqdm import p_map\n",
    "from glob import glob\n",
    "from kabuki.analyze import gelman_rubin\n",
    "import arviz\n",
    "import numpy as np\n",
    "from patsy import dmatrix "
   ]
  },
  {
   "cell_type": "code",
   "execution_count": null,
   "metadata": {},
   "outputs": [],
   "source": [
    "data = hddm.load_csv('./data.csv')\n",
    "\n",
    "df = data\n",
    "samples = 10000\n",
    "burn = 6000\n",
    "\n",
    "def v_link_func(x, data=df):\n",
    "    stim = (np.asarray(dmatrix('0 + C(s,[[1],[-1]])', {'s':data.stimulus.loc[x.index]},return_type = 'dataframe')))\n",
    "    return x.to_frame() * stim\n",
    "\n",
    "def z_link_func(x, data=df):\n",
    "    stim = (dmatrix('0 + C(s, [[1], [-1]])', {'s': data.stimulus.loc[x.index]},return_type='dataframe'))\n",
    "    return 1 / (1 + np.exp(-np.multiply(x.to_frame(), stim)))"
   ]
  },
  {
   "cell_type": "code",
   "execution_count": null,
   "metadata": {},
   "outputs": [],
   "source": [
    "def run_m0(id, df=None, samples=None, burn=None, thin=1,save_name=None): \n",
    "#     print('running model %i'%id);\n",
    "    import hddm\n",
    "    \n",
    "    dbname = save_name + '_chain_%i.db'%id \n",
    "    mname  = save_name + '_chain_%i'%id    \n",
    "\n",
    "    m = hddm.HDDM(data)\n",
    "    \n",
    "    m.find_starting_values()\n",
    "    m.sample(samples, burn=burn, thin=thin,dbname=dbname, db='pickle')\n",
    "    m.save(mname)\n",
    "    \n",
    "    return m\n",
    "\n",
    "m0 = p_map(partial(run_m0, \n",
    "                         df = df, \n",
    "                         samples = samples,\n",
    "                         burn = burn,\n",
    "                         thin=2,\n",
    "                         save_name = '2_4_2_2_tmp/m0'),\n",
    "                 range(10))\n"
   ]
  },
  {
   "cell_type": "code",
   "execution_count": null,
   "metadata": {},
   "outputs": [],
   "source": []
  }
 ],
 "metadata": {
  "kernelspec": {
   "display_name": "Python 3.8.8 ('base')",
   "language": "python",
   "name": "python3"
  },
  "language_info": {
   "codemirror_mode": {
    "name": "ipython",
    "version": 3
   },
   "file_extension": ".py",
   "mimetype": "text/x-python",
   "name": "python",
   "nbconvert_exporter": "python",
   "pygments_lexer": "ipython3",
   "version": "3.8.8"
  },
  "orig_nbformat": 4,
  "vscode": {
   "interpreter": {
    "hash": "d4d1e4263499bec80672ea0156c357c1ee493ec2b1c70f0acce89fc37c4a6abe"
   }
  }
 },
 "nbformat": 4,
 "nbformat_minor": 2
}
