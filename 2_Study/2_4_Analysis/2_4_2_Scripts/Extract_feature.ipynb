{
 "cells": [
  {
   "cell_type": "code",
   "execution_count": 62,
   "metadata": {},
   "outputs": [],
   "source": [
    "%reset"
   ]
  },
  {
   "cell_type": "code",
   "execution_count": 113,
   "metadata": {},
   "outputs": [],
   "source": [
    "import numpy as np\n",
    "import pandas as pd\n",
    "import seaborn as sns\n",
    "import matplotlib as mpl\n",
    "import matplotlib.pyplot as plt\n",
    "import os\n",
    "import re\n",
    "import sys\n",
    "\n",
    "import mne"
   ]
  },
  {
   "cell_type": "code",
   "execution_count": 114,
   "metadata": {},
   "outputs": [
    {
     "name": "stdout",
     "output_type": "stream",
     "text": [
      "MNE version is 0.23.3\n",
      "Python version is 3.9.13 (tags/v3.9.13:6de2ca5, May 17 2022, 16:36:42) [MSC v.1929 64 bit (AMD64)]\n"
     ]
    }
   ],
   "source": [
    "print(\"MNE version is\", mne.__version__)\n",
    "print(\"Python version is\", sys.version)"
   ]
  },
  {
   "cell_type": "code",
   "execution_count": 118,
   "metadata": {},
   "outputs": [],
   "source": [
    "#subj_idx\n",
    "subjects = ['sub-001', \n",
    "                 'sub-003', \n",
    "                 'sub-004', \n",
    "                 'sub-005', \n",
    "                 'sub-006', \n",
    "                 'sub-008', \n",
    "                 'sub-009', \n",
    "                 'sub-010', \n",
    "                 'sub-012',\n",
    "                 'sub-013',\n",
    "                 'sub-014',\n",
    "                 'sub-015', \n",
    "                 'sub-016',\n",
    "                 'sub-017']\n",
    "\n",
    "# task\n",
    "tasks=[]\n",
    "for side in ['outside','inside']:\n",
    "    task='sourcedata-eeg_'+side+'-MRT'\n",
    "    tasks.append(task)\n",
    "tasks\n",
    "\n",
    "#runs\n",
    "runs=[]\n",
    "for task in tasks:\n",
    "    if task == tasks[0]:\n",
    "        side = 'outside'\n",
    "        for i in range(1,3):\n",
    "            run = side+'MRT_run-0'+str(i)+'_beh.tsv'\n",
    "            runs.append(run)\n",
    "    else:\n",
    "        side='inside'\n",
    "        for i in range(1,6):\n",
    "            run = side+'MRT_run-0'+str(i)+'_beh.tsv'\n",
    "            runs.append(run)\n",
    "\n",
    "#df_dirs\n",
    "df_dirs=[]\n",
    "temp_dir =os.path.dirname(os.path.dirname(os.path.dirname(os.path.dirname(os.path.dirname(os.getcwd())))))\n",
    "BIDS_data=\"2_Data\\\\Ostwald2018\\\\BIDS_data\"\n",
    "datatype='beh'\n",
    "for subj_idx in subj_idxs :\n",
    "    for task in tasks:\n",
    "        if task==tasks[0]:\n",
    "            for run_index in range(0,2):\n",
    "                run=runs[run_index]\n",
    "                run=subj_idx+'_task-pdm_acq-'+run\n",
    "                df_dir=os.path.join(temp_dir,BIDS_data,subj_idx,task,datatype,run)\n",
    "                df_dirs.append(df_dir)\n",
    "        else:\n",
    "            pass\n",
    "        \n",
    "#dfs\n",
    "dfs=pd.DataFrame()\n",
    "for df_dir in df_dirs:\n",
    "    if os.path.exists(df_dir):\n",
    "        df=pd.read_csv(df_dir,sep='\\t')\n",
    "        subject=''.join(re.findall(r'BIDS_data\\\\sub-(.+?)\\\\sourcedata',df_dir))\n",
    "        side=''.join(re.findall(r'\\\\sourcedata-eeg_(.+?)-MRT\\\\beh\\\\',df_dir))\n",
    "        run=''.join(re.findall(r'run-0(.+?)_beh',df_dir))\n",
    "        df['subject']=subject\n",
    "        df['side']=side\n",
    "        df['run']=int(run)\n",
    "        dfs=pd.concat([df,dfs])\n",
    "    else:\n",
    "        pass\n",
    "\n",
    "dfs['attention'] = dfs['prioritization_cue'].map({74:'left',75:'right',76:'double'},na_action=None)\n",
    "dfs['coherency']=dfs['condition'].map({1:'high',2:'high',3:'low',4:'low'})\n",
    "dfs['prioritization']=dfs['condition'].map({1:'yes',2:'no',3:'yes',4:'no'})\n",
    "\n",
    "car_images=[1,2,3,4,5,6,7,8,9,10,11,12,13,14,15,16,17,18,37,38,39,40,41,42,43,44,45,46,47,48,49,50,51,52,53,54]\n",
    "face_images=[19,20,21,22,23,24,25,26,27,28,29,30,31,32,33,34,35,36,55,56,57,58,59,60,61,62,63,64,65,66,67,68,69,70,71,72]\n",
    "dfs['category']=dfs['image_index'].isin(car_images).astype(int).map({1:'car', 0:'face'})\n",
    "\n",
    "bedata = dfs.loc[:,['response_time','response_corr','subject','attention','coherency','prioritization','category']]\n",
    "bedata['cpp_peak'] = np.nan\n",
    "bedata['cpp_slope'] = np.nan\n",
    "bedata['cpp_amplitude'] = np.nan"
   ]
  },
  {
   "cell_type": "code",
   "execution_count": 129,
   "metadata": {},
   "outputs": [
    {
     "name": "stdout",
     "output_type": "stream",
     "text": [
      "Used Annotations descriptions: ['New Segment/', 'Stimulus/S  5', 'Stimulus/S  6', 'Stimulus/S 10', 'Stimulus/S 11', 'Stimulus/S 20', 'Stimulus/S 21', 'Stimulus/S 30', 'Stimulus/S 31', 'Stimulus/S 40', 'Stimulus/S 41', 'Stimulus/S 73', 'Stimulus/S 74', 'Stimulus/S 75', 'Stimulus/S 76', 'SyncStatus/Sync Off']\n",
      "Used Annotations descriptions: ['New Segment/', 'Stimulus/S  5', 'Stimulus/S  6', 'Stimulus/S 10', 'Stimulus/S 11', 'Stimulus/S 20', 'Stimulus/S 21', 'Stimulus/S 30', 'Stimulus/S 31', 'Stimulus/S 40', 'Stimulus/S 41', 'Stimulus/S 73', 'Stimulus/S 74', 'Stimulus/S 75', 'Stimulus/S 76', 'SyncStatus/Sync Off']\n",
      "Extracting parameters from d:\\yikang1020\\yikangsystem1020\\2_Data\\Ostwald2018\\BIDS_data\\sub-001\\sourcedata-eeg_outside-MRT\\eeg\\sub-001_task-pdm_acq-outsideMRT_eeg.vhdr...\n",
      "Setting channel info structure...\n"
     ]
    },
    {
     "name": "stderr",
     "output_type": "stream",
     "text": [
      "C:\\Users\\LIUYIK~1\\AppData\\Local\\Temp/ipykernel_7552/826381201.py:47: RuntimeWarning: No coordinate information found for channels ['EOG', 'ECG']. Setting channel types to misc. To avoid this warning, set channel types explicitly.\n",
      "  edata = mne.io.read_raw_brainvision(edata_path)\n",
      "C:\\Users\\LIUYIK~1\\AppData\\Local\\Temp/ipykernel_7552/826381201.py:50: RuntimeWarning: The unit for channel(s) EOG has changed from NA to V.\n",
      "  edata.set_channel_types({'EOG':'eog'})\n",
      "C:\\Users\\LIUYIK~1\\AppData\\Local\\Temp/ipykernel_7552/826381201.py:51: RuntimeWarning: The unit for channel(s) ECG has changed from NA to V.\n",
      "  edata.set_channel_types({'ECG':'ecg'})\n"
     ]
    },
    {
     "name": "stdout",
     "output_type": "stream",
     "text": [
      "Filtering raw data in 1 contiguous segment\n",
      "Setting up band-pass filter from 1 - 30 Hz\n",
      "\n",
      "FIR filter parameters\n",
      "---------------------\n",
      "Designing a one-pass, zero-phase, non-causal bandpass filter:\n",
      "- Windowed time-domain design (firwin) method\n",
      "- Hamming window with 0.0194 passband ripple and 53 dB stopband attenuation\n",
      "- Lower passband edge: 1.00\n",
      "- Lower transition bandwidth: 1.00 Hz (-6 dB cutoff frequency: 0.50 Hz)\n",
      "- Upper passband edge: 30.00 Hz\n",
      "- Upper transition bandwidth: 7.50 Hz (-6 dB cutoff frequency: 33.75 Hz)\n",
      "- Filter length: 1691 samples (3.303 sec)\n",
      "\n",
      "Adding average EEG reference projection.\n",
      "1 projection items deactivated\n",
      "Average reference projection was added, but has not been applied yet. Use the apply_proj method to apply it.\n",
      "Created an SSP operator (subspace dimension = 1)\n",
      "1 projection items activated\n",
      "SSP projectors applied...\n",
      "Used Annotations descriptions: ['New Segment/', 'Stimulus/S  5', 'Stimulus/S  6', 'Stimulus/S 10', 'Stimulus/S 11', 'Stimulus/S 20', 'Stimulus/S 21', 'Stimulus/S 30', 'Stimulus/S 31', 'Stimulus/S 40', 'Stimulus/S 41', 'Stimulus/S 73', 'Stimulus/S 74', 'Stimulus/S 75', 'Stimulus/S 76', 'SyncStatus/Sync Off']\n",
      "Not setting metadata\n",
      "Not setting metadata\n",
      "288 matching events found\n",
      "Setting baseline interval to [-1.0, 0.0] sec\n",
      "Applying baseline correction (mode: mean)\n",
      "Created an SSP operator (subspace dimension = 1)\n",
      "1 projection items activated\n",
      "Loading data for 288 events and 1025 original time points ...\n",
      "0 bad epochs dropped\n",
      "Fitting ICA to data using 62 channels (please be patient, this may take a while)\n"
     ]
    },
    {
     "name": "stderr",
     "output_type": "stream",
     "text": [
      "C:\\Users\\LIUYIK~1\\AppData\\Local\\Temp/ipykernel_7552/826381201.py:65: DeprecationWarning: Version 0.23 introduced max_iter=\"auto\", setting max_iter=1000 for `fastica` and max_iter=500 for `infomax` and `picard`. The current default of max_iter=200 will be changed to \"auto\" in version 0.24.\n",
      "  ica = mne.preprocessing.ICA(n_components=50, random_state=97)\n",
      "C:\\Users\\LIUYIK~1\\AppData\\Local\\Temp/ipykernel_7552/826381201.py:67: RuntimeWarning: The epochs you passed to ICA.fit() were baseline-corrected. However, we suggest to fit ICA only on data that has been high-pass filtered, but NOT baseline-corrected.\n",
      "  ica.fit(epochs)\n"
     ]
    },
    {
     "name": "stdout",
     "output_type": "stream",
     "text": [
      "    Applying projection operator with 1 vector (pre-whitener computation)\n",
      "    Applying projection operator with 1 vector (pre-whitener application)\n",
      "Selecting by number: 50 components\n",
      "    Applying projection operator with 1 vector (pre-whitener application)\n",
      "Fitting ICA took 63.3s.\n",
      "Using EOG channel: EOG\n",
      "    Applying projection operator with 1 vector (pre-whitener application)\n",
      "... filtering ICA sources\n",
      "Setting up band-pass filter from 1 - 10 Hz\n",
      "\n",
      "FIR filter parameters\n",
      "---------------------\n",
      "Designing a two-pass forward and reverse, zero-phase, non-causal bandpass filter:\n",
      "- Windowed frequency-domain design (firwin2) method\n",
      "- Hann window\n",
      "- Lower passband edge: 1.00\n",
      "- Lower transition bandwidth: 0.50 Hz (-12 dB cutoff frequency: 0.75 Hz)\n",
      "- Upper passband edge: 10.00 Hz\n",
      "- Upper transition bandwidth: 0.50 Hz (-12 dB cutoff frequency: 10.25 Hz)\n",
      "- Filter length: 5120 samples (10.000 sec)\n",
      "\n",
      "... filtering target\n",
      "Setting up band-pass filter from 1 - 10 Hz\n",
      "\n",
      "FIR filter parameters\n",
      "---------------------\n",
      "Designing a two-pass forward and reverse, zero-phase, non-causal bandpass filter:\n",
      "- Windowed frequency-domain design (firwin2) method\n",
      "- Hann window\n",
      "- Lower passband edge: 1.00\n",
      "- Lower transition bandwidth: 0.50 Hz (-12 dB cutoff frequency: 0.75 Hz)\n",
      "- Upper passband edge: 10.00 Hz\n",
      "- Upper transition bandwidth: 0.50 Hz (-12 dB cutoff frequency: 10.25 Hz)\n",
      "- Filter length: 5120 samples (10.000 sec)\n",
      "\n",
      "Using threshold: 0.23 for CTPS ECG detection\n",
      "Using channel ECG to identify heart beats.\n",
      "Setting up band-pass filter from 8 - 16 Hz\n",
      "\n",
      "FIR filter parameters\n",
      "---------------------\n",
      "Designing a two-pass forward and reverse, zero-phase, non-causal bandpass filter:\n",
      "- Windowed frequency-domain design (firwin2) method\n",
      "- Hann window\n",
      "- Lower passband edge: 8.00\n",
      "- Lower transition bandwidth: 0.50 Hz (-12 dB cutoff frequency: 7.75 Hz)\n",
      "- Upper passband edge: 16.00 Hz\n",
      "- Upper transition bandwidth: 0.50 Hz (-12 dB cutoff frequency: 16.25 Hz)\n",
      "- Filter length: 5120 samples (10.000 sec)\n",
      "\n",
      "Number of ECG events detected : 1078 (average pulse 60 / min.)\n",
      "Not setting metadata\n",
      "Not setting metadata\n",
      "1078 matching events found\n",
      "No baseline correction applied\n",
      "Created an SSP operator (subspace dimension = 1)\n",
      "1 projection items activated\n",
      "Loading data for 1078 events and 513 original time points ...\n",
      "1 bad epochs dropped\n",
      "    Applying projection operator with 1 vector (pre-whitener application)\n",
      "Applying ICA to Epochs instance\n",
      "    Applying projection operator with 1 vector (pre-whitener application)\n"
     ]
    },
    {
     "name": "stderr",
     "output_type": "stream",
     "text": [
      "C:\\Users\\LIUYIK~1\\AppData\\Local\\Temp/ipykernel_7552/826381201.py:76: RuntimeWarning: The data you passed to ICA.apply() was baseline-corrected. Please note that ICA can introduce DC shifts, therefore you may wish to consider baseline-correcting the cleaned data again.\n",
      "  ica.apply(epochs)\n"
     ]
    },
    {
     "name": "stdout",
     "output_type": "stream",
     "text": [
      "    Transforming to ICA space (50 components)\n",
      "    Zeroing out 3 ICA components\n",
      "    Projecting back using 62 PCA components\n"
     ]
    },
    {
     "name": "stderr",
     "output_type": "stream",
     "text": [
      "C:\\Users\\LIUYIK~1\\AppData\\Local\\Temp/ipykernel_7552/826381201.py:80: RuntimeWarning: This filename (d:\\yikang1020\\yikangsystem1020\\2_Projects\\202206_Centro-parietal positivity\\2_Study\\2_4_Analysis\\2_4_3_tmp_data\\sub-001.fif) does not conform to MNE naming conventions. All epochs files should end with -epo.fif, -epo.fif.gz, _epo.fif or _epo.fif.gz\n",
      "  epochs.save(tname,overwrite=True)\n"
     ]
    },
    {
     "name": "stdout",
     "output_type": "stream",
     "text": [
      "Extracting parameters from d:\\yikang1020\\yikangsystem1020\\2_Data\\Ostwald2018\\BIDS_data\\sub-003\\sourcedata-eeg_outside-MRT\\eeg\\sub-003_task-pdm_acq-outsideMRT_eeg.vhdr...\n",
      "Setting channel info structure...\n"
     ]
    },
    {
     "name": "stderr",
     "output_type": "stream",
     "text": [
      "C:\\Users\\LIUYIK~1\\AppData\\Local\\Temp/ipykernel_7552/826381201.py:47: RuntimeWarning: No coordinate information found for channels ['EOG', 'ECG']. Setting channel types to misc. To avoid this warning, set channel types explicitly.\n",
      "  edata = mne.io.read_raw_brainvision(edata_path)\n",
      "C:\\Users\\LIUYIK~1\\AppData\\Local\\Temp/ipykernel_7552/826381201.py:50: RuntimeWarning: The unit for channel(s) EOG has changed from NA to V.\n",
      "  edata.set_channel_types({'EOG':'eog'})\n",
      "C:\\Users\\LIUYIK~1\\AppData\\Local\\Temp/ipykernel_7552/826381201.py:51: RuntimeWarning: The unit for channel(s) ECG has changed from NA to V.\n",
      "  edata.set_channel_types({'ECG':'ecg'})\n"
     ]
    },
    {
     "name": "stdout",
     "output_type": "stream",
     "text": [
      "Filtering raw data in 1 contiguous segment\n",
      "Setting up band-pass filter from 1 - 30 Hz\n",
      "\n",
      "FIR filter parameters\n",
      "---------------------\n",
      "Designing a one-pass, zero-phase, non-causal bandpass filter:\n",
      "- Windowed time-domain design (firwin) method\n",
      "- Hamming window with 0.0194 passband ripple and 53 dB stopband attenuation\n",
      "- Lower passband edge: 1.00\n",
      "- Lower transition bandwidth: 1.00 Hz (-6 dB cutoff frequency: 0.50 Hz)\n",
      "- Upper passband edge: 30.00 Hz\n",
      "- Upper transition bandwidth: 7.50 Hz (-6 dB cutoff frequency: 33.75 Hz)\n",
      "- Filter length: 1691 samples (3.303 sec)\n",
      "\n",
      "Adding average EEG reference projection.\n",
      "1 projection items deactivated\n",
      "Average reference projection was added, but has not been applied yet. Use the apply_proj method to apply it.\n",
      "Created an SSP operator (subspace dimension = 1)\n",
      "1 projection items activated\n",
      "SSP projectors applied...\n",
      "Used Annotations descriptions: ['New Segment/', 'Stimulus/S  5', 'Stimulus/S  6', 'Stimulus/S 10', 'Stimulus/S 11', 'Stimulus/S 20', 'Stimulus/S 21', 'Stimulus/S 30', 'Stimulus/S 31', 'Stimulus/S 40', 'Stimulus/S 41', 'Stimulus/S 73', 'Stimulus/S 74', 'Stimulus/S 75', 'Stimulus/S 76', 'SyncStatus/Sync Off']\n",
      "Not setting metadata\n",
      "Not setting metadata\n",
      "288 matching events found\n",
      "Setting baseline interval to [-1.0, 0.0] sec\n",
      "Applying baseline correction (mode: mean)\n",
      "Created an SSP operator (subspace dimension = 1)\n",
      "1 projection items activated\n",
      "Loading data for 288 events and 1025 original time points ...\n",
      "0 bad epochs dropped\n",
      "Fitting ICA to data using 62 channels (please be patient, this may take a while)\n",
      "    Applying projection operator with 1 vector (pre-whitener computation)\n"
     ]
    },
    {
     "name": "stderr",
     "output_type": "stream",
     "text": [
      "C:\\Users\\LIUYIK~1\\AppData\\Local\\Temp/ipykernel_7552/826381201.py:65: DeprecationWarning: Version 0.23 introduced max_iter=\"auto\", setting max_iter=1000 for `fastica` and max_iter=500 for `infomax` and `picard`. The current default of max_iter=200 will be changed to \"auto\" in version 0.24.\n",
      "  ica = mne.preprocessing.ICA(n_components=50, random_state=97)\n",
      "C:\\Users\\LIUYIK~1\\AppData\\Local\\Temp/ipykernel_7552/826381201.py:67: RuntimeWarning: The epochs you passed to ICA.fit() were baseline-corrected. However, we suggest to fit ICA only on data that has been high-pass filtered, but NOT baseline-corrected.\n",
      "  ica.fit(epochs)\n"
     ]
    },
    {
     "name": "stdout",
     "output_type": "stream",
     "text": [
      "    Applying projection operator with 1 vector (pre-whitener application)\n",
      "Selecting by number: 50 components\n",
      "    Applying projection operator with 1 vector (pre-whitener application)\n",
      "Fitting ICA took 51.6s.\n",
      "Using EOG channel: EOG\n",
      "    Applying projection operator with 1 vector (pre-whitener application)\n",
      "... filtering ICA sources\n",
      "Setting up band-pass filter from 1 - 10 Hz\n",
      "\n",
      "FIR filter parameters\n",
      "---------------------\n",
      "Designing a two-pass forward and reverse, zero-phase, non-causal bandpass filter:\n",
      "- Windowed frequency-domain design (firwin2) method\n",
      "- Hann window\n",
      "- Lower passband edge: 1.00\n",
      "- Lower transition bandwidth: 0.50 Hz (-12 dB cutoff frequency: 0.75 Hz)\n",
      "- Upper passband edge: 10.00 Hz\n",
      "- Upper transition bandwidth: 0.50 Hz (-12 dB cutoff frequency: 10.25 Hz)\n",
      "- Filter length: 5120 samples (10.000 sec)\n",
      "\n",
      "... filtering target\n",
      "Setting up band-pass filter from 1 - 10 Hz\n",
      "\n",
      "FIR filter parameters\n",
      "---------------------\n",
      "Designing a two-pass forward and reverse, zero-phase, non-causal bandpass filter:\n",
      "- Windowed frequency-domain design (firwin2) method\n",
      "- Hann window\n",
      "- Lower passband edge: 1.00\n",
      "- Lower transition bandwidth: 0.50 Hz (-12 dB cutoff frequency: 0.75 Hz)\n",
      "- Upper passband edge: 10.00 Hz\n",
      "- Upper transition bandwidth: 0.50 Hz (-12 dB cutoff frequency: 10.25 Hz)\n",
      "- Filter length: 5120 samples (10.000 sec)\n",
      "\n",
      "Using threshold: 0.23 for CTPS ECG detection\n",
      "Using channel ECG to identify heart beats.\n",
      "Setting up band-pass filter from 8 - 16 Hz\n",
      "\n",
      "FIR filter parameters\n",
      "---------------------\n",
      "Designing a two-pass forward and reverse, zero-phase, non-causal bandpass filter:\n",
      "- Windowed frequency-domain design (firwin2) method\n",
      "- Hann window\n",
      "- Lower passband edge: 8.00\n",
      "- Lower transition bandwidth: 0.50 Hz (-12 dB cutoff frequency: 7.75 Hz)\n",
      "- Upper passband edge: 16.00 Hz\n",
      "- Upper transition bandwidth: 0.50 Hz (-12 dB cutoff frequency: 16.25 Hz)\n",
      "- Filter length: 5120 samples (10.000 sec)\n",
      "\n",
      "Number of ECG events detected : 1398 (average pulse 75 / min.)\n",
      "Not setting metadata\n",
      "Not setting metadata\n",
      "1398 matching events found\n",
      "No baseline correction applied\n",
      "Created an SSP operator (subspace dimension = 1)\n",
      "1 projection items activated\n",
      "Loading data for 1398 events and 513 original time points ...\n",
      "0 bad epochs dropped\n",
      "    Applying projection operator with 1 vector (pre-whitener application)\n",
      "Applying ICA to Epochs instance\n",
      "    Applying projection operator with 1 vector (pre-whitener application)\n",
      "    Transforming to ICA space (50 components)\n"
     ]
    },
    {
     "name": "stderr",
     "output_type": "stream",
     "text": [
      "C:\\Users\\LIUYIK~1\\AppData\\Local\\Temp/ipykernel_7552/826381201.py:76: RuntimeWarning: The data you passed to ICA.apply() was baseline-corrected. Please note that ICA can introduce DC shifts, therefore you may wish to consider baseline-correcting the cleaned data again.\n",
      "  ica.apply(epochs)\n"
     ]
    },
    {
     "name": "stdout",
     "output_type": "stream",
     "text": [
      "    Zeroing out 3 ICA components\n",
      "    Projecting back using 62 PCA components\n"
     ]
    },
    {
     "name": "stderr",
     "output_type": "stream",
     "text": [
      "C:\\Users\\LIUYIK~1\\AppData\\Local\\Temp/ipykernel_7552/826381201.py:80: RuntimeWarning: This filename (d:\\yikang1020\\yikangsystem1020\\2_Projects\\202206_Centro-parietal positivity\\2_Study\\2_4_Analysis\\2_4_3_tmp_data\\sub-003.fif) does not conform to MNE naming conventions. All epochs files should end with -epo.fif, -epo.fif.gz, _epo.fif or _epo.fif.gz\n",
      "  epochs.save(tname,overwrite=True)\n"
     ]
    },
    {
     "name": "stdout",
     "output_type": "stream",
     "text": [
      "Extracting parameters from d:\\yikang1020\\yikangsystem1020\\2_Data\\Ostwald2018\\BIDS_data\\sub-004\\sourcedata-eeg_outside-MRT\\eeg\\sub-004_task-pdm_acq-outsideMRT_eeg.vhdr...\n",
      "Setting channel info structure...\n"
     ]
    },
    {
     "name": "stderr",
     "output_type": "stream",
     "text": [
      "C:\\Users\\LIUYIK~1\\AppData\\Local\\Temp/ipykernel_7552/826381201.py:47: RuntimeWarning: No coordinate information found for channels ['EOG', 'ECG']. Setting channel types to misc. To avoid this warning, set channel types explicitly.\n",
      "  edata = mne.io.read_raw_brainvision(edata_path)\n",
      "C:\\Users\\LIUYIK~1\\AppData\\Local\\Temp/ipykernel_7552/826381201.py:50: RuntimeWarning: The unit for channel(s) EOG has changed from NA to V.\n",
      "  edata.set_channel_types({'EOG':'eog'})\n",
      "C:\\Users\\LIUYIK~1\\AppData\\Local\\Temp/ipykernel_7552/826381201.py:51: RuntimeWarning: The unit for channel(s) ECG has changed from NA to V.\n",
      "  edata.set_channel_types({'ECG':'ecg'})\n"
     ]
    },
    {
     "name": "stdout",
     "output_type": "stream",
     "text": [
      "Filtering raw data in 1 contiguous segment\n",
      "Setting up band-pass filter from 1 - 30 Hz\n",
      "\n",
      "FIR filter parameters\n",
      "---------------------\n",
      "Designing a one-pass, zero-phase, non-causal bandpass filter:\n",
      "- Windowed time-domain design (firwin) method\n",
      "- Hamming window with 0.0194 passband ripple and 53 dB stopband attenuation\n",
      "- Lower passband edge: 1.00\n",
      "- Lower transition bandwidth: 1.00 Hz (-6 dB cutoff frequency: 0.50 Hz)\n",
      "- Upper passband edge: 30.00 Hz\n",
      "- Upper transition bandwidth: 7.50 Hz (-6 dB cutoff frequency: 33.75 Hz)\n",
      "- Filter length: 1691 samples (3.303 sec)\n",
      "\n",
      "Adding average EEG reference projection.\n",
      "1 projection items deactivated\n",
      "Average reference projection was added, but has not been applied yet. Use the apply_proj method to apply it.\n",
      "Created an SSP operator (subspace dimension = 1)\n",
      "1 projection items activated\n",
      "SSP projectors applied...\n",
      "Used Annotations descriptions: ['New Segment/', 'Stimulus/S  5', 'Stimulus/S  6', 'Stimulus/S 10', 'Stimulus/S 11', 'Stimulus/S 20', 'Stimulus/S 21', 'Stimulus/S 30', 'Stimulus/S 31', 'Stimulus/S 40', 'Stimulus/S 41', 'Stimulus/S 73', 'Stimulus/S 74', 'Stimulus/S 75', 'Stimulus/S 76', 'SyncStatus/Sync Off']\n",
      "Not setting metadata\n",
      "Not setting metadata\n",
      "282 matching events found\n",
      "Setting baseline interval to [-1.0, 0.0] sec\n",
      "Applying baseline correction (mode: mean)\n",
      "Created an SSP operator (subspace dimension = 1)\n",
      "1 projection items activated\n",
      "Loading data for 282 events and 1025 original time points ...\n",
      "0 bad epochs dropped\n",
      "Fitting ICA to data using 62 channels (please be patient, this may take a while)\n",
      "    Applying projection operator with 1 vector (pre-whitener computation)\n"
     ]
    },
    {
     "name": "stderr",
     "output_type": "stream",
     "text": [
      "C:\\Users\\LIUYIK~1\\AppData\\Local\\Temp/ipykernel_7552/826381201.py:65: DeprecationWarning: Version 0.23 introduced max_iter=\"auto\", setting max_iter=1000 for `fastica` and max_iter=500 for `infomax` and `picard`. The current default of max_iter=200 will be changed to \"auto\" in version 0.24.\n",
      "  ica = mne.preprocessing.ICA(n_components=50, random_state=97)\n",
      "C:\\Users\\LIUYIK~1\\AppData\\Local\\Temp/ipykernel_7552/826381201.py:67: RuntimeWarning: The epochs you passed to ICA.fit() were baseline-corrected. However, we suggest to fit ICA only on data that has been high-pass filtered, but NOT baseline-corrected.\n",
      "  ica.fit(epochs)\n"
     ]
    },
    {
     "name": "stdout",
     "output_type": "stream",
     "text": [
      "    Applying projection operator with 1 vector (pre-whitener application)\n",
      "Selecting by number: 50 components\n",
      "    Applying projection operator with 1 vector (pre-whitener application)\n",
      "Fitting ICA took 31.7s.\n",
      "Using EOG channel: EOG\n",
      "    Applying projection operator with 1 vector (pre-whitener application)\n",
      "... filtering ICA sources\n",
      "Setting up band-pass filter from 1 - 10 Hz\n",
      "\n",
      "FIR filter parameters\n",
      "---------------------\n",
      "Designing a two-pass forward and reverse, zero-phase, non-causal bandpass filter:\n",
      "- Windowed frequency-domain design (firwin2) method\n",
      "- Hann window\n",
      "- Lower passband edge: 1.00\n",
      "- Lower transition bandwidth: 0.50 Hz (-12 dB cutoff frequency: 0.75 Hz)\n",
      "- Upper passband edge: 10.00 Hz\n",
      "- Upper transition bandwidth: 0.50 Hz (-12 dB cutoff frequency: 10.25 Hz)\n",
      "- Filter length: 5120 samples (10.000 sec)\n",
      "\n",
      "... filtering target\n",
      "Setting up band-pass filter from 1 - 10 Hz\n",
      "\n",
      "FIR filter parameters\n",
      "---------------------\n",
      "Designing a two-pass forward and reverse, zero-phase, non-causal bandpass filter:\n",
      "- Windowed frequency-domain design (firwin2) method\n",
      "- Hann window\n",
      "- Lower passband edge: 1.00\n",
      "- Lower transition bandwidth: 0.50 Hz (-12 dB cutoff frequency: 0.75 Hz)\n",
      "- Upper passband edge: 10.00 Hz\n",
      "- Upper transition bandwidth: 0.50 Hz (-12 dB cutoff frequency: 10.25 Hz)\n",
      "- Filter length: 5120 samples (10.000 sec)\n",
      "\n",
      "Using threshold: 0.23 for CTPS ECG detection\n",
      "Using channel ECG to identify heart beats.\n",
      "Setting up band-pass filter from 8 - 16 Hz\n",
      "\n",
      "FIR filter parameters\n",
      "---------------------\n",
      "Designing a two-pass forward and reverse, zero-phase, non-causal bandpass filter:\n",
      "- Windowed frequency-domain design (firwin2) method\n",
      "- Hann window\n",
      "- Lower passband edge: 8.00\n",
      "- Lower transition bandwidth: 0.50 Hz (-12 dB cutoff frequency: 7.75 Hz)\n",
      "- Upper passband edge: 16.00 Hz\n",
      "- Upper transition bandwidth: 0.50 Hz (-12 dB cutoff frequency: 16.25 Hz)\n",
      "- Filter length: 5120 samples (10.000 sec)\n",
      "\n",
      "Number of ECG events detected : 1411 (average pulse 71 / min.)\n",
      "Not setting metadata\n",
      "Not setting metadata\n",
      "1411 matching events found\n",
      "No baseline correction applied\n",
      "Created an SSP operator (subspace dimension = 1)\n",
      "1 projection items activated\n",
      "Loading data for 1411 events and 513 original time points ...\n",
      "1 bad epochs dropped\n",
      "    Applying projection operator with 1 vector (pre-whitener application)\n",
      "Applying ICA to Epochs instance\n",
      "    Applying projection operator with 1 vector (pre-whitener application)\n",
      "    Transforming to ICA space (50 components)\n"
     ]
    },
    {
     "name": "stderr",
     "output_type": "stream",
     "text": [
      "C:\\Users\\LIUYIK~1\\AppData\\Local\\Temp/ipykernel_7552/826381201.py:76: RuntimeWarning: The data you passed to ICA.apply() was baseline-corrected. Please note that ICA can introduce DC shifts, therefore you may wish to consider baseline-correcting the cleaned data again.\n",
      "  ica.apply(epochs)\n"
     ]
    },
    {
     "name": "stdout",
     "output_type": "stream",
     "text": [
      "    Zeroing out 2 ICA components\n",
      "    Projecting back using 62 PCA components\n"
     ]
    },
    {
     "name": "stderr",
     "output_type": "stream",
     "text": [
      "C:\\Users\\LIUYIK~1\\AppData\\Local\\Temp/ipykernel_7552/826381201.py:80: RuntimeWarning: This filename (d:\\yikang1020\\yikangsystem1020\\2_Projects\\202206_Centro-parietal positivity\\2_Study\\2_4_Analysis\\2_4_3_tmp_data\\sub-004.fif) does not conform to MNE naming conventions. All epochs files should end with -epo.fif, -epo.fif.gz, _epo.fif or _epo.fif.gz\n",
      "  epochs.save(tname,overwrite=True)\n"
     ]
    },
    {
     "name": "stdout",
     "output_type": "stream",
     "text": [
      "Extracting parameters from d:\\yikang1020\\yikangsystem1020\\2_Data\\Ostwald2018\\BIDS_data\\sub-005\\sourcedata-eeg_outside-MRT\\eeg\\sub-005_task-pdm_acq-outsideMRT_eeg.vhdr...\n",
      "Setting channel info structure...\n"
     ]
    },
    {
     "name": "stderr",
     "output_type": "stream",
     "text": [
      "C:\\Users\\LIUYIK~1\\AppData\\Local\\Temp/ipykernel_7552/826381201.py:47: RuntimeWarning: No coordinate information found for channels ['EOG', 'ECG']. Setting channel types to misc. To avoid this warning, set channel types explicitly.\n",
      "  edata = mne.io.read_raw_brainvision(edata_path)\n",
      "C:\\Users\\LIUYIK~1\\AppData\\Local\\Temp/ipykernel_7552/826381201.py:50: RuntimeWarning: The unit for channel(s) EOG has changed from NA to V.\n",
      "  edata.set_channel_types({'EOG':'eog'})\n",
      "C:\\Users\\LIUYIK~1\\AppData\\Local\\Temp/ipykernel_7552/826381201.py:51: RuntimeWarning: The unit for channel(s) ECG has changed from NA to V.\n",
      "  edata.set_channel_types({'ECG':'ecg'})\n"
     ]
    },
    {
     "name": "stdout",
     "output_type": "stream",
     "text": [
      "Filtering raw data in 1 contiguous segment\n",
      "Setting up band-pass filter from 1 - 30 Hz\n",
      "\n",
      "FIR filter parameters\n",
      "---------------------\n",
      "Designing a one-pass, zero-phase, non-causal bandpass filter:\n",
      "- Windowed time-domain design (firwin) method\n",
      "- Hamming window with 0.0194 passband ripple and 53 dB stopband attenuation\n",
      "- Lower passband edge: 1.00\n",
      "- Lower transition bandwidth: 1.00 Hz (-6 dB cutoff frequency: 0.50 Hz)\n",
      "- Upper passband edge: 30.00 Hz\n",
      "- Upper transition bandwidth: 7.50 Hz (-6 dB cutoff frequency: 33.75 Hz)\n",
      "- Filter length: 1691 samples (3.303 sec)\n",
      "\n",
      "Adding average EEG reference projection.\n",
      "1 projection items deactivated\n",
      "Average reference projection was added, but has not been applied yet. Use the apply_proj method to apply it.\n",
      "Created an SSP operator (subspace dimension = 1)\n",
      "1 projection items activated\n",
      "SSP projectors applied...\n",
      "Used Annotations descriptions: ['New Segment/', 'Stimulus/S  5', 'Stimulus/S  6', 'Stimulus/S 10', 'Stimulus/S 11', 'Stimulus/S 20', 'Stimulus/S 21', 'Stimulus/S 30', 'Stimulus/S 31', 'Stimulus/S 40', 'Stimulus/S 41', 'Stimulus/S 73', 'Stimulus/S 74', 'Stimulus/S 75', 'Stimulus/S 76', 'SyncStatus/Sync Off']\n",
      "Not setting metadata\n",
      "Not setting metadata\n",
      "288 matching events found\n",
      "Setting baseline interval to [-1.0, 0.0] sec\n",
      "Applying baseline correction (mode: mean)\n",
      "Created an SSP operator (subspace dimension = 1)\n",
      "1 projection items activated\n",
      "Loading data for 288 events and 1025 original time points ...\n",
      "0 bad epochs dropped\n",
      "Fitting ICA to data using 62 channels (please be patient, this may take a while)\n"
     ]
    },
    {
     "name": "stderr",
     "output_type": "stream",
     "text": [
      "C:\\Users\\LIUYIK~1\\AppData\\Local\\Temp/ipykernel_7552/826381201.py:65: DeprecationWarning: Version 0.23 introduced max_iter=\"auto\", setting max_iter=1000 for `fastica` and max_iter=500 for `infomax` and `picard`. The current default of max_iter=200 will be changed to \"auto\" in version 0.24.\n",
      "  ica = mne.preprocessing.ICA(n_components=50, random_state=97)\n",
      "C:\\Users\\LIUYIK~1\\AppData\\Local\\Temp/ipykernel_7552/826381201.py:67: RuntimeWarning: The epochs you passed to ICA.fit() were baseline-corrected. However, we suggest to fit ICA only on data that has been high-pass filtered, but NOT baseline-corrected.\n",
      "  ica.fit(epochs)\n"
     ]
    },
    {
     "name": "stdout",
     "output_type": "stream",
     "text": [
      "    Applying projection operator with 1 vector (pre-whitener computation)\n",
      "    Applying projection operator with 1 vector (pre-whitener application)\n",
      "Selecting by number: 50 components\n",
      "    Applying projection operator with 1 vector (pre-whitener application)\n",
      "Fitting ICA took 50.4s.\n",
      "Using EOG channel: EOG\n",
      "    Applying projection operator with 1 vector (pre-whitener application)\n",
      "... filtering ICA sources\n",
      "Setting up band-pass filter from 1 - 10 Hz\n",
      "\n",
      "FIR filter parameters\n",
      "---------------------\n",
      "Designing a two-pass forward and reverse, zero-phase, non-causal bandpass filter:\n",
      "- Windowed frequency-domain design (firwin2) method\n",
      "- Hann window\n",
      "- Lower passband edge: 1.00\n",
      "- Lower transition bandwidth: 0.50 Hz (-12 dB cutoff frequency: 0.75 Hz)\n",
      "- Upper passband edge: 10.00 Hz\n",
      "- Upper transition bandwidth: 0.50 Hz (-12 dB cutoff frequency: 10.25 Hz)\n",
      "- Filter length: 5120 samples (10.000 sec)\n",
      "\n",
      "... filtering target\n",
      "Setting up band-pass filter from 1 - 10 Hz\n",
      "\n",
      "FIR filter parameters\n",
      "---------------------\n",
      "Designing a two-pass forward and reverse, zero-phase, non-causal bandpass filter:\n",
      "- Windowed frequency-domain design (firwin2) method\n",
      "- Hann window\n",
      "- Lower passband edge: 1.00\n",
      "- Lower transition bandwidth: 0.50 Hz (-12 dB cutoff frequency: 0.75 Hz)\n",
      "- Upper passband edge: 10.00 Hz\n",
      "- Upper transition bandwidth: 0.50 Hz (-12 dB cutoff frequency: 10.25 Hz)\n",
      "- Filter length: 5120 samples (10.000 sec)\n",
      "\n",
      "Using threshold: 0.23 for CTPS ECG detection\n",
      "Using channel ECG to identify heart beats.\n",
      "Setting up band-pass filter from 8 - 16 Hz\n",
      "\n",
      "FIR filter parameters\n",
      "---------------------\n",
      "Designing a two-pass forward and reverse, zero-phase, non-causal bandpass filter:\n",
      "- Windowed frequency-domain design (firwin2) method\n",
      "- Hann window\n",
      "- Lower passband edge: 8.00\n",
      "- Lower transition bandwidth: 0.50 Hz (-12 dB cutoff frequency: 7.75 Hz)\n",
      "- Upper passband edge: 16.00 Hz\n",
      "- Upper transition bandwidth: 0.50 Hz (-12 dB cutoff frequency: 16.25 Hz)\n",
      "- Filter length: 5120 samples (10.000 sec)\n",
      "\n",
      "Number of ECG events detected : 1670 (average pulse 81 / min.)\n",
      "Not setting metadata\n",
      "Not setting metadata\n",
      "1670 matching events found\n",
      "No baseline correction applied\n",
      "Created an SSP operator (subspace dimension = 1)\n",
      "1 projection items activated\n",
      "Loading data for 1670 events and 513 original time points ...\n",
      "0 bad epochs dropped\n",
      "    Applying projection operator with 1 vector (pre-whitener application)\n",
      "Applying ICA to Epochs instance\n",
      "    Applying projection operator with 1 vector (pre-whitener application)\n"
     ]
    },
    {
     "name": "stderr",
     "output_type": "stream",
     "text": [
      "C:\\Users\\LIUYIK~1\\AppData\\Local\\Temp/ipykernel_7552/826381201.py:76: RuntimeWarning: The data you passed to ICA.apply() was baseline-corrected. Please note that ICA can introduce DC shifts, therefore you may wish to consider baseline-correcting the cleaned data again.\n",
      "  ica.apply(epochs)\n"
     ]
    },
    {
     "name": "stdout",
     "output_type": "stream",
     "text": [
      "    Transforming to ICA space (50 components)\n",
      "    Zeroing out 4 ICA components\n",
      "    Projecting back using 62 PCA components\n"
     ]
    },
    {
     "name": "stderr",
     "output_type": "stream",
     "text": [
      "C:\\Users\\LIUYIK~1\\AppData\\Local\\Temp/ipykernel_7552/826381201.py:80: RuntimeWarning: This filename (d:\\yikang1020\\yikangsystem1020\\2_Projects\\202206_Centro-parietal positivity\\2_Study\\2_4_Analysis\\2_4_3_tmp_data\\sub-005.fif) does not conform to MNE naming conventions. All epochs files should end with -epo.fif, -epo.fif.gz, _epo.fif or _epo.fif.gz\n",
      "  epochs.save(tname,overwrite=True)\n"
     ]
    },
    {
     "name": "stdout",
     "output_type": "stream",
     "text": [
      "Extracting parameters from d:\\yikang1020\\yikangsystem1020\\2_Data\\Ostwald2018\\BIDS_data\\sub-006\\sourcedata-eeg_outside-MRT\\eeg\\sub-006_task-pdm_acq-outsideMRT_eeg.vhdr...\n",
      "Setting channel info structure...\n"
     ]
    },
    {
     "name": "stderr",
     "output_type": "stream",
     "text": [
      "C:\\Users\\LIUYIK~1\\AppData\\Local\\Temp/ipykernel_7552/826381201.py:47: RuntimeWarning: No coordinate information found for channels ['EOG', 'ECG']. Setting channel types to misc. To avoid this warning, set channel types explicitly.\n",
      "  edata = mne.io.read_raw_brainvision(edata_path)\n",
      "C:\\Users\\LIUYIK~1\\AppData\\Local\\Temp/ipykernel_7552/826381201.py:50: RuntimeWarning: The unit for channel(s) EOG has changed from NA to V.\n",
      "  edata.set_channel_types({'EOG':'eog'})\n",
      "C:\\Users\\LIUYIK~1\\AppData\\Local\\Temp/ipykernel_7552/826381201.py:51: RuntimeWarning: The unit for channel(s) ECG has changed from NA to V.\n",
      "  edata.set_channel_types({'ECG':'ecg'})\n"
     ]
    },
    {
     "name": "stdout",
     "output_type": "stream",
     "text": [
      "Filtering raw data in 1 contiguous segment\n",
      "Setting up band-pass filter from 1 - 30 Hz\n",
      "\n",
      "FIR filter parameters\n",
      "---------------------\n",
      "Designing a one-pass, zero-phase, non-causal bandpass filter:\n",
      "- Windowed time-domain design (firwin) method\n",
      "- Hamming window with 0.0194 passband ripple and 53 dB stopband attenuation\n",
      "- Lower passband edge: 1.00\n",
      "- Lower transition bandwidth: 1.00 Hz (-6 dB cutoff frequency: 0.50 Hz)\n",
      "- Upper passband edge: 30.00 Hz\n",
      "- Upper transition bandwidth: 7.50 Hz (-6 dB cutoff frequency: 33.75 Hz)\n",
      "- Filter length: 1691 samples (3.303 sec)\n",
      "\n",
      "Adding average EEG reference projection.\n",
      "1 projection items deactivated\n",
      "Average reference projection was added, but has not been applied yet. Use the apply_proj method to apply it.\n",
      "Created an SSP operator (subspace dimension = 1)\n",
      "1 projection items activated\n",
      "SSP projectors applied...\n",
      "Used Annotations descriptions: ['New Segment/', 'Stimulus/S  5', 'Stimulus/S  6', 'Stimulus/S 10', 'Stimulus/S 11', 'Stimulus/S 20', 'Stimulus/S 21', 'Stimulus/S 30', 'Stimulus/S 31', 'Stimulus/S 40', 'Stimulus/S 41', 'Stimulus/S 73', 'Stimulus/S 74', 'Stimulus/S 75', 'Stimulus/S 76', 'SyncStatus/Sync Off']\n",
      "Not setting metadata\n",
      "Not setting metadata\n",
      "288 matching events found\n",
      "Setting baseline interval to [-1.0, 0.0] sec\n",
      "Applying baseline correction (mode: mean)\n",
      "Created an SSP operator (subspace dimension = 1)\n",
      "1 projection items activated\n",
      "Loading data for 288 events and 1025 original time points ...\n",
      "0 bad epochs dropped\n",
      "Fitting ICA to data using 62 channels (please be patient, this may take a while)\n"
     ]
    },
    {
     "name": "stderr",
     "output_type": "stream",
     "text": [
      "C:\\Users\\LIUYIK~1\\AppData\\Local\\Temp/ipykernel_7552/826381201.py:65: DeprecationWarning: Version 0.23 introduced max_iter=\"auto\", setting max_iter=1000 for `fastica` and max_iter=500 for `infomax` and `picard`. The current default of max_iter=200 will be changed to \"auto\" in version 0.24.\n",
      "  ica = mne.preprocessing.ICA(n_components=50, random_state=97)\n",
      "C:\\Users\\LIUYIK~1\\AppData\\Local\\Temp/ipykernel_7552/826381201.py:67: RuntimeWarning: The epochs you passed to ICA.fit() were baseline-corrected. However, we suggest to fit ICA only on data that has been high-pass filtered, but NOT baseline-corrected.\n",
      "  ica.fit(epochs)\n"
     ]
    },
    {
     "name": "stdout",
     "output_type": "stream",
     "text": [
      "    Applying projection operator with 1 vector (pre-whitener computation)\n",
      "    Applying projection operator with 1 vector (pre-whitener application)\n",
      "Selecting by number: 50 components\n",
      "    Applying projection operator with 1 vector (pre-whitener application)\n",
      "Fitting ICA took 34.5s.\n",
      "Using EOG channel: EOG\n",
      "    Applying projection operator with 1 vector (pre-whitener application)\n",
      "... filtering ICA sources\n",
      "Setting up band-pass filter from 1 - 10 Hz\n",
      "\n",
      "FIR filter parameters\n",
      "---------------------\n",
      "Designing a two-pass forward and reverse, zero-phase, non-causal bandpass filter:\n",
      "- Windowed frequency-domain design (firwin2) method\n",
      "- Hann window\n",
      "- Lower passband edge: 1.00\n",
      "- Lower transition bandwidth: 0.50 Hz (-12 dB cutoff frequency: 0.75 Hz)\n",
      "- Upper passband edge: 10.00 Hz\n",
      "- Upper transition bandwidth: 0.50 Hz (-12 dB cutoff frequency: 10.25 Hz)\n",
      "- Filter length: 5120 samples (10.000 sec)\n",
      "\n",
      "... filtering target\n",
      "Setting up band-pass filter from 1 - 10 Hz\n",
      "\n",
      "FIR filter parameters\n",
      "---------------------\n",
      "Designing a two-pass forward and reverse, zero-phase, non-causal bandpass filter:\n",
      "- Windowed frequency-domain design (firwin2) method\n",
      "- Hann window\n",
      "- Lower passband edge: 1.00\n",
      "- Lower transition bandwidth: 0.50 Hz (-12 dB cutoff frequency: 0.75 Hz)\n",
      "- Upper passband edge: 10.00 Hz\n",
      "- Upper transition bandwidth: 0.50 Hz (-12 dB cutoff frequency: 10.25 Hz)\n",
      "- Filter length: 5120 samples (10.000 sec)\n",
      "\n",
      "Using threshold: 0.23 for CTPS ECG detection\n",
      "Using channel ECG to identify heart beats.\n",
      "Setting up band-pass filter from 8 - 16 Hz\n",
      "\n",
      "FIR filter parameters\n",
      "---------------------\n",
      "Designing a two-pass forward and reverse, zero-phase, non-causal bandpass filter:\n",
      "- Windowed frequency-domain design (firwin2) method\n",
      "- Hann window\n",
      "- Lower passband edge: 8.00\n",
      "- Lower transition bandwidth: 0.50 Hz (-12 dB cutoff frequency: 7.75 Hz)\n",
      "- Upper passband edge: 16.00 Hz\n",
      "- Upper transition bandwidth: 0.50 Hz (-12 dB cutoff frequency: 16.25 Hz)\n",
      "- Filter length: 5120 samples (10.000 sec)\n",
      "\n",
      "Number of ECG events detected : 1433 (average pulse 67 / min.)\n",
      "Not setting metadata\n",
      "Not setting metadata\n",
      "1433 matching events found\n",
      "No baseline correction applied\n",
      "Created an SSP operator (subspace dimension = 1)\n",
      "1 projection items activated\n",
      "Loading data for 1433 events and 513 original time points ...\n",
      "1 bad epochs dropped\n",
      "    Applying projection operator with 1 vector (pre-whitener application)\n",
      "Applying ICA to Epochs instance\n",
      "    Applying projection operator with 1 vector (pre-whitener application)\n"
     ]
    },
    {
     "name": "stderr",
     "output_type": "stream",
     "text": [
      "C:\\Users\\LIUYIK~1\\AppData\\Local\\Temp/ipykernel_7552/826381201.py:76: RuntimeWarning: The data you passed to ICA.apply() was baseline-corrected. Please note that ICA can introduce DC shifts, therefore you may wish to consider baseline-correcting the cleaned data again.\n",
      "  ica.apply(epochs)\n"
     ]
    },
    {
     "name": "stdout",
     "output_type": "stream",
     "text": [
      "    Transforming to ICA space (50 components)\n",
      "    Zeroing out 2 ICA components\n",
      "    Projecting back using 62 PCA components\n"
     ]
    },
    {
     "name": "stderr",
     "output_type": "stream",
     "text": [
      "C:\\Users\\LIUYIK~1\\AppData\\Local\\Temp/ipykernel_7552/826381201.py:80: RuntimeWarning: This filename (d:\\yikang1020\\yikangsystem1020\\2_Projects\\202206_Centro-parietal positivity\\2_Study\\2_4_Analysis\\2_4_3_tmp_data\\sub-006.fif) does not conform to MNE naming conventions. All epochs files should end with -epo.fif, -epo.fif.gz, _epo.fif or _epo.fif.gz\n",
      "  epochs.save(tname,overwrite=True)\n"
     ]
    },
    {
     "name": "stdout",
     "output_type": "stream",
     "text": [
      "Extracting parameters from d:\\yikang1020\\yikangsystem1020\\2_Data\\Ostwald2018\\BIDS_data\\sub-008\\sourcedata-eeg_outside-MRT\\eeg\\sub-008_task-pdm_acq-outsideMRT_eeg.vhdr...\n",
      "Setting channel info structure...\n"
     ]
    },
    {
     "name": "stderr",
     "output_type": "stream",
     "text": [
      "C:\\Users\\LIUYIK~1\\AppData\\Local\\Temp/ipykernel_7552/826381201.py:47: RuntimeWarning: No coordinate information found for channels ['EOG', 'ECG']. Setting channel types to misc. To avoid this warning, set channel types explicitly.\n",
      "  edata = mne.io.read_raw_brainvision(edata_path)\n",
      "C:\\Users\\LIUYIK~1\\AppData\\Local\\Temp/ipykernel_7552/826381201.py:50: RuntimeWarning: The unit for channel(s) EOG has changed from NA to V.\n",
      "  edata.set_channel_types({'EOG':'eog'})\n",
      "C:\\Users\\LIUYIK~1\\AppData\\Local\\Temp/ipykernel_7552/826381201.py:51: RuntimeWarning: The unit for channel(s) ECG has changed from NA to V.\n",
      "  edata.set_channel_types({'ECG':'ecg'})\n"
     ]
    },
    {
     "name": "stdout",
     "output_type": "stream",
     "text": [
      "Filtering raw data in 1 contiguous segment\n",
      "Setting up band-pass filter from 1 - 30 Hz\n",
      "\n",
      "FIR filter parameters\n",
      "---------------------\n",
      "Designing a one-pass, zero-phase, non-causal bandpass filter:\n",
      "- Windowed time-domain design (firwin) method\n",
      "- Hamming window with 0.0194 passband ripple and 53 dB stopband attenuation\n",
      "- Lower passband edge: 1.00\n",
      "- Lower transition bandwidth: 1.00 Hz (-6 dB cutoff frequency: 0.50 Hz)\n",
      "- Upper passband edge: 30.00 Hz\n",
      "- Upper transition bandwidth: 7.50 Hz (-6 dB cutoff frequency: 33.75 Hz)\n",
      "- Filter length: 1691 samples (3.303 sec)\n",
      "\n",
      "Adding average EEG reference projection.\n",
      "1 projection items deactivated\n",
      "Average reference projection was added, but has not been applied yet. Use the apply_proj method to apply it.\n",
      "Created an SSP operator (subspace dimension = 1)\n",
      "1 projection items activated\n",
      "SSP projectors applied...\n",
      "Used Annotations descriptions: ['New Segment/', 'Stimulus/S  5', 'Stimulus/S  6', 'Stimulus/S 10', 'Stimulus/S 11', 'Stimulus/S 20', 'Stimulus/S 21', 'Stimulus/S 30', 'Stimulus/S 31', 'Stimulus/S 40', 'Stimulus/S 41', 'Stimulus/S 73', 'Stimulus/S 74', 'Stimulus/S 75', 'Stimulus/S 76', 'SyncStatus/Sync Off']\n",
      "Not setting metadata\n",
      "Not setting metadata\n",
      "288 matching events found\n",
      "Setting baseline interval to [-1.0, 0.0] sec\n",
      "Applying baseline correction (mode: mean)\n",
      "Created an SSP operator (subspace dimension = 1)\n",
      "1 projection items activated\n",
      "Loading data for 288 events and 1025 original time points ...\n",
      "0 bad epochs dropped\n",
      "Fitting ICA to data using 62 channels (please be patient, this may take a while)\n",
      "    Applying projection operator with 1 vector (pre-whitener computation)\n"
     ]
    },
    {
     "name": "stderr",
     "output_type": "stream",
     "text": [
      "C:\\Users\\LIUYIK~1\\AppData\\Local\\Temp/ipykernel_7552/826381201.py:65: DeprecationWarning: Version 0.23 introduced max_iter=\"auto\", setting max_iter=1000 for `fastica` and max_iter=500 for `infomax` and `picard`. The current default of max_iter=200 will be changed to \"auto\" in version 0.24.\n",
      "  ica = mne.preprocessing.ICA(n_components=50, random_state=97)\n",
      "C:\\Users\\LIUYIK~1\\AppData\\Local\\Temp/ipykernel_7552/826381201.py:67: RuntimeWarning: The epochs you passed to ICA.fit() were baseline-corrected. However, we suggest to fit ICA only on data that has been high-pass filtered, but NOT baseline-corrected.\n",
      "  ica.fit(epochs)\n"
     ]
    },
    {
     "name": "stdout",
     "output_type": "stream",
     "text": [
      "    Applying projection operator with 1 vector (pre-whitener application)\n",
      "Selecting by number: 50 components\n",
      "    Applying projection operator with 1 vector (pre-whitener application)\n",
      "Fitting ICA took 19.6s.\n",
      "Using EOG channel: EOG\n",
      "    Applying projection operator with 1 vector (pre-whitener application)\n",
      "... filtering ICA sources\n",
      "Setting up band-pass filter from 1 - 10 Hz\n",
      "\n",
      "FIR filter parameters\n",
      "---------------------\n",
      "Designing a two-pass forward and reverse, zero-phase, non-causal bandpass filter:\n",
      "- Windowed frequency-domain design (firwin2) method\n",
      "- Hann window\n",
      "- Lower passband edge: 1.00\n",
      "- Lower transition bandwidth: 0.50 Hz (-12 dB cutoff frequency: 0.75 Hz)\n",
      "- Upper passband edge: 10.00 Hz\n",
      "- Upper transition bandwidth: 0.50 Hz (-12 dB cutoff frequency: 10.25 Hz)\n",
      "- Filter length: 5120 samples (10.000 sec)\n",
      "\n",
      "... filtering target\n",
      "Setting up band-pass filter from 1 - 10 Hz\n",
      "\n",
      "FIR filter parameters\n",
      "---------------------\n",
      "Designing a two-pass forward and reverse, zero-phase, non-causal bandpass filter:\n",
      "- Windowed frequency-domain design (firwin2) method\n",
      "- Hann window\n",
      "- Lower passband edge: 1.00\n",
      "- Lower transition bandwidth: 0.50 Hz (-12 dB cutoff frequency: 0.75 Hz)\n",
      "- Upper passband edge: 10.00 Hz\n",
      "- Upper transition bandwidth: 0.50 Hz (-12 dB cutoff frequency: 10.25 Hz)\n",
      "- Filter length: 5120 samples (10.000 sec)\n",
      "\n",
      "Using threshold: 0.23 for CTPS ECG detection\n",
      "Using channel ECG to identify heart beats.\n",
      "Setting up band-pass filter from 8 - 16 Hz\n",
      "\n",
      "FIR filter parameters\n",
      "---------------------\n",
      "Designing a two-pass forward and reverse, zero-phase, non-causal bandpass filter:\n",
      "- Windowed frequency-domain design (firwin2) method\n",
      "- Hann window\n",
      "- Lower passband edge: 8.00\n",
      "- Lower transition bandwidth: 0.50 Hz (-12 dB cutoff frequency: 7.75 Hz)\n",
      "- Upper passband edge: 16.00 Hz\n",
      "- Upper transition bandwidth: 0.50 Hz (-12 dB cutoff frequency: 16.25 Hz)\n",
      "- Filter length: 5120 samples (10.000 sec)\n",
      "\n",
      "Number of ECG events detected : 1499 (average pulse 77 / min.)\n",
      "Not setting metadata\n",
      "Not setting metadata\n",
      "1499 matching events found\n",
      "No baseline correction applied\n",
      "Created an SSP operator (subspace dimension = 1)\n",
      "1 projection items activated\n",
      "Loading data for 1499 events and 513 original time points ...\n",
      "1 bad epochs dropped\n",
      "    Applying projection operator with 1 vector (pre-whitener application)\n",
      "Applying ICA to Epochs instance\n",
      "    Applying projection operator with 1 vector (pre-whitener application)\n"
     ]
    },
    {
     "name": "stderr",
     "output_type": "stream",
     "text": [
      "C:\\Users\\LIUYIK~1\\AppData\\Local\\Temp/ipykernel_7552/826381201.py:76: RuntimeWarning: The data you passed to ICA.apply() was baseline-corrected. Please note that ICA can introduce DC shifts, therefore you may wish to consider baseline-correcting the cleaned data again.\n",
      "  ica.apply(epochs)\n"
     ]
    },
    {
     "name": "stdout",
     "output_type": "stream",
     "text": [
      "    Transforming to ICA space (50 components)\n",
      "    Zeroing out 1 ICA component\n",
      "    Projecting back using 62 PCA components\n"
     ]
    },
    {
     "name": "stderr",
     "output_type": "stream",
     "text": [
      "C:\\Users\\LIUYIK~1\\AppData\\Local\\Temp/ipykernel_7552/826381201.py:80: RuntimeWarning: This filename (d:\\yikang1020\\yikangsystem1020\\2_Projects\\202206_Centro-parietal positivity\\2_Study\\2_4_Analysis\\2_4_3_tmp_data\\sub-008.fif) does not conform to MNE naming conventions. All epochs files should end with -epo.fif, -epo.fif.gz, _epo.fif or _epo.fif.gz\n",
      "  epochs.save(tname,overwrite=True)\n"
     ]
    },
    {
     "name": "stdout",
     "output_type": "stream",
     "text": [
      "Extracting parameters from d:\\yikang1020\\yikangsystem1020\\2_Data\\Ostwald2018\\BIDS_data\\sub-009\\sourcedata-eeg_outside-MRT\\eeg\\sub-009_task-pdm_acq-outsideMRT_eeg.vhdr...\n",
      "Setting channel info structure...\n"
     ]
    },
    {
     "name": "stderr",
     "output_type": "stream",
     "text": [
      "C:\\Users\\LIUYIK~1\\AppData\\Local\\Temp/ipykernel_7552/826381201.py:47: RuntimeWarning: No coordinate information found for channels ['EOG', 'ECG']. Setting channel types to misc. To avoid this warning, set channel types explicitly.\n",
      "  edata = mne.io.read_raw_brainvision(edata_path)\n",
      "C:\\Users\\LIUYIK~1\\AppData\\Local\\Temp/ipykernel_7552/826381201.py:50: RuntimeWarning: The unit for channel(s) EOG has changed from NA to V.\n",
      "  edata.set_channel_types({'EOG':'eog'})\n",
      "C:\\Users\\LIUYIK~1\\AppData\\Local\\Temp/ipykernel_7552/826381201.py:51: RuntimeWarning: The unit for channel(s) ECG has changed from NA to V.\n",
      "  edata.set_channel_types({'ECG':'ecg'})\n"
     ]
    },
    {
     "name": "stdout",
     "output_type": "stream",
     "text": [
      "Filtering raw data in 1 contiguous segment\n",
      "Setting up band-pass filter from 1 - 30 Hz\n",
      "\n",
      "FIR filter parameters\n",
      "---------------------\n",
      "Designing a one-pass, zero-phase, non-causal bandpass filter:\n",
      "- Windowed time-domain design (firwin) method\n",
      "- Hamming window with 0.0194 passband ripple and 53 dB stopband attenuation\n",
      "- Lower passband edge: 1.00\n",
      "- Lower transition bandwidth: 1.00 Hz (-6 dB cutoff frequency: 0.50 Hz)\n",
      "- Upper passband edge: 30.00 Hz\n",
      "- Upper transition bandwidth: 7.50 Hz (-6 dB cutoff frequency: 33.75 Hz)\n",
      "- Filter length: 1691 samples (3.303 sec)\n",
      "\n",
      "Adding average EEG reference projection.\n",
      "1 projection items deactivated\n",
      "Average reference projection was added, but has not been applied yet. Use the apply_proj method to apply it.\n",
      "Created an SSP operator (subspace dimension = 1)\n",
      "1 projection items activated\n",
      "SSP projectors applied...\n",
      "Used Annotations descriptions: ['New Segment/', 'Stimulus/S  5', 'Stimulus/S  6', 'Stimulus/S 10', 'Stimulus/S 11', 'Stimulus/S 20', 'Stimulus/S 21', 'Stimulus/S 30', 'Stimulus/S 31', 'Stimulus/S 40', 'Stimulus/S 41', 'Stimulus/S 73', 'Stimulus/S 74', 'Stimulus/S 75', 'Stimulus/S 76', 'SyncStatus/Sync Off']\n",
      "Not setting metadata\n",
      "Not setting metadata\n",
      "288 matching events found\n",
      "Setting baseline interval to [-1.0, 0.0] sec\n",
      "Applying baseline correction (mode: mean)\n",
      "Created an SSP operator (subspace dimension = 1)\n",
      "1 projection items activated\n",
      "Loading data for 288 events and 1025 original time points ...\n",
      "0 bad epochs dropped\n",
      "Fitting ICA to data using 62 channels (please be patient, this may take a while)\n",
      "    Applying projection operator with 1 vector (pre-whitener computation)\n"
     ]
    },
    {
     "name": "stderr",
     "output_type": "stream",
     "text": [
      "C:\\Users\\LIUYIK~1\\AppData\\Local\\Temp/ipykernel_7552/826381201.py:65: DeprecationWarning: Version 0.23 introduced max_iter=\"auto\", setting max_iter=1000 for `fastica` and max_iter=500 for `infomax` and `picard`. The current default of max_iter=200 will be changed to \"auto\" in version 0.24.\n",
      "  ica = mne.preprocessing.ICA(n_components=50, random_state=97)\n",
      "C:\\Users\\LIUYIK~1\\AppData\\Local\\Temp/ipykernel_7552/826381201.py:67: RuntimeWarning: The epochs you passed to ICA.fit() were baseline-corrected. However, we suggest to fit ICA only on data that has been high-pass filtered, but NOT baseline-corrected.\n",
      "  ica.fit(epochs)\n"
     ]
    },
    {
     "name": "stdout",
     "output_type": "stream",
     "text": [
      "    Applying projection operator with 1 vector (pre-whitener application)\n",
      "Selecting by number: 50 components\n",
      "    Applying projection operator with 1 vector (pre-whitener application)\n",
      "Fitting ICA took 28.1s.\n",
      "Using EOG channel: EOG\n",
      "    Applying projection operator with 1 vector (pre-whitener application)\n",
      "... filtering ICA sources\n",
      "Setting up band-pass filter from 1 - 10 Hz\n",
      "\n",
      "FIR filter parameters\n",
      "---------------------\n",
      "Designing a two-pass forward and reverse, zero-phase, non-causal bandpass filter:\n",
      "- Windowed frequency-domain design (firwin2) method\n",
      "- Hann window\n",
      "- Lower passband edge: 1.00\n",
      "- Lower transition bandwidth: 0.50 Hz (-12 dB cutoff frequency: 0.75 Hz)\n",
      "- Upper passband edge: 10.00 Hz\n",
      "- Upper transition bandwidth: 0.50 Hz (-12 dB cutoff frequency: 10.25 Hz)\n",
      "- Filter length: 5120 samples (10.000 sec)\n",
      "\n",
      "... filtering target\n",
      "Setting up band-pass filter from 1 - 10 Hz\n",
      "\n",
      "FIR filter parameters\n",
      "---------------------\n",
      "Designing a two-pass forward and reverse, zero-phase, non-causal bandpass filter:\n",
      "- Windowed frequency-domain design (firwin2) method\n",
      "- Hann window\n",
      "- Lower passband edge: 1.00\n",
      "- Lower transition bandwidth: 0.50 Hz (-12 dB cutoff frequency: 0.75 Hz)\n",
      "- Upper passband edge: 10.00 Hz\n",
      "- Upper transition bandwidth: 0.50 Hz (-12 dB cutoff frequency: 10.25 Hz)\n",
      "- Filter length: 5120 samples (10.000 sec)\n",
      "\n",
      "Using threshold: 0.23 for CTPS ECG detection\n",
      "Using channel ECG to identify heart beats.\n",
      "Setting up band-pass filter from 8 - 16 Hz\n",
      "\n",
      "FIR filter parameters\n",
      "---------------------\n",
      "Designing a two-pass forward and reverse, zero-phase, non-causal bandpass filter:\n",
      "- Windowed frequency-domain design (firwin2) method\n",
      "- Hann window\n",
      "- Lower passband edge: 8.00\n",
      "- Lower transition bandwidth: 0.50 Hz (-12 dB cutoff frequency: 7.75 Hz)\n",
      "- Upper passband edge: 16.00 Hz\n",
      "- Upper transition bandwidth: 0.50 Hz (-12 dB cutoff frequency: 16.25 Hz)\n",
      "- Filter length: 5120 samples (10.000 sec)\n",
      "\n",
      "Number of ECG events detected : 1488 (average pulse 69 / min.)\n",
      "Not setting metadata\n",
      "Not setting metadata\n",
      "1488 matching events found\n",
      "No baseline correction applied\n",
      "Created an SSP operator (subspace dimension = 1)\n",
      "1 projection items activated\n",
      "Loading data for 1488 events and 513 original time points ...\n",
      "1 bad epochs dropped\n",
      "    Applying projection operator with 1 vector (pre-whitener application)\n",
      "Applying ICA to Epochs instance\n",
      "    Applying projection operator with 1 vector (pre-whitener application)\n",
      "    Transforming to ICA space (50 components)\n"
     ]
    },
    {
     "name": "stderr",
     "output_type": "stream",
     "text": [
      "C:\\Users\\LIUYIK~1\\AppData\\Local\\Temp/ipykernel_7552/826381201.py:76: RuntimeWarning: The data you passed to ICA.apply() was baseline-corrected. Please note that ICA can introduce DC shifts, therefore you may wish to consider baseline-correcting the cleaned data again.\n",
      "  ica.apply(epochs)\n"
     ]
    },
    {
     "name": "stdout",
     "output_type": "stream",
     "text": [
      "    Zeroing out 2 ICA components\n",
      "    Projecting back using 62 PCA components\n"
     ]
    },
    {
     "name": "stderr",
     "output_type": "stream",
     "text": [
      "C:\\Users\\LIUYIK~1\\AppData\\Local\\Temp/ipykernel_7552/826381201.py:80: RuntimeWarning: This filename (d:\\yikang1020\\yikangsystem1020\\2_Projects\\202206_Centro-parietal positivity\\2_Study\\2_4_Analysis\\2_4_3_tmp_data\\sub-009.fif) does not conform to MNE naming conventions. All epochs files should end with -epo.fif, -epo.fif.gz, _epo.fif or _epo.fif.gz\n",
      "  epochs.save(tname,overwrite=True)\n"
     ]
    },
    {
     "name": "stdout",
     "output_type": "stream",
     "text": [
      "Extracting parameters from d:\\yikang1020\\yikangsystem1020\\2_Data\\Ostwald2018\\BIDS_data\\sub-010\\sourcedata-eeg_outside-MRT\\eeg\\sub-010_task-pdm_acq-outsideMRT_eeg.vhdr...\n",
      "Setting channel info structure...\n"
     ]
    },
    {
     "name": "stderr",
     "output_type": "stream",
     "text": [
      "C:\\Users\\LIUYIK~1\\AppData\\Local\\Temp/ipykernel_7552/826381201.py:47: RuntimeWarning: No coordinate information found for channels ['EOG', 'ECG']. Setting channel types to misc. To avoid this warning, set channel types explicitly.\n",
      "  edata = mne.io.read_raw_brainvision(edata_path)\n",
      "C:\\Users\\LIUYIK~1\\AppData\\Local\\Temp/ipykernel_7552/826381201.py:50: RuntimeWarning: The unit for channel(s) EOG has changed from NA to V.\n",
      "  edata.set_channel_types({'EOG':'eog'})\n",
      "C:\\Users\\LIUYIK~1\\AppData\\Local\\Temp/ipykernel_7552/826381201.py:51: RuntimeWarning: The unit for channel(s) ECG has changed from NA to V.\n",
      "  edata.set_channel_types({'ECG':'ecg'})\n"
     ]
    },
    {
     "name": "stdout",
     "output_type": "stream",
     "text": [
      "Filtering raw data in 1 contiguous segment\n",
      "Setting up band-pass filter from 1 - 30 Hz\n",
      "\n",
      "FIR filter parameters\n",
      "---------------------\n",
      "Designing a one-pass, zero-phase, non-causal bandpass filter:\n",
      "- Windowed time-domain design (firwin) method\n",
      "- Hamming window with 0.0194 passband ripple and 53 dB stopband attenuation\n",
      "- Lower passband edge: 1.00\n",
      "- Lower transition bandwidth: 1.00 Hz (-6 dB cutoff frequency: 0.50 Hz)\n",
      "- Upper passband edge: 30.00 Hz\n",
      "- Upper transition bandwidth: 7.50 Hz (-6 dB cutoff frequency: 33.75 Hz)\n",
      "- Filter length: 1691 samples (3.303 sec)\n",
      "\n",
      "Adding average EEG reference projection.\n",
      "1 projection items deactivated\n",
      "Average reference projection was added, but has not been applied yet. Use the apply_proj method to apply it.\n",
      "Created an SSP operator (subspace dimension = 1)\n",
      "1 projection items activated\n",
      "SSP projectors applied...\n",
      "Used Annotations descriptions: ['New Segment/', 'Stimulus/S  5', 'Stimulus/S  6', 'Stimulus/S 10', 'Stimulus/S 11', 'Stimulus/S 20', 'Stimulus/S 21', 'Stimulus/S 30', 'Stimulus/S 31', 'Stimulus/S 40', 'Stimulus/S 41', 'Stimulus/S 73', 'Stimulus/S 74', 'Stimulus/S 75', 'Stimulus/S 76', 'SyncStatus/Sync Off']\n",
      "Not setting metadata\n",
      "Not setting metadata\n",
      "288 matching events found\n",
      "Setting baseline interval to [-1.0, 0.0] sec\n",
      "Applying baseline correction (mode: mean)\n",
      "Created an SSP operator (subspace dimension = 1)\n",
      "1 projection items activated\n",
      "Loading data for 288 events and 1025 original time points ...\n",
      "0 bad epochs dropped\n",
      "Fitting ICA to data using 62 channels (please be patient, this may take a while)\n"
     ]
    },
    {
     "name": "stderr",
     "output_type": "stream",
     "text": [
      "C:\\Users\\LIUYIK~1\\AppData\\Local\\Temp/ipykernel_7552/826381201.py:65: DeprecationWarning: Version 0.23 introduced max_iter=\"auto\", setting max_iter=1000 for `fastica` and max_iter=500 for `infomax` and `picard`. The current default of max_iter=200 will be changed to \"auto\" in version 0.24.\n",
      "  ica = mne.preprocessing.ICA(n_components=50, random_state=97)\n",
      "C:\\Users\\LIUYIK~1\\AppData\\Local\\Temp/ipykernel_7552/826381201.py:67: RuntimeWarning: The epochs you passed to ICA.fit() were baseline-corrected. However, we suggest to fit ICA only on data that has been high-pass filtered, but NOT baseline-corrected.\n",
      "  ica.fit(epochs)\n"
     ]
    },
    {
     "name": "stdout",
     "output_type": "stream",
     "text": [
      "    Applying projection operator with 1 vector (pre-whitener computation)\n",
      "    Applying projection operator with 1 vector (pre-whitener application)\n",
      "Selecting by number: 50 components\n",
      "    Applying projection operator with 1 vector (pre-whitener application)\n",
      "Fitting ICA took 45.3s.\n",
      "Using EOG channel: EOG\n",
      "    Applying projection operator with 1 vector (pre-whitener application)\n",
      "... filtering ICA sources\n",
      "Setting up band-pass filter from 1 - 10 Hz\n",
      "\n",
      "FIR filter parameters\n",
      "---------------------\n",
      "Designing a two-pass forward and reverse, zero-phase, non-causal bandpass filter:\n",
      "- Windowed frequency-domain design (firwin2) method\n",
      "- Hann window\n",
      "- Lower passband edge: 1.00\n",
      "- Lower transition bandwidth: 0.50 Hz (-12 dB cutoff frequency: 0.75 Hz)\n",
      "- Upper passband edge: 10.00 Hz\n",
      "- Upper transition bandwidth: 0.50 Hz (-12 dB cutoff frequency: 10.25 Hz)\n",
      "- Filter length: 5120 samples (10.000 sec)\n",
      "\n",
      "... filtering target\n",
      "Setting up band-pass filter from 1 - 10 Hz\n",
      "\n",
      "FIR filter parameters\n",
      "---------------------\n",
      "Designing a two-pass forward and reverse, zero-phase, non-causal bandpass filter:\n",
      "- Windowed frequency-domain design (firwin2) method\n",
      "- Hann window\n",
      "- Lower passband edge: 1.00\n",
      "- Lower transition bandwidth: 0.50 Hz (-12 dB cutoff frequency: 0.75 Hz)\n",
      "- Upper passband edge: 10.00 Hz\n",
      "- Upper transition bandwidth: 0.50 Hz (-12 dB cutoff frequency: 10.25 Hz)\n",
      "- Filter length: 5120 samples (10.000 sec)\n",
      "\n",
      "Using threshold: 0.23 for CTPS ECG detection\n",
      "Using channel ECG to identify heart beats.\n",
      "Setting up band-pass filter from 8 - 16 Hz\n",
      "\n",
      "FIR filter parameters\n",
      "---------------------\n",
      "Designing a two-pass forward and reverse, zero-phase, non-causal bandpass filter:\n",
      "- Windowed frequency-domain design (firwin2) method\n",
      "- Hann window\n",
      "- Lower passband edge: 8.00\n",
      "- Lower transition bandwidth: 0.50 Hz (-12 dB cutoff frequency: 7.75 Hz)\n",
      "- Upper passband edge: 16.00 Hz\n",
      "- Upper transition bandwidth: 0.50 Hz (-12 dB cutoff frequency: 16.25 Hz)\n",
      "- Filter length: 5120 samples (10.000 sec)\n",
      "\n",
      "Number of ECG events detected : 995 (average pulse 54 / min.)\n",
      "Not setting metadata\n",
      "Not setting metadata\n",
      "995 matching events found\n",
      "No baseline correction applied\n",
      "Created an SSP operator (subspace dimension = 1)\n",
      "1 projection items activated\n",
      "Loading data for 995 events and 513 original time points ...\n",
      "0 bad epochs dropped\n",
      "    Applying projection operator with 1 vector (pre-whitener application)\n",
      "Applying ICA to Epochs instance\n",
      "    Applying projection operator with 1 vector (pre-whitener application)\n"
     ]
    },
    {
     "name": "stderr",
     "output_type": "stream",
     "text": [
      "C:\\Users\\LIUYIK~1\\AppData\\Local\\Temp/ipykernel_7552/826381201.py:76: RuntimeWarning: The data you passed to ICA.apply() was baseline-corrected. Please note that ICA can introduce DC shifts, therefore you may wish to consider baseline-correcting the cleaned data again.\n",
      "  ica.apply(epochs)\n"
     ]
    },
    {
     "name": "stdout",
     "output_type": "stream",
     "text": [
      "    Transforming to ICA space (50 components)\n",
      "    Zeroing out 4 ICA components\n",
      "    Projecting back using 62 PCA components\n"
     ]
    },
    {
     "name": "stderr",
     "output_type": "stream",
     "text": [
      "C:\\Users\\LIUYIK~1\\AppData\\Local\\Temp/ipykernel_7552/826381201.py:80: RuntimeWarning: This filename (d:\\yikang1020\\yikangsystem1020\\2_Projects\\202206_Centro-parietal positivity\\2_Study\\2_4_Analysis\\2_4_3_tmp_data\\sub-010.fif) does not conform to MNE naming conventions. All epochs files should end with -epo.fif, -epo.fif.gz, _epo.fif or _epo.fif.gz\n",
      "  epochs.save(tname,overwrite=True)\n"
     ]
    },
    {
     "name": "stdout",
     "output_type": "stream",
     "text": [
      "Extracting parameters from d:\\yikang1020\\yikangsystem1020\\2_Data\\Ostwald2018\\BIDS_data\\sub-012\\sourcedata-eeg_outside-MRT\\eeg\\sub-012_task-pdm_acq-outsideMRT_eeg.vhdr...\n",
      "Setting channel info structure...\n"
     ]
    },
    {
     "name": "stderr",
     "output_type": "stream",
     "text": [
      "C:\\Users\\LIUYIK~1\\AppData\\Local\\Temp/ipykernel_7552/826381201.py:47: RuntimeWarning: No coordinate information found for channels ['EOG', 'ECG']. Setting channel types to misc. To avoid this warning, set channel types explicitly.\n",
      "  edata = mne.io.read_raw_brainvision(edata_path)\n",
      "C:\\Users\\LIUYIK~1\\AppData\\Local\\Temp/ipykernel_7552/826381201.py:50: RuntimeWarning: The unit for channel(s) EOG has changed from NA to V.\n",
      "  edata.set_channel_types({'EOG':'eog'})\n",
      "C:\\Users\\LIUYIK~1\\AppData\\Local\\Temp/ipykernel_7552/826381201.py:51: RuntimeWarning: The unit for channel(s) ECG has changed from NA to V.\n",
      "  edata.set_channel_types({'ECG':'ecg'})\n"
     ]
    },
    {
     "name": "stdout",
     "output_type": "stream",
     "text": [
      "Filtering raw data in 1 contiguous segment\n",
      "Setting up band-pass filter from 1 - 30 Hz\n",
      "\n",
      "FIR filter parameters\n",
      "---------------------\n",
      "Designing a one-pass, zero-phase, non-causal bandpass filter:\n",
      "- Windowed time-domain design (firwin) method\n",
      "- Hamming window with 0.0194 passband ripple and 53 dB stopband attenuation\n",
      "- Lower passband edge: 1.00\n",
      "- Lower transition bandwidth: 1.00 Hz (-6 dB cutoff frequency: 0.50 Hz)\n",
      "- Upper passband edge: 30.00 Hz\n",
      "- Upper transition bandwidth: 7.50 Hz (-6 dB cutoff frequency: 33.75 Hz)\n",
      "- Filter length: 1691 samples (3.303 sec)\n",
      "\n",
      "Adding average EEG reference projection.\n",
      "1 projection items deactivated\n",
      "Average reference projection was added, but has not been applied yet. Use the apply_proj method to apply it.\n",
      "Created an SSP operator (subspace dimension = 1)\n",
      "1 projection items activated\n",
      "SSP projectors applied...\n",
      "Used Annotations descriptions: ['New Segment/', 'Stimulus/S  5', 'Stimulus/S  6', 'Stimulus/S 10', 'Stimulus/S 11', 'Stimulus/S 20', 'Stimulus/S 21', 'Stimulus/S 30', 'Stimulus/S 31', 'Stimulus/S 40', 'Stimulus/S 41', 'Stimulus/S 73', 'Stimulus/S 74', 'Stimulus/S 75', 'Stimulus/S 76', 'SyncStatus/Sync Off']\n",
      "Not setting metadata\n",
      "Not setting metadata\n",
      "288 matching events found\n",
      "Setting baseline interval to [-1.0, 0.0] sec\n",
      "Applying baseline correction (mode: mean)\n",
      "Created an SSP operator (subspace dimension = 1)\n",
      "1 projection items activated\n",
      "Loading data for 288 events and 1025 original time points ...\n",
      "0 bad epochs dropped\n",
      "Fitting ICA to data using 62 channels (please be patient, this may take a while)\n",
      "    Applying projection operator with 1 vector (pre-whitener computation)\n"
     ]
    },
    {
     "name": "stderr",
     "output_type": "stream",
     "text": [
      "C:\\Users\\LIUYIK~1\\AppData\\Local\\Temp/ipykernel_7552/826381201.py:65: DeprecationWarning: Version 0.23 introduced max_iter=\"auto\", setting max_iter=1000 for `fastica` and max_iter=500 for `infomax` and `picard`. The current default of max_iter=200 will be changed to \"auto\" in version 0.24.\n",
      "  ica = mne.preprocessing.ICA(n_components=50, random_state=97)\n",
      "C:\\Users\\LIUYIK~1\\AppData\\Local\\Temp/ipykernel_7552/826381201.py:67: RuntimeWarning: The epochs you passed to ICA.fit() were baseline-corrected. However, we suggest to fit ICA only on data that has been high-pass filtered, but NOT baseline-corrected.\n",
      "  ica.fit(epochs)\n"
     ]
    },
    {
     "name": "stdout",
     "output_type": "stream",
     "text": [
      "    Applying projection operator with 1 vector (pre-whitener application)\n",
      "Selecting by number: 50 components\n"
     ]
    },
    {
     "name": "stderr",
     "output_type": "stream",
     "text": [
      "C:\\Users\\liuyikang\\AppData\\Local\\Packages\\PythonSoftwareFoundation.Python.3.9_qbz5n2kfra8p0\\LocalCache\\local-packages\\Python39\\site-packages\\sklearn\\decomposition\\_fastica.py:120: ConvergenceWarning: FastICA did not converge. Consider increasing tolerance or the maximum number of iterations.\n",
      "  warnings.warn(\n"
     ]
    },
    {
     "name": "stdout",
     "output_type": "stream",
     "text": [
      "    Applying projection operator with 1 vector (pre-whitener application)\n",
      "Fitting ICA took 86.5s.\n",
      "Using EOG channel: EOG\n",
      "    Applying projection operator with 1 vector (pre-whitener application)\n",
      "... filtering ICA sources\n",
      "Setting up band-pass filter from 1 - 10 Hz\n",
      "\n",
      "FIR filter parameters\n",
      "---------------------\n",
      "Designing a two-pass forward and reverse, zero-phase, non-causal bandpass filter:\n",
      "- Windowed frequency-domain design (firwin2) method\n",
      "- Hann window\n",
      "- Lower passband edge: 1.00\n",
      "- Lower transition bandwidth: 0.50 Hz (-12 dB cutoff frequency: 0.75 Hz)\n",
      "- Upper passband edge: 10.00 Hz\n",
      "- Upper transition bandwidth: 0.50 Hz (-12 dB cutoff frequency: 10.25 Hz)\n",
      "- Filter length: 5120 samples (10.000 sec)\n",
      "\n",
      "... filtering target\n",
      "Setting up band-pass filter from 1 - 10 Hz\n",
      "\n",
      "FIR filter parameters\n",
      "---------------------\n",
      "Designing a two-pass forward and reverse, zero-phase, non-causal bandpass filter:\n",
      "- Windowed frequency-domain design (firwin2) method\n",
      "- Hann window\n",
      "- Lower passband edge: 1.00\n",
      "- Lower transition bandwidth: 0.50 Hz (-12 dB cutoff frequency: 0.75 Hz)\n",
      "- Upper passband edge: 10.00 Hz\n",
      "- Upper transition bandwidth: 0.50 Hz (-12 dB cutoff frequency: 10.25 Hz)\n",
      "- Filter length: 5120 samples (10.000 sec)\n",
      "\n",
      "Using threshold: 0.23 for CTPS ECG detection\n",
      "Using channel ECG to identify heart beats.\n",
      "Setting up band-pass filter from 8 - 16 Hz\n",
      "\n",
      "FIR filter parameters\n",
      "---------------------\n",
      "Designing a two-pass forward and reverse, zero-phase, non-causal bandpass filter:\n",
      "- Windowed frequency-domain design (firwin2) method\n",
      "- Hann window\n",
      "- Lower passband edge: 8.00\n",
      "- Lower transition bandwidth: 0.50 Hz (-12 dB cutoff frequency: 7.75 Hz)\n",
      "- Upper passband edge: 16.00 Hz\n",
      "- Upper transition bandwidth: 0.50 Hz (-12 dB cutoff frequency: 16.25 Hz)\n",
      "- Filter length: 5120 samples (10.000 sec)\n",
      "\n",
      "Number of ECG events detected : 1068 (average pulse 56 / min.)\n",
      "Not setting metadata\n",
      "Not setting metadata\n",
      "1068 matching events found\n",
      "No baseline correction applied\n",
      "Created an SSP operator (subspace dimension = 1)\n",
      "1 projection items activated\n",
      "Loading data for 1068 events and 513 original time points ...\n",
      "0 bad epochs dropped\n",
      "    Applying projection operator with 1 vector (pre-whitener application)\n",
      "Applying ICA to Epochs instance\n",
      "    Applying projection operator with 1 vector (pre-whitener application)\n"
     ]
    },
    {
     "name": "stderr",
     "output_type": "stream",
     "text": [
      "C:\\Users\\LIUYIK~1\\AppData\\Local\\Temp/ipykernel_7552/826381201.py:76: RuntimeWarning: The data you passed to ICA.apply() was baseline-corrected. Please note that ICA can introduce DC shifts, therefore you may wish to consider baseline-correcting the cleaned data again.\n",
      "  ica.apply(epochs)\n"
     ]
    },
    {
     "name": "stdout",
     "output_type": "stream",
     "text": [
      "    Transforming to ICA space (50 components)\n",
      "    Zeroing out 2 ICA components\n",
      "    Projecting back using 62 PCA components\n"
     ]
    },
    {
     "name": "stderr",
     "output_type": "stream",
     "text": [
      "C:\\Users\\LIUYIK~1\\AppData\\Local\\Temp/ipykernel_7552/826381201.py:80: RuntimeWarning: This filename (d:\\yikang1020\\yikangsystem1020\\2_Projects\\202206_Centro-parietal positivity\\2_Study\\2_4_Analysis\\2_4_3_tmp_data\\sub-012.fif) does not conform to MNE naming conventions. All epochs files should end with -epo.fif, -epo.fif.gz, _epo.fif or _epo.fif.gz\n",
      "  epochs.save(tname,overwrite=True)\n"
     ]
    },
    {
     "name": "stdout",
     "output_type": "stream",
     "text": [
      "Extracting parameters from d:\\yikang1020\\yikangsystem1020\\2_Data\\Ostwald2018\\BIDS_data\\sub-013\\sourcedata-eeg_outside-MRT\\eeg\\sub-013_task-pdm_acq-outsideMRT_eeg.vhdr...\n",
      "Setting channel info structure...\n"
     ]
    },
    {
     "name": "stderr",
     "output_type": "stream",
     "text": [
      "C:\\Users\\LIUYIK~1\\AppData\\Local\\Temp/ipykernel_7552/826381201.py:47: RuntimeWarning: No coordinate information found for channels ['EOG', 'ECG']. Setting channel types to misc. To avoid this warning, set channel types explicitly.\n",
      "  edata = mne.io.read_raw_brainvision(edata_path)\n",
      "C:\\Users\\LIUYIK~1\\AppData\\Local\\Temp/ipykernel_7552/826381201.py:50: RuntimeWarning: The unit for channel(s) EOG has changed from NA to V.\n",
      "  edata.set_channel_types({'EOG':'eog'})\n",
      "C:\\Users\\LIUYIK~1\\AppData\\Local\\Temp/ipykernel_7552/826381201.py:51: RuntimeWarning: The unit for channel(s) ECG has changed from NA to V.\n",
      "  edata.set_channel_types({'ECG':'ecg'})\n"
     ]
    },
    {
     "name": "stdout",
     "output_type": "stream",
     "text": [
      "Filtering raw data in 1 contiguous segment\n",
      "Setting up band-pass filter from 1 - 30 Hz\n",
      "\n",
      "FIR filter parameters\n",
      "---------------------\n",
      "Designing a one-pass, zero-phase, non-causal bandpass filter:\n",
      "- Windowed time-domain design (firwin) method\n",
      "- Hamming window with 0.0194 passband ripple and 53 dB stopband attenuation\n",
      "- Lower passband edge: 1.00\n",
      "- Lower transition bandwidth: 1.00 Hz (-6 dB cutoff frequency: 0.50 Hz)\n",
      "- Upper passband edge: 30.00 Hz\n",
      "- Upper transition bandwidth: 7.50 Hz (-6 dB cutoff frequency: 33.75 Hz)\n",
      "- Filter length: 1691 samples (3.303 sec)\n",
      "\n",
      "Adding average EEG reference projection.\n",
      "1 projection items deactivated\n",
      "Average reference projection was added, but has not been applied yet. Use the apply_proj method to apply it.\n",
      "Created an SSP operator (subspace dimension = 1)\n",
      "1 projection items activated\n",
      "SSP projectors applied...\n",
      "Used Annotations descriptions: ['New Segment/', 'Stimulus/S  5', 'Stimulus/S  6', 'Stimulus/S 10', 'Stimulus/S 11', 'Stimulus/S 20', 'Stimulus/S 21', 'Stimulus/S 30', 'Stimulus/S 31', 'Stimulus/S 40', 'Stimulus/S 41', 'Stimulus/S 73', 'Stimulus/S 74', 'Stimulus/S 75', 'Stimulus/S 76', 'SyncStatus/Sync Off']\n",
      "Not setting metadata\n",
      "Not setting metadata\n",
      "288 matching events found\n",
      "Setting baseline interval to [-1.0, 0.0] sec\n",
      "Applying baseline correction (mode: mean)\n",
      "Created an SSP operator (subspace dimension = 1)\n",
      "1 projection items activated\n",
      "Loading data for 288 events and 1025 original time points ...\n",
      "0 bad epochs dropped\n",
      "Fitting ICA to data using 62 channels (please be patient, this may take a while)\n"
     ]
    },
    {
     "name": "stderr",
     "output_type": "stream",
     "text": [
      "C:\\Users\\LIUYIK~1\\AppData\\Local\\Temp/ipykernel_7552/826381201.py:65: DeprecationWarning: Version 0.23 introduced max_iter=\"auto\", setting max_iter=1000 for `fastica` and max_iter=500 for `infomax` and `picard`. The current default of max_iter=200 will be changed to \"auto\" in version 0.24.\n",
      "  ica = mne.preprocessing.ICA(n_components=50, random_state=97)\n",
      "C:\\Users\\LIUYIK~1\\AppData\\Local\\Temp/ipykernel_7552/826381201.py:67: RuntimeWarning: The epochs you passed to ICA.fit() were baseline-corrected. However, we suggest to fit ICA only on data that has been high-pass filtered, but NOT baseline-corrected.\n",
      "  ica.fit(epochs)\n"
     ]
    },
    {
     "name": "stdout",
     "output_type": "stream",
     "text": [
      "    Applying projection operator with 1 vector (pre-whitener computation)\n",
      "    Applying projection operator with 1 vector (pre-whitener application)\n",
      "Selecting by number: 50 components\n",
      "    Applying projection operator with 1 vector (pre-whitener application)\n",
      "Fitting ICA took 27.4s.\n",
      "Using EOG channel: EOG\n",
      "    Applying projection operator with 1 vector (pre-whitener application)\n",
      "... filtering ICA sources\n",
      "Setting up band-pass filter from 1 - 10 Hz\n",
      "\n",
      "FIR filter parameters\n",
      "---------------------\n",
      "Designing a two-pass forward and reverse, zero-phase, non-causal bandpass filter:\n",
      "- Windowed frequency-domain design (firwin2) method\n",
      "- Hann window\n",
      "- Lower passband edge: 1.00\n",
      "- Lower transition bandwidth: 0.50 Hz (-12 dB cutoff frequency: 0.75 Hz)\n",
      "- Upper passband edge: 10.00 Hz\n",
      "- Upper transition bandwidth: 0.50 Hz (-12 dB cutoff frequency: 10.25 Hz)\n",
      "- Filter length: 5120 samples (10.000 sec)\n",
      "\n",
      "... filtering target\n",
      "Setting up band-pass filter from 1 - 10 Hz\n",
      "\n",
      "FIR filter parameters\n",
      "---------------------\n",
      "Designing a two-pass forward and reverse, zero-phase, non-causal bandpass filter:\n",
      "- Windowed frequency-domain design (firwin2) method\n",
      "- Hann window\n",
      "- Lower passband edge: 1.00\n",
      "- Lower transition bandwidth: 0.50 Hz (-12 dB cutoff frequency: 0.75 Hz)\n",
      "- Upper passband edge: 10.00 Hz\n",
      "- Upper transition bandwidth: 0.50 Hz (-12 dB cutoff frequency: 10.25 Hz)\n",
      "- Filter length: 5120 samples (10.000 sec)\n",
      "\n",
      "Using threshold: 0.23 for CTPS ECG detection\n",
      "Using channel ECG to identify heart beats.\n",
      "Setting up band-pass filter from 8 - 16 Hz\n",
      "\n",
      "FIR filter parameters\n",
      "---------------------\n",
      "Designing a two-pass forward and reverse, zero-phase, non-causal bandpass filter:\n",
      "- Windowed frequency-domain design (firwin2) method\n",
      "- Hann window\n",
      "- Lower passband edge: 8.00\n",
      "- Lower transition bandwidth: 0.50 Hz (-12 dB cutoff frequency: 7.75 Hz)\n",
      "- Upper passband edge: 16.00 Hz\n",
      "- Upper transition bandwidth: 0.50 Hz (-12 dB cutoff frequency: 16.25 Hz)\n",
      "- Filter length: 5120 samples (10.000 sec)\n",
      "\n",
      "Number of ECG events detected : 1520 (average pulse 78 / min.)\n",
      "Not setting metadata\n",
      "Not setting metadata\n",
      "1520 matching events found\n",
      "No baseline correction applied\n",
      "Created an SSP operator (subspace dimension = 1)\n",
      "1 projection items activated\n",
      "Loading data for 1520 events and 513 original time points ...\n",
      "0 bad epochs dropped\n",
      "    Applying projection operator with 1 vector (pre-whitener application)\n",
      "Applying ICA to Epochs instance\n"
     ]
    },
    {
     "name": "stderr",
     "output_type": "stream",
     "text": [
      "C:\\Users\\LIUYIK~1\\AppData\\Local\\Temp/ipykernel_7552/826381201.py:76: RuntimeWarning: The data you passed to ICA.apply() was baseline-corrected. Please note that ICA can introduce DC shifts, therefore you may wish to consider baseline-correcting the cleaned data again.\n",
      "  ica.apply(epochs)\n"
     ]
    },
    {
     "name": "stdout",
     "output_type": "stream",
     "text": [
      "    Applying projection operator with 1 vector (pre-whitener application)\n",
      "    Transforming to ICA space (50 components)\n",
      "    Zeroing out 3 ICA components\n",
      "    Projecting back using 62 PCA components\n"
     ]
    },
    {
     "name": "stderr",
     "output_type": "stream",
     "text": [
      "C:\\Users\\LIUYIK~1\\AppData\\Local\\Temp/ipykernel_7552/826381201.py:80: RuntimeWarning: This filename (d:\\yikang1020\\yikangsystem1020\\2_Projects\\202206_Centro-parietal positivity\\2_Study\\2_4_Analysis\\2_4_3_tmp_data\\sub-013.fif) does not conform to MNE naming conventions. All epochs files should end with -epo.fif, -epo.fif.gz, _epo.fif or _epo.fif.gz\n",
      "  epochs.save(tname,overwrite=True)\n"
     ]
    },
    {
     "name": "stdout",
     "output_type": "stream",
     "text": [
      "Extracting parameters from d:\\yikang1020\\yikangsystem1020\\2_Data\\Ostwald2018\\BIDS_data\\sub-014\\sourcedata-eeg_outside-MRT\\eeg\\sub-014_task-pdm_acq-outsideMRT_eeg.vhdr...\n",
      "Setting channel info structure...\n"
     ]
    },
    {
     "name": "stderr",
     "output_type": "stream",
     "text": [
      "C:\\Users\\LIUYIK~1\\AppData\\Local\\Temp/ipykernel_7552/826381201.py:47: RuntimeWarning: No coordinate information found for channels ['EOG', 'ECG']. Setting channel types to misc. To avoid this warning, set channel types explicitly.\n",
      "  edata = mne.io.read_raw_brainvision(edata_path)\n",
      "C:\\Users\\LIUYIK~1\\AppData\\Local\\Temp/ipykernel_7552/826381201.py:50: RuntimeWarning: The unit for channel(s) EOG has changed from NA to V.\n",
      "  edata.set_channel_types({'EOG':'eog'})\n",
      "C:\\Users\\LIUYIK~1\\AppData\\Local\\Temp/ipykernel_7552/826381201.py:51: RuntimeWarning: The unit for channel(s) ECG has changed from NA to V.\n",
      "  edata.set_channel_types({'ECG':'ecg'})\n"
     ]
    },
    {
     "name": "stdout",
     "output_type": "stream",
     "text": [
      "Filtering raw data in 1 contiguous segment\n",
      "Setting up band-pass filter from 1 - 30 Hz\n",
      "\n",
      "FIR filter parameters\n",
      "---------------------\n",
      "Designing a one-pass, zero-phase, non-causal bandpass filter:\n",
      "- Windowed time-domain design (firwin) method\n",
      "- Hamming window with 0.0194 passband ripple and 53 dB stopband attenuation\n",
      "- Lower passband edge: 1.00\n",
      "- Lower transition bandwidth: 1.00 Hz (-6 dB cutoff frequency: 0.50 Hz)\n",
      "- Upper passband edge: 30.00 Hz\n",
      "- Upper transition bandwidth: 7.50 Hz (-6 dB cutoff frequency: 33.75 Hz)\n",
      "- Filter length: 1691 samples (3.303 sec)\n",
      "\n",
      "Adding average EEG reference projection.\n",
      "1 projection items deactivated\n",
      "Average reference projection was added, but has not been applied yet. Use the apply_proj method to apply it.\n",
      "Created an SSP operator (subspace dimension = 1)\n",
      "1 projection items activated\n",
      "SSP projectors applied...\n",
      "Used Annotations descriptions: ['New Segment/', 'Stimulus/S  5', 'Stimulus/S  6', 'Stimulus/S 10', 'Stimulus/S 11', 'Stimulus/S 20', 'Stimulus/S 21', 'Stimulus/S 30', 'Stimulus/S 31', 'Stimulus/S 40', 'Stimulus/S 41', 'Stimulus/S 73', 'Stimulus/S 74', 'Stimulus/S 75', 'Stimulus/S 76', 'SyncStatus/Sync Off']\n",
      "Not setting metadata\n",
      "Not setting metadata\n",
      "288 matching events found\n",
      "Setting baseline interval to [-1.0, 0.0] sec\n",
      "Applying baseline correction (mode: mean)\n",
      "Created an SSP operator (subspace dimension = 1)\n",
      "1 projection items activated\n",
      "Loading data for 288 events and 1025 original time points ...\n",
      "0 bad epochs dropped\n",
      "Fitting ICA to data using 62 channels (please be patient, this may take a while)\n"
     ]
    },
    {
     "name": "stderr",
     "output_type": "stream",
     "text": [
      "C:\\Users\\LIUYIK~1\\AppData\\Local\\Temp/ipykernel_7552/826381201.py:65: DeprecationWarning: Version 0.23 introduced max_iter=\"auto\", setting max_iter=1000 for `fastica` and max_iter=500 for `infomax` and `picard`. The current default of max_iter=200 will be changed to \"auto\" in version 0.24.\n",
      "  ica = mne.preprocessing.ICA(n_components=50, random_state=97)\n",
      "C:\\Users\\LIUYIK~1\\AppData\\Local\\Temp/ipykernel_7552/826381201.py:67: RuntimeWarning: The epochs you passed to ICA.fit() were baseline-corrected. However, we suggest to fit ICA only on data that has been high-pass filtered, but NOT baseline-corrected.\n",
      "  ica.fit(epochs)\n"
     ]
    },
    {
     "name": "stdout",
     "output_type": "stream",
     "text": [
      "    Applying projection operator with 1 vector (pre-whitener computation)\n",
      "    Applying projection operator with 1 vector (pre-whitener application)\n",
      "Selecting by number: 50 components\n",
      "    Applying projection operator with 1 vector (pre-whitener application)\n",
      "Fitting ICA took 31.7s.\n",
      "Using EOG channel: EOG\n",
      "    Applying projection operator with 1 vector (pre-whitener application)\n",
      "... filtering ICA sources\n",
      "Setting up band-pass filter from 1 - 10 Hz\n",
      "\n",
      "FIR filter parameters\n",
      "---------------------\n",
      "Designing a two-pass forward and reverse, zero-phase, non-causal bandpass filter:\n",
      "- Windowed frequency-domain design (firwin2) method\n",
      "- Hann window\n",
      "- Lower passband edge: 1.00\n",
      "- Lower transition bandwidth: 0.50 Hz (-12 dB cutoff frequency: 0.75 Hz)\n",
      "- Upper passband edge: 10.00 Hz\n",
      "- Upper transition bandwidth: 0.50 Hz (-12 dB cutoff frequency: 10.25 Hz)\n",
      "- Filter length: 5120 samples (10.000 sec)\n",
      "\n",
      "... filtering target\n",
      "Setting up band-pass filter from 1 - 10 Hz\n",
      "\n",
      "FIR filter parameters\n",
      "---------------------\n",
      "Designing a two-pass forward and reverse, zero-phase, non-causal bandpass filter:\n",
      "- Windowed frequency-domain design (firwin2) method\n",
      "- Hann window\n",
      "- Lower passband edge: 1.00\n",
      "- Lower transition bandwidth: 0.50 Hz (-12 dB cutoff frequency: 0.75 Hz)\n",
      "- Upper passband edge: 10.00 Hz\n",
      "- Upper transition bandwidth: 0.50 Hz (-12 dB cutoff frequency: 10.25 Hz)\n",
      "- Filter length: 5120 samples (10.000 sec)\n",
      "\n",
      "Using threshold: 0.23 for CTPS ECG detection\n",
      "Using channel ECG to identify heart beats.\n",
      "Setting up band-pass filter from 8 - 16 Hz\n",
      "\n",
      "FIR filter parameters\n",
      "---------------------\n",
      "Designing a two-pass forward and reverse, zero-phase, non-causal bandpass filter:\n",
      "- Windowed frequency-domain design (firwin2) method\n",
      "- Hann window\n",
      "- Lower passband edge: 8.00\n",
      "- Lower transition bandwidth: 0.50 Hz (-12 dB cutoff frequency: 7.75 Hz)\n",
      "- Upper passband edge: 16.00 Hz\n",
      "- Upper transition bandwidth: 0.50 Hz (-12 dB cutoff frequency: 16.25 Hz)\n",
      "- Filter length: 5120 samples (10.000 sec)\n",
      "\n",
      "Number of ECG events detected : 1514 (average pulse 75 / min.)\n",
      "Not setting metadata\n",
      "Not setting metadata\n",
      "1514 matching events found\n",
      "No baseline correction applied\n",
      "Created an SSP operator (subspace dimension = 1)\n",
      "1 projection items activated\n",
      "Loading data for 1514 events and 513 original time points ...\n",
      "1 bad epochs dropped\n",
      "    Applying projection operator with 1 vector (pre-whitener application)\n",
      "Applying ICA to Epochs instance\n",
      "    Applying projection operator with 1 vector (pre-whitener application)\n"
     ]
    },
    {
     "name": "stderr",
     "output_type": "stream",
     "text": [
      "C:\\Users\\LIUYIK~1\\AppData\\Local\\Temp/ipykernel_7552/826381201.py:76: RuntimeWarning: The data you passed to ICA.apply() was baseline-corrected. Please note that ICA can introduce DC shifts, therefore you may wish to consider baseline-correcting the cleaned data again.\n",
      "  ica.apply(epochs)\n"
     ]
    },
    {
     "name": "stdout",
     "output_type": "stream",
     "text": [
      "    Transforming to ICA space (50 components)\n",
      "    Zeroing out 1 ICA component\n",
      "    Projecting back using 62 PCA components\n"
     ]
    },
    {
     "name": "stderr",
     "output_type": "stream",
     "text": [
      "C:\\Users\\LIUYIK~1\\AppData\\Local\\Temp/ipykernel_7552/826381201.py:80: RuntimeWarning: This filename (d:\\yikang1020\\yikangsystem1020\\2_Projects\\202206_Centro-parietal positivity\\2_Study\\2_4_Analysis\\2_4_3_tmp_data\\sub-014.fif) does not conform to MNE naming conventions. All epochs files should end with -epo.fif, -epo.fif.gz, _epo.fif or _epo.fif.gz\n",
      "  epochs.save(tname,overwrite=True)\n"
     ]
    },
    {
     "name": "stdout",
     "output_type": "stream",
     "text": [
      "Extracting parameters from d:\\yikang1020\\yikangsystem1020\\2_Data\\Ostwald2018\\BIDS_data\\sub-015\\sourcedata-eeg_outside-MRT\\eeg\\sub-015_task-pdm_acq-outsideMRT_eeg.vhdr...\n",
      "Setting channel info structure...\n"
     ]
    },
    {
     "name": "stderr",
     "output_type": "stream",
     "text": [
      "C:\\Users\\LIUYIK~1\\AppData\\Local\\Temp/ipykernel_7552/826381201.py:47: RuntimeWarning: No coordinate information found for channels ['EOG', 'ECG']. Setting channel types to misc. To avoid this warning, set channel types explicitly.\n",
      "  edata = mne.io.read_raw_brainvision(edata_path)\n",
      "C:\\Users\\LIUYIK~1\\AppData\\Local\\Temp/ipykernel_7552/826381201.py:50: RuntimeWarning: The unit for channel(s) EOG has changed from NA to V.\n",
      "  edata.set_channel_types({'EOG':'eog'})\n",
      "C:\\Users\\LIUYIK~1\\AppData\\Local\\Temp/ipykernel_7552/826381201.py:51: RuntimeWarning: The unit for channel(s) ECG has changed from NA to V.\n",
      "  edata.set_channel_types({'ECG':'ecg'})\n"
     ]
    },
    {
     "name": "stdout",
     "output_type": "stream",
     "text": [
      "Filtering raw data in 1 contiguous segment\n",
      "Setting up band-pass filter from 1 - 30 Hz\n",
      "\n",
      "FIR filter parameters\n",
      "---------------------\n",
      "Designing a one-pass, zero-phase, non-causal bandpass filter:\n",
      "- Windowed time-domain design (firwin) method\n",
      "- Hamming window with 0.0194 passband ripple and 53 dB stopband attenuation\n",
      "- Lower passband edge: 1.00\n",
      "- Lower transition bandwidth: 1.00 Hz (-6 dB cutoff frequency: 0.50 Hz)\n",
      "- Upper passband edge: 30.00 Hz\n",
      "- Upper transition bandwidth: 7.50 Hz (-6 dB cutoff frequency: 33.75 Hz)\n",
      "- Filter length: 1691 samples (3.303 sec)\n",
      "\n",
      "Adding average EEG reference projection.\n",
      "1 projection items deactivated\n",
      "Average reference projection was added, but has not been applied yet. Use the apply_proj method to apply it.\n",
      "Created an SSP operator (subspace dimension = 1)\n",
      "1 projection items activated\n",
      "SSP projectors applied...\n",
      "Used Annotations descriptions: ['New Segment/', 'Stimulus/S  5', 'Stimulus/S  6', 'Stimulus/S 10', 'Stimulus/S 11', 'Stimulus/S 20', 'Stimulus/S 21', 'Stimulus/S 30', 'Stimulus/S 31', 'Stimulus/S 40', 'Stimulus/S 41', 'Stimulus/S 73', 'Stimulus/S 74', 'Stimulus/S 75', 'Stimulus/S 76', 'SyncStatus/Sync Off']\n",
      "Not setting metadata\n",
      "Not setting metadata\n",
      "288 matching events found\n",
      "Setting baseline interval to [-1.0, 0.0] sec\n",
      "Applying baseline correction (mode: mean)\n",
      "Created an SSP operator (subspace dimension = 1)\n",
      "1 projection items activated\n",
      "Loading data for 288 events and 1025 original time points ...\n",
      "0 bad epochs dropped\n",
      "Fitting ICA to data using 62 channels (please be patient, this may take a while)\n"
     ]
    },
    {
     "name": "stderr",
     "output_type": "stream",
     "text": [
      "C:\\Users\\LIUYIK~1\\AppData\\Local\\Temp/ipykernel_7552/826381201.py:65: DeprecationWarning: Version 0.23 introduced max_iter=\"auto\", setting max_iter=1000 for `fastica` and max_iter=500 for `infomax` and `picard`. The current default of max_iter=200 will be changed to \"auto\" in version 0.24.\n",
      "  ica = mne.preprocessing.ICA(n_components=50, random_state=97)\n",
      "C:\\Users\\LIUYIK~1\\AppData\\Local\\Temp/ipykernel_7552/826381201.py:67: RuntimeWarning: The epochs you passed to ICA.fit() were baseline-corrected. However, we suggest to fit ICA only on data that has been high-pass filtered, but NOT baseline-corrected.\n",
      "  ica.fit(epochs)\n"
     ]
    },
    {
     "name": "stdout",
     "output_type": "stream",
     "text": [
      "    Applying projection operator with 1 vector (pre-whitener computation)\n",
      "    Applying projection operator with 1 vector (pre-whitener application)\n",
      "Selecting by number: 50 components\n"
     ]
    },
    {
     "name": "stderr",
     "output_type": "stream",
     "text": [
      "C:\\Users\\liuyikang\\AppData\\Local\\Packages\\PythonSoftwareFoundation.Python.3.9_qbz5n2kfra8p0\\LocalCache\\local-packages\\Python39\\site-packages\\sklearn\\decomposition\\_fastica.py:120: ConvergenceWarning: FastICA did not converge. Consider increasing tolerance or the maximum number of iterations.\n",
      "  warnings.warn(\n"
     ]
    },
    {
     "name": "stdout",
     "output_type": "stream",
     "text": [
      "    Applying projection operator with 1 vector (pre-whitener application)\n",
      "Fitting ICA took 88.1s.\n",
      "Using EOG channel: EOG\n",
      "    Applying projection operator with 1 vector (pre-whitener application)\n",
      "... filtering ICA sources\n",
      "Setting up band-pass filter from 1 - 10 Hz\n",
      "\n",
      "FIR filter parameters\n",
      "---------------------\n",
      "Designing a two-pass forward and reverse, zero-phase, non-causal bandpass filter:\n",
      "- Windowed frequency-domain design (firwin2) method\n",
      "- Hann window\n",
      "- Lower passband edge: 1.00\n",
      "- Lower transition bandwidth: 0.50 Hz (-12 dB cutoff frequency: 0.75 Hz)\n",
      "- Upper passband edge: 10.00 Hz\n",
      "- Upper transition bandwidth: 0.50 Hz (-12 dB cutoff frequency: 10.25 Hz)\n",
      "- Filter length: 5120 samples (10.000 sec)\n",
      "\n",
      "... filtering target\n",
      "Setting up band-pass filter from 1 - 10 Hz\n",
      "\n",
      "FIR filter parameters\n",
      "---------------------\n",
      "Designing a two-pass forward and reverse, zero-phase, non-causal bandpass filter:\n",
      "- Windowed frequency-domain design (firwin2) method\n",
      "- Hann window\n",
      "- Lower passband edge: 1.00\n",
      "- Lower transition bandwidth: 0.50 Hz (-12 dB cutoff frequency: 0.75 Hz)\n",
      "- Upper passband edge: 10.00 Hz\n",
      "- Upper transition bandwidth: 0.50 Hz (-12 dB cutoff frequency: 10.25 Hz)\n",
      "- Filter length: 5120 samples (10.000 sec)\n",
      "\n",
      "Using threshold: 0.23 for CTPS ECG detection\n",
      "Using channel ECG to identify heart beats.\n",
      "Setting up band-pass filter from 8 - 16 Hz\n",
      "\n",
      "FIR filter parameters\n",
      "---------------------\n",
      "Designing a two-pass forward and reverse, zero-phase, non-causal bandpass filter:\n",
      "- Windowed frequency-domain design (firwin2) method\n",
      "- Hann window\n",
      "- Lower passband edge: 8.00\n",
      "- Lower transition bandwidth: 0.50 Hz (-12 dB cutoff frequency: 7.75 Hz)\n",
      "- Upper passband edge: 16.00 Hz\n",
      "- Upper transition bandwidth: 0.50 Hz (-12 dB cutoff frequency: 16.25 Hz)\n",
      "- Filter length: 5120 samples (10.000 sec)\n",
      "\n",
      "Number of ECG events detected : 1561 (average pulse 62 / min.)\n",
      "Not setting metadata\n",
      "Not setting metadata\n",
      "1561 matching events found\n",
      "No baseline correction applied\n",
      "Created an SSP operator (subspace dimension = 1)\n",
      "1 projection items activated\n",
      "Loading data for 1561 events and 513 original time points ...\n",
      "1 bad epochs dropped\n",
      "    Applying projection operator with 1 vector (pre-whitener application)\n",
      "Applying ICA to Epochs instance\n",
      "    Applying projection operator with 1 vector (pre-whitener application)\n"
     ]
    },
    {
     "name": "stderr",
     "output_type": "stream",
     "text": [
      "C:\\Users\\LIUYIK~1\\AppData\\Local\\Temp/ipykernel_7552/826381201.py:76: RuntimeWarning: The data you passed to ICA.apply() was baseline-corrected. Please note that ICA can introduce DC shifts, therefore you may wish to consider baseline-correcting the cleaned data again.\n",
      "  ica.apply(epochs)\n"
     ]
    },
    {
     "name": "stdout",
     "output_type": "stream",
     "text": [
      "    Transforming to ICA space (50 components)\n",
      "    Zeroing out 4 ICA components\n",
      "    Projecting back using 62 PCA components\n"
     ]
    },
    {
     "name": "stderr",
     "output_type": "stream",
     "text": [
      "C:\\Users\\LIUYIK~1\\AppData\\Local\\Temp/ipykernel_7552/826381201.py:80: RuntimeWarning: This filename (d:\\yikang1020\\yikangsystem1020\\2_Projects\\202206_Centro-parietal positivity\\2_Study\\2_4_Analysis\\2_4_3_tmp_data\\sub-015.fif) does not conform to MNE naming conventions. All epochs files should end with -epo.fif, -epo.fif.gz, _epo.fif or _epo.fif.gz\n",
      "  epochs.save(tname,overwrite=True)\n"
     ]
    },
    {
     "name": "stdout",
     "output_type": "stream",
     "text": [
      "Extracting parameters from d:\\yikang1020\\yikangsystem1020\\2_Data\\Ostwald2018\\BIDS_data\\sub-016\\sourcedata-eeg_outside-MRT\\eeg\\sub-016_task-pdm_acq-outsideMRT_eeg.vhdr...\n",
      "Setting channel info structure...\n"
     ]
    },
    {
     "name": "stderr",
     "output_type": "stream",
     "text": [
      "C:\\Users\\LIUYIK~1\\AppData\\Local\\Temp/ipykernel_7552/826381201.py:47: RuntimeWarning: No coordinate information found for channels ['EOG', 'ECG']. Setting channel types to misc. To avoid this warning, set channel types explicitly.\n",
      "  edata = mne.io.read_raw_brainvision(edata_path)\n",
      "C:\\Users\\LIUYIK~1\\AppData\\Local\\Temp/ipykernel_7552/826381201.py:50: RuntimeWarning: The unit for channel(s) EOG has changed from NA to V.\n",
      "  edata.set_channel_types({'EOG':'eog'})\n",
      "C:\\Users\\LIUYIK~1\\AppData\\Local\\Temp/ipykernel_7552/826381201.py:51: RuntimeWarning: The unit for channel(s) ECG has changed from NA to V.\n",
      "  edata.set_channel_types({'ECG':'ecg'})\n"
     ]
    },
    {
     "name": "stdout",
     "output_type": "stream",
     "text": [
      "Filtering raw data in 1 contiguous segment\n",
      "Setting up band-pass filter from 1 - 30 Hz\n",
      "\n",
      "FIR filter parameters\n",
      "---------------------\n",
      "Designing a one-pass, zero-phase, non-causal bandpass filter:\n",
      "- Windowed time-domain design (firwin) method\n",
      "- Hamming window with 0.0194 passband ripple and 53 dB stopband attenuation\n",
      "- Lower passband edge: 1.00\n",
      "- Lower transition bandwidth: 1.00 Hz (-6 dB cutoff frequency: 0.50 Hz)\n",
      "- Upper passband edge: 30.00 Hz\n",
      "- Upper transition bandwidth: 7.50 Hz (-6 dB cutoff frequency: 33.75 Hz)\n",
      "- Filter length: 1691 samples (3.303 sec)\n",
      "\n",
      "Adding average EEG reference projection.\n",
      "1 projection items deactivated\n",
      "Average reference projection was added, but has not been applied yet. Use the apply_proj method to apply it.\n",
      "Created an SSP operator (subspace dimension = 1)\n",
      "1 projection items activated\n",
      "SSP projectors applied...\n",
      "Used Annotations descriptions: ['New Segment/', 'Stimulus/S  5', 'Stimulus/S  6', 'Stimulus/S 10', 'Stimulus/S 11', 'Stimulus/S 20', 'Stimulus/S 21', 'Stimulus/S 30', 'Stimulus/S 31', 'Stimulus/S 40', 'Stimulus/S 41', 'Stimulus/S 73', 'Stimulus/S 74', 'Stimulus/S 75', 'Stimulus/S 76', 'SyncStatus/Sync Off']\n",
      "Not setting metadata\n",
      "Not setting metadata\n",
      "288 matching events found\n",
      "Setting baseline interval to [-1.0, 0.0] sec\n",
      "Applying baseline correction (mode: mean)\n",
      "Created an SSP operator (subspace dimension = 1)\n",
      "1 projection items activated\n",
      "Loading data for 288 events and 1025 original time points ...\n",
      "0 bad epochs dropped\n",
      "Fitting ICA to data using 62 channels (please be patient, this may take a while)\n",
      "    Applying projection operator with 1 vector (pre-whitener computation)\n"
     ]
    },
    {
     "name": "stderr",
     "output_type": "stream",
     "text": [
      "C:\\Users\\LIUYIK~1\\AppData\\Local\\Temp/ipykernel_7552/826381201.py:65: DeprecationWarning: Version 0.23 introduced max_iter=\"auto\", setting max_iter=1000 for `fastica` and max_iter=500 for `infomax` and `picard`. The current default of max_iter=200 will be changed to \"auto\" in version 0.24.\n",
      "  ica = mne.preprocessing.ICA(n_components=50, random_state=97)\n",
      "C:\\Users\\LIUYIK~1\\AppData\\Local\\Temp/ipykernel_7552/826381201.py:67: RuntimeWarning: The epochs you passed to ICA.fit() were baseline-corrected. However, we suggest to fit ICA only on data that has been high-pass filtered, but NOT baseline-corrected.\n",
      "  ica.fit(epochs)\n"
     ]
    },
    {
     "name": "stdout",
     "output_type": "stream",
     "text": [
      "    Applying projection operator with 1 vector (pre-whitener application)\n",
      "Selecting by number: 50 components\n",
      "    Applying projection operator with 1 vector (pre-whitener application)\n",
      "Fitting ICA took 15.8s.\n",
      "Using EOG channel: EOG\n",
      "    Applying projection operator with 1 vector (pre-whitener application)\n",
      "... filtering ICA sources\n",
      "Setting up band-pass filter from 1 - 10 Hz\n",
      "\n",
      "FIR filter parameters\n",
      "---------------------\n",
      "Designing a two-pass forward and reverse, zero-phase, non-causal bandpass filter:\n",
      "- Windowed frequency-domain design (firwin2) method\n",
      "- Hann window\n",
      "- Lower passband edge: 1.00\n",
      "- Lower transition bandwidth: 0.50 Hz (-12 dB cutoff frequency: 0.75 Hz)\n",
      "- Upper passband edge: 10.00 Hz\n",
      "- Upper transition bandwidth: 0.50 Hz (-12 dB cutoff frequency: 10.25 Hz)\n",
      "- Filter length: 5120 samples (10.000 sec)\n",
      "\n",
      "... filtering target\n",
      "Setting up band-pass filter from 1 - 10 Hz\n",
      "\n",
      "FIR filter parameters\n",
      "---------------------\n",
      "Designing a two-pass forward and reverse, zero-phase, non-causal bandpass filter:\n",
      "- Windowed frequency-domain design (firwin2) method\n",
      "- Hann window\n",
      "- Lower passband edge: 1.00\n",
      "- Lower transition bandwidth: 0.50 Hz (-12 dB cutoff frequency: 0.75 Hz)\n",
      "- Upper passband edge: 10.00 Hz\n",
      "- Upper transition bandwidth: 0.50 Hz (-12 dB cutoff frequency: 10.25 Hz)\n",
      "- Filter length: 5120 samples (10.000 sec)\n",
      "\n",
      "Using threshold: 0.23 for CTPS ECG detection\n",
      "Using channel ECG to identify heart beats.\n",
      "Setting up band-pass filter from 8 - 16 Hz\n",
      "\n",
      "FIR filter parameters\n",
      "---------------------\n",
      "Designing a two-pass forward and reverse, zero-phase, non-causal bandpass filter:\n",
      "- Windowed frequency-domain design (firwin2) method\n",
      "- Hann window\n",
      "- Lower passband edge: 8.00\n",
      "- Lower transition bandwidth: 0.50 Hz (-12 dB cutoff frequency: 7.75 Hz)\n",
      "- Upper passband edge: 16.00 Hz\n",
      "- Upper transition bandwidth: 0.50 Hz (-12 dB cutoff frequency: 16.25 Hz)\n",
      "- Filter length: 5120 samples (10.000 sec)\n",
      "\n",
      "Number of ECG events detected : 1532 (average pulse 79 / min.)\n",
      "Not setting metadata\n",
      "Not setting metadata\n",
      "1532 matching events found\n",
      "No baseline correction applied\n",
      "Created an SSP operator (subspace dimension = 1)\n",
      "1 projection items activated\n",
      "Loading data for 1532 events and 513 original time points ...\n",
      "1 bad epochs dropped\n",
      "    Applying projection operator with 1 vector (pre-whitener application)\n",
      "Applying ICA to Epochs instance\n",
      "    Applying projection operator with 1 vector (pre-whitener application)\n"
     ]
    },
    {
     "name": "stderr",
     "output_type": "stream",
     "text": [
      "C:\\Users\\LIUYIK~1\\AppData\\Local\\Temp/ipykernel_7552/826381201.py:76: RuntimeWarning: The data you passed to ICA.apply() was baseline-corrected. Please note that ICA can introduce DC shifts, therefore you may wish to consider baseline-correcting the cleaned data again.\n",
      "  ica.apply(epochs)\n"
     ]
    },
    {
     "name": "stdout",
     "output_type": "stream",
     "text": [
      "    Transforming to ICA space (50 components)\n",
      "    Zeroing out 1 ICA component\n",
      "    Projecting back using 62 PCA components\n"
     ]
    },
    {
     "name": "stderr",
     "output_type": "stream",
     "text": [
      "C:\\Users\\LIUYIK~1\\AppData\\Local\\Temp/ipykernel_7552/826381201.py:80: RuntimeWarning: This filename (d:\\yikang1020\\yikangsystem1020\\2_Projects\\202206_Centro-parietal positivity\\2_Study\\2_4_Analysis\\2_4_3_tmp_data\\sub-016.fif) does not conform to MNE naming conventions. All epochs files should end with -epo.fif, -epo.fif.gz, _epo.fif or _epo.fif.gz\n",
      "  epochs.save(tname,overwrite=True)\n"
     ]
    },
    {
     "name": "stdout",
     "output_type": "stream",
     "text": [
      "Extracting parameters from d:\\yikang1020\\yikangsystem1020\\2_Data\\Ostwald2018\\BIDS_data\\sub-017\\sourcedata-eeg_outside-MRT\\eeg\\sub-017_task-pdm_acq-outsideMRT_eeg.vhdr...\n",
      "Setting channel info structure...\n"
     ]
    },
    {
     "name": "stderr",
     "output_type": "stream",
     "text": [
      "C:\\Users\\LIUYIK~1\\AppData\\Local\\Temp/ipykernel_7552/826381201.py:47: RuntimeWarning: No coordinate information found for channels ['EOG', 'ECG']. Setting channel types to misc. To avoid this warning, set channel types explicitly.\n",
      "  edata = mne.io.read_raw_brainvision(edata_path)\n",
      "C:\\Users\\LIUYIK~1\\AppData\\Local\\Temp/ipykernel_7552/826381201.py:50: RuntimeWarning: The unit for channel(s) EOG has changed from NA to V.\n",
      "  edata.set_channel_types({'EOG':'eog'})\n",
      "C:\\Users\\LIUYIK~1\\AppData\\Local\\Temp/ipykernel_7552/826381201.py:51: RuntimeWarning: The unit for channel(s) ECG has changed from NA to V.\n",
      "  edata.set_channel_types({'ECG':'ecg'})\n"
     ]
    },
    {
     "name": "stdout",
     "output_type": "stream",
     "text": [
      "Filtering raw data in 1 contiguous segment\n",
      "Setting up band-pass filter from 1 - 30 Hz\n",
      "\n",
      "FIR filter parameters\n",
      "---------------------\n",
      "Designing a one-pass, zero-phase, non-causal bandpass filter:\n",
      "- Windowed time-domain design (firwin) method\n",
      "- Hamming window with 0.0194 passband ripple and 53 dB stopband attenuation\n",
      "- Lower passband edge: 1.00\n",
      "- Lower transition bandwidth: 1.00 Hz (-6 dB cutoff frequency: 0.50 Hz)\n",
      "- Upper passband edge: 30.00 Hz\n",
      "- Upper transition bandwidth: 7.50 Hz (-6 dB cutoff frequency: 33.75 Hz)\n",
      "- Filter length: 1691 samples (3.303 sec)\n",
      "\n",
      "Adding average EEG reference projection.\n",
      "1 projection items deactivated\n",
      "Average reference projection was added, but has not been applied yet. Use the apply_proj method to apply it.\n",
      "Created an SSP operator (subspace dimension = 1)\n",
      "1 projection items activated\n",
      "SSP projectors applied...\n",
      "Used Annotations descriptions: ['New Segment/', 'Stimulus/S  5', 'Stimulus/S  6', 'Stimulus/S 10', 'Stimulus/S 11', 'Stimulus/S 20', 'Stimulus/S 21', 'Stimulus/S 30', 'Stimulus/S 31', 'Stimulus/S 40', 'Stimulus/S 41', 'Stimulus/S 73', 'Stimulus/S 74', 'Stimulus/S 75', 'Stimulus/S 76', 'SyncStatus/Sync Off']\n",
      "Not setting metadata\n",
      "Not setting metadata\n",
      "288 matching events found\n",
      "Setting baseline interval to [-1.0, 0.0] sec\n",
      "Applying baseline correction (mode: mean)\n",
      "Created an SSP operator (subspace dimension = 1)\n",
      "1 projection items activated\n",
      "Loading data for 288 events and 1025 original time points ...\n",
      "0 bad epochs dropped\n",
      "Fitting ICA to data using 62 channels (please be patient, this may take a while)\n",
      "    Applying projection operator with 1 vector (pre-whitener computation)\n"
     ]
    },
    {
     "name": "stderr",
     "output_type": "stream",
     "text": [
      "C:\\Users\\LIUYIK~1\\AppData\\Local\\Temp/ipykernel_7552/826381201.py:65: DeprecationWarning: Version 0.23 introduced max_iter=\"auto\", setting max_iter=1000 for `fastica` and max_iter=500 for `infomax` and `picard`. The current default of max_iter=200 will be changed to \"auto\" in version 0.24.\n",
      "  ica = mne.preprocessing.ICA(n_components=50, random_state=97)\n",
      "C:\\Users\\LIUYIK~1\\AppData\\Local\\Temp/ipykernel_7552/826381201.py:67: RuntimeWarning: The epochs you passed to ICA.fit() were baseline-corrected. However, we suggest to fit ICA only on data that has been high-pass filtered, but NOT baseline-corrected.\n",
      "  ica.fit(epochs)\n"
     ]
    },
    {
     "name": "stdout",
     "output_type": "stream",
     "text": [
      "    Applying projection operator with 1 vector (pre-whitener application)\n",
      "Selecting by number: 50 components\n",
      "    Applying projection operator with 1 vector (pre-whitener application)\n",
      "Fitting ICA took 43.5s.\n",
      "Using EOG channel: EOG\n",
      "    Applying projection operator with 1 vector (pre-whitener application)\n",
      "... filtering ICA sources\n",
      "Setting up band-pass filter from 1 - 10 Hz\n",
      "\n",
      "FIR filter parameters\n",
      "---------------------\n",
      "Designing a two-pass forward and reverse, zero-phase, non-causal bandpass filter:\n",
      "- Windowed frequency-domain design (firwin2) method\n",
      "- Hann window\n",
      "- Lower passband edge: 1.00\n",
      "- Lower transition bandwidth: 0.50 Hz (-12 dB cutoff frequency: 0.75 Hz)\n",
      "- Upper passband edge: 10.00 Hz\n",
      "- Upper transition bandwidth: 0.50 Hz (-12 dB cutoff frequency: 10.25 Hz)\n",
      "- Filter length: 5120 samples (10.000 sec)\n",
      "\n",
      "... filtering target\n",
      "Setting up band-pass filter from 1 - 10 Hz\n",
      "\n",
      "FIR filter parameters\n",
      "---------------------\n",
      "Designing a two-pass forward and reverse, zero-phase, non-causal bandpass filter:\n",
      "- Windowed frequency-domain design (firwin2) method\n",
      "- Hann window\n",
      "- Lower passband edge: 1.00\n",
      "- Lower transition bandwidth: 0.50 Hz (-12 dB cutoff frequency: 0.75 Hz)\n",
      "- Upper passband edge: 10.00 Hz\n",
      "- Upper transition bandwidth: 0.50 Hz (-12 dB cutoff frequency: 10.25 Hz)\n",
      "- Filter length: 5120 samples (10.000 sec)\n",
      "\n",
      "Using threshold: 0.23 for CTPS ECG detection\n",
      "Using channel ECG to identify heart beats.\n",
      "Setting up band-pass filter from 8 - 16 Hz\n",
      "\n",
      "FIR filter parameters\n",
      "---------------------\n",
      "Designing a two-pass forward and reverse, zero-phase, non-causal bandpass filter:\n",
      "- Windowed frequency-domain design (firwin2) method\n",
      "- Hann window\n",
      "- Lower passband edge: 8.00\n",
      "- Lower transition bandwidth: 0.50 Hz (-12 dB cutoff frequency: 7.75 Hz)\n",
      "- Upper passband edge: 16.00 Hz\n",
      "- Upper transition bandwidth: 0.50 Hz (-12 dB cutoff frequency: 16.25 Hz)\n",
      "- Filter length: 5120 samples (10.000 sec)\n",
      "\n",
      "Number of ECG events detected : 1553 (average pulse 87 / min.)\n",
      "Not setting metadata\n",
      "Not setting metadata\n",
      "1553 matching events found\n",
      "No baseline correction applied\n",
      "Created an SSP operator (subspace dimension = 1)\n",
      "1 projection items activated\n",
      "Loading data for 1553 events and 513 original time points ...\n",
      "0 bad epochs dropped\n",
      "    Applying projection operator with 1 vector (pre-whitener application)\n",
      "Applying ICA to Epochs instance\n",
      "    Applying projection operator with 1 vector (pre-whitener application)\n"
     ]
    },
    {
     "name": "stderr",
     "output_type": "stream",
     "text": [
      "C:\\Users\\LIUYIK~1\\AppData\\Local\\Temp/ipykernel_7552/826381201.py:76: RuntimeWarning: The data you passed to ICA.apply() was baseline-corrected. Please note that ICA can introduce DC shifts, therefore you may wish to consider baseline-correcting the cleaned data again.\n",
      "  ica.apply(epochs)\n"
     ]
    },
    {
     "name": "stdout",
     "output_type": "stream",
     "text": [
      "    Transforming to ICA space (50 components)\n",
      "    Zeroing out 2 ICA components\n",
      "    Projecting back using 62 PCA components\n"
     ]
    },
    {
     "name": "stderr",
     "output_type": "stream",
     "text": [
      "C:\\Users\\LIUYIK~1\\AppData\\Local\\Temp/ipykernel_7552/826381201.py:80: RuntimeWarning: This filename (d:\\yikang1020\\yikangsystem1020\\2_Projects\\202206_Centro-parietal positivity\\2_Study\\2_4_Analysis\\2_4_3_tmp_data\\sub-017.fif) does not conform to MNE naming conventions. All epochs files should end with -epo.fif, -epo.fif.gz, _epo.fif or _epo.fif.gz\n",
      "  epochs.save(tname,overwrite=True)\n"
     ]
    }
   ],
   "source": [
    "events = mne.events_from_annotations(edata)[0]\n",
    "\n",
    "events_id = mne.events_from_annotations(edata)[1]\n",
    "\n",
    "event_dict = {\n",
    "  'Response/car': 5,\n",
    "  'Response/face': 6,\n",
    "  'Stimulus/hc/p/left': 10,\n",
    "  'Stimulus/hc/p/right': 11,\n",
    "  'Stimulus/hc/np/left': 20,\n",
    "  'Stimulus/hc/np/right': 21,\n",
    "  'Stimulus/lc/p/left': 30,\n",
    "  'Stimulus/lc/p/right': 31,\n",
    "  'Stimulus/lc/np/left': 40,\n",
    "  'Stimulus/lc/np/right': 41,\n",
    "  'Cue/Left': 74,\n",
    "  'Cue/Right': 75,\n",
    "  'Cue/double': 76\n",
    "}\n",
    "\n",
    "cue_dict =  {\n",
    "  'Cue/Left': 74,\n",
    "  'Cue/Right': 75,\n",
    "  'Cue/double': 76\n",
    "}\n",
    "\n",
    "stimulus_dict = {\n",
    "  'Stimulus/hc/p/left': 10,\n",
    "  'Stimulus/hc/p/right': 11,\n",
    "  'Stimulus/hc/np/left': 20,\n",
    "  'Stimulus/hc/np/right': 21,\n",
    "  'Stimulus/lc/p/left': 30,\n",
    "  'Stimulus/lc/p/right': 31,\n",
    "  'Stimulus/lc/np/left': 40,\n",
    "  'Stimulus/lc/np/right': 41,\n",
    "}\n",
    "\n",
    "response_dict = {\n",
    "  'Response/car': 5,\n",
    "  'Response/face': 6,\n",
    "}\n",
    "\n",
    "for subject in subjects:\n",
    "\n",
    "    side = 'sourcedata-eeg_outside-MRT'\n",
    "    \n",
    "    measures = ['eeg','beh']\n",
    "    \n",
    "    etask = os.path.join(subject + \"_task-pdm_acq-outsideMRT_eeg.vhdr\" )\n",
    "    \n",
    "    preprocessed = os.path.join(subject + \"_pred.fif\")\n",
    "    \n",
    "    edata_path = os.path.join(temp_dir, BIDS_data, subject, side, measures[0], etask)\n",
    "    \n",
    "    edata = mne.io.read_raw_brainvision(edata_path)\n",
    "\n",
    "    \n",
    "    edata.set_channel_types({'EOG':'eog'})   \n",
    "    \n",
    "    edata.set_channel_types({'ECG':'ecg'})\n",
    "    \n",
    "    edata.resample(512, npad=\"auto\")\n",
    "    \n",
    "    edata.filter(1, 30, fir_design='firwin', picks=['eeg'])\n",
    "    \n",
    "    edata.set_eeg_reference('average', projection=True).apply_proj()\n",
    "    \n",
    "    events_from_annot, event_dict = mne.events_from_annotations(edata)\n",
    "\n",
    "    \n",
    "    epochs = mne.Epochs(edata, events_from_annot, event_id=stimulus_dict, tmin=-1, tmax=1,\n",
    "                     baseline = (None,0), preload=True, picks=['eeg'])\n",
    "    \n",
    "    ica = mne.preprocessing.ICA(n_components=50, random_state=97)\n",
    "    \n",
    "    ica.fit(epochs) \n",
    "    \n",
    "    ica.exclude = []                                   \n",
    "    eog_indices, eog_scores = ica.find_bads_eog(edata) \n",
    "                                                                         \n",
    "    ecg_indices, ecg_scores = ica.find_bads_ecg(edata, method='ctps')\n",
    "                                                                   \n",
    "    ica.exclude = eog_indices + ecg_indices \n",
    "    \n",
    "    ica.apply(epochs) \n",
    "\n",
    "    tname = os.path.join(os.path.dirname(os.getcwd()),'2_4_3_tmp_data',subject+\".fif\")\n",
    "\n",
    "    epochs.save(tname,overwrite=True)\n",
    "\n",
    "    channel = ['CPz','CP1','CP2']\n",
    "\n",
    "    time = [-0.2, 0]\n",
    "\n",
    "    epochs_baseline = epochs.copy().pick_channels(channel)\n",
    "\n",
    "    epochs_baseline = epochs_baseline.crop(time[0],time[1])\n",
    "\n",
    "    epochs_baseline = epochs_baseline.get_data()\n",
    "\n",
    "    epochs_baseline = np.mean(epochs_baseline, axis = 1)\n",
    "\n",
    "    epochs_baseline = np.mean(epochs_baseline, axis = 1)\n",
    "\n",
    "    epochs_baseline = np.reshape(epochs_baseline, (288,1))\n",
    "\n",
    "    edata.set_channel_types({'EOG':'eog'})   \n",
    "\n",
    "    edata.set_channel_types({'ECG':'ecg'})\n",
    "    \n",
    "    edata.resample(512, npad=\"auto\")\n",
    "    \n",
    "    edata.filter(1, 30, fir_design='firwin', picks=['eeg'])\n",
    "    \n",
    "    edata.set_eeg_reference('average', projection=True).apply_proj()\n",
    "    \n",
    "    events_from_annot, event_dict = mne.events_from_annotations(edata)\n",
    "\n",
    "    \n",
    "    epochs_res = mne.Epochs(edata, events_from_annot, event_id=response_dict, tmin=-1, tmax=1,\n",
    "                     baseline = (None,0), preload=True, picks=['eeg'])\n",
    "        \n",
    "    channel = ['CPz','CP1','CP2']\n",
    "\n",
    "    time = [-0.25, 0]\n",
    "\n",
    "    epochs_CPP = epochs_res.copy().pick_channels(channel)\n",
    "\n",
    "    epochs_CPP = epochs_CPP.crop(time[0],time[1])\n",
    "\n",
    "    times = epochs_CPP.times\n",
    "\n",
    "    epochs_CPP = epochs_CPP.get_data()\n",
    "\n",
    "    epochs_CPP = np.mean(epochs_CPP, axis = 1) - epochs_baseline\n",
    "\n",
    "    consecutives = []\n",
    "    \n",
    "    for trial in range(epochs_CPP.shape[0]):\n",
    "        ps = []\n",
    "        for i in range(len(times)):\n",
    "            t,p = ttest_1samp(epochs_CPP[trial,:],0)\n",
    "            if p<=0.05:\n",
    "                p = 1\n",
    "            else:\n",
    "                p = 0\n",
    "            ps = np.append(ps,p)\n",
    "        start = 0\n",
    "        end = start + 15\n",
    "        consecutive = False\n",
    "        while (end <= len(times)) and (consecutive == False): \n",
    "            if np.sum(ps[start:end]) == 15:\n",
    "                consecutive = True\n",
    "            else:\n",
    "                start = start + 1\n",
    "                end = start + 15\n",
    "        consecutives = np.append(consecutives,consecutive)\n",
    "\n",
    "    channel = ['CPz','CP1','CP2']\n",
    "\n",
    "    time = [-0.25, -0.1]\n",
    "\n",
    "    epochs_CPP = epochs_res.copy().pick_channels(channel)\n",
    "\n",
    "    epochs_CPP = epochs_CPP.crop(time[0],time[1])\n",
    "\n",
    "    times = epochs_CPP.times\n",
    "\n",
    "    epochs_CPP = epochs_CPP.get_data()\n",
    "\n",
    "    epochs_CPP = np.mean(epochs_CPP, axis = 1) - epochs_baseline\n",
    "\n",
    "    CPP_peak = np.amax(epochs_CPP, axis = 1)\n",
    "\n",
    "    channel = ['CPz','CP1','CP2']\n",
    "\n",
    "    time = [-0.25, -0.1]\n",
    "\n",
    "\n",
    "    epochs_CPP = epochs_res.copy().pick_channels(channel)\n",
    "\n",
    "    epochs_CPP = epochs_CPP.crop(time[0],time[1])\n",
    "\n",
    "    times = epochs_CPP.times\n",
    "\n",
    "    epochs_CPP = epochs_CPP.get_data()\n",
    "\n",
    "    epochs_CPP = np.mean(epochs_CPP, axis = 1) - epochs_baseline\n",
    "\n",
    "    CPP_slopes = []\n",
    "    for i in range(epochs_CPP.shape[0]):\n",
    "        CPP_slope = np.polyfit(times,epochs_CPP[i,:],1)[0]\n",
    "        CPP_slopes = np.append(CPP_slopes,CPP_slope)\n",
    "\n",
    "    channel = ['CPz','CP1','CP2']\n",
    "\n",
    "    time = [-0.1, -0]\n",
    "\n",
    "\n",
    "    epochs_CPP = epochs_res.copy().pick_channels(channel)\n",
    "\n",
    "    epochs_CPP = epochs_CPP.crop(time[0],time[1])\n",
    "\n",
    "    times = epochs_CPP.times\n",
    "\n",
    "    epochs_CPP = epochs_CPP.get_data()\n",
    "\n",
    "    epochs_CPP = np.mean(epochs_CPP, axis = 1) - epochs_baseline\n",
    "\n",
    "    CPP_amplitudes = np.mean(epochs_CPP, axis = 1)\n",
    "\n",
    "    bedata.loc[bedata['subject']==,'cpp_peak'] = CPP_peak\n",
    "    bedata.loc[bedata['subject']==,'cpp_slope'] = CPP_slopes\n",
    "    bedata.loc[bedata['subject']==,'cpp_amplitude'] = CPP_amplitudes\n",
    "\n",
    "    #rts = np.delete(rts, np.where(consecutives == 0))\n",
    "    \n",
    "    #CPP_peak = np.delete(CPP_peak, np.where(consecutives == 0))\n",
    "    \n",
    "    #CPP_slopes = np.delete(CPP_slopes, np.where(consecutives == 0))\n",
    "    \n",
    "    #CPP_amplitudes = np.delete(CPP_amplitudes, np.where(consecutives == 0))\n",
    "\n",
    "    \n",
    "\n",
    "    \n"
   ]
  },
  {
   "cell_type": "code",
   "execution_count": 177,
   "metadata": {},
   "outputs": [
    {
     "data": {
      "text/plain": [
       "'sub-017'"
      ]
     },
     "execution_count": 177,
     "metadata": {},
     "output_type": "execute_result"
    }
   ],
   "source": [
    "subject"
   ]
  },
  {
   "cell_type": "code",
   "execution_count": 182,
   "metadata": {},
   "outputs": [
    {
     "data": {
      "text/plain": [
       "['0']"
      ]
     },
     "execution_count": 182,
     "metadata": {},
     "output_type": "execute_result"
    }
   ],
   "source": [
    "re.findall(r'sub-(.+?)',subject)"
   ]
  },
  {
   "cell_type": "code",
   "execution_count": 159,
   "metadata": {},
   "outputs": [
    {
     "name": "stdout",
     "output_type": "stream",
     "text": [
      "Not setting metadata\n",
      "Not setting metadata\n",
      "288 matching events found\n",
      "No baseline correction applied\n",
      "0 projection items activated\n",
      "0 bad epochs dropped\n",
      "combining channels using \"gfp\"\n"
     ]
    },
    {
     "name": "stderr",
     "output_type": "stream",
     "text": [
      "C:\\Users\\LIUYIK~1\\AppData\\Local\\Temp/ipykernel_7552/240076364.py:6: RuntimeWarning: Some values in overlay_times fall outside of the epochs time interval (between -1.0 s and 1.0 s)\n",
      "  epochs.plot_image(picks = ['CPz','CP1','CP2'],\n"
     ]
    },
    {
     "data": {
      "image/png": "[encoded data removed]",
      "text/plain": [
       "<Figure size 432x288 with 3 Axes>"
      ]
     },
     "metadata": {
      "needs_background": "light"
     },
     "output_type": "display_data"
    },
    {
     "data": {
      "text/plain": [
       "[<Figure size 432x288 with 3 Axes>]"
      ]
     },
     "execution_count": 159,
     "metadata": {},
     "output_type": "execute_result"
    }
   ],
   "source": [
    "rts = bedata.loc[bedata['subject']=='017','response_time'].to_numpy()\n",
    "\n",
    "order = rts.argsort()\n",
    "\n",
    "\n",
    "epochs.plot_image(picks = ['CPz','CP1','CP2'],\n",
    "                  order=order, \n",
    "                  sigma=2,\n",
    "                  overlay_times=rts, \n",
    "                  combine='gfp',\n",
    "                  cmap = 'OrRd',\n",
    "                  vmin = 0,\n",
    "                  vmax = 8)"
   ]
  },
  {
   "cell_type": "code",
   "execution_count": 170,
   "metadata": {},
   "outputs": [
    {
     "ename": "AttributeError",
     "evalue": "'Epochs' object has no attribute 'nave'",
     "output_type": "error",
     "traceback": [
      "\u001b[1;31m---------------------------------------------------------------------------\u001b[0m",
      "\u001b[1;31mAttributeError\u001b[0m                            Traceback (most recent call last)",
      "\u001b[1;32mC:\\Users\\LIUYIK~1\\AppData\\Local\\Temp/ipykernel_7552/1455334756.py\u001b[0m in \u001b[0;36m<module>\u001b[1;34m\u001b[0m\n\u001b[1;32m----> 1\u001b[1;33m \u001b[0mmne\u001b[0m\u001b[1;33m.\u001b[0m\u001b[0mviz\u001b[0m\u001b[1;33m.\u001b[0m\u001b[0mplot_evoked\u001b[0m\u001b[1;33m(\u001b[0m\u001b[0mevoked\u001b[0m\u001b[1;33m=\u001b[0m\u001b[0mepochs\u001b[0m\u001b[1;33m)\u001b[0m\u001b[1;33m\u001b[0m\u001b[1;33m\u001b[0m\u001b[0m\n\u001b[0m",
      "\u001b[1;32m<decorator-gen-158>\u001b[0m in \u001b[0;36mplot_evoked\u001b[1;34m(evoked, picks, exclude, unit, show, ylim, xlim, proj, hline, units, scalings, titles, axes, gfp, window_title, spatial_colors, zorder, selectable, noise_cov, time_unit, sphere, verbose)\u001b[0m\n",
      "\u001b[1;32m~\\AppData\\Local\\Packages\\PythonSoftwareFoundation.Python.3.9_qbz5n2kfra8p0\\LocalCache\\local-packages\\Python39\\site-packages\\mne\\viz\\evoked.py\u001b[0m in \u001b[0;36mplot_evoked\u001b[1;34m(evoked, picks, exclude, unit, show, ylim, xlim, proj, hline, units, scalings, titles, axes, gfp, window_title, spatial_colors, zorder, selectable, noise_cov, time_unit, sphere, verbose)\u001b[0m\n\u001b[0;32m    764\u001b[0m     \u001b[0mmne\u001b[0m\u001b[1;33m.\u001b[0m\u001b[0mviz\u001b[0m\u001b[1;33m.\u001b[0m\u001b[0mplot_evoked_white\u001b[0m\u001b[1;33m\u001b[0m\u001b[1;33m\u001b[0m\u001b[0m\n\u001b[0;32m    765\u001b[0m     \"\"\"\n\u001b[1;32m--> 766\u001b[1;33m     return _plot_evoked(\n\u001b[0m\u001b[0;32m    767\u001b[0m         \u001b[0mevoked\u001b[0m\u001b[1;33m=\u001b[0m\u001b[0mevoked\u001b[0m\u001b[1;33m,\u001b[0m \u001b[0mpicks\u001b[0m\u001b[1;33m=\u001b[0m\u001b[0mpicks\u001b[0m\u001b[1;33m,\u001b[0m \u001b[0mexclude\u001b[0m\u001b[1;33m=\u001b[0m\u001b[0mexclude\u001b[0m\u001b[1;33m,\u001b[0m \u001b[0munit\u001b[0m\u001b[1;33m=\u001b[0m\u001b[0munit\u001b[0m\u001b[1;33m,\u001b[0m \u001b[0mshow\u001b[0m\u001b[1;33m=\u001b[0m\u001b[0mshow\u001b[0m\u001b[1;33m,\u001b[0m\u001b[1;33m\u001b[0m\u001b[1;33m\u001b[0m\u001b[0m\n\u001b[0;32m    768\u001b[0m         \u001b[0mylim\u001b[0m\u001b[1;33m=\u001b[0m\u001b[0mylim\u001b[0m\u001b[1;33m,\u001b[0m \u001b[0mproj\u001b[0m\u001b[1;33m=\u001b[0m\u001b[0mproj\u001b[0m\u001b[1;33m,\u001b[0m \u001b[0mxlim\u001b[0m\u001b[1;33m=\u001b[0m\u001b[0mxlim\u001b[0m\u001b[1;33m,\u001b[0m \u001b[0mhline\u001b[0m\u001b[1;33m=\u001b[0m\u001b[0mhline\u001b[0m\u001b[1;33m,\u001b[0m \u001b[0munits\u001b[0m\u001b[1;33m=\u001b[0m\u001b[0munits\u001b[0m\u001b[1;33m,\u001b[0m\u001b[1;33m\u001b[0m\u001b[1;33m\u001b[0m\u001b[0m\n",
      "\u001b[1;32m~\\AppData\\Local\\Packages\\PythonSoftwareFoundation.Python.3.9_qbz5n2kfra8p0\\LocalCache\\local-packages\\Python39\\site-packages\\mne\\viz\\evoked.py\u001b[0m in \u001b[0;36m_plot_evoked\u001b[1;34m(evoked, picks, exclude, unit, show, ylim, proj, xlim, hline, units, scalings, titles, axes, plot_type, cmap, gfp, window_title, spatial_colors, selectable, zorder, noise_cov, colorbar, mask, mask_style, mask_cmap, mask_alpha, time_unit, show_names, group_by, sphere)\u001b[0m\n\u001b[0;32m    336\u001b[0m                          'None')\n\u001b[0;32m    337\u001b[0m     projector, whitened_ch_names = _setup_plot_projector(\n\u001b[1;32m--> 338\u001b[1;33m         info, noise_cov, proj=proj is True, nave=evoked.nave)\n\u001b[0m\u001b[0;32m    339\u001b[0m     \u001b[1;32mif\u001b[0m \u001b[0mlen\u001b[0m\u001b[1;33m(\u001b[0m\u001b[0mwhitened_ch_names\u001b[0m\u001b[1;33m)\u001b[0m \u001b[1;33m>\u001b[0m \u001b[1;36m0\u001b[0m\u001b[1;33m:\u001b[0m\u001b[1;33m\u001b[0m\u001b[1;33m\u001b[0m\u001b[0m\n\u001b[0;32m    340\u001b[0m         \u001b[0munit\u001b[0m \u001b[1;33m=\u001b[0m \u001b[1;32mFalse\u001b[0m\u001b[1;33m\u001b[0m\u001b[1;33m\u001b[0m\u001b[0m\n",
      "\u001b[1;31mAttributeError\u001b[0m: 'Epochs' object has no attribute 'nave'"
     ]
    },
    {
     "data": {
      "image/png": "[encoded data removed]",
      "text/plain": [
       "<Figure size 460.8x216 with 1 Axes>"
      ]
     },
     "metadata": {
      "needs_background": "light"
     },
     "output_type": "display_data"
    }
   ],
   "source": []
  },
  {
   "cell_type": "markdown",
   "metadata": {},
   "source": [
    "### h1: There is a process of evidence accumulation in face-car paradigm\n"
   ]
  },
  {
   "cell_type": "markdown",
   "metadata": {},
   "source": [
    "### h2: The role of attention in evidence accumulation"
   ]
  },
  {
   "cell_type": "markdown",
   "metadata": {},
   "source": [
    "### h3: Multiverse analysis of joint modeling EEG and behavior"
   ]
  }
 ],
 "metadata": {
  "kernelspec": {
   "display_name": "Python 3.9.13 64-bit (windows store)",
   "language": "python",
   "name": "python3"
  },
  "language_info": {
   "codemirror_mode": {
    "name": "ipython",
    "version": 3
   },
   "file_extension": ".py",
   "mimetype": "text/x-python",
   "name": "python",
   "nbconvert_exporter": "python",
   "pygments_lexer": "ipython3",
   "version": "3.9.13"
  },
  "orig_nbformat": 4,
  "vscode": {
   "interpreter": {
    "hash": "7698be9997df07547d4a08fe6d7a8ab77df170c0c470ab0ace6a1c514673cd42"
   }
  }
 },
 "nbformat": 4,
 "nbformat_minor": 2
}
