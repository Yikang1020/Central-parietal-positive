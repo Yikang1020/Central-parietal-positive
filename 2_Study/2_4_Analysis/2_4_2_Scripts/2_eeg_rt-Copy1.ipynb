{
 "cells": [
  {
   "cell_type": "code",
   "execution_count": 1,
   "metadata": {},
   "outputs": [],
   "source": [
    "from sklearn.linear_model import LinearRegression\n",
    "import statsmodels.api as sm\n",
    "import matplotlib.pyplot as plt \n",
    "import numpy as np\n",
    "import pandas as pd\n",
    "from sklearn.preprocessing import StandardScaler\n",
    "from scipy.stats import pearsonr\n",
    "\n"
   ]
  },
  {
   "cell_type": "code",
   "execution_count": 2,
   "metadata": {},
   "outputs": [],
   "source": [
    "data = pd.read_csv('data.csv')"
   ]
  },
  {
   "cell_type": "code",
   "execution_count": 3,
   "metadata": {},
   "outputs": [
    {
     "name": "stderr",
     "output_type": "stream",
     "text": [
      "/opt/conda/lib/python3.8/site-packages/statsmodels/tsa/tsatools.py:130: FutureWarning: In a future version of pandas all arguments of concat except for the argument 'objs' will be keyword-only\n",
      "  x = pd.concat(x[::order], 1)\n"
     ]
    }
   ],
   "source": [
    "y = data['rt']\n",
    "\n",
    "x1 = data['cpp_amplitude']\n",
    "x1 = sm.add_constant(x1)\n",
    "\n",
    "x2 = data['cpp_peak']\n",
    "x2 = sm.add_constant(x2)\n",
    "\n",
    "x3 = data['cpp_slope']\n",
    "x3 = sm.add_constant(x3)"
   ]
  },
  {
   "cell_type": "code",
   "execution_count": 4,
   "metadata": {},
   "outputs": [
    {
     "name": "stdout",
     "output_type": "stream",
     "text": [
      "                            OLS Regression Results                            \n",
      "==============================================================================\n",
      "Dep. Variable:                     rt   R-squared:                       0.041\n",
      "Model:                            OLS   Adj. R-squared:                  0.041\n",
      "Method:                 Least Squares   F-statistic:                     157.7\n",
      "Date:                Sun, 08 Jan 2023   Prob (F-statistic):           1.91e-35\n",
      "Time:                        02:52:31   Log-Likelihood:                 493.03\n",
      "No. Observations:                3661   AIC:                            -982.1\n",
      "Df Residuals:                    3659   BIC:                            -969.7\n",
      "Df Model:                           1                                         \n",
      "Covariance Type:            nonrobust                                         \n",
      "=================================================================================\n",
      "                    coef    std err          t      P>|t|      [0.025      0.975]\n",
      "---------------------------------------------------------------------------------\n",
      "const             0.4784      0.005    100.160      0.000       0.469       0.488\n",
      "cpp_amplitude -1.372e+04   1092.598    -12.558      0.000   -1.59e+04   -1.16e+04\n",
      "==============================================================================\n",
      "Omnibus:                     1761.727   Durbin-Watson:                   2.131\n",
      "Prob(Omnibus):                  0.000   Jarque-Bera (JB):            12304.117\n",
      "Skew:                           2.190   Prob(JB):                         0.00\n",
      "Kurtosis:                      10.840   Cond. No.                     3.13e+05\n",
      "==============================================================================\n",
      "\n",
      "Warnings:\n",
      "[1] Standard Errors assume that the covariance matrix of the errors is correctly specified.\n",
      "[2] The condition number is large, 3.13e+05. This might indicate that there are\n",
      "strong multicollinearity or other numerical problems.\n"
     ]
    }
   ],
   "source": [
    "model1 = sm.OLS(y,x1).fit()\n",
    "print(model1.summary())\n"
   ]
  },
  {
   "cell_type": "code",
   "execution_count": 5,
   "metadata": {},
   "outputs": [
    {
     "name": "stdout",
     "output_type": "stream",
     "text": [
      "                            OLS Regression Results                            \n",
      "==============================================================================\n",
      "Dep. Variable:                     rt   R-squared:                       0.002\n",
      "Model:                            OLS   Adj. R-squared:                  0.002\n",
      "Method:                 Least Squares   F-statistic:                     7.128\n",
      "Date:                Sun, 08 Jan 2023   Prob (F-statistic):            0.00762\n",
      "Time:                        02:52:31   Log-Likelihood:                 419.35\n",
      "No. Observations:                3661   AIC:                            -834.7\n",
      "Df Residuals:                    3659   BIC:                            -822.3\n",
      "Df Model:                           1                                         \n",
      "Covariance Type:            nonrobust                                         \n",
      "==============================================================================\n",
      "                 coef    std err          t      P>|t|      [0.025      0.975]\n",
      "------------------------------------------------------------------------------\n",
      "const          0.4224      0.007     63.077      0.000       0.409       0.436\n",
      "cpp_peak    2780.9673   1041.624      2.670      0.008     738.747    4823.188\n",
      "==============================================================================\n",
      "Omnibus:                     1846.617   Durbin-Watson:                   2.112\n",
      "Prob(Omnibus):                  0.000   Jarque-Bera (JB):            13424.926\n",
      "Skew:                           2.308   Prob(JB):                         0.00\n",
      "Kurtosis:                      11.167   Cond. No.                     2.92e+05\n",
      "==============================================================================\n",
      "\n",
      "Warnings:\n",
      "[1] Standard Errors assume that the covariance matrix of the errors is correctly specified.\n",
      "[2] The condition number is large, 2.92e+05. This might indicate that there are\n",
      "strong multicollinearity or other numerical problems.\n"
     ]
    }
   ],
   "source": [
    "model2 = sm.OLS(y,x2).fit()\n",
    "print(model2.summary())\n"
   ]
  },
  {
   "cell_type": "code",
   "execution_count": 6,
   "metadata": {},
   "outputs": [
    {
     "name": "stdout",
     "output_type": "stream",
     "text": [
      "                            OLS Regression Results                            \n",
      "==============================================================================\n",
      "Dep. Variable:                     rt   R-squared:                       0.027\n",
      "Model:                            OLS   Adj. R-squared:                  0.026\n",
      "Method:                 Least Squares   F-statistic:                     100.1\n",
      "Date:                Sun, 08 Jan 2023   Prob (F-statistic):           2.89e-23\n",
      "Time:                        02:52:31   Log-Likelihood:                 465.19\n",
      "No. Observations:                3661   AIC:                            -926.4\n",
      "Df Residuals:                    3659   BIC:                            -914.0\n",
      "Df Model:                           1                                         \n",
      "Covariance Type:            nonrobust                                         \n",
      "==============================================================================\n",
      "                 coef    std err          t      P>|t|      [0.025      0.975]\n",
      "------------------------------------------------------------------------------\n",
      "const          0.4503      0.004    120.186      0.000       0.443       0.458\n",
      "cpp_slope   -986.0042     98.556    -10.005      0.000   -1179.234    -792.775\n",
      "==============================================================================\n",
      "Omnibus:                     1848.548   Durbin-Watson:                   2.127\n",
      "Prob(Omnibus):                  0.000   Jarque-Bera (JB):            13632.780\n",
      "Skew:                           2.305   Prob(JB):                         0.00\n",
      "Kurtosis:                      11.253   Cond. No.                     2.80e+04\n",
      "==============================================================================\n",
      "\n",
      "Warnings:\n",
      "[1] Standard Errors assume that the covariance matrix of the errors is correctly specified.\n",
      "[2] The condition number is large, 2.8e+04. This might indicate that there are\n",
      "strong multicollinearity or other numerical problems.\n"
     ]
    }
   ],
   "source": [
    "model3 = sm.OLS(y,x3).fit()\n",
    "print(model3.summary())"
   ]
  },
  {
   "cell_type": "code",
   "execution_count": 7,
   "metadata": {},
   "outputs": [
    {
     "data": {
      "image/png": "[encoded data removed]",
      "text/plain": [
       "<Figure size 432x288 with 1 Axes>"
      ]
     },
     "metadata": {
      "needs_background": "light"
     },
     "output_type": "display_data"
    }
   ],
   "source": [
    "predict1 = model1.predict()\n",
    "plt.scatter(x1['cpp_amplitude'],y,label='true')\n",
    "plt.plot(x1['cpp_amplitude'],predict1,label='fake',color='red')\n",
    "plt.legend()\n",
    "plt.show()\n"
   ]
  },
  {
   "cell_type": "code",
   "execution_count": 8,
   "metadata": {},
   "outputs": [
    {
     "data": {
      "image/png": "[encoded data removed]",
      "text/plain": [
       "<Figure size 432x288 with 1 Axes>"
      ]
     },
     "metadata": {
      "needs_background": "light"
     },
     "output_type": "display_data"
    }
   ],
   "source": [
    "predict2 = model2.predict()\n",
    "plt.scatter(x2['cpp_peak'],y,label='true')\n",
    "plt.plot(x2['cpp_peak'],predict2,label='fake',color='red')\n",
    "plt.legend()\n",
    "plt.show()"
   ]
  },
  {
   "cell_type": "code",
   "execution_count": 9,
   "metadata": {},
   "outputs": [
    {
     "data": {
      "image/png": "[encoded data removed]",
      "text/plain": [
       "<Figure size 432x288 with 1 Axes>"
      ]
     },
     "metadata": {
      "needs_background": "light"
     },
     "output_type": "display_data"
    }
   ],
   "source": [
    "predict3 = model3.predict()\n",
    "plt.scatter(x3['cpp_slope'],y,label='true')\n",
    "plt.plot(x3['cpp_slope'],predict3,label='fake',color='red')\n",
    "plt.legend()\n",
    "plt.show()"
   ]
  },
  {
   "cell_type": "code",
   "execution_count": 10,
   "metadata": {},
   "outputs": [
    {
     "name": "stderr",
     "output_type": "stream",
     "text": [
      "/opt/conda/lib/python3.8/site-packages/statsmodels/tsa/tsatools.py:130: FutureWarning: In a future version of pandas all arguments of concat except for the argument 'objs' will be keyword-only\n",
      "  x = pd.concat(x[::order], 1)\n"
     ]
    }
   ],
   "source": [
    "y = data[['subj_idx','rt']].groupby('subj_idx').mean()\n",
    "\n",
    "x1 = data[['subj_idx','cpp_amplitude']].groupby('subj_idx').mean()\n",
    "x1 = sm.add_constant(x1)\n",
    "\n",
    "x2 = data[['subj_idx','cpp_peak']].groupby('subj_idx').mean()\n",
    "x2 = sm.add_constant(x2)\n",
    "\n",
    "x3 = data[['subj_idx','cpp_slope']].groupby('subj_idx').mean()\n",
    "x3 = sm.add_constant(x3)\n"
   ]
  },
  {
   "cell_type": "code",
   "execution_count": 11,
   "metadata": {},
   "outputs": [
    {
     "name": "stdout",
     "output_type": "stream",
     "text": [
      "                            OLS Regression Results                            \n",
      "==============================================================================\n",
      "Dep. Variable:                     rt   R-squared:                       0.319\n",
      "Model:                            OLS   Adj. R-squared:                  0.267\n",
      "Method:                 Least Squares   F-statistic:                     6.101\n",
      "Date:                Sun, 08 Jan 2023   Prob (F-statistic):             0.0281\n",
      "Time:                        02:52:32   Log-Likelihood:                 16.007\n",
      "No. Observations:                  15   AIC:                            -28.01\n",
      "Df Residuals:                      13   BIC:                            -26.60\n",
      "Df Model:                           1                                         \n",
      "Covariance Type:            nonrobust                                         \n",
      "=================================================================================\n",
      "                    coef    std err          t      P>|t|      [0.025      0.975]\n",
      "---------------------------------------------------------------------------------\n",
      "const             0.5521      0.050     11.093      0.000       0.445       0.660\n",
      "cpp_amplitude -3.782e+04   1.53e+04     -2.470      0.028   -7.09e+04   -4740.550\n",
      "==============================================================================\n",
      "Omnibus:                        1.326   Durbin-Watson:                   3.052\n",
      "Prob(Omnibus):                  0.515   Jarque-Bera (JB):                0.884\n",
      "Skew:                          -0.251   Prob(JB):                        0.643\n",
      "Kurtosis:                       1.922   Cond. No.                     6.63e+05\n",
      "==============================================================================\n",
      "\n",
      "Warnings:\n",
      "[1] Standard Errors assume that the covariance matrix of the errors is correctly specified.\n",
      "[2] The smallest eigenvalue is 3.41e-11. This might indicate that there are\n",
      "strong multicollinearity problems or that the design matrix is singular.\n"
     ]
    },
    {
     "name": "stderr",
     "output_type": "stream",
     "text": [
      "/opt/conda/lib/python3.8/site-packages/scipy/stats/stats.py:1541: UserWarning: kurtosistest only valid for n>=20 ... continuing anyway, n=15\n",
      "  warnings.warn(\"kurtosistest only valid for n>=20 ... continuing \"\n"
     ]
    }
   ],
   "source": [
    "\n",
    "model1 = sm.OLS(y,x1).fit()\n",
    "print(model1.summary())\n"
   ]
  },
  {
   "cell_type": "code",
   "execution_count": 12,
   "metadata": {},
   "outputs": [
    {
     "name": "stdout",
     "output_type": "stream",
     "text": [
      "                            OLS Regression Results                            \n",
      "==============================================================================\n",
      "Dep. Variable:                     rt   R-squared:                       0.051\n",
      "Model:                            OLS   Adj. R-squared:                 -0.022\n",
      "Method:                 Least Squares   F-statistic:                    0.6952\n",
      "Date:                Sun, 08 Jan 2023   Prob (F-statistic):              0.419\n",
      "Time:                        02:52:32   Log-Likelihood:                 13.512\n",
      "No. Observations:                  15   AIC:                            -23.02\n",
      "Df Residuals:                      13   BIC:                            -21.61\n",
      "Df Model:                           1                                         \n",
      "Covariance Type:            nonrobust                                         \n",
      "==============================================================================\n",
      "                 coef    std err          t      P>|t|      [0.025      0.975]\n",
      "------------------------------------------------------------------------------\n",
      "const          0.3705      0.091      4.056      0.001       0.173       0.568\n",
      "cpp_peak    1.322e+04   1.59e+04      0.834      0.419    -2.1e+04    4.75e+04\n",
      "==============================================================================\n",
      "Omnibus:                        0.548   Durbin-Watson:                   2.929\n",
      "Prob(Omnibus):                  0.760   Jarque-Bera (JB):                0.512\n",
      "Skew:                           0.368   Prob(JB):                        0.774\n",
      "Kurtosis:                       2.473   Cond. No.                     5.82e+05\n",
      "==============================================================================\n",
      "\n",
      "Warnings:\n",
      "[1] Standard Errors assume that the covariance matrix of the errors is correctly specified.\n",
      "[2] The smallest eigenvalue is 4.43e-11. This might indicate that there are\n",
      "strong multicollinearity problems or that the design matrix is singular.\n"
     ]
    }
   ],
   "source": [
    "\n",
    "model2 = sm.OLS(y,x2).fit()\n",
    "print(model2.summary())\n"
   ]
  },
  {
   "cell_type": "code",
   "execution_count": 13,
   "metadata": {},
   "outputs": [
    {
     "name": "stdout",
     "output_type": "stream",
     "text": [
      "                            OLS Regression Results                            \n",
      "==============================================================================\n",
      "Dep. Variable:                     rt   R-squared:                       0.498\n",
      "Model:                            OLS   Adj. R-squared:                  0.459\n",
      "Method:                 Least Squares   F-statistic:                     12.88\n",
      "Date:                Sun, 08 Jan 2023   Prob (F-statistic):            0.00330\n",
      "Time:                        02:52:32   Log-Likelihood:                 18.286\n",
      "No. Observations:                  15   AIC:                            -32.57\n",
      "Df Residuals:                      13   BIC:                            -31.16\n",
      "Df Model:                           1                                         \n",
      "Covariance Type:            nonrobust                                         \n",
      "==============================================================================\n",
      "                 coef    std err          t      P>|t|      [0.025      0.975]\n",
      "------------------------------------------------------------------------------\n",
      "const          0.5323      0.032     16.750      0.000       0.464       0.601\n",
      "cpp_slope  -7248.1883   2019.267     -3.590      0.003   -1.16e+04   -2885.827\n",
      "==============================================================================\n",
      "Omnibus:                        2.737   Durbin-Watson:                   2.819\n",
      "Prob(Omnibus):                  0.255   Jarque-Bera (JB):                1.117\n",
      "Skew:                          -0.145   Prob(JB):                        0.572\n",
      "Kurtosis:                       1.695   Cond. No.                     1.02e+05\n",
      "==============================================================================\n",
      "\n",
      "Warnings:\n",
      "[1] Standard Errors assume that the covariance matrix of the errors is correctly specified.\n",
      "[2] The condition number is large, 1.02e+05. This might indicate that there are\n",
      "strong multicollinearity or other numerical problems.\n"
     ]
    }
   ],
   "source": [
    "\n",
    "model3 = sm.OLS(y,x3).fit()\n",
    "print(model3.summary())\n"
   ]
  },
  {
   "cell_type": "code",
   "execution_count": 14,
   "metadata": {},
   "outputs": [
    {
     "data": {
      "image/png": "[encoded data removed]",
      "text/plain": [
       "<Figure size 432x288 with 1 Axes>"
      ]
     },
     "metadata": {
      "needs_background": "light"
     },
     "output_type": "display_data"
    },
    {
     "data": {
      "image/png": "[encoded data removed]",
      "text/plain": [
       "<Figure size 432x288 with 1 Axes>"
      ]
     },
     "metadata": {
      "needs_background": "light"
     },
     "output_type": "display_data"
    },
    {
     "data": {
      "image/png": "[encoded data removed]",
      "text/plain": [
       "<Figure size 432x288 with 1 Axes>"
      ]
     },
     "metadata": {
      "needs_background": "light"
     },
     "output_type": "display_data"
    }
   ],
   "source": [
    "\n",
    "predict1 = model1.predict()\n",
    "plt.scatter(x1['cpp_amplitude'],y,label='true')\n",
    "plt.plot(x1['cpp_amplitude'],predict1,label='fake',color='red')\n",
    "plt.legend()\n",
    "plt.show()\n",
    "\n",
    "predict2 = model2.predict()\n",
    "plt.scatter(x2['cpp_peak'],y,label='true')\n",
    "plt.plot(x2['cpp_peak'],predict2,label='fake',color='red')\n",
    "plt.legend()\n",
    "plt.show()\n",
    "\n",
    "predict3 = model3.predict()\n",
    "plt.scatter(x3['cpp_slope'],y,label='true')\n",
    "plt.plot(x3['cpp_slope'],predict3,label='fake',color='red')\n",
    "plt.legend()\n",
    "plt.show()"
   ]
  },
  {
   "cell_type": "code",
   "execution_count": 15,
   "metadata": {},
   "outputs": [],
   "source": [
    "stdsc=StandardScaler()\n",
    "\n",
    "\n",
    "y = data[['subj_idx','rt']].groupby('subj_idx').mean()\n",
    "y = stdsc.fit_transform(y)\n",
    "\n",
    "x1 = data[['subj_idx','cpp_amplitude']].groupby('subj_idx').mean()\n",
    "x1 = stdsc.fit_transform(x1)\n",
    "x1 = sm.add_constant(x1)\n",
    "\n",
    "x2 = data[['subj_idx','cpp_peak']].groupby('subj_idx').mean()\n",
    "x2 = stdsc.fit_transform(x2)\n",
    "x2 = sm.add_constant(x2)\n",
    "\n",
    "x3 = data[['subj_idx','cpp_slope']].groupby('subj_idx').mean()\n",
    "x3 = stdsc.fit_transform(x3)\n",
    "x3 = sm.add_constant(x3)\n"
   ]
  },
  {
   "cell_type": "code",
   "execution_count": 16,
   "metadata": {},
   "outputs": [
    {
     "name": "stdout",
     "output_type": "stream",
     "text": [
      "                            OLS Regression Results                            \n",
      "==============================================================================\n",
      "Dep. Variable:                      y   R-squared:                       0.319\n",
      "Model:                            OLS   Adj. R-squared:                  0.267\n",
      "Method:                 Least Squares   F-statistic:                     6.101\n",
      "Date:                Sun, 08 Jan 2023   Prob (F-statistic):             0.0281\n",
      "Time:                        02:52:33   Log-Likelihood:                -18.398\n",
      "No. Observations:                  15   AIC:                             40.80\n",
      "Df Residuals:                      13   BIC:                             42.21\n",
      "Df Model:                           1                                         \n",
      "Covariance Type:            nonrobust                                         \n",
      "==============================================================================\n",
      "                 coef    std err          t      P>|t|      [0.025      0.975]\n",
      "------------------------------------------------------------------------------\n",
      "const       1.665e-16      0.229   7.28e-16      1.000      -0.494       0.494\n",
      "x1            -0.5651      0.229     -2.470      0.028      -1.059      -0.071\n",
      "==============================================================================\n",
      "Omnibus:                        1.326   Durbin-Watson:                   3.052\n",
      "Prob(Omnibus):                  0.515   Jarque-Bera (JB):                0.884\n",
      "Skew:                          -0.251   Prob(JB):                        0.643\n",
      "Kurtosis:                       1.922   Cond. No.                         1.00\n",
      "==============================================================================\n",
      "\n",
      "Warnings:\n",
      "[1] Standard Errors assume that the covariance matrix of the errors is correctly specified.\n"
     ]
    },
    {
     "name": "stderr",
     "output_type": "stream",
     "text": [
      "/opt/conda/lib/python3.8/site-packages/scipy/stats/stats.py:1541: UserWarning: kurtosistest only valid for n>=20 ... continuing anyway, n=15\n",
      "  warnings.warn(\"kurtosistest only valid for n>=20 ... continuing \"\n"
     ]
    }
   ],
   "source": [
    "\n",
    "model1 = sm.OLS(y,x1).fit()\n",
    "print(model1.summary())\n"
   ]
  },
  {
   "cell_type": "code",
   "execution_count": 17,
   "metadata": {},
   "outputs": [
    {
     "name": "stdout",
     "output_type": "stream",
     "text": [
      "                            OLS Regression Results                            \n",
      "==============================================================================\n",
      "Dep. Variable:                      y   R-squared:                       0.051\n",
      "Model:                            OLS   Adj. R-squared:                 -0.022\n",
      "Method:                 Least Squares   F-statistic:                    0.6952\n",
      "Date:                Sun, 08 Jan 2023   Prob (F-statistic):              0.419\n",
      "Time:                        02:52:33   Log-Likelihood:                -20.893\n",
      "No. Observations:                  15   AIC:                             45.79\n",
      "Df Residuals:                      13   BIC:                             47.20\n",
      "Df Model:                           1                                         \n",
      "Covariance Type:            nonrobust                                         \n",
      "==============================================================================\n",
      "                 coef    std err          t      P>|t|      [0.025      0.975]\n",
      "------------------------------------------------------------------------------\n",
      "const       1.665e-16      0.270   6.16e-16      1.000      -0.584       0.584\n",
      "x1             0.2253      0.270      0.834      0.419      -0.358       0.809\n",
      "==============================================================================\n",
      "Omnibus:                        0.548   Durbin-Watson:                   2.929\n",
      "Prob(Omnibus):                  0.760   Jarque-Bera (JB):                0.512\n",
      "Skew:                           0.368   Prob(JB):                        0.774\n",
      "Kurtosis:                       2.473   Cond. No.                         1.00\n",
      "==============================================================================\n",
      "\n",
      "Warnings:\n",
      "[1] Standard Errors assume that the covariance matrix of the errors is correctly specified.\n"
     ]
    }
   ],
   "source": [
    "\n",
    "model2 = sm.OLS(y,x2).fit()\n",
    "print(model2.summary())\n"
   ]
  },
  {
   "cell_type": "code",
   "execution_count": 18,
   "metadata": {},
   "outputs": [
    {
     "name": "stdout",
     "output_type": "stream",
     "text": [
      "                            OLS Regression Results                            \n",
      "==============================================================================\n",
      "Dep. Variable:                      y   R-squared:                       0.498\n",
      "Model:                            OLS   Adj. R-squared:                  0.459\n",
      "Method:                 Least Squares   F-statistic:                     12.88\n",
      "Date:                Sun, 08 Jan 2023   Prob (F-statistic):            0.00330\n",
      "Time:                        02:52:33   Log-Likelihood:                -16.119\n",
      "No. Observations:                  15   AIC:                             36.24\n",
      "Df Residuals:                      13   BIC:                             37.65\n",
      "Df Model:                           1                                         \n",
      "Covariance Type:            nonrobust                                         \n",
      "==============================================================================\n",
      "                 coef    std err          t      P>|t|      [0.025      0.975]\n",
      "------------------------------------------------------------------------------\n",
      "const       1.665e-16      0.197   8.47e-16      1.000      -0.425       0.425\n",
      "x1            -0.7055      0.197     -3.590      0.003      -1.130      -0.281\n",
      "==============================================================================\n",
      "Omnibus:                        2.737   Durbin-Watson:                   2.819\n",
      "Prob(Omnibus):                  0.255   Jarque-Bera (JB):                1.117\n",
      "Skew:                          -0.145   Prob(JB):                        0.572\n",
      "Kurtosis:                       1.695   Cond. No.                         1.00\n",
      "==============================================================================\n",
      "\n",
      "Warnings:\n",
      "[1] Standard Errors assume that the covariance matrix of the errors is correctly specified.\n"
     ]
    }
   ],
   "source": [
    "\n",
    "model3 = sm.OLS(y,x3).fit()\n",
    "print(model3.summary())\n"
   ]
  },
  {
   "cell_type": "code",
   "execution_count": 19,
   "metadata": {},
   "outputs": [
    {
     "data": {
      "image/png": "[encoded data removed]",
      "text/plain": [
       "<Figure size 432x288 with 1 Axes>"
      ]
     },
     "metadata": {
      "needs_background": "light"
     },
     "output_type": "display_data"
    },
    {
     "data": {
      "image/png": "[encoded data removed]",
      "text/plain": [
       "<Figure size 432x288 with 1 Axes>"
      ]
     },
     "metadata": {
      "needs_background": "light"
     },
     "output_type": "display_data"
    },
    {
     "data": {
      "image/png": "[encoded data removed]",
      "text/plain": [
       "<Figure size 432x288 with 1 Axes>"
      ]
     },
     "metadata": {
      "needs_background": "light"
     },
     "output_type": "display_data"
    }
   ],
   "source": [
    "\n",
    "predict1 = model1.predict()\n",
    "plt.scatter(x1[:,1],y,label='true')\n",
    "plt.plot(x1[:,1],predict1,label='fake',color='red')\n",
    "plt.legend()\n",
    "plt.show()\n",
    "\n",
    "predict2 = model2.predict()\n",
    "plt.scatter(x2[:,1],y,label='true')\n",
    "plt.plot(x2[:,1],predict2,label='fake',color='red')\n",
    "plt.legend()\n",
    "plt.show()\n",
    "\n",
    "predict3 = model3.predict()\n",
    "plt.scatter(x3[:,1],y,label='true')\n",
    "plt.plot(x3[:,1],predict3,label='fake',color='red')\n",
    "plt.legend()\n",
    "plt.show()"
   ]
  },
  {
   "cell_type": "code",
   "execution_count": 21,
   "metadata": {},
   "outputs": [
    {
     "ename": "TypeError",
     "evalue": "No loop matching the specified signature and casting was found for ufunc add",
     "output_type": "error",
     "traceback": [
      "\u001b[0;31m---------------------------------------------------------------------------\u001b[0m",
      "\u001b[0;31mTypeError\u001b[0m                                 Traceback (most recent call last)",
      "\u001b[0;32m<ipython-input-21-0227ae909633>\u001b[0m in \u001b[0;36m<module>\u001b[0;34m\u001b[0m\n\u001b[0;32m----> 1\u001b[0;31m \u001b[0mpearsonr\u001b[0m\u001b[0;34m(\u001b[0m\u001b[0mx1\u001b[0m\u001b[0;34m[\u001b[0m\u001b[0;34m:\u001b[0m\u001b[0;34m,\u001b[0m\u001b[0;36m1\u001b[0m\u001b[0;34m]\u001b[0m\u001b[0;34m,\u001b[0m\u001b[0my\u001b[0m\u001b[0;34m)\u001b[0m\u001b[0;34m\u001b[0m\u001b[0;34m\u001b[0m\u001b[0m\n\u001b[0m\u001b[1;32m      2\u001b[0m \u001b[0mpearsonr\u001b[0m\u001b[0;34m(\u001b[0m\u001b[0mx2\u001b[0m\u001b[0;34m[\u001b[0m\u001b[0;34m:\u001b[0m\u001b[0;34m,\u001b[0m\u001b[0;36m1\u001b[0m\u001b[0;34m]\u001b[0m\u001b[0;34m,\u001b[0m\u001b[0my\u001b[0m\u001b[0;34m)\u001b[0m\u001b[0;34m\u001b[0m\u001b[0;34m\u001b[0m\u001b[0m\n\u001b[1;32m      3\u001b[0m \u001b[0mpearsonr\u001b[0m\u001b[0;34m(\u001b[0m\u001b[0mx3\u001b[0m\u001b[0;34m[\u001b[0m\u001b[0;34m:\u001b[0m\u001b[0;34m,\u001b[0m\u001b[0;36m1\u001b[0m\u001b[0;34m]\u001b[0m\u001b[0;34m,\u001b[0m\u001b[0my\u001b[0m\u001b[0;34m)\u001b[0m\u001b[0;34m\u001b[0m\u001b[0;34m\u001b[0m\u001b[0m\n",
      "\u001b[0;32m/opt/conda/lib/python3.8/site-packages/scipy/stats/stats.py\u001b[0m in \u001b[0;36mpearsonr\u001b[0;34m(x, y)\u001b[0m\n\u001b[1;32m   4032\u001b[0m         \u001b[0;32mreturn\u001b[0m \u001b[0mdtype\u001b[0m\u001b[0;34m(\u001b[0m\u001b[0mnp\u001b[0m\u001b[0;34m.\u001b[0m\u001b[0msign\u001b[0m\u001b[0;34m(\u001b[0m\u001b[0mx\u001b[0m\u001b[0;34m[\u001b[0m\u001b[0;36m1\u001b[0m\u001b[0;34m]\u001b[0m \u001b[0;34m-\u001b[0m \u001b[0mx\u001b[0m\u001b[0;34m[\u001b[0m\u001b[0;36m0\u001b[0m\u001b[0;34m]\u001b[0m\u001b[0;34m)\u001b[0m\u001b[0;34m*\u001b[0m\u001b[0mnp\u001b[0m\u001b[0;34m.\u001b[0m\u001b[0msign\u001b[0m\u001b[0;34m(\u001b[0m\u001b[0my\u001b[0m\u001b[0;34m[\u001b[0m\u001b[0;36m1\u001b[0m\u001b[0;34m]\u001b[0m \u001b[0;34m-\u001b[0m \u001b[0my\u001b[0m\u001b[0;34m[\u001b[0m\u001b[0;36m0\u001b[0m\u001b[0;34m]\u001b[0m\u001b[0;34m)\u001b[0m\u001b[0;34m)\u001b[0m\u001b[0;34m,\u001b[0m \u001b[0;36m1.0\u001b[0m\u001b[0;34m\u001b[0m\u001b[0;34m\u001b[0m\u001b[0m\n\u001b[1;32m   4033\u001b[0m \u001b[0;34m\u001b[0m\u001b[0m\n\u001b[0;32m-> 4034\u001b[0;31m     \u001b[0mxmean\u001b[0m \u001b[0;34m=\u001b[0m \u001b[0mx\u001b[0m\u001b[0;34m.\u001b[0m\u001b[0mmean\u001b[0m\u001b[0;34m(\u001b[0m\u001b[0mdtype\u001b[0m\u001b[0;34m=\u001b[0m\u001b[0mdtype\u001b[0m\u001b[0;34m)\u001b[0m\u001b[0;34m\u001b[0m\u001b[0;34m\u001b[0m\u001b[0m\n\u001b[0m\u001b[1;32m   4035\u001b[0m     \u001b[0mymean\u001b[0m \u001b[0;34m=\u001b[0m \u001b[0my\u001b[0m\u001b[0;34m.\u001b[0m\u001b[0mmean\u001b[0m\u001b[0;34m(\u001b[0m\u001b[0mdtype\u001b[0m\u001b[0;34m=\u001b[0m\u001b[0mdtype\u001b[0m\u001b[0;34m)\u001b[0m\u001b[0;34m\u001b[0m\u001b[0;34m\u001b[0m\u001b[0m\n\u001b[1;32m   4036\u001b[0m \u001b[0;34m\u001b[0m\u001b[0m\n",
      "\u001b[0;32m/opt/conda/lib/python3.8/site-packages/numpy/core/_methods.py\u001b[0m in \u001b[0;36m_mean\u001b[0;34m(a, axis, dtype, out, keepdims, where)\u001b[0m\n\u001b[1;32m    176\u001b[0m             \u001b[0mis_float16_result\u001b[0m \u001b[0;34m=\u001b[0m \u001b[0;32mTrue\u001b[0m\u001b[0;34m\u001b[0m\u001b[0;34m\u001b[0m\u001b[0m\n\u001b[1;32m    177\u001b[0m \u001b[0;34m\u001b[0m\u001b[0m\n\u001b[0;32m--> 178\u001b[0;31m     \u001b[0mret\u001b[0m \u001b[0;34m=\u001b[0m \u001b[0mumr_sum\u001b[0m\u001b[0;34m(\u001b[0m\u001b[0marr\u001b[0m\u001b[0;34m,\u001b[0m \u001b[0maxis\u001b[0m\u001b[0;34m,\u001b[0m \u001b[0mdtype\u001b[0m\u001b[0;34m,\u001b[0m \u001b[0mout\u001b[0m\u001b[0;34m,\u001b[0m \u001b[0mkeepdims\u001b[0m\u001b[0;34m,\u001b[0m \u001b[0mwhere\u001b[0m\u001b[0;34m=\u001b[0m\u001b[0mwhere\u001b[0m\u001b[0;34m)\u001b[0m\u001b[0;34m\u001b[0m\u001b[0;34m\u001b[0m\u001b[0m\n\u001b[0m\u001b[1;32m    179\u001b[0m     \u001b[0;32mif\u001b[0m \u001b[0misinstance\u001b[0m\u001b[0;34m(\u001b[0m\u001b[0mret\u001b[0m\u001b[0;34m,\u001b[0m \u001b[0mmu\u001b[0m\u001b[0;34m.\u001b[0m\u001b[0mndarray\u001b[0m\u001b[0;34m)\u001b[0m\u001b[0;34m:\u001b[0m\u001b[0;34m\u001b[0m\u001b[0;34m\u001b[0m\u001b[0m\n\u001b[1;32m    180\u001b[0m         ret = um.true_divide(\n",
      "\u001b[0;31mTypeError\u001b[0m: No loop matching the specified signature and casting was found for ufunc add"
     ]
    }
   ],
   "source": [
    "pearsonr(x1[:,1],y)\n",
    "pearsonr(x2[:,1],y)\n",
    "pearsonr(x3[:,1],y)"
   ]
  },
  {
   "cell_type": "code",
   "execution_count": null,
   "metadata": {},
   "outputs": [],
   "source": []
  },
  {
   "cell_type": "code",
   "execution_count": null,
   "metadata": {},
   "outputs": [],
   "source": []
  },
  {
   "cell_type": "code",
   "execution_count": null,
   "metadata": {},
   "outputs": [],
   "source": []
  },
  {
   "cell_type": "code",
   "execution_count": null,
   "metadata": {},
   "outputs": [],
   "source": []
  },
  {
   "cell_type": "code",
   "execution_count": null,
   "metadata": {},
   "outputs": [],
   "source": []
  },
  {
   "cell_type": "code",
   "execution_count": null,
   "metadata": {},
   "outputs": [],
   "source": []
  }
 ],
 "metadata": {
  "kernelspec": {
   "display_name": "Python 3",
   "language": "python",
   "name": "python3"
  },
  "language_info": {
   "codemirror_mode": {
    "name": "ipython",
    "version": 3
   },
   "file_extension": ".py",
   "mimetype": "text/x-python",
   "name": "python",
   "nbconvert_exporter": "python",
   "pygments_lexer": "ipython3",
   "version": "3.8.8"
  },
  "vscode": {
   "interpreter": {
    "hash": "d5fed6290efc5d26a7c054ee8a9f4b7693cbe9d3a9d7dbef6ddee14f9c8c4a5b"
   }
  }
 },
 "nbformat": 4,
 "nbformat_minor": 4
}
