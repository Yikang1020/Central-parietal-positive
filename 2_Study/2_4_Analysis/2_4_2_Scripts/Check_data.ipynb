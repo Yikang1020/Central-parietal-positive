{
 "cells": [
  {
   "cell_type": "code",
   "execution_count": 1,
   "id": "c37c5046-4a0b-4fd1-bacd-40cb07969643",
   "metadata": {},
   "outputs": [
    {
     "name": "stderr",
     "output_type": "stream",
     "text": [
      "/opt/conda/lib/python3.8/site-packages/IPython/parallel.py:12: ShimWarning: The `IPython.parallel` package has been deprecated since IPython 4.0. You should import from ipyparallel instead.\n",
      "  warn(\"The `IPython.parallel` package has been deprecated since IPython 4.0. \"\n"
     ]
    }
   ],
   "source": [
    "import kabuki\n",
    "import os\n",
    "import hddm\n",
    "import matplotlib.pyplot as plt\n",
    "import pickle\n",
    "from joblib import Parallel,delayed\n",
    "from glob import glob\n",
    "from kabuki.analyze import gelman_rubin\n",
    "import arviz\n",
    "import numpy as np\n",
    "from patsy import dmatrix \n",
    "\n",
    "\n",
    "from sklearn.preprocessing import StandardScaler"
   ]
  },
  {
   "cell_type": "code",
   "execution_count": null,
   "id": "b03c544e-2c51-480f-9a7c-8c2951abac7c",
   "metadata": {},
   "outputs": [],
   "source": [
    "# load data\n",
    "data = hddm.load_csv('./data.csv')\n",
    "\n",
    "# stimulus onset time is 200, we should add it.\n",
    "data['rt']=data['rt']+0.2\n",
    "data.loc[(data['response']==1)&(data['stimulus']=='face'),'_response'] = 0 #face\n",
    "data.loc[(data['response']==1)&(data['stimulus']=='car'),'_response'] = 1 #car\n",
    "data.loc[(data['response']==0)&(data['stimulus']=='face'),'_response'] = 1\n",
    "data.loc[(data['response']==0)&(data['stimulus']=='car'),'_response'] = 0\n",
    "# rt of correct time should be positive, and rt of incorrect time should be negative.\n",
    "df = data\n",
    "df['response'] = df['_response']\n",
    "df = hddm.utils.flip_errors(df)\n",
    "\n",
    "# normalise the cpp signal\n",
    "df['cpp_slope']=StandardScaler().fit_transform(df['cpp_slope'].to_numpy().reshape(-1,1))\n",
    "df['cpp_amplitude']=StandardScaler().fit_transform(df['cpp_amplitude'].to_numpy().reshape(-1,1))\n",
    "df['cpp_peak']=StandardScaler().fit_transform(df['cpp_peak'].to_numpy().reshape(-1,1))"
   ]
  },
  {
   "cell_type": "code",
   "execution_count": 4,
   "id": "b80d219c-1750-467e-9941-cc2ddd6f302e",
   "metadata": {},
   "outputs": [
    {
     "ename": "NameError",
     "evalue": "name 'data' is not defined",
     "output_type": "error",
     "traceback": [
      "\u001b[0;31m---------------------------------------------------------------------------\u001b[0m",
      "\u001b[0;31mNameError\u001b[0m                                 Traceback (most recent call last)",
      "\u001b[0;32m<ipython-input-4-6422cc8a843e>\u001b[0m in \u001b[0;36m<module>\u001b[0;34m\u001b[0m\n\u001b[1;32m      1\u001b[0m \u001b[0;31m# link function for stimulus, one stimulus should be coded 0, another should be coded 1\u001b[0m\u001b[0;34m\u001b[0m\u001b[0;34m\u001b[0m\u001b[0;34m\u001b[0m\u001b[0m\n\u001b[0;32m----> 2\u001b[0;31m \u001b[0;32mdef\u001b[0m \u001b[0mz_link_func\u001b[0m\u001b[0;34m(\u001b[0m\u001b[0mx\u001b[0m\u001b[0;34m,\u001b[0m \u001b[0mdata\u001b[0m\u001b[0;34m=\u001b[0m\u001b[0mdata\u001b[0m\u001b[0;34m)\u001b[0m\u001b[0;34m:\u001b[0m\u001b[0;34m\u001b[0m\u001b[0;34m\u001b[0m\u001b[0m\n\u001b[0m\u001b[1;32m      3\u001b[0m         stim = (np.asarray(dmatrix('0 + C(s, [[0], [1]])',\n\u001b[1;32m      4\u001b[0m                                   {'s': data.stimulus.loc[x.index]},return_type='dataframe'))\n\u001b[1;32m      5\u001b[0m         )\n",
      "\u001b[0;31mNameError\u001b[0m: name 'data' is not defined"
     ]
    }
   ],
   "source": [
    "# link function for stimulus, one stimulus should be coded 0, another should be coded 1\n",
    "def z_link_func(x, data=data):\n",
    "        stim = (np.asarray(dmatrix('0 + C(s, [[0], [1]])',\n",
    "                                  {'s': data.stimulus.loc[x.index]},return_type='dataframe'))\n",
    "        )\n",
    "        # Apply z = (1 - x) to flip them along 0.5\n",
    "        z_flip = np.subtract(stim, x.to_frame())\n",
    "        # The above inverts those values we do not want to flip,\n",
    "        # so invert them back\n",
    "        z_flip[stim == 0] *= -1\n",
    "        return z_flip\n"
   ]
  },
  {
   "cell_type": "code",
   "execution_count": 3,
   "id": "e90b09e9-2e94-4548-8a4e-04801387ea4f",
   "metadata": {},
   "outputs": [
    {
     "ename": "NameError",
     "evalue": "name 'data' is not defined",
     "output_type": "error",
     "traceback": [
      "\u001b[0;31m---------------------------------------------------------------------------\u001b[0m",
      "\u001b[0;31mNameError\u001b[0m                                 Traceback (most recent call last)",
      "\u001b[0;32m<ipython-input-3-0cf8492aec77>\u001b[0m in \u001b[0;36m<module>\u001b[0;34m\u001b[0m\n\u001b[0;32m----> 1\u001b[0;31m \u001b[0;32mdef\u001b[0m \u001b[0mv_link_func\u001b[0m\u001b[0;34m(\u001b[0m\u001b[0mx\u001b[0m\u001b[0;34m,\u001b[0m \u001b[0mdata\u001b[0m\u001b[0;34m=\u001b[0m\u001b[0mdata\u001b[0m\u001b[0;34m)\u001b[0m\u001b[0;34m:\u001b[0m\u001b[0;34m\u001b[0m\u001b[0;34m\u001b[0m\u001b[0m\n\u001b[0m\u001b[1;32m      2\u001b[0m     \u001b[0mstim\u001b[0m \u001b[0;34m=\u001b[0m \u001b[0;34m(\u001b[0m\u001b[0mnp\u001b[0m\u001b[0;34m.\u001b[0m\u001b[0masarray\u001b[0m\u001b[0;34m(\u001b[0m\u001b[0mdmatrix\u001b[0m\u001b[0;34m(\u001b[0m\u001b[0;34m'0 + C(s,[[1],[-1]])'\u001b[0m\u001b[0;34m,\u001b[0m \u001b[0;34m{\u001b[0m\u001b[0;34m's'\u001b[0m\u001b[0;34m:\u001b[0m\u001b[0mdata\u001b[0m\u001b[0;34m.\u001b[0m\u001b[0mstimulus\u001b[0m\u001b[0;34m.\u001b[0m\u001b[0mioc\u001b[0m\u001b[0;34m[\u001b[0m\u001b[0mx\u001b[0m\u001b[0;34m.\u001b[0m\u001b[0mindex\u001b[0m\u001b[0;34m]\u001b[0m\u001b[0;34m}\u001b[0m\u001b[0;34m)\u001b[0m\u001b[0;34m)\u001b[0m\u001b[0;34m)\u001b[0m\u001b[0;34m\u001b[0m\u001b[0;34m\u001b[0m\u001b[0m\n\u001b[1;32m      3\u001b[0m     \u001b[0;32mreturn\u001b[0m \u001b[0mx\u001b[0m \u001b[0;34m*\u001b[0m \u001b[0mstim\u001b[0m\u001b[0;34m\u001b[0m\u001b[0;34m\u001b[0m\u001b[0m\n",
      "\u001b[0;31mNameError\u001b[0m: name 'data' is not defined"
     ]
    }
   ],
   "source": [
    "def v_link_func(x, data=data):\n",
    "    stim = (np.asarray(dmatrix('0 + C(s,[[1],[-1]])', {'s':data.stimulus.ioc[x.index]})))\n",
    "    return x * stim"
   ]
  },
  {
   "cell_type": "code",
   "execution_count": null,
   "id": "0d172823-6622-48ad-b91f-5edabebf33bf",
   "metadata": {},
   "outputs": [],
   "source": [
    "# plot for checking the rt distribution of two response\n",
    "fig = plt.figure()\n",
    "\n",
    "ax = fig.add_subplot(111, xlabel='RT', ylabel='count', title='RT distributions')\n",
    "\n",
    "for i, subj_data in df.groupby('subj_idx'):\n",
    "\n",
    "    subj_data.rt.hist(bins=20, histtype='step', ax=ax)"
   ]
  }
 ],
 "metadata": {
  "kernelspec": {
   "display_name": "Python 3",
   "language": "python",
   "name": "python3"
  },
  "language_info": {
   "codemirror_mode": {
    "name": "ipython",
    "version": 3
   },
   "file_extension": ".py",
   "mimetype": "text/x-python",
   "name": "python",
   "nbconvert_exporter": "python",
   "pygments_lexer": "ipython3",
   "version": "3.8.8"
  }
 },
 "nbformat": 4,
 "nbformat_minor": 5
}
