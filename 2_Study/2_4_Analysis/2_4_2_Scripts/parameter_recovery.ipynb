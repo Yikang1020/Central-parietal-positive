{
 "cells": [
  {
   "cell_type": "code",
   "execution_count": null,
   "metadata": {
    "collapsed": false,
    "id": "D672A6DA22044421924584DCEFE45A4F",
    "jupyter": {
     "outputs_hidden": false
    },
    "notebookId": "6392e9feeb9be0e01d1c1e50",
    "slideshow": {
     "slide_type": "slide"
    },
    "tags": []
   },
   "outputs": [],
   "source": [
    "# hddm\n",
    "import hddm\n",
    "import kabuki\n",
    "import pymc\n",
    "\n",
    "# design matrix\n",
    "from patsy import dmatrix\n",
    "\n",
    "# data analysis\n",
    "import pandas as pd\n",
    "import numpy as np\n",
    "\n",
    "# plot\n",
    "import seaborn as sns\n",
    "import matplotlib.pyplot as plt\n",
    "\n",
    "# parallel computation\n",
    "from joblib import Parallel, delayed\n",
    "\n",
    "# rmANOVA\n",
    "from statsmodels.stats.anova import AnovaRM\n",
    "\n",
    "import os,sys"
   ]
  },
  {
   "cell_type": "code",
   "execution_count": null,
   "metadata": {
    "collapsed": false,
    "id": "4FF21F96477543588D9C77A50C2F312F",
    "jupyter": {
     "outputs_hidden": false
    },
    "notebookId": "6392e9feeb9be0e01d1c1e50",
    "slideshow": {
     "slide_type": "slide"
    },
    "tags": []
   },
   "outputs": [],
   "source": [
    "print('The current HDDM version is', hddm.__version__) # 0.8.0\n",
    "print('The current Kabuki version is', kabuki.__version__) # 0.6.3\n",
    "print('The current PyMC version is', pymc.__version__) # 2.3.8\n",
    "print('The current Numpy version is', np.__version__) \n",
    "print('The current Pandas version is', pd.__version__)\n",
    "print('The current seaborn version is', sns.__version__)"
   ]
  },
  {
   "cell_type": "markdown",
   "metadata": {
    "id": "AFDB1F953905448482FCCF53D0E88DEA",
    "jupyter": {},
    "notebookId": "6392e9feeb9be0e01d1c1e50",
    "slideshow": {
     "slide_type": "slide"
    },
    "tags": []
   },
   "source": [
    "# Experiment Design"
   ]
  },
  {
   "cell_type": "markdown",
   "metadata": {
    "id": "35A2B54BF3564FACB0093AD7B8D2E57C",
    "jupyter": {},
    "notebookId": "6392e9feeb9be0e01d1c1e50",
    "slideshow": {
     "slide_type": "slide"
    },
    "tags": []
   },
   "source": [
    "It is a car-face discrimination task in a 2* 2  factorial within-subject design. \n",
    "\n",
    "Experimental factors **\"stimulus coherence”(with level \"low\" and \"high\")** and **\"spatial prioritization\"(with level \"yes\" and \"no\")**.\n",
    "\n",
    "Experimental manipulation has four levels:\n",
    "\n",
    "\n",
    "\n",
    "\n",
    "|level|coherence|prioritization|\n",
    "| -------- | -------- | -------- |\n",
    "|1|high|yes|\n",
    "|2|high|no|\n",
    "|3|low|yes|\n",
    "|4|low|no|"
   ]
  },
  {
   "cell_type": "markdown",
   "metadata": {
    "id": "BAFFE1EB2BEF4EEE922D153A62B22D46",
    "jupyter": {},
    "notebookId": "6392e9feeb9be0e01d1c1e50",
    "slideshow": {
     "slide_type": "slide"
    },
    "tags": []
   },
   "source": [
    "\n",
    "![Image Name](https://cdn.kesci.com/upload/image/rmm71hlded.png?imageView2/0/w/960/h/960)\n"
   ]
  },
  {
   "cell_type": "markdown",
   "metadata": {
    "id": "A4C810E52BBB436FAECC804DA84617B3",
    "jupyter": {},
    "notebookId": "6392e9feeb9be0e01d1c1e50",
    "slideshow": {
     "slide_type": "slide"
    },
    "tags": []
   },
   "source": [
    "we assume that the effect of experimental design is reflected in underlying latent variable. \n",
    "\n",
    "Different levels corresponds to different parameters.\n",
    "\n",
    "For the moment, we assume **phase coherence** can influence **drift rate(v)** and **spatial priotiziation** can influence **initial bias(z)**.\n",
    "\n",
    "Because phase coherence have two levels(high & low) and spatial priotization(yes & no) have two levels, we have four levels together."
   ]
  },
  {
   "cell_type": "markdown",
   "metadata": {},
   "source": [
    "# Situation1"
   ]
  },
  {
   "cell_type": "markdown",
   "metadata": {
    "id": "6D6A885561CB4D658C9A4C1AD935EC83",
    "jupyter": {},
    "notebookId": "6392e9feeb9be0e01d1c1e50",
    "slideshow": {
     "slide_type": "slide"
    },
    "tags": []
   },
   "source": [
    "## Simulate data for the experiment"
   ]
  },
  {
   "cell_type": "markdown",
   "metadata": {},
   "source": [
    "Because we need to code the response according to the stimulus, so we must transform the varibale 'stimulus'.\n",
    "\n",
    "We assume that stimulus influence the parameter 'z'.\n",
    "\n",
    "Due to the response is pressing 'car' or 'face', instead of accuracy coding, we set the stimulus(button press) as the boundaries.\n",
    "\n",
    "So, when there are some bias, one stimulus is ``z``, another is ``1-z``."
   ]
  },
  {
   "cell_type": "code",
   "execution_count": null,
   "metadata": {},
   "outputs": [],
   "source": [
    "# set the random seed\n",
    "np.random.seed(123)\n",
    "\n",
    "# set number of subjects and number of trials per level for the simulated experiment.\n",
    "n_subjects = 20\n",
    "trials_per_level = 72\n",
    "\n",
    "# set up parameters of DDM for four levels of the stimulus face(1).\n",
    "level1_a = {'v':.8, 'a':2, 't':.3, 'z':.8, 'sv':0, 'sz':0, 'st':0}\n",
    "level2_a = {'v':.8, 'a':2, 't':.3, 'z':.5, 'sv':0, 'sz':0, 'st':0}\n",
    "level3_a = {'v':.2, 'a':2, 't':.3, 'z':.8, 'sv':0, 'sz':0, 'st':0}\n",
    "level4_a = {'v':.2, 'a':2, 't':.3, 'z':.5, 'sv':0, 'sz':0, 'st':0}\n",
    "\n",
    "# set up parameters of DDM for four levels of the stimulus car(0).\n",
    "level1_b = {'v':.8, 'a':2, 't':.3, 'z':.2, 'sv':0, 'sz':0, 'st':0}\n",
    "level2_b = {'v':.8, 'a':2, 't':.3, 'z':.5, 'sv':0, 'sz':0, 'st':0}\n",
    "level3_b = {'v':.2, 'a':2, 't':.3, 'z':.2, 'sv':0, 'sz':0, 'st':0}\n",
    "level4_b = {'v':.2, 'a':2, 't':.3, 'z':.5, 'sv':0, 'sz':0, 'st':0}\n",
    "\n",
    "# generate simulated data\n",
    "np.random.seed(123)\n",
    "data_a, params_a = hddm.generate.gen_rand_data({'level1':level1_a,\n",
    "                                             'level2':level2_a,\n",
    "                                             'level3':level3_a,\n",
    "                                             'level4':level4_a},\n",
    "                                             size = trials_per_level,\n",
    "                                             subjs = n_subjects)\n",
    "data_b, params_b = hddm.generate.gen_rand_data({'level1':level1_b,\n",
    "                                             'level2':level2_b,\n",
    "                                             'level3':level3_b,\n",
    "                                             'level4':level4_b},\n",
    "                                             size = trials_per_level,\n",
    "                                             subjs = n_subjects\n",
    ")\n",
    "# add column stimulus\n",
    "data_a['stimulus'] = pd.Series(np.ones((len(data_a))), index=data_a.index)   # face\n",
    "data_b['stimulus'] = pd.Series(np.ones((len(data_b)))*0, index=data_a.index) # car\n",
    "\n",
    "# combine the data from two stimulus\n",
    "data = data_a.append(data_b,ignore_index=True)\n",
    "\n",
    "# add column coherence\n",
    "data.loc[(data['condition']=='level1')|(data['condition']=='level2'),'coherence'] = 1    \n",
    "data.loc[(data['condition']=='level3')|(data['condition']=='level4'),'coherence'] = 0\n",
    "\n",
    "# add column spatial priotiziation\n",
    "data.loc[(data['condition']=='level1')|(data['condition']=='level3'),'attention'] = 1    \n",
    "data.loc[(data['condition']=='level2')|(data['condition']=='level4'),'attention'] = 0"
   ]
  },
  {
   "cell_type": "markdown",
   "metadata": {},
   "source": [
    "## check the data"
   ]
  },
  {
   "cell_type": "code",
   "execution_count": null,
   "metadata": {
    "collapsed": false,
    "id": "697FF0B5B87F4353BB9B106288EAE6BA",
    "jupyter": {
     "outputs_hidden": false
    },
    "notebookId": "6392e9feeb9be0e01d1c1e50",
    "slideshow": {
     "slide_type": "slide"
    },
    "tags": []
   },
   "outputs": [],
   "source": [
    "data"
   ]
  },
  {
   "cell_type": "markdown",
   "metadata": {
    "id": "6500FB686EB4436182D1223A58C0D6EA",
    "jupyter": {},
    "notebookId": "6392e9feeb9be0e01d1c1e50",
    "slideshow": {
     "slide_type": "slide"
    },
    "tags": []
   },
   "source": [
    "we can check how many trials per condition."
   ]
  },
  {
   "cell_type": "code",
   "execution_count": null,
   "metadata": {
    "collapsed": false,
    "id": "678A09B390A94993806F2435202DB6D3",
    "jupyter": {
     "outputs_hidden": false
    },
    "notebookId": "6392e9feeb9be0e01d1c1e50",
    "slideshow": {
     "slide_type": "slide"
    },
    "tags": []
   },
   "outputs": [],
   "source": [
    "data.groupby(['subj_idx','stimulus','condition','coherence','attention']).size()"
   ]
  },
  {
   "cell_type": "code",
   "execution_count": null,
   "metadata": {
    "collapsed": false,
    "id": "5F2B42235F3A49A48207303CED314AF6",
    "jupyter": {
     "outputs_hidden": false
    },
    "notebookId": "6392e9feeb9be0e01d1c1e50",
    "slideshow": {
     "slide_type": "slide"
    },
    "tags": []
   },
   "outputs": [],
   "source": [
    "data.groupby(['stimulus','coherence','attention','response'])['rt'].agg(['size','mean','std']).head(20)"
   ]
  },
  {
   "cell_type": "code",
   "execution_count": null,
   "metadata": {},
   "outputs": [],
   "source": [
    "data.groupby(['response'])['rt'].agg(['size','mean','std'])"
   ]
  },
  {
   "cell_type": "code",
   "execution_count": null,
   "metadata": {},
   "outputs": [],
   "source": [
    "data.groupby(['stimulus','response'])['rt'].agg(['size','mean','std'])"
   ]
  },
  {
   "cell_type": "code",
   "execution_count": null,
   "metadata": {},
   "outputs": [],
   "source": [
    "data.groupby(['coherence','response'])['rt'].agg(['size','mean','std'])"
   ]
  },
  {
   "cell_type": "code",
   "execution_count": null,
   "metadata": {},
   "outputs": [],
   "source": [
    "data.groupby(['attention','response'])['rt'].agg(['size','mean','std'])"
   ]
  },
  {
   "cell_type": "markdown",
   "metadata": {},
   "source": [
    "we can check the effect of the coherence"
   ]
  },
  {
   "cell_type": "code",
   "execution_count": null,
   "metadata": {},
   "outputs": [],
   "source": [
    "data.groupby(['stimulus','coherence','response'])['rt'].agg(['size','mean','std'])"
   ]
  },
  {
   "cell_type": "markdown",
   "metadata": {},
   "source": [
    "Also, we can check the effect of the attention"
   ]
  },
  {
   "cell_type": "code",
   "execution_count": null,
   "metadata": {},
   "outputs": [],
   "source": [
    "data.groupby(['stimulus','attention','response'])['rt'].agg(['size','mean','std'])"
   ]
  },
  {
   "cell_type": "markdown",
   "metadata": {},
   "source": [
    "## anova"
   ]
  },
  {
   "cell_type": "code",
   "execution_count": null,
   "metadata": {},
   "outputs": [],
   "source": [
    "# ANOVA\n",
    "model_aovrm3way = AnovaRM(data,\n",
    "                   'rt',\n",
    "                   'subj_idx',\n",
    "                   within=['coherence','attention','stimulus'],\n",
    "                   aggregate_func='mean')\n",
    "res3way=model_aovrm3way.fit()\n",
    "print(res3way)\n"
   ]
  },
  {
   "cell_type": "code",
   "execution_count": null,
   "metadata": {},
   "outputs": [],
   "source": [
    "# ANOVA\n",
    "model_aovrm3way = AnovaRM(data,\n",
    "                   'response',\n",
    "                   'subj_idx',\n",
    "                   within=['coherence','attention','stimulus'],\n",
    "                   aggregate_func='mean')\n",
    "res3way=model_aovrm3way.fit()\n",
    "print(res3way)"
   ]
  },
  {
   "cell_type": "markdown",
   "metadata": {},
   "source": [
    "The parameter **v** for high coherence is 0.8;\n",
    "\n",
    "the parameter **v** for low coherence is 0.2;\n",
    "\n",
    "the parameter **z** for cue of stimulus 1 is 0.8 and of stimulus 0 is 0.2;\n",
    "\n",
    "the parameter **z** for no cue is 0.5;\n",
    "\n",
    "At the same time, we assume that the response is mapping into two stimulus, car or face."
   ]
  },
  {
   "cell_type": "markdown",
   "metadata": {},
   "source": [
    "### model1 \n",
    "\n",
    "v~coherence,\n",
    "\n",
    "z~prioritization\n",
    "\n",
    "when we fit the data, we will face the ideal situation.\n",
    "\n",
    "$v=\\alpha_0 + \\alpha_1*C(coherence)$\n",
    "\n",
    "$v_{low}=\\alpha_0 = 0.2$\n",
    "\n",
    "$v_{high}=\\alpha_0 + \\alpha_1 = 0.8$\n",
    "\n",
    "\n",
    "$z=\\beta_0 + \\beta_1*C(prioritization)$ + z_link_func\n",
    "\n",
    "stim = 1\n",
    "\n",
    "$z_{no}=1 - \\beta_0 = 0.5$\n",
    "\n",
    "$z_{yes}=1 - (\\beta_0 + \\beta_1) = 0.2$\n",
    "\n",
    "stim = 0\n",
    "\n",
    "$z_{no}=\\beta_0 = 0.5$\n",
    "\n",
    "$z_{yes}=\\beta_0 + \\beta_1 = 0.8$"
   ]
  },
  {
   "cell_type": "markdown",
   "metadata": {},
   "source": [
    "We expect the parameter estimated is:\n",
    "\n",
    "$\\alpha_0 = 0.2, \\alpha_1 = 0.6$\n",
    "\n",
    "$\\beta_0 = 0.5, \\beta_1 = 0.3$"
   ]
  },
  {
   "cell_type": "markdown",
   "metadata": {},
   "source": [
    "### model2\n",
    "\n",
    "if we set $v~C(coherence)*C(prioritization), z~C(coherence)*C(prioritization)$.\n",
    "\n",
    "$v=\\alpha_0 + \\alpha_1*C(coherence) + \\alpha_2*C(prioritization) + \\alpha_3*C(coherence)*C(priorization)$\n",
    "\n",
    "$v_{low,yes}=\\alpha_0 + \\alpha_2 + = 0.2$\n",
    "\n",
    "$v_{high,yes}=\\alpha_0 + \\alpha_1 + \\alpha_2 + \\alpha_3= 0.8$\n",
    "\n",
    "$v_{low,no}=\\alpha_0  = 0.2$\n",
    "\n",
    "$v_{high,no}=\\alpha_0 + \\alpha_1 = 0.8$\n",
    "\n",
    "$v=\\beta_0 + \\beta_1*C(coherence) + \\beta_2*C(prioritization) + \\beta_3*C(coherence)*C(priorization)$ + z_link_func\n",
    "\n",
    "stim = 1\n",
    "\n",
    "$z_{no,high}=1 - \\beta_0 - \\beta_1= 0.5$\n",
    "\n",
    "$z_{yes,high}=1 - (\\beta_0 + \\beta_1 + \\beta_2 +\\beta_3) = 0.2$\n",
    "\n",
    "$z_{no,low}=1 - \\beta_0 = 0.5$\n",
    "\n",
    "$z_{yes,low}=1 - (\\beta_0 + \\beta_2) = 0.2$\n",
    "\n",
    "stim = 0\n",
    "\n",
    "$z_{no,high}=\\beta_0 + \\beta_1 = 0.5$\n",
    "\n",
    "$z_{yes,high}=\\beta_0 + \\beta_1 + \\beta_2 + \\beta_3 = 0.8$\n",
    "\n",
    "$z_{no,low}=\\beta_0 = 0.5$\n",
    "\n",
    "$z_{yes,low}=\\beta_0 + \\beta_2 = 0.8$"
   ]
  },
  {
   "cell_type": "markdown",
   "metadata": {},
   "source": [
    "We expect the parameter estimated is:\n",
    "\n",
    "$\\alpha_0 = 0.2, \\alpha_1 = 0.6, \\alpha_2 = 0, \\alpha_3 = 0$\n",
    "\n",
    "$\\beta_0 = 0.5, \\beta_2 = 0.3, \\beta_1 = 0, \\beta_3 = 0$"
   ]
  },
  {
   "cell_type": "markdown",
   "metadata": {},
   "source": [
    "this is the link func. the function is to create the node of z,\n",
    "\n",
    "for stimulus 0, the node of z is $\\beta_0 + \\beta_1*X$\n",
    "\n",
    "for stimulus 1, the node of z is $1 - (\\beta_0 + \\beta_1*X)$"
   ]
  },
  {
   "cell_type": "code",
   "execution_count": null,
   "metadata": {},
   "outputs": [],
   "source": [
    "def z_link_func(x, data=data):\n",
    "    stim = (np.asarray(dmatrix('0 + C(s, [[0], [1]])',\n",
    "                              {'s': data.stimulus.loc[x.index]},return_type='dataframe'))\n",
    "    )\n",
    "    # Apply z = (1 - x) to flip them along 0.5\n",
    "    z_flip = np.subtract(stim, x.to_frame())\n",
    "    # The above inverts those values we do not want to flip,\n",
    "    # so invert them back\n",
    "    z_flip[stim == 0] *= -1\n",
    "    return z_flip"
   ]
  },
  {
   "cell_type": "markdown",
   "metadata": {},
   "source": [
    "## Fit data"
   ]
  },
  {
   "cell_type": "markdown",
   "metadata": {},
   "source": [
    "### model1 "
   ]
  },
  {
   "cell_type": "code",
   "execution_count": null,
   "metadata": {},
   "outputs": [],
   "source": [
    "v_reg = {'model':'v~C(coherence)','link_func':lambda x:x}\n",
    "z_reg = {'model':'z~C(attention)','link_func':z_link_func}\n",
    "reg_descr = [v_reg, z_reg]\n",
    "m_reg = hddm.HDDMRegressor(data, reg_descr, include='z')"
   ]
  },
  {
   "cell_type": "markdown",
   "metadata": {},
   "source": [
    "because we construct a glm, so we can check the design matrix and parameters."
   ]
  },
  {
   "cell_type": "markdown",
   "metadata": {},
   "source": [
    "this is the parameters."
   ]
  },
  {
   "cell_type": "code",
   "execution_count": null,
   "metadata": {},
   "outputs": [],
   "source": [
    "# hddm/models/hddm_regression.py/line 164\n",
    "params=np.matrix(m_reg.model_descrs[1]['params'])\n",
    "params"
   ]
  },
  {
   "cell_type": "markdown",
   "metadata": {},
   "source": [
    "this is the design matrixs."
   ]
  },
  {
   "cell_type": "code",
   "execution_count": null,
   "metadata": {},
   "outputs": [],
   "source": [
    "# hddm/models/hddm_regression.py/line 154\n",
    "design_matrix=dmatrix('C(attention)',\n",
    "                data,\n",
    "                return_type=\"dataframe\",\n",
    "                NA_action=\"raise\")\n",
    "design_matrix"
   ]
  },
  {
   "cell_type": "markdown",
   "metadata": {},
   "source": [
    "` hddm/models/hddm_regression.py/line 174`\n",
    "\n",
    "`design_matrix.dot(params.T)`\n",
    "\n",
    "the row and line is nx2 2x1\n",
    "\n",
    "the result is $\\beta_0 + \\beta_1 * C(attention)$"
   ]
  },
  {
   "cell_type": "markdown",
   "metadata": {},
   "source": [
    "Then the linear predictor need to be transformed via link function"
   ]
  },
  {
   "cell_type": "markdown",
   "metadata": {},
   "source": [
    "```\n",
    "def z_link_func(x, data=data):\n",
    "    stim = (np.asarray(dmatrix('0 + C(s, [[0], [1]])',\n",
    "                              {'s': data.stimulus.loc[x.index]},return_type='dataframe'))\n",
    "    )\n",
    "    # Apply z = (1 - x) to flip them along 0.5\n",
    "    z_flip = np.subtract(stim, x.to_frame())\n",
    "    # The above inverts those values we do not want to flip,\n",
    "    # so invert them back\n",
    "    z_flip[stim == 0] *= -1\n",
    "    return z_flip\n",
    "```"
   ]
  },
  {
   "cell_type": "code",
   "execution_count": null,
   "metadata": {},
   "outputs": [],
   "source": [
    "np.asarray(dmatrix('0 + C(s, [[0], [1]])',\n",
    "                              {'s': data.stimulus.loc[data.index]},return_type='dataframe'))"
   ]
  },
  {
   "cell_type": "markdown",
   "metadata": {},
   "source": [
    "for stimulus 0, the result is $\\beta_0 + \\beta_1*X$\n",
    "\n",
    "for stimulus 1, the result is $1 - (\\beta_0 + \\beta_1*X)$"
   ]
  },
  {
   "cell_type": "code",
   "execution_count": null,
   "metadata": {
    "tags": []
   },
   "outputs": [],
   "source": [
    "v_reg = {'model':'v~C(coherence)','link_func':lambda x:x}\n",
    "z_reg = {'model':'z~C(attention)','link_func':lambda x:x}\n",
    "reg_descr = [v_reg, z_reg]\n",
    "m_reg = hddm.HDDMRegressor(data, reg_descr, include='z')\n",
    "m_reg.find_starting_values()\n",
    "m_reg.sample(2000,burn=1000)"
   ]
  },
  {
   "cell_type": "code",
   "execution_count": null,
   "metadata": {
    "tags": []
   },
   "outputs": [],
   "source": [
    "m_reg.plot_posteriors()"
   ]
  },
  {
   "cell_type": "markdown",
   "metadata": {},
   "source": [
    "### model2"
   ]
  },
  {
   "cell_type": "markdown",
   "metadata": {},
   "source": [
    "the glm and link function is similiar to model1."
   ]
  },
  {
   "cell_type": "code",
   "execution_count": null,
   "metadata": {
    "tags": []
   },
   "outputs": [],
   "source": [
    "v_reg = {'model':'v~C(coherence)*C(attention)','link_func':lambda x:x}\n",
    "z_reg = {'model':'z~C(coherence)*C(attention)','link_func':z_link_func}\n",
    "reg_descr = [v_reg, z_reg]\n",
    "m_reg2 = hddm.HDDMRegressor(data, reg_descr, include='z')\n",
    "m_reg2.find_starting_values()\n",
    "m_reg2.sample(2000,burn=1000)"
   ]
  },
  {
   "cell_type": "code",
   "execution_count": null,
   "metadata": {
    "tags": []
   },
   "outputs": [],
   "source": [
    "m_reg2.plot_posteriors()"
   ]
  },
  {
   "cell_type": "markdown",
   "metadata": {},
   "source": [
    "### model3"
   ]
  },
  {
   "cell_type": "markdown",
   "metadata": {},
   "source": [
    "In model3, we want to test if we use incorrect coding, the results of the model."
   ]
  },
  {
   "cell_type": "code",
   "execution_count": null,
   "metadata": {},
   "outputs": [],
   "source": [
    "data_tmp = data\n",
    "data_tmp.loc[(data_tmp['response']==1)&(data_tmp['stimulus']==0),'_response'] = 0 \n",
    "data_tmp.loc[(data_tmp['response']==1)&(data_tmp['stimulus']==1),'_response'] = 1 \n",
    "data_tmp.loc[(data_tmp['response']==0)&(data_tmp['stimulus']==0),'_response'] = 1\n",
    "data_tmp.loc[(data_tmp['response']==0)&(data_tmp['stimulus']==1),'_response'] = 0\n",
    "data_tmp['response'] = data_tmp['_response']"
   ]
  },
  {
   "cell_type": "code",
   "execution_count": null,
   "metadata": {
    "collapsed": false,
    "id": "697FF0B5B87F4353BB9B106288EAE6BA",
    "jupyter": {
     "outputs_hidden": false
    },
    "notebookId": "6392e9feeb9be0e01d1c1e50",
    "slideshow": {
     "slide_type": "slide"
    },
    "tags": []
   },
   "outputs": [],
   "source": [
    "data_tmp"
   ]
  },
  {
   "cell_type": "markdown",
   "metadata": {
    "id": "6500FB686EB4436182D1223A58C0D6EA",
    "jupyter": {},
    "notebookId": "6392e9feeb9be0e01d1c1e50",
    "slideshow": {
     "slide_type": "slide"
    },
    "tags": []
   },
   "source": [
    "we can check how many trials per condition."
   ]
  },
  {
   "cell_type": "code",
   "execution_count": null,
   "metadata": {
    "collapsed": false,
    "id": "678A09B390A94993806F2435202DB6D3",
    "jupyter": {
     "outputs_hidden": false
    },
    "notebookId": "6392e9feeb9be0e01d1c1e50",
    "slideshow": {
     "slide_type": "slide"
    },
    "tags": []
   },
   "outputs": [],
   "source": [
    "data_tmp.groupby(['subj_idx','stimulus','condition','coherence','attention']).size()"
   ]
  },
  {
   "cell_type": "code",
   "execution_count": null,
   "metadata": {
    "collapsed": false,
    "id": "5F2B42235F3A49A48207303CED314AF6",
    "jupyter": {
     "outputs_hidden": false
    },
    "notebookId": "6392e9feeb9be0e01d1c1e50",
    "slideshow": {
     "slide_type": "slide"
    },
    "tags": []
   },
   "outputs": [],
   "source": [
    "data_tmp.groupby(['stimulus','coherence','attention','response'])['rt'].agg(['size','mean','std']).head(20)"
   ]
  },
  {
   "cell_type": "code",
   "execution_count": null,
   "metadata": {},
   "outputs": [],
   "source": [
    "data_tmp.groupby(['response'])['rt'].agg(['size','mean','std'])"
   ]
  },
  {
   "cell_type": "code",
   "execution_count": null,
   "metadata": {},
   "outputs": [],
   "source": [
    "data_tmp.groupby(['stimulus','response'])['rt'].agg(['size','mean','std'])"
   ]
  },
  {
   "cell_type": "markdown",
   "metadata": {},
   "source": [
    "we can check the effect of the coherence"
   ]
  },
  {
   "cell_type": "code",
   "execution_count": null,
   "metadata": {},
   "outputs": [],
   "source": [
    "data_tmp.groupby(['stimulus','coherence','response'])['rt'].agg(['size','mean','std'])"
   ]
  },
  {
   "cell_type": "markdown",
   "metadata": {},
   "source": [
    "Also, we can check the effect of the attention"
   ]
  },
  {
   "cell_type": "code",
   "execution_count": null,
   "metadata": {},
   "outputs": [],
   "source": [
    "data_tmp.groupby(['stimulus','attention','response'])['rt'].agg(['size','mean','std'])"
   ]
  },
  {
   "cell_type": "code",
   "execution_count": null,
   "metadata": {
    "tags": []
   },
   "outputs": [],
   "source": [
    "v_reg = {'model':'v~C(coherence)','link_func':lambda x:x}\n",
    "z_reg = {'model':'z~C(attention)','link_func':z_link_func}\n",
    "reg_descr = [v_reg, z_reg]\n",
    "m_reg3 = hddm.HDDMRegressor(data_tmp, reg_descr, include='z')\n",
    "m_reg3.find_starting_values()\n",
    "m_reg3.sample(2000,burn=1000)"
   ]
  },
  {
   "cell_type": "code",
   "execution_count": null,
   "metadata": {
    "tags": []
   },
   "outputs": [],
   "source": [
    "m_reg3.plot_posteriors()"
   ]
  },
  {
   "cell_type": "markdown",
   "metadata": {},
   "source": [
    "# Simulation2"
   ]
  },
  {
   "cell_type": "markdown",
   "metadata": {},
   "source": [
    "## simulate the data"
   ]
  },
  {
   "cell_type": "markdown",
   "metadata": {},
   "source": [
    "To advance the simulated data similar to our true data, we adjust the value of parameter, and construct the hierarchical structure of every subjects."
   ]
  },
  {
   "cell_type": "markdown",
   "metadata": {},
   "source": [
    "In this part, we assume that the prioritization affect the non-decision time"
   ]
  },
  {
   "cell_type": "code",
   "execution_count": 515,
   "metadata": {},
   "outputs": [],
   "source": [
    "# set number of subjects and number of trials per level for the simulated experiment.\n",
    "n_subjects = 15\n",
    "trials_per_level = 36\n",
    "\n",
    "# set the group parameter\n",
    "# intercept and slope of v\n",
    "v_int = 2\n",
    "v_coh = 1.2\n",
    "v_sig1 = 1\n",
    "v_sig2 = 1\n",
    "# intercept and slope of t\n",
    "t_int = 0.3\n",
    "t_pri = 0.1\n",
    "t_sig1 = 0.1\n",
    "t_sig2 = 0.1\n",
    "# intercept of a\n",
    "a_int = 1.4\n",
    "a_sig = 0.2\n",
    "# intercept of z\n",
    "z_int = 0.5\n",
    "z_sig = 0.1\n",
    "\n",
    "# set the subject parameter\n",
    "# v\n",
    "v_int_subj = np.random.normal(v_int,v_sig1,[n_subjects,2])\n",
    "v_coh_subj = np.random.normal(v_coh,v_sig2,[n_subjects,2])\n",
    "# t\n",
    "t_int_subj = np.random.normal(t_int,t_sig1,[n_subjects,2])\n",
    "t_pri_subj = np.random.normal(t_pri,t_sig2,[n_subjects,2])\n",
    "# a\n",
    "a_int_subj = np.random.normal(a_int,a_sig,[n_subjects,2])\n",
    "# z\n",
    "z_int_subj = np.random.normal(z_int,z_sig,[n_subjects,2])\n",
    "\n",
    "# dataframe\n",
    "df = pd.DataFrame()\n",
    "for i in range(n_subjects):\n",
    "    # the different v of two experimental factor \n",
    "    v_high  = v_int_subj[i] + v_coh_subj[i]\n",
    "    v_low = v_int_subj[i]\n",
    "    # the different t of two experimental factor\n",
    "    t_yes = t_int_subj[i] + t_pri_subj[i]\n",
    "    t_no = t_int_subj[i]\n",
    "    # the default parameter a\n",
    "    a = a_int_subj[i]\n",
    "    # the default parameter z\n",
    "    z = z_int_subj[i]\n",
    "    # set up parameters of DDM for four levels of the stimulus face(1).\n",
    "    level1_a = {'v':v_high[0], 'a':a[0], 't':t_yes[0], 'z':z[0], 'sv':0, 'sz':0, 'st':0}\n",
    "    level2_a = {'v':v_high[0], 'a':a[0], 't':t_no[0], 'z':z[0], 'sv':0, 'sz':0, 'st':0}\n",
    "    level3_a = {'v':v_low[0], 'a':a[0], 't':t_yes[0], 'z':z[0], 'sv':0, 'sz':0, 'st':0}\n",
    "    level4_a = {'v':v_low[0], 'a':a[0], 't':t_no[0], 'z':z[0], 'sv':0, 'sz':0, 'st':0}\n",
    "\n",
    "    # set up parameters of DDM for four levels of the stimulus car(0).\n",
    "    level1_b = {'v':v_high[1], 'a':a[1], 't':t_yes[1], 'z':z[1], 'sv':0, 'sz':0, 'st':0}\n",
    "    level2_b = {'v':v_high[1], 'a':a[1], 't':t_no[1], 'z':z[1], 'sv':0, 'sz':0, 'st':0}\n",
    "    level3_b = {'v':v_low[1], 'a':a[1], 't':t_yes[1], 'z':z[1], 'sv':0, 'sz':0, 'st':0}\n",
    "    level4_b = {'v':v_low[1], 'a':a[1], 't':t_no[1], 'z':z[1], 'sv':0, 'sz':0, 'st':0}\n",
    "\n",
    "    # generate simulated data\n",
    "    np.random.seed(123)\n",
    "    data_a, params_a = hddm.generate.gen_rand_data({'level1':level1_a,\n",
    "                                                 'level2':level2_a,\n",
    "                                                 'level3':level3_a,\n",
    "                                                 'level4':level4_a},\n",
    "                                                 size = trials_per_level\n",
    "                                                  )\n",
    "    data_b, params_b = hddm.generate.gen_rand_data({'level1':level1_b,\n",
    "                                                 'level2':level2_b,\n",
    "                                                 'level3':level3_b,\n",
    "                                                 'level4':level4_b},\n",
    "                                                 size = trials_per_level\n",
    "                                                 )\n",
    "    # add column stimulus\n",
    "    data_a['stimulus'] = pd.Series(np.ones((len(data_a))), index=data_a.index)   # face\n",
    "    data_b['stimulus'] = pd.Series(np.ones((len(data_b)))*0, index=data_a.index) # car\n",
    "\n",
    "    # combine the data from two stimulus\n",
    "    data = data_a.append(data_b,ignore_index=True)\n",
    "    \n",
    "    # add subject\n",
    "    data['subj_idx'] = pd.Series(np.ones((len(data)))*i, index=data.index) \n",
    "\n",
    "    # add column coherence\n",
    "    data.loc[(data['condition']=='level1')|(data['condition']=='level2'),'coherence'] = 1    \n",
    "    data.loc[(data['condition']=='level3')|(data['condition']=='level4'),'coherence'] = 0\n",
    "\n",
    "    # add column spatial priotiziation\n",
    "    data.loc[(data['condition']=='level1')|(data['condition']=='level3'),'attention'] = 1    \n",
    "    data.loc[(data['condition']=='level2')|(data['condition']=='level4'),'attention'] = 0\n",
    "    \n",
    "    df = df.append(data)"
   ]
  },
  {
   "cell_type": "code",
   "execution_count": null,
   "metadata": {},
   "outputs": [],
   "source": [
    "# the stimulus coding\n",
    "df.loc[(df['stimulus']==0)&(df['response']==0),'_response']=1\n",
    "df.loc[(df['stimulus']==1)&(df['response']==1),'_response']=1\n",
    "df.loc[(df['stimulus']==0)&(df['response']==1),'_response']=0\n",
    "df.loc[(df['stimulus']==1)&(df['response']==0),'_response']=0"
   ]
  },
  {
   "cell_type": "code",
   "execution_count": null,
   "metadata": {},
   "outputs": [],
   "source": [
    "df"
   ]
  },
  {
   "cell_type": "markdown",
   "metadata": {},
   "source": [
    "## check the data"
   ]
  },
  {
   "cell_type": "code",
   "execution_count": null,
   "metadata": {},
   "outputs": [],
   "source": [
    "df.groupby(['response'])['rt'].agg(['size','mean','std'])"
   ]
  },
  {
   "cell_type": "code",
   "execution_count": null,
   "metadata": {},
   "outputs": [],
   "source": [
    "df.groupby(['_response'])['rt'].agg(['size','mean','std'])"
   ]
  },
  {
   "cell_type": "code",
   "execution_count": null,
   "metadata": {},
   "outputs": [],
   "source": [
    "df.groupby(['stimulus','response'])['rt'].agg(['size','mean','std'])"
   ]
  },
  {
   "cell_type": "code",
   "execution_count": null,
   "metadata": {},
   "outputs": [],
   "source": [
    "df.groupby(['coherence','response'])['rt'].agg(['size','mean','std'])"
   ]
  },
  {
   "cell_type": "code",
   "execution_count": null,
   "metadata": {},
   "outputs": [],
   "source": [
    "df.groupby(['attention','response'])['rt'].agg(['size','mean','std'])"
   ]
  },
  {
   "cell_type": "code",
   "execution_count": null,
   "metadata": {},
   "outputs": [],
   "source": [
    "df.groupby(['stimulus','coherence','response'])['rt'].agg(['size','mean','std'])"
   ]
  },
  {
   "cell_type": "code",
   "execution_count": null,
   "metadata": {},
   "outputs": [],
   "source": [
    "df.groupby(['stimulus','attention','response'])['rt'].agg(['size','mean','std'])"
   ]
  },
  {
   "cell_type": "code",
   "execution_count": null,
   "metadata": {},
   "outputs": [],
   "source": [
    "df.groupby(['stimulus','coherence','attention','response'])['rt'].agg(['size','mean','std'])"
   ]
  },
  {
   "cell_type": "markdown",
   "metadata": {},
   "source": [
    "## ANOVA "
   ]
  },
  {
   "cell_type": "code",
   "execution_count": 516,
   "metadata": {},
   "outputs": [
    {
     "name": "stdout",
     "output_type": "stream",
     "text": [
      "                          Anova\n",
      "==========================================================\n",
      "                             F Value Num DF  Den DF Pr > F\n",
      "----------------------------------------------------------\n",
      "coherence                    53.9040 1.0000 14.0000 0.0000\n",
      "attention                    21.3669 1.0000 14.0000 0.0004\n",
      "stimulus                      1.4885 1.0000 14.0000 0.2426\n",
      "coherence:attention          24.4169 1.0000 14.0000 0.0002\n",
      "coherence:stimulus            3.9825 1.0000 14.0000 0.0658\n",
      "attention:stimulus            8.5862 1.0000 14.0000 0.0110\n",
      "coherence:attention:stimulus 49.8911 1.0000 14.0000 0.0000\n",
      "==========================================================\n",
      "\n",
      "                          Anova\n",
      "==========================================================\n",
      "                             F Value Num DF  Den DF Pr > F\n",
      "----------------------------------------------------------\n",
      "coherence                    38.8132 1.0000 14.0000 0.0000\n",
      "attention                    25.4783 1.0000 14.0000 0.0002\n",
      "stimulus                      3.7692 1.0000 14.0000 0.0726\n",
      "coherence:attention           0.9742 1.0000 14.0000 0.3404\n",
      "coherence:stimulus            4.5829 1.0000 14.0000 0.0504\n",
      "attention:stimulus           33.4290 1.0000 14.0000 0.0000\n",
      "coherence:attention:stimulus  0.3571 1.0000 14.0000 0.5596\n",
      "==========================================================\n",
      "\n"
     ]
    }
   ],
   "source": [
    "# ANOVA for rt\n",
    "model_aovrm3way = AnovaRM(df,\n",
    "                   'rt',\n",
    "                   'subj_idx',\n",
    "                   within=['coherence','attention','stimulus'],\n",
    "                   aggregate_func='mean')\n",
    "res3way=model_aovrm3way.fit()\n",
    "print(res3way)\n",
    "# ANOVA for response\n",
    "model_aovrm3way = AnovaRM(df,\n",
    "                   'response',\n",
    "                   'subj_idx',\n",
    "                   within=['coherence','attention','stimulus'],\n",
    "                   aggregate_func='mean')\n",
    "res3way=model_aovrm3way.fit()\n",
    "print(res3way)"
   ]
  },
  {
   "cell_type": "markdown",
   "metadata": {},
   "source": [
    "## fit data"
   ]
  },
  {
   "cell_type": "markdown",
   "metadata": {},
   "source": [
    "# Simulation3"
   ]
  },
  {
   "cell_type": "markdown",
   "metadata": {},
   "source": [
    "## simulate the data"
   ]
  },
  {
   "cell_type": "code",
   "execution_count": 513,
   "metadata": {},
   "outputs": [],
   "source": [
    "# set number of subjects and number of trials per level for the simulated experiment.\n",
    "n_subjects = 15\n",
    "trials_per_level = 36\n",
    "\n",
    "# set the group parameter\n",
    "# intercept and slope of v\n",
    "v_int = 1.7\n",
    "v_coh = 1.3\n",
    "v_sig1 = 0.7\n",
    "v_sig2 = 1\n",
    "# intercept and slope of z\n",
    "z_int = 0.5\n",
    "z_pri = 0.1\n",
    "z_sig1 = 0.1\n",
    "z_sig2 = 0.1\n",
    "# intercept of a\n",
    "a_int = 1.4\n",
    "a_sig = 0.2\n",
    "# intercept of t\n",
    "t_int = 0.36\n",
    "t_sig = 0.02\n",
    "\n",
    "# set the subject parameter\n",
    "# v\n",
    "v_int_subj = np.random.normal(v_int,v_sig1,[n_subjects,2])\n",
    "v_coh_subj = np.random.normal(v_coh,v_sig2,[n_subjects,2])\n",
    "# z\n",
    "z_int_subj = np.random.normal(z_int,z_sig1,[n_subjects,2])\n",
    "z_pri_subj = np.random.normal(z_pri,z_sig2,[n_subjects,2])\n",
    "# a\n",
    "a_int_subj = np.random.normal(a_int,a_sig,[n_subjects,2])\n",
    "# t\n",
    "t_int_subj = np.random.normal(t_int,t_sig,[n_subjects,2])\n",
    "\n",
    "# dataframe\n",
    "df = pd.DataFrame()\n",
    "for i in range(n_subjects):\n",
    "    \n",
    "    # the different v of two experimental factor \n",
    "    v_high  = v_int_subj[i] + v_coh_subj[i]\n",
    "    v_low = v_int_subj[i]\n",
    "    # the different t of two experimental factor\n",
    "    z_yes = z_int_subj[i] + z_pri_subj[i]\n",
    "    z_no = z_int_subj[i]\n",
    "    # the default parameter a\n",
    "    a = a_int_subj[i]\n",
    "    # the default parameter t\n",
    "    t = t_int_subj[i]\n",
    "    \n",
    "    # set up parameters of DDM for four levels of the stimulus face(1).\n",
    "    level1_a = {'v':v_high[0], 'a':a[0], 't':t[0], 'z':z_yes[0], 'sv':0, 'sz':0, 'st':0}\n",
    "    level2_a = {'v':v_high[0], 'a':a[0], 't':t[0], 'z':z_no[0], 'sv':0, 'sz':0, 'st':0}\n",
    "    level3_a = {'v':v_low[0], 'a':a[0], 't':t[0], 'z':z_yes[0], 'sv':0, 'sz':0, 'st':0}\n",
    "    level4_a = {'v':v_low[0], 'a':a[0], 't':t[0], 'z':z_no[0], 'sv':0, 'sz':0, 'st':0}\n",
    "\n",
    "    # set up parameters of DDM for four levels of the stimulus car(0).\n",
    "    level1_b = {'v':v_high[1], 'a':a[1], 't':t[1], 'z':z_yes[0], 'sv':0, 'sz':0, 'st':0}\n",
    "    level2_b = {'v':v_high[1], 'a':a[1], 't':t[1], 'z':z_no[0], 'sv':0, 'sz':0, 'st':0}\n",
    "    level3_b = {'v':v_low[1], 'a':a[1], 't':t[1], 'z':z_yes[0], 'sv':0, 'sz':0, 'st':0}\n",
    "    level4_b = {'v':v_low[1], 'a':a[1], 't':t[1], 'z':z_no[0], 'sv':0, 'sz':0, 'st':0}\n",
    "\n",
    "    # generate simulated data\n",
    "    np.random.seed(123)\n",
    "    data_a, params_a = hddm.generate.gen_rand_data({'level1':level1_a,\n",
    "                                                 'level2':level2_a,\n",
    "                                                 'level3':level3_a,\n",
    "                                                 'level4':level4_a},\n",
    "                                                 size = trials_per_level\n",
    "                                                  )\n",
    "    data_b, params_b = hddm.generate.gen_rand_data({'level1':level1_b,\n",
    "                                                 'level2':level2_b,\n",
    "                                                 'level3':level3_b,\n",
    "                                                 'level4':level4_b},\n",
    "                                                 size = trials_per_level\n",
    "                                                 )\n",
    "    # add column stimulus\n",
    "    data_a['stimulus'] = pd.Series(np.ones((len(data_a))), index=data_a.index)   # face\n",
    "    data_b['stimulus'] = pd.Series(np.ones((len(data_b)))*0, index=data_a.index) # car\n",
    "\n",
    "    # combine the data from two stimulus\n",
    "    data = data_a.append(data_b,ignore_index=True)\n",
    "    \n",
    "    # add subject\n",
    "    data['subj_idx'] = pd.Series(np.ones((len(data)))*i, index=data.index) \n",
    "\n",
    "    # add column coherence\n",
    "    data.loc[(data['condition']=='level1')|(data['condition']=='level2'),'coherence'] = 1    \n",
    "    data.loc[(data['condition']=='level3')|(data['condition']=='level4'),'coherence'] = 0\n",
    "\n",
    "    # add column spatial priotiziation\n",
    "    data.loc[(data['condition']=='level1')|(data['condition']=='level3'),'attention'] = 1    \n",
    "    data.loc[(data['condition']=='level2')|(data['condition']=='level4'),'attention'] = 0\n",
    "    \n",
    "    df = df.append(data)"
   ]
  },
  {
   "cell_type": "code",
   "execution_count": 481,
   "metadata": {},
   "outputs": [],
   "source": [
    "# the stimulus coding\n",
    "df.loc[(df['stimulus']==0)&(df['response']==0),'_response']=1\n",
    "df.loc[(df['stimulus']==1)&(df['response']==1),'_response']=1\n",
    "df.loc[(df['stimulus']==0)&(df['response']==1),'_response']=0\n",
    "df.loc[(df['stimulus']==1)&(df['response']==0),'_response']=0"
   ]
  },
  {
   "cell_type": "markdown",
   "metadata": {},
   "source": [
    "## check the data"
   ]
  },
  {
   "cell_type": "code",
   "execution_count": null,
   "metadata": {},
   "outputs": [],
   "source": [
    "df"
   ]
  },
  {
   "cell_type": "code",
   "execution_count": null,
   "metadata": {},
   "outputs": [],
   "source": [
    "df.groupby(['response'])['rt'].agg(['size','mean','std'])"
   ]
  },
  {
   "cell_type": "code",
   "execution_count": null,
   "metadata": {},
   "outputs": [],
   "source": [
    "df.groupby(['_response'])['rt'].agg(['size','mean','std'])"
   ]
  },
  {
   "cell_type": "code",
   "execution_count": null,
   "metadata": {},
   "outputs": [],
   "source": [
    "df.groupby(['stimulus','response'])['rt'].agg(['size','mean','std'])"
   ]
  },
  {
   "cell_type": "code",
   "execution_count": null,
   "metadata": {},
   "outputs": [],
   "source": [
    "df.groupby(['coherence','response'])['rt'].agg(['size','mean','std'])"
   ]
  },
  {
   "cell_type": "code",
   "execution_count": null,
   "metadata": {},
   "outputs": [],
   "source": [
    "df.groupby(['attention','response'])['rt'].agg(['size','mean','std'])"
   ]
  },
  {
   "cell_type": "code",
   "execution_count": null,
   "metadata": {},
   "outputs": [],
   "source": [
    "df.groupby(['stimulus','coherence','response'])['rt'].agg(['size','mean','std'])"
   ]
  },
  {
   "cell_type": "code",
   "execution_count": null,
   "metadata": {},
   "outputs": [],
   "source": [
    "df.groupby(['stimulus','attention','response'])['rt'].agg(['size','mean','std'])"
   ]
  },
  {
   "cell_type": "code",
   "execution_count": null,
   "metadata": {},
   "outputs": [],
   "source": [
    "df.groupby(['stimulus','coherence','attention','response'])['rt'].agg(['size','mean','std'])"
   ]
  },
  {
   "cell_type": "markdown",
   "metadata": {},
   "source": [
    "## ANOVA"
   ]
  },
  {
   "cell_type": "code",
   "execution_count": 514,
   "metadata": {},
   "outputs": [
    {
     "name": "stdout",
     "output_type": "stream",
     "text": [
      "                          Anova\n",
      "==========================================================\n",
      "                             F Value Num DF  Den DF Pr > F\n",
      "----------------------------------------------------------\n",
      "coherence                    37.5060 1.0000 14.0000 0.0000\n",
      "attention                     0.6770 1.0000 14.0000 0.4244\n",
      "stimulus                      0.0131 1.0000 14.0000 0.9105\n",
      "coherence:attention           2.2672 1.0000 14.0000 0.1544\n",
      "coherence:stimulus            0.0252 1.0000 14.0000 0.8762\n",
      "attention:stimulus           24.0236 1.0000 14.0000 0.0002\n",
      "coherence:attention:stimulus 21.9507 1.0000 14.0000 0.0004\n",
      "==========================================================\n",
      "\n",
      "                          Anova\n",
      "==========================================================\n",
      "                             F Value Num DF  Den DF Pr > F\n",
      "----------------------------------------------------------\n",
      "coherence                    14.5044 1.0000 14.0000 0.0019\n",
      "attention                     0.0714 1.0000 14.0000 0.7933\n",
      "stimulus                      4.3023 1.0000 14.0000 0.0570\n",
      "coherence:attention          10.3949 1.0000 14.0000 0.0061\n",
      "coherence:stimulus            0.5806 1.0000 14.0000 0.4587\n",
      "attention:stimulus           13.4818 1.0000 14.0000 0.0025\n",
      "coherence:attention:stimulus  7.9545 1.0000 14.0000 0.0136\n",
      "==========================================================\n",
      "\n"
     ]
    }
   ],
   "source": [
    "# ANOVA for rt\n",
    "model_aovrm3way = AnovaRM(df,\n",
    "                   'rt',\n",
    "                   'subj_idx',\n",
    "                   within=['coherence','attention','stimulus'],\n",
    "                   aggregate_func='mean')\n",
    "res3way=model_aovrm3way.fit()\n",
    "print(res3way)\n",
    "# ANOVA for response\n",
    "model_aovrm3way = AnovaRM(df,\n",
    "                   'response',\n",
    "                   'subj_idx',\n",
    "                   within=['coherence','attention','stimulus'],\n",
    "                   aggregate_func='mean')\n",
    "res3way=model_aovrm3way.fit()\n",
    "print(res3way)"
   ]
  },
  {
   "cell_type": "markdown",
   "metadata": {},
   "source": [
    "## fit data"
   ]
  },
  {
   "cell_type": "code",
   "execution_count": null,
   "metadata": {},
   "outputs": [],
   "source": []
  },
  {
   "cell_type": "code",
   "execution_count": null,
   "metadata": {},
   "outputs": [],
   "source": []
  }
 ],
 "metadata": {
  "kernelspec": {
   "display_name": "Python 3",
   "language": "python",
   "name": "python3"
  },
  "language_info": {
   "codemirror_mode": {
    "name": "ipython",
    "version": 3
   },
   "file_extension": ".py",
   "mimetype": "text/x-python",
   "name": "python",
   "nbconvert_exporter": "python",
   "pygments_lexer": "ipython3",
   "version": "3.8.8"
  },
  "toc-autonumbering": true,
  "vscode": {
   "interpreter": {
    "hash": "d5fed6290efc5d26a7c054ee8a9f4b7693cbe9d3a9d7dbef6ddee14f9c8c4a5b"
   }
  }
 },
 "nbformat": 4,
 "nbformat_minor": 4
}
