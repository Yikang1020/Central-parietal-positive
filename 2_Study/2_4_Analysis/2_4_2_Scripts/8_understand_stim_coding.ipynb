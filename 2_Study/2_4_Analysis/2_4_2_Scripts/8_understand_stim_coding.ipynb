{
 "cells": [
  {
   "cell_type": "code",
   "execution_count": 22,
   "metadata": {},
   "outputs": [],
   "source": [
    "import hddm\n",
    "import pandas as pd\n",
    "import numpy as np\n",
    "from patsy import dmatrix"
   ]
  },
  {
   "cell_type": "code",
   "execution_count": 2,
   "metadata": {},
   "outputs": [],
   "source": [
    "# subject numbers\n",
    "n_subjects = 10\n",
    "\n",
    "# trial numbers\n",
    "trials_per_level = 150"
   ]
  },
  {
   "cell_type": "code",
   "execution_count": 3,
   "metadata": {},
   "outputs": [],
   "source": [
    "level1_a = {'v':0.5, 'a':2, 't':0.3, 'z':0.7, 'sv':0, 'sz':0, 'st':0} \n",
    "\n",
    "level2_a = {'v':0.5, 'a':2, 't':0.3, 'z':0.5, 'sv':0, 'sz':0, 'st':0} \n",
    "\n",
    "level3_a = {'v':0.2, 'a':2, 't':0.3, 'z':0.7, 'sv':0, 'sz':0, 'st':0} \n",
    "\n",
    "level4_a = {'v':0.2, 'a':2, 't':0.3, 'z':0.5, 'sv':0, 'sz':0, 'st':0} "
   ]
  },
  {
   "cell_type": "code",
   "execution_count": 4,
   "metadata": {},
   "outputs": [],
   "source": [
    "data_a, params_a = hddm.generate.gen_rand_data({\n",
    "    'level1':level1_a,\n",
    "    'level2':level2_a,\n",
    "    'level3':level3_a,\n",
    "    'level4':level4_a},\n",
    "    size = trials_per_level,\n",
    "    subjs = n_subjects\n",
    "    ) "
   ]
  },
  {
   "cell_type": "code",
   "execution_count": 5,
   "metadata": {},
   "outputs": [],
   "source": [
    "level1_b = {'v':0.5, 'a':2, 't':0.3, 'z':0.7, 'sv':0, 'sz':0, 'st':0} \n",
    "\n",
    "level2_b = {'v':0.5, 'a':2, 't':0.3, 'z':0.5, 'sv':0, 'sz':0, 'st':0} \n",
    "\n",
    "level3_b = {'v':0.2, 'a':2, 't':0.3, 'z':0.7, 'sv':0, 'sz':0, 'st':0} \n",
    "\n",
    "level4_b = {'v':0.2, 'a':2, 't':0.3, 'z':0.5, 'sv':0, 'sz':0, 'st':0} "
   ]
  },
  {
   "cell_type": "code",
   "execution_count": 6,
   "metadata": {},
   "outputs": [],
   "source": [
    "data_b, params_b = hddm.generate.gen_rand_data({\n",
    "    'level1':level1_b,\n",
    "    'level2':level2_b,\n",
    "    'level3':level3_b,\n",
    "    'level4':level4_b},\n",
    "    size = trials_per_level,\n",
    "    subjs = n_subjects\n",
    "    ) "
   ]
  },
  {
   "cell_type": "code",
   "execution_count": 7,
   "metadata": {},
   "outputs": [
    {
     "name": "stderr",
     "output_type": "stream",
     "text": [
      "/tmp/ipykernel_11419/3847642742.py:11: FutureWarning: The frame.append method is deprecated and will be removed from pandas in a future version. Use pandas.concat instead.\n",
      "  data = data_a.append(data_b, ignore_index = True)\n"
     ]
    }
   ],
   "source": [
    "data_a['stimulus'] = pd.Series(np.ones((len(data_a)))*0, index = data_a.index)\n",
    "data_b['stimulus'] = pd.Series(np.ones((len(data_b))), index = data_b.index)\n",
    "\n",
    "data_a['coherence'] = pd.Series(np.hstack((np.ones(int(len(data_a)/2))*1,np.ones(int(len(data_a)/2))*0)), index = data_a.index)\n",
    "data_b['coherence'] = pd.Series(np.hstack((np.ones(int(len(data_a)/2))*1,np.ones(int(len(data_a)/2))*0)), index = data_b.index)\n",
    "\n",
    "data_a['attention'] = pd.Series(np.hstack((np.ones(int(len(data_a)/4))*1,np.ones(int(len(data_a)/4))*0,np.ones(int(len(data_a)/4))*1,np.ones(int(len(data_a)/4))*0)), index = data_a.index)\n",
    "data_b['attention'] = pd.Series(np.hstack((np.ones(int(len(data_a)/4))*1,np.ones(int(len(data_a)/4))*0,np.ones(int(len(data_a)/4))*1,np.ones(int(len(data_a)/4))*0)), index = data_b.index)\n",
    "\n",
    "# merge data for stimulus A(Car) and B(Face)\n",
    "data = data_a.append(data_b, ignore_index = True)"
   ]
  },
  {
   "cell_type": "code",
   "execution_count": 8,
   "metadata": {},
   "outputs": [],
   "source": [
    "rawdata = data"
   ]
  },
  {
   "cell_type": "code",
   "execution_count": 46,
   "metadata": {},
   "outputs": [],
   "source": [
    "def z_link_func(x, data=data):\n",
    "        stim = (np.asarray(dmatrix('0 + C(s, [[0], [1]])',\n",
    "                                  {'s': data.stimulus.loc[x.index]},return_type='dataframe'))\n",
    "        )\n",
    "        # Apply z = (1 - x) to flip them along 0.5\n",
    "        z_flip = np.subtract(stim, x.to_frame())\n",
    "        # The above inverts those values we do not want to flip,\n",
    "        # so invert them back\n",
    "        z_flip[stim == 0] *= -1\n",
    "        return z_flip"
   ]
  },
  {
   "cell_type": "code",
   "execution_count": 33,
   "metadata": {},
   "outputs": [
    {
     "name": "stdout",
     "output_type": "stream",
     "text": [
      "Adding these covariates:\n",
      "['z_Intercept', 'z_C(condition)[T.level2]', 'z_C(condition)[T.level3]', 'z_C(condition)[T.level4]']\n",
      "Adding these covariates:\n",
      "['v_Intercept', 'v_C(condition)[T.level2]', 'v_C(condition)[T.level3]', 'v_C(condition)[T.level4]']\n"
     ]
    }
   ],
   "source": [
    "# The link function for ``z`` is:\n",
    "z_reg = {'model': \"z ~ 1 + C(condition)\", 'link_func': z_link_func}\n",
    "# The link function for ``v`` is:\n",
    "v_reg = {'model': \"v ~ 1 + C(condition)\", 'link_func': lambda x:x}\n",
    "# Then we can put the regression description for the hddm model.\n",
    "reg_descr = [z_reg, v_reg]\n",
    "# Finally we run the regression model \n",
    "m_reg4 = hddm.HDDMRegressor(data, \n",
    "                            reg_descr,\n",
    "                            group_only_regressors=True,\n",
    "                            include=['z'],       \n",
    "                            p_outlier=.05)"
   ]
  },
  {
   "cell_type": "code",
   "execution_count": 40,
   "metadata": {},
   "outputs": [
    {
     "data": {
      "text/plain": [
       "[{'outcome': 'z',\n",
       "  'model': ' 1 + C(condition)',\n",
       "  'params': ['z_Intercept',\n",
       "   'z_C(condition)[T.level2]',\n",
       "   'z_C(condition)[T.level3]',\n",
       "   'z_C(condition)[T.level4]'],\n",
       "  'link_func': <function __main__.z_link_func(x, data=             rt  response  subj_idx condition  stimulus  coherence  attention\n",
       "0      0.902376       1.0         0    level1       0.0        1.0        1.0\n",
       "1      1.050672       1.0         0    level1       0.0        1.0        1.0\n",
       "2      1.156124       1.0         0    level1       0.0        1.0        1.0\n",
       "3      1.594156       1.0         0    level1       0.0        1.0        1.0\n",
       "4      0.526943       1.0         0    level1       0.0        1.0        1.0\n",
       "...         ...       ...       ...       ...       ...        ...        ...\n",
       "11995  0.684454       1.0         9    level4       1.0        0.0        0.0\n",
       "11996  1.726236       0.0         9    level4       1.0        0.0        0.0\n",
       "11997  2.291932       1.0         9    level4       1.0        0.0        0.0\n",
       "11998  0.956652       1.0         9    level4       1.0        0.0        0.0\n",
       "11999  2.289871       1.0         9    level4       1.0        0.0        0.0\n",
       "\n",
       "[12000 rows x 7 columns])>},\n",
       " {'outcome': 'v',\n",
       "  'model': ' 1 + C(condition)',\n",
       "  'params': ['v_Intercept',\n",
       "   'v_C(condition)[T.level2]',\n",
       "   'v_C(condition)[T.level3]',\n",
       "   'v_C(condition)[T.level4]'],\n",
       "  'link_func': <function __main__.<lambda>(x)>}]"
      ]
     },
     "execution_count": 40,
     "metadata": {},
     "output_type": "execute_result"
    }
   ],
   "source": [
    "m_reg4.model_descrs"
   ]
  },
  {
   "cell_type": "code",
   "execution_count": 41,
   "metadata": {},
   "outputs": [],
   "source": [
    "m_reg4.nodes_db.to_csv('test.csv')"
   ]
  },
  {
   "cell_type": "code",
   "execution_count": 42,
   "metadata": {},
   "outputs": [],
   "source": [
    "m_reg4.get_non_observeds().to_csv(\"test2.csv\")"
   ]
  },
  {
   "cell_type": "code",
   "execution_count": 43,
   "metadata": {},
   "outputs": [
    {
     "data": {
      "text/plain": [
       "{'outcome': 'z',\n",
       " 'model': ' 1 + C(condition)',\n",
       " 'params': ['z_Intercept',\n",
       "  'z_C(condition)[T.level2]',\n",
       "  'z_C(condition)[T.level3]',\n",
       "  'z_C(condition)[T.level4]'],\n",
       " 'link_func': <function __main__.z_link_func(x, data=             rt  response  subj_idx condition  stimulus  coherence  attention\n",
       "0      0.902376       1.0         0    level1       0.0        1.0        1.0\n",
       "1      1.050672       1.0         0    level1       0.0        1.0        1.0\n",
       "2      1.156124       1.0         0    level1       0.0        1.0        1.0\n",
       "3      1.594156       1.0         0    level1       0.0        1.0        1.0\n",
       "4      0.526943       1.0         0    level1       0.0        1.0        1.0\n",
       "...         ...       ...       ...       ...       ...        ...        ...\n",
       "11995  0.684454       1.0         9    level4       1.0        0.0        0.0\n",
       "11996  1.726236       0.0         9    level4       1.0        0.0        0.0\n",
       "11997  2.291932       1.0         9    level4       1.0        0.0        0.0\n",
       "11998  0.956652       1.0         9    level4       1.0        0.0        0.0\n",
       "11999  2.289871       1.0         9    level4       1.0        0.0        0.0\n",
       "\n",
       "[12000 rows x 7 columns])>}"
      ]
     },
     "execution_count": 43,
     "metadata": {},
     "output_type": "execute_result"
    }
   ],
   "source": [
    "reg = m_reg4.model_descrs[0]\n",
    "reg"
   ]
  },
  {
   "cell_type": "code",
   "execution_count": 50,
   "metadata": {},
   "outputs": [
    {
     "data": {
      "text/plain": [
       "matrix([['z_Intercept', 'z_C(condition)[T.level2]',\n",
       "         'z_C(condition)[T.level3]', 'z_C(condition)[T.level4]']],\n",
       "       dtype='<U24')"
      ]
     },
     "execution_count": 50,
     "metadata": {},
     "output_type": "execute_result"
    }
   ],
   "source": [
    "args=[]\n",
    "for arg in reg['params']:\n",
    "    args.append(arg)\n",
    "params = np.matrix(args)\n",
    "params"
   ]
  },
  {
   "cell_type": "code",
   "execution_count": 56,
   "metadata": {},
   "outputs": [
    {
     "data": {
      "text/html": [
       "<div>\n",
       "<style scoped>\n",
       "    .dataframe tbody tr th:only-of-type {\n",
       "        vertical-align: middle;\n",
       "    }\n",
       "\n",
       "    .dataframe tbody tr th {\n",
       "        vertical-align: top;\n",
       "    }\n",
       "\n",
       "    .dataframe thead th {\n",
       "        text-align: right;\n",
       "    }\n",
       "</style>\n",
       "<table border=\"1\" class=\"dataframe\">\n",
       "  <thead>\n",
       "    <tr style=\"text-align: right;\">\n",
       "      <th></th>\n",
       "      <th>Intercept</th>\n",
       "      <th>C(attention)[T.1.0]</th>\n",
       "      <th>C(coherence)[T.1.0]</th>\n",
       "      <th>C(attention)[T.1.0]:C(coherence)[T.1.0]</th>\n",
       "    </tr>\n",
       "  </thead>\n",
       "  <tbody>\n",
       "    <tr>\n",
       "      <th>0</th>\n",
       "      <td>1.0</td>\n",
       "      <td>1.0</td>\n",
       "      <td>1.0</td>\n",
       "      <td>1.0</td>\n",
       "    </tr>\n",
       "    <tr>\n",
       "      <th>1</th>\n",
       "      <td>1.0</td>\n",
       "      <td>1.0</td>\n",
       "      <td>1.0</td>\n",
       "      <td>1.0</td>\n",
       "    </tr>\n",
       "    <tr>\n",
       "      <th>2</th>\n",
       "      <td>1.0</td>\n",
       "      <td>1.0</td>\n",
       "      <td>1.0</td>\n",
       "      <td>1.0</td>\n",
       "    </tr>\n",
       "    <tr>\n",
       "      <th>3</th>\n",
       "      <td>1.0</td>\n",
       "      <td>1.0</td>\n",
       "      <td>1.0</td>\n",
       "      <td>1.0</td>\n",
       "    </tr>\n",
       "    <tr>\n",
       "      <th>4</th>\n",
       "      <td>1.0</td>\n",
       "      <td>1.0</td>\n",
       "      <td>1.0</td>\n",
       "      <td>1.0</td>\n",
       "    </tr>\n",
       "    <tr>\n",
       "      <th>...</th>\n",
       "      <td>...</td>\n",
       "      <td>...</td>\n",
       "      <td>...</td>\n",
       "      <td>...</td>\n",
       "    </tr>\n",
       "    <tr>\n",
       "      <th>11995</th>\n",
       "      <td>1.0</td>\n",
       "      <td>0.0</td>\n",
       "      <td>0.0</td>\n",
       "      <td>0.0</td>\n",
       "    </tr>\n",
       "    <tr>\n",
       "      <th>11996</th>\n",
       "      <td>1.0</td>\n",
       "      <td>0.0</td>\n",
       "      <td>0.0</td>\n",
       "      <td>0.0</td>\n",
       "    </tr>\n",
       "    <tr>\n",
       "      <th>11997</th>\n",
       "      <td>1.0</td>\n",
       "      <td>0.0</td>\n",
       "      <td>0.0</td>\n",
       "      <td>0.0</td>\n",
       "    </tr>\n",
       "    <tr>\n",
       "      <th>11998</th>\n",
       "      <td>1.0</td>\n",
       "      <td>0.0</td>\n",
       "      <td>0.0</td>\n",
       "      <td>0.0</td>\n",
       "    </tr>\n",
       "    <tr>\n",
       "      <th>11999</th>\n",
       "      <td>1.0</td>\n",
       "      <td>0.0</td>\n",
       "      <td>0.0</td>\n",
       "      <td>0.0</td>\n",
       "    </tr>\n",
       "  </tbody>\n",
       "</table>\n",
       "<p>12000 rows × 4 columns</p>\n",
       "</div>"
      ],
      "text/plain": [
       "       Intercept  C(attention)[T.1.0]  C(coherence)[T.1.0]  \\\n",
       "0            1.0                  1.0                  1.0   \n",
       "1            1.0                  1.0                  1.0   \n",
       "2            1.0                  1.0                  1.0   \n",
       "3            1.0                  1.0                  1.0   \n",
       "4            1.0                  1.0                  1.0   \n",
       "...          ...                  ...                  ...   \n",
       "11995        1.0                  0.0                  0.0   \n",
       "11996        1.0                  0.0                  0.0   \n",
       "11997        1.0                  0.0                  0.0   \n",
       "11998        1.0                  0.0                  0.0   \n",
       "11999        1.0                  0.0                  0.0   \n",
       "\n",
       "       C(attention)[T.1.0]:C(coherence)[T.1.0]  \n",
       "0                                          1.0  \n",
       "1                                          1.0  \n",
       "2                                          1.0  \n",
       "3                                          1.0  \n",
       "4                                          1.0  \n",
       "...                                        ...  \n",
       "11995                                      0.0  \n",
       "11996                                      0.0  \n",
       "11997                                      0.0  \n",
       "11998                                      0.0  \n",
       "11999                                      0.0  \n",
       "\n",
       "[12000 rows x 4 columns]"
      ]
     },
     "execution_count": 56,
     "metadata": {},
     "output_type": "execute_result"
    }
   ],
   "source": [
    "design_matrix = dmatrix(\"C(attention)*C(coherence)\",data,return_type='dataframe',NA_action='raise')\n",
    "design_matrix = design_matrix.loc[data.index]\n",
    "design_matrix"
   ]
  },
  {
   "cell_type": "code",
   "execution_count": 54,
   "metadata": {},
   "outputs": [
    {
     "data": {
      "text/plain": [
       "matrix([['z_Intercept'],\n",
       "        ['z_C(condition)[T.level2]'],\n",
       "        ['z_C(condition)[T.level3]'],\n",
       "        ['z_C(condition)[T.level4]']], dtype='<U24')"
      ]
     },
     "execution_count": 54,
     "metadata": {},
     "output_type": "execute_result"
    }
   ],
   "source": [
    "params.T"
   ]
  },
  {
   "cell_type": "code",
   "execution_count": 55,
   "metadata": {},
   "outputs": [
    {
     "ename": "ValueError",
     "evalue": "data type must provide an itemsize",
     "output_type": "error",
     "traceback": [
      "\u001b[0;31m---------------------------------------------------------------------------\u001b[0m",
      "\u001b[0;31mValueError\u001b[0m                                Traceback (most recent call last)",
      "\u001b[1;32m/home/yikang1020/Desktop/202206_Centro-parietal positivity/2_Study/2_4_Analysis/2_4_2_Scripts/2_4_4_Scripts_v2/Untitled-1.ipynb Cell 18\u001b[0m in \u001b[0;36m<cell line: 1>\u001b[0;34m()\u001b[0m\n\u001b[0;32m----> <a href='vscode-notebook-cell:/home/yikang1020/Desktop/202206_Centro-parietal%20positivity/2_Study/2_4_Analysis/2_4_2_Scripts/2_4_4_Scripts_v2/Untitled-1.ipynb#X24sZmlsZQ%3D%3D?line=0'>1</a>\u001b[0m design_matrix\u001b[39m.\u001b[39;49mdot(params\u001b[39m.\u001b[39;49mT)\n",
      "File \u001b[0;32m~/anaconda3/envs/hddm38/lib/python3.8/site-packages/pandas/core/frame.py:1529\u001b[0m, in \u001b[0;36mDataFrame.dot\u001b[0;34m(self, other)\u001b[0m\n\u001b[1;32m   1527\u001b[0m     \u001b[39mreturn\u001b[39;00m \u001b[39mself\u001b[39m\u001b[39m.\u001b[39m_constructor_sliced(np\u001b[39m.\u001b[39mdot(lvals, rvals), index\u001b[39m=\u001b[39mleft\u001b[39m.\u001b[39mindex)\n\u001b[1;32m   1528\u001b[0m \u001b[39melif\u001b[39;00m \u001b[39misinstance\u001b[39m(rvals, (np\u001b[39m.\u001b[39mndarray, Index)):\n\u001b[0;32m-> 1529\u001b[0m     result \u001b[39m=\u001b[39m np\u001b[39m.\u001b[39;49mdot(lvals, rvals)\n\u001b[1;32m   1530\u001b[0m     \u001b[39mif\u001b[39;00m result\u001b[39m.\u001b[39mndim \u001b[39m==\u001b[39m \u001b[39m2\u001b[39m:\n\u001b[1;32m   1531\u001b[0m         \u001b[39mreturn\u001b[39;00m \u001b[39mself\u001b[39m\u001b[39m.\u001b[39m_constructor(result, index\u001b[39m=\u001b[39mleft\u001b[39m.\u001b[39mindex)\n",
      "File \u001b[0;32m<__array_function__ internals>:180\u001b[0m, in \u001b[0;36mdot\u001b[0;34m(*args, **kwargs)\u001b[0m\n",
      "\u001b[0;31mValueError\u001b[0m: data type must provide an itemsize"
     ]
    }
   ],
   "source": [
    "design_matrix.dot(params.T)"
   ]
  },
  {
   "cell_type": "code",
   "execution_count": null,
   "metadata": {},
   "outputs": [],
   "source": []
  }
 ],
 "metadata": {
  "kernelspec": {
   "display_name": "hddm38",
   "language": "python",
   "name": "python3"
  },
  "language_info": {
   "codemirror_mode": {
    "name": "ipython",
    "version": 3
   },
   "file_extension": ".py",
   "mimetype": "text/x-python",
   "name": "python",
   "nbconvert_exporter": "python",
   "pygments_lexer": "ipython3",
   "version": "3.8.13"
  },
  "orig_nbformat": 4,
  "vscode": {
   "interpreter": {
    "hash": "d5fed6290efc5d26a7c054ee8a9f4b7693cbe9d3a9d7dbef6ddee14f9c8c4a5b"
   }
  }
 },
 "nbformat": 4,
 "nbformat_minor": 2
}
