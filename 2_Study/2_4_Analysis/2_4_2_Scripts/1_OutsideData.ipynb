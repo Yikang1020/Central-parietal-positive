{
 "cells": [
  {
   "cell_type": "code",
   "execution_count": 25,
   "metadata": {},
   "outputs": [],
   "source": [
    "# system\n",
    "import os\n",
    "import re\n",
    "import sys\n",
    "from glob import glob\n",
    "\n",
    "\n",
    "# data preprocessing\n",
    "%matplotlib inline\n",
    "import numpy as np\n",
    "import pandas as pd\n",
    "import seaborn as sns\n",
    "import matplotlib as mpl\n",
    "import matplotlib.pyplot as plt\n",
    "\n",
    "# EEG data preprocessing\n",
    "import mne\n",
    "from mne.event import define_target_events\n",
    "from mne.channels import make_1020_channel_selections\n",
    "from mne.preprocessing import (ICA, create_eog_epochs, create_ecg_epochs, corrmap)\n",
    "\n",
    "# ml\n",
    "import sklearn\n",
    "\n",
    "# statistics \n",
    "import scipy.stats as stats\n",
    "import statsmodels.api as sm\n",
    "from scipy.stats import ttest_1samp\n",
    "from statsmodels.stats.anova import AnovaRM"
   ]
  },
  {
   "cell_type": "code",
   "execution_count": 26,
   "metadata": {},
   "outputs": [
    {
     "name": "stdout",
     "output_type": "stream",
     "text": [
      "Python version is 3.9.13 (main, Aug 25 2022, 23:51:50) [MSC v.1916 64 bit (AMD64)]\n",
      "MNE version is 1.2.1\n"
     ]
    }
   ],
   "source": [
    "print(\"Python version is\", sys.version)\n",
    "print(\"MNE version is\", mne.__version__)"
   ]
  },
  {
   "cell_type": "markdown",
   "metadata": {},
   "source": [
    "# Extract Behavior(tsv) data from BIDS folder and merge them \n",
    "\n",
    "df_dirs: path + subj_idx + task + datatype + run\n",
    "\n",
    "**e.g.** './BIDS_data/sub-003/sourcedata-eeg_inside-MRT/beh/sub-003_task-pdm_acq-insideMRT_run-01_beh.csv'\n",
    "\n",
    "data in outside/inside-MRT is split by 'run' times.\n",
    "\n",
    "data in outside-MRT is **not** split by 'run' times.\n",
    "\n",
    "data in inside-MRT is split by 'run' times.\n",
    "\n",
    "the load pipeline doesn't consider fMRI\n",
    "."
   ]
  },
  {
   "cell_type": "markdown",
   "metadata": {},
   "source": [
    "path name\n",
    "\n",
    "**e.g.** './BIDS_data'"
   ]
  },
  {
   "cell_type": "code",
   "execution_count": 27,
   "metadata": {},
   "outputs": [],
   "source": [
    "# cur_dir:./Projects/[projectname]/2_study/2_4_Analysis/2_4_2_Scripts[workingdir]'\n",
    "temp_dir =os.path.dirname(               # ./\n",
    "        os.path.dirname(                 # /3_projects\n",
    "            os.path.dirname(             # /[projectname]\n",
    "                os.path.dirname(         # /2_study\n",
    "                    os.path.dirname(     # /2_4_Analysis\n",
    "                        os.getcwd()      # /2_4_2_Scripts(workingdir)\n",
    "                        )))))\n",
    "\n",
    "# data_dir:./'2_Data/Ostwald2018/BIDS_data/...'\n",
    "typename = 'Data'\n",
    "dataname = 'Ostwald2018'\n",
    "BIDSname = 'BIDS_data' \n",
    "datadir = os.path.join(typename, dataname, BIDSname)\n",
    "datadir = os.path.normpath(datadir)"
   ]
  },
  {
   "cell_type": "markdown",
   "metadata": {},
   "source": [
    "subj_idx name\n",
    "\n",
    "**e.g.** 'sub-001'"
   ]
  },
  {
   "cell_type": "code",
   "execution_count": 28,
   "metadata": {},
   "outputs": [],
   "source": [
    "# subj_idx\n",
    "subjects = ['sub-001', \n",
    "                 #'sub-002', # there is no outside beh or eeg data\n",
    "                 'sub-003', \n",
    "                 'sub-004', \n",
    "                 'sub-005', \n",
    "                 'sub-006', \n",
    "                 'sub-007', \n",
    "                 'sub-008', \n",
    "                 'sub-009', \n",
    "                 'sub-010', \n",
    "                 'sub-011', \n",
    "                 'sub-012',\n",
    "                 'sub-013', \n",
    "                 'sub-014', \n",
    "                 'sub-015', \n",
    "                 'sub-016',\n",
    "                 'sub-017']"
   ]
  },
  {
   "cell_type": "markdown",
   "metadata": {},
   "source": [
    "task name\n",
    "\n",
    "**e.g.** 'sourcedata-eeg_outside-MRT'\n"
   ]
  },
  {
   "cell_type": "code",
   "execution_count": 29,
   "metadata": {},
   "outputs": [],
   "source": [
    "tasks = {\n",
    "        'outside':'sourcedata-eeg_outside-MRT',\n",
    "        'inside':'sourcedata-eeg_inside-MRT',\n",
    "        'fmri':'sourcedata-fmri'\n",
    "    }"
   ]
  },
  {
   "cell_type": "markdown",
   "metadata": {},
   "source": [
    "datatype name\n",
    "\n",
    "**e.g.** 'beh'\n"
   ]
  },
  {
   "cell_type": "code",
   "execution_count": 30,
   "metadata": {},
   "outputs": [],
   "source": [
    "datatypes = {'beh':'beh','eeg':'eeg'}"
   ]
  },
  {
   "cell_type": "markdown",
   "metadata": {},
   "source": [
    "run name\n",
    "\n",
    "**e.g.** 'outsideMRT_run-01_beh.tsv'\n"
   ]
  },
  {
   "cell_type": "code",
   "execution_count": 31,
   "metadata": {},
   "outputs": [
    {
     "data": {
      "text/plain": [
       "{'outside': ['_task-pdm_acq-outsideMRT_run-01_beh.tsv',\n",
       "  '_task-pdm_acq-outsideMRT_run-02_beh.tsv'],\n",
       " 'inside': ['_task-pdm_acq-insideMRT_run-01_beh.tsv',\n",
       "  '_task-pdm_acq-insideMRT_run-02_beh.tsv',\n",
       "  '_task-pdm_acq-insideMRT_run-03_beh.tsv',\n",
       "  '_task-pdm_acq-insideMRT_run-04_beh.tsv',\n",
       "  '_task-pdm_acq-insideMRT_run-05_beh.tsv']}"
      ]
     },
     "execution_count": 31,
     "metadata": {},
     "output_type": "execute_result"
    }
   ],
   "source": [
    "# runs\n",
    "outside_runs=[]\n",
    "inside_runs=[]\n",
    "\n",
    "# outside MRI only has 2 runs\n",
    "side = 'outside'\n",
    "for i in range(2):\n",
    "    run = '_task-pdm_acq-'+side+'MRT_run-0'+str(i+1)+'_beh.tsv'\n",
    "    outside_runs.append(run)\n",
    "\n",
    "# inside MRI has 5 runs\n",
    "side = 'inside'    \n",
    "for i in range(5):\n",
    "    run = '_task-pdm_acq-'+side+'MRT_run-0'+str(i+1)+'_beh.tsv'\n",
    "    inside_runs.append(run)\n",
    "\n",
    "# zip into a dict\n",
    "runs = {\n",
    "        'outside':outside_runs,\n",
    "        'inside':inside_runs\n",
    "}\n",
    "runs"
   ]
  },
  {
   "cell_type": "code",
   "execution_count": 32,
   "metadata": {},
   "outputs": [],
   "source": [
    "# side and datatype\n",
    "side = 'outside'\n",
    "datatype = 'beh'"
   ]
  },
  {
   "cell_type": "code",
   "execution_count": 33,
   "metadata": {},
   "outputs": [],
   "source": [
    "# list to load filename\n",
    "df_dirs=[]\n",
    "\n",
    "\n",
    "# subj_idx(list)\n",
    "for subj_idx in subjects: \n",
    "# task(dict)\n",
    "    task=tasks[side]\n",
    "# datatype(dict)\n",
    "    datatype=datatypes[datatype]\n",
    "# run(dict)\n",
    "    for run in runs[side]:\n",
    "        run=subj_idx+run\n",
    "# combine path\n",
    "        df_dir=os.path.join(temp_dir, datadir, subj_idx, task, datatype, run)\n",
    "        df_dir=os.path.normpath(df_dir)\n",
    "# memory path\n",
    "        df_dirs.append(df_dir)"
   ]
  },
  {
   "cell_type": "markdown",
   "metadata": {},
   "source": [
    "Load data and record dir which has no file."
   ]
  },
  {
   "cell_type": "code",
   "execution_count": 34,
   "metadata": {},
   "outputs": [],
   "source": [
    "# df where to record dir which has file. \n",
    "df_has_dirs = []\n",
    "\n",
    "# df where to record dir which has no file.\n",
    "df_no_dirs = []\n"
   ]
  },
  {
   "cell_type": "code",
   "execution_count": 41,
   "metadata": {},
   "outputs": [
    {
     "data": {
      "text/plain": [
       "144"
      ]
     },
     "execution_count": 41,
     "metadata": {},
     "output_type": "execute_result"
    }
   ],
   "source": [
    "len(df)"
   ]
  },
  {
   "cell_type": "code",
   "execution_count": 36,
   "metadata": {},
   "outputs": [],
   "source": [
    "\n",
    "# load data.\n",
    "for df_dir in df_dirs:\n",
    "    if os.path.exists(df_dir):\n",
    "        df_has_dirs.append(df_dir)\n",
    "        df = pd.read_csv(df_dir,sep='\\t')\n",
    "    else:\n",
    "        df_no_dirs.append(df_dir)\n"
   ]
  },
  {
   "cell_type": "code",
   "execution_count": 37,
   "metadata": {},
   "outputs": [
    {
     "data": {
      "text/plain": [
       "[]"
      ]
     },
     "execution_count": 37,
     "metadata": {},
     "output_type": "execute_result"
    }
   ],
   "source": [
    "df_no_dirs"
   ]
  },
  {
   "cell_type": "markdown",
   "metadata": {},
   "source": [
    "# Extract EEG(vhdr) data from BIDS folder and merge them \n",
    "\n",
    "df_dirs: path + subj_idx + task + datatype + run\n",
    "\n",
    "**e.g.** './BIDS_data/sub-003/sourcedata-eeg_inside-MRT/beh/sub-003_task-pdm_acq-insideMRT_run-01_eeg.vhdr'\n",
    "\n",
    "data in outside/inside-MRT is split by 'run' times.\n",
    "\n",
    "data in outside-MRT is **not** split by 'run' times.\n",
    "\n",
    "data in inside-MRT is split by 'run' times.\n",
    "\n",
    "the load pipeline doesn't consider fMRI"
   ]
  },
  {
   "cell_type": "markdown",
   "metadata": {},
   "source": [
    "path name\n",
    "\n",
    "**e.g.** './BIDS_data'"
   ]
  },
  {
   "cell_type": "code",
   "execution_count": 13,
   "metadata": {},
   "outputs": [],
   "source": [
    "# cur_dir:./Projects/[projectname]/2_study/2_4_Analysis/2_4_2_Scripts[workingdir]'\n",
    "temp_dir =os.path.dirname(               # ./\n",
    "        os.path.dirname(                 # /3_projects\n",
    "            os.path.dirname(             # /[projectname]\n",
    "                os.path.dirname(         # /2_study\n",
    "                    os.path.dirname(     # /2_4_Analysis\n",
    "                        os.getcwd()      # /2_4_2_Scripts(workingdir)\n",
    "                        )))))\n",
    "\n",
    "# data_dir:./'2_Data/Ostwald2018/BIDS_data/...'\n",
    "typename = 'Data'\n",
    "dataname = 'Ostwald2018'\n",
    "BIDSname = 'BIDS_data' \n",
    "datadir = os.path.join(typename, dataname, BIDSname)\n",
    "datadir = os.path.normpath(datadir)"
   ]
  },
  {
   "cell_type": "markdown",
   "metadata": {},
   "source": [
    "subj_idx name\n",
    "\n",
    "**e.g.** 'sub-001'"
   ]
  },
  {
   "cell_type": "code",
   "execution_count": 14,
   "metadata": {},
   "outputs": [],
   "source": [
    "# subj_idx\n",
    "subjects = ['sub-001', \n",
    "                 #'sub-002', # there is no outside beh or eeg data\n",
    "                 'sub-003', \n",
    "                 'sub-004', \n",
    "                 'sub-005', \n",
    "                 'sub-006', \n",
    "                 'sub-007', \n",
    "                 'sub-008', \n",
    "                 'sub-009', \n",
    "                 'sub-010', \n",
    "                 'sub-011', \n",
    "                 'sub-012',\n",
    "                 'sub-013', \n",
    "                 'sub-014', \n",
    "                 'sub-015', \n",
    "                 'sub-016',\n",
    "                 'sub-017']"
   ]
  },
  {
   "cell_type": "markdown",
   "metadata": {},
   "source": [
    "task name\n",
    "\n",
    "**e.g.** 'sourcedata-eeg_outside-MRT'\n"
   ]
  },
  {
   "cell_type": "code",
   "execution_count": 15,
   "metadata": {},
   "outputs": [],
   "source": [
    "tasks = {\n",
    "        'outside':'sourcedata-eeg_outside-MRT',\n",
    "        'inside':'sourcedata-eeg_inside-MRT',\n",
    "        'fmri':'sourcedata-fmri'\n",
    "    }"
   ]
  },
  {
   "cell_type": "markdown",
   "metadata": {},
   "source": [
    "datatype name\n",
    "\n",
    "**e.g.** 'beh'\n"
   ]
  },
  {
   "cell_type": "code",
   "execution_count": 16,
   "metadata": {},
   "outputs": [],
   "source": [
    "datatypes = {'beh':'beh','eeg':'eeg'}"
   ]
  },
  {
   "cell_type": "markdown",
   "metadata": {},
   "source": [
    "run name\n",
    "\n",
    "**e.g.** 'outsideMRT_run-01_eeg.vhdr'\n"
   ]
  },
  {
   "cell_type": "code",
   "execution_count": 17,
   "metadata": {},
   "outputs": [
    {
     "data": {
      "text/plain": [
       "{'outside': ['_task-pdm_acq-outsideMRT_eeg.vhdr'],\n",
       " 'inside': ['_task-pdm_acq-insideMRT_run-01_eeg.vhdr',\n",
       "  '_task-pdm_acq-insideMRT_run-02_eeg.vhdr',\n",
       "  '_task-pdm_acq-insideMRT_run-03_eeg.vhdr',\n",
       "  '_task-pdm_acq-insideMRT_run-04_eeg.vhdr',\n",
       "  '_task-pdm_acq-insideMRT_run-05_eeg.vhdr']}"
      ]
     },
     "execution_count": 17,
     "metadata": {},
     "output_type": "execute_result"
    }
   ],
   "source": [
    "# runs\n",
    "outside_runs=[]\n",
    "inside_runs=[]\n",
    "\n",
    "# outside MRI only has 2 runs, and they are in the same file\n",
    "side = 'outside'\n",
    "for i in range(1):\n",
    "    run = '_task-pdm_acq-'+side+'MRT_eeg.vhdr'\n",
    "    outside_runs.append(run)\n",
    "\n",
    "# inside MRI has 5 runs\n",
    "side = 'inside'    \n",
    "for i in range(5):\n",
    "    run = '_task-pdm_acq-'+side+'MRT_run-0'+str(i+1)+'_eeg.vhdr'\n",
    "    inside_runs.append(run)\n",
    "\n",
    "# zip into a dict\n",
    "runs = {\n",
    "        'outside':outside_runs,\n",
    "        'inside':inside_runs\n",
    "}\n",
    "runs"
   ]
  },
  {
   "cell_type": "code",
   "execution_count": 18,
   "metadata": {},
   "outputs": [],
   "source": [
    "# side and datatype\n",
    "side = 'outside'\n",
    "datatype = 'eeg'"
   ]
  },
  {
   "cell_type": "code",
   "execution_count": 19,
   "metadata": {},
   "outputs": [],
   "source": [
    "# list to load filename\n",
    "df_dirs=[]\n",
    "\n",
    "\n",
    "# subj_idx(list)\n",
    "for subj_idx in subjects: \n",
    "# task(dict)\n",
    "    task=tasks[side]\n",
    "# datatype(dict)\n",
    "    datatype=datatypes[datatype]\n",
    "# run(dict)\n",
    "    for run in runs[side]:\n",
    "        run=subj_idx+run\n",
    "# combine path\n",
    "        df_dir=os.path.join(temp_dir, datadir, subj_idx, task, datatype, run)\n",
    "        df_dir=os.path.normpath(df_dir)\n",
    "# memory path\n",
    "        df_dirs.append(df_dir)"
   ]
  },
  {
   "cell_type": "code",
   "execution_count": 20,
   "metadata": {},
   "outputs": [
    {
     "name": "stdout",
     "output_type": "stream",
     "text": [
      "Extracting parameters from f:\\Data\\Ostwald2018\\BIDS_data\\sub-001\\sourcedata-eeg_outside-MRT\\eeg\\sub-001_task-pdm_acq-outsideMRT_eeg.vhdr...\n",
      "Setting channel info structure...\n"
     ]
    },
    {
     "name": "stderr",
     "output_type": "stream",
     "text": [
      "C:\\Users\\liuyikang\\AppData\\Local\\Temp\\ipykernel_24560\\938834549.py:11: RuntimeWarning: No coordinate information found for channels ['EOG', 'ECG']. Setting channel types to misc. To avoid this warning, set channel types explicitly.\n",
      "  raw = mne.io.read_raw_brainvision(df_dir)\n",
      "C:\\Users\\liuyikang\\AppData\\Local\\Temp\\ipykernel_24560\\938834549.py:11: RuntimeWarning: Not setting positions of 2 misc channels found in montage:\n",
      "['EOG', 'ECG']\n",
      "Consider setting the channel types to be of EEG/sEEG/ECoG/DBS/fNIRS using inst.set_channel_types before calling inst.set_montage, or omit these channels when creating your montage.\n",
      "  raw = mne.io.read_raw_brainvision(df_dir)\n"
     ]
    },
    {
     "name": "stdout",
     "output_type": "stream",
     "text": [
      "Extracting parameters from f:\\Data\\Ostwald2018\\BIDS_data\\sub-003\\sourcedata-eeg_outside-MRT\\eeg\\sub-003_task-pdm_acq-outsideMRT_eeg.vhdr...\n",
      "Setting channel info structure...\n",
      "Extracting parameters from f:\\Data\\Ostwald2018\\BIDS_data\\sub-004\\sourcedata-eeg_outside-MRT\\eeg\\sub-004_task-pdm_acq-outsideMRT_eeg.vhdr...\n",
      "Setting channel info structure...\n"
     ]
    },
    {
     "name": "stderr",
     "output_type": "stream",
     "text": [
      "C:\\Users\\liuyikang\\AppData\\Local\\Temp\\ipykernel_24560\\938834549.py:11: RuntimeWarning: No coordinate information found for channels ['EOG', 'ECG']. Setting channel types to misc. To avoid this warning, set channel types explicitly.\n",
      "  raw = mne.io.read_raw_brainvision(df_dir)\n",
      "C:\\Users\\liuyikang\\AppData\\Local\\Temp\\ipykernel_24560\\938834549.py:11: RuntimeWarning: Not setting positions of 2 misc channels found in montage:\n",
      "['EOG', 'ECG']\n",
      "Consider setting the channel types to be of EEG/sEEG/ECoG/DBS/fNIRS using inst.set_channel_types before calling inst.set_montage, or omit these channels when creating your montage.\n",
      "  raw = mne.io.read_raw_brainvision(df_dir)\n",
      "C:\\Users\\liuyikang\\AppData\\Local\\Temp\\ipykernel_24560\\938834549.py:11: RuntimeWarning: No coordinate information found for channels ['EOG', 'ECG']. Setting channel types to misc. To avoid this warning, set channel types explicitly.\n",
      "  raw = mne.io.read_raw_brainvision(df_dir)\n",
      "C:\\Users\\liuyikang\\AppData\\Local\\Temp\\ipykernel_24560\\938834549.py:11: RuntimeWarning: Not setting positions of 2 misc channels found in montage:\n",
      "['EOG', 'ECG']\n",
      "Consider setting the channel types to be of EEG/sEEG/ECoG/DBS/fNIRS using inst.set_channel_types before calling inst.set_montage, or omit these channels when creating your montage.\n",
      "  raw = mne.io.read_raw_brainvision(df_dir)\n"
     ]
    },
    {
     "name": "stdout",
     "output_type": "stream",
     "text": [
      "Extracting parameters from f:\\Data\\Ostwald2018\\BIDS_data\\sub-005\\sourcedata-eeg_outside-MRT\\eeg\\sub-005_task-pdm_acq-outsideMRT_eeg.vhdr...\n",
      "Setting channel info structure...\n",
      "Extracting parameters from f:\\Data\\Ostwald2018\\BIDS_data\\sub-006\\sourcedata-eeg_outside-MRT\\eeg\\sub-006_task-pdm_acq-outsideMRT_eeg.vhdr...\n",
      "Setting channel info structure...\n"
     ]
    },
    {
     "name": "stderr",
     "output_type": "stream",
     "text": [
      "C:\\Users\\liuyikang\\AppData\\Local\\Temp\\ipykernel_24560\\938834549.py:11: RuntimeWarning: No coordinate information found for channels ['EOG', 'ECG']. Setting channel types to misc. To avoid this warning, set channel types explicitly.\n",
      "  raw = mne.io.read_raw_brainvision(df_dir)\n",
      "C:\\Users\\liuyikang\\AppData\\Local\\Temp\\ipykernel_24560\\938834549.py:11: RuntimeWarning: Not setting positions of 2 misc channels found in montage:\n",
      "['EOG', 'ECG']\n",
      "Consider setting the channel types to be of EEG/sEEG/ECoG/DBS/fNIRS using inst.set_channel_types before calling inst.set_montage, or omit these channels when creating your montage.\n",
      "  raw = mne.io.read_raw_brainvision(df_dir)\n",
      "C:\\Users\\liuyikang\\AppData\\Local\\Temp\\ipykernel_24560\\938834549.py:11: RuntimeWarning: No coordinate information found for channels ['EOG', 'ECG']. Setting channel types to misc. To avoid this warning, set channel types explicitly.\n",
      "  raw = mne.io.read_raw_brainvision(df_dir)\n",
      "C:\\Users\\liuyikang\\AppData\\Local\\Temp\\ipykernel_24560\\938834549.py:11: RuntimeWarning: Not setting positions of 2 misc channels found in montage:\n",
      "['EOG', 'ECG']\n",
      "Consider setting the channel types to be of EEG/sEEG/ECoG/DBS/fNIRS using inst.set_channel_types before calling inst.set_montage, or omit these channels when creating your montage.\n",
      "  raw = mne.io.read_raw_brainvision(df_dir)\n"
     ]
    },
    {
     "name": "stdout",
     "output_type": "stream",
     "text": [
      "Extracting parameters from f:\\Data\\Ostwald2018\\BIDS_data\\sub-007\\sourcedata-eeg_outside-MRT\\eeg\\sub-007_task-pdm_acq-outsideMRT_eeg.vhdr...\n",
      "Setting channel info structure...\n",
      "Extracting parameters from f:\\Data\\Ostwald2018\\BIDS_data\\sub-008\\sourcedata-eeg_outside-MRT\\eeg\\sub-008_task-pdm_acq-outsideMRT_eeg.vhdr...\n",
      "Setting channel info structure...\n"
     ]
    },
    {
     "name": "stderr",
     "output_type": "stream",
     "text": [
      "C:\\Users\\liuyikang\\AppData\\Local\\Temp\\ipykernel_24560\\938834549.py:11: RuntimeWarning: No coordinate information found for channels ['EOG', 'ECG']. Setting channel types to misc. To avoid this warning, set channel types explicitly.\n",
      "  raw = mne.io.read_raw_brainvision(df_dir)\n",
      "C:\\Users\\liuyikang\\AppData\\Local\\Temp\\ipykernel_24560\\938834549.py:11: RuntimeWarning: Not setting positions of 2 misc channels found in montage:\n",
      "['EOG', 'ECG']\n",
      "Consider setting the channel types to be of EEG/sEEG/ECoG/DBS/fNIRS using inst.set_channel_types before calling inst.set_montage, or omit these channels when creating your montage.\n",
      "  raw = mne.io.read_raw_brainvision(df_dir)\n",
      "C:\\Users\\liuyikang\\AppData\\Local\\Temp\\ipykernel_24560\\938834549.py:11: RuntimeWarning: No coordinate information found for channels ['EOG', 'ECG']. Setting channel types to misc. To avoid this warning, set channel types explicitly.\n",
      "  raw = mne.io.read_raw_brainvision(df_dir)\n",
      "C:\\Users\\liuyikang\\AppData\\Local\\Temp\\ipykernel_24560\\938834549.py:11: RuntimeWarning: Not setting positions of 2 misc channels found in montage:\n",
      "['EOG', 'ECG']\n",
      "Consider setting the channel types to be of EEG/sEEG/ECoG/DBS/fNIRS using inst.set_channel_types before calling inst.set_montage, or omit these channels when creating your montage.\n",
      "  raw = mne.io.read_raw_brainvision(df_dir)\n"
     ]
    },
    {
     "name": "stdout",
     "output_type": "stream",
     "text": [
      "Extracting parameters from f:\\Data\\Ostwald2018\\BIDS_data\\sub-009\\sourcedata-eeg_outside-MRT\\eeg\\sub-009_task-pdm_acq-outsideMRT_eeg.vhdr...\n",
      "Setting channel info structure...\n",
      "Extracting parameters from f:\\Data\\Ostwald2018\\BIDS_data\\sub-010\\sourcedata-eeg_outside-MRT\\eeg\\sub-010_task-pdm_acq-outsideMRT_eeg.vhdr...\n",
      "Setting channel info structure...\n"
     ]
    },
    {
     "name": "stderr",
     "output_type": "stream",
     "text": [
      "C:\\Users\\liuyikang\\AppData\\Local\\Temp\\ipykernel_24560\\938834549.py:11: RuntimeWarning: No coordinate information found for channels ['EOG', 'ECG']. Setting channel types to misc. To avoid this warning, set channel types explicitly.\n",
      "  raw = mne.io.read_raw_brainvision(df_dir)\n",
      "C:\\Users\\liuyikang\\AppData\\Local\\Temp\\ipykernel_24560\\938834549.py:11: RuntimeWarning: Not setting positions of 2 misc channels found in montage:\n",
      "['EOG', 'ECG']\n",
      "Consider setting the channel types to be of EEG/sEEG/ECoG/DBS/fNIRS using inst.set_channel_types before calling inst.set_montage, or omit these channels when creating your montage.\n",
      "  raw = mne.io.read_raw_brainvision(df_dir)\n",
      "C:\\Users\\liuyikang\\AppData\\Local\\Temp\\ipykernel_24560\\938834549.py:11: RuntimeWarning: No coordinate information found for channels ['EOG', 'ECG']. Setting channel types to misc. To avoid this warning, set channel types explicitly.\n",
      "  raw = mne.io.read_raw_brainvision(df_dir)\n",
      "C:\\Users\\liuyikang\\AppData\\Local\\Temp\\ipykernel_24560\\938834549.py:11: RuntimeWarning: Not setting positions of 2 misc channels found in montage:\n",
      "['EOG', 'ECG']\n",
      "Consider setting the channel types to be of EEG/sEEG/ECoG/DBS/fNIRS using inst.set_channel_types before calling inst.set_montage, or omit these channels when creating your montage.\n",
      "  raw = mne.io.read_raw_brainvision(df_dir)\n"
     ]
    },
    {
     "name": "stdout",
     "output_type": "stream",
     "text": [
      "Extracting parameters from f:\\Data\\Ostwald2018\\BIDS_data\\sub-011\\sourcedata-eeg_outside-MRT\\eeg\\sub-011_task-pdm_acq-outsideMRT_eeg.vhdr...\n",
      "Setting channel info structure...\n",
      "Extracting parameters from f:\\Data\\Ostwald2018\\BIDS_data\\sub-012\\sourcedata-eeg_outside-MRT\\eeg\\sub-012_task-pdm_acq-outsideMRT_eeg.vhdr...\n"
     ]
    },
    {
     "name": "stderr",
     "output_type": "stream",
     "text": [
      "C:\\Users\\liuyikang\\AppData\\Local\\Temp\\ipykernel_24560\\938834549.py:11: RuntimeWarning: No coordinate information found for channels ['EOG', 'ECG']. Setting channel types to misc. To avoid this warning, set channel types explicitly.\n",
      "  raw = mne.io.read_raw_brainvision(df_dir)\n",
      "C:\\Users\\liuyikang\\AppData\\Local\\Temp\\ipykernel_24560\\938834549.py:11: RuntimeWarning: Not setting positions of 2 misc channels found in montage:\n",
      "['EOG', 'ECG']\n",
      "Consider setting the channel types to be of EEG/sEEG/ECoG/DBS/fNIRS using inst.set_channel_types before calling inst.set_montage, or omit these channels when creating your montage.\n",
      "  raw = mne.io.read_raw_brainvision(df_dir)\n"
     ]
    },
    {
     "name": "stdout",
     "output_type": "stream",
     "text": [
      "Setting channel info structure...\n",
      "Extracting parameters from f:\\Data\\Ostwald2018\\BIDS_data\\sub-013\\sourcedata-eeg_outside-MRT\\eeg\\sub-013_task-pdm_acq-outsideMRT_eeg.vhdr...\n",
      "Setting channel info structure...\n"
     ]
    },
    {
     "name": "stderr",
     "output_type": "stream",
     "text": [
      "C:\\Users\\liuyikang\\AppData\\Local\\Temp\\ipykernel_24560\\938834549.py:11: RuntimeWarning: No coordinate information found for channels ['EOG', 'ECG']. Setting channel types to misc. To avoid this warning, set channel types explicitly.\n",
      "  raw = mne.io.read_raw_brainvision(df_dir)\n",
      "C:\\Users\\liuyikang\\AppData\\Local\\Temp\\ipykernel_24560\\938834549.py:11: RuntimeWarning: Not setting positions of 2 misc channels found in montage:\n",
      "['EOG', 'ECG']\n",
      "Consider setting the channel types to be of EEG/sEEG/ECoG/DBS/fNIRS using inst.set_channel_types before calling inst.set_montage, or omit these channels when creating your montage.\n",
      "  raw = mne.io.read_raw_brainvision(df_dir)\n",
      "C:\\Users\\liuyikang\\AppData\\Local\\Temp\\ipykernel_24560\\938834549.py:11: RuntimeWarning: No coordinate information found for channels ['EOG', 'ECG']. Setting channel types to misc. To avoid this warning, set channel types explicitly.\n",
      "  raw = mne.io.read_raw_brainvision(df_dir)\n",
      "C:\\Users\\liuyikang\\AppData\\Local\\Temp\\ipykernel_24560\\938834549.py:11: RuntimeWarning: Not setting positions of 2 misc channels found in montage:\n",
      "['EOG', 'ECG']\n",
      "Consider setting the channel types to be of EEG/sEEG/ECoG/DBS/fNIRS using inst.set_channel_types before calling inst.set_montage, or omit these channels when creating your montage.\n",
      "  raw = mne.io.read_raw_brainvision(df_dir)\n"
     ]
    },
    {
     "name": "stdout",
     "output_type": "stream",
     "text": [
      "Extracting parameters from f:\\Data\\Ostwald2018\\BIDS_data\\sub-014\\sourcedata-eeg_outside-MRT\\eeg\\sub-014_task-pdm_acq-outsideMRT_eeg.vhdr...\n",
      "Setting channel info structure...\n",
      "Extracting parameters from f:\\Data\\Ostwald2018\\BIDS_data\\sub-015\\sourcedata-eeg_outside-MRT\\eeg\\sub-015_task-pdm_acq-outsideMRT_eeg.vhdr...\n",
      "Setting channel info structure...\n"
     ]
    },
    {
     "name": "stderr",
     "output_type": "stream",
     "text": [
      "C:\\Users\\liuyikang\\AppData\\Local\\Temp\\ipykernel_24560\\938834549.py:11: RuntimeWarning: No coordinate information found for channels ['EOG', 'ECG']. Setting channel types to misc. To avoid this warning, set channel types explicitly.\n",
      "  raw = mne.io.read_raw_brainvision(df_dir)\n",
      "C:\\Users\\liuyikang\\AppData\\Local\\Temp\\ipykernel_24560\\938834549.py:11: RuntimeWarning: Not setting positions of 2 misc channels found in montage:\n",
      "['EOG', 'ECG']\n",
      "Consider setting the channel types to be of EEG/sEEG/ECoG/DBS/fNIRS using inst.set_channel_types before calling inst.set_montage, or omit these channels when creating your montage.\n",
      "  raw = mne.io.read_raw_brainvision(df_dir)\n",
      "C:\\Users\\liuyikang\\AppData\\Local\\Temp\\ipykernel_24560\\938834549.py:11: RuntimeWarning: No coordinate information found for channels ['EOG', 'ECG']. Setting channel types to misc. To avoid this warning, set channel types explicitly.\n",
      "  raw = mne.io.read_raw_brainvision(df_dir)\n",
      "C:\\Users\\liuyikang\\AppData\\Local\\Temp\\ipykernel_24560\\938834549.py:11: RuntimeWarning: Not setting positions of 2 misc channels found in montage:\n",
      "['EOG', 'ECG']\n",
      "Consider setting the channel types to be of EEG/sEEG/ECoG/DBS/fNIRS using inst.set_channel_types before calling inst.set_montage, or omit these channels when creating your montage.\n",
      "  raw = mne.io.read_raw_brainvision(df_dir)\n"
     ]
    },
    {
     "name": "stdout",
     "output_type": "stream",
     "text": [
      "Extracting parameters from f:\\Data\\Ostwald2018\\BIDS_data\\sub-016\\sourcedata-eeg_outside-MRT\\eeg\\sub-016_task-pdm_acq-outsideMRT_eeg.vhdr...\n",
      "Setting channel info structure...\n",
      "Extracting parameters from f:\\Data\\Ostwald2018\\BIDS_data\\sub-017\\sourcedata-eeg_outside-MRT\\eeg\\sub-017_task-pdm_acq-outsideMRT_eeg.vhdr...\n",
      "Setting channel info structure...\n"
     ]
    },
    {
     "name": "stderr",
     "output_type": "stream",
     "text": [
      "C:\\Users\\liuyikang\\AppData\\Local\\Temp\\ipykernel_24560\\938834549.py:11: RuntimeWarning: No coordinate information found for channels ['EOG', 'ECG']. Setting channel types to misc. To avoid this warning, set channel types explicitly.\n",
      "  raw = mne.io.read_raw_brainvision(df_dir)\n",
      "C:\\Users\\liuyikang\\AppData\\Local\\Temp\\ipykernel_24560\\938834549.py:11: RuntimeWarning: Not setting positions of 2 misc channels found in montage:\n",
      "['EOG', 'ECG']\n",
      "Consider setting the channel types to be of EEG/sEEG/ECoG/DBS/fNIRS using inst.set_channel_types before calling inst.set_montage, or omit these channels when creating your montage.\n",
      "  raw = mne.io.read_raw_brainvision(df_dir)\n",
      "C:\\Users\\liuyikang\\AppData\\Local\\Temp\\ipykernel_24560\\938834549.py:11: RuntimeWarning: No coordinate information found for channels ['EOG', 'ECG']. Setting channel types to misc. To avoid this warning, set channel types explicitly.\n",
      "  raw = mne.io.read_raw_brainvision(df_dir)\n",
      "C:\\Users\\liuyikang\\AppData\\Local\\Temp\\ipykernel_24560\\938834549.py:11: RuntimeWarning: Not setting positions of 2 misc channels found in montage:\n",
      "['EOG', 'ECG']\n",
      "Consider setting the channel types to be of EEG/sEEG/ECoG/DBS/fNIRS using inst.set_channel_types before calling inst.set_montage, or omit these channels when creating your montage.\n",
      "  raw = mne.io.read_raw_brainvision(df_dir)\n"
     ]
    }
   ],
   "source": [
    "# df where to record dir which has file. \n",
    "df_has_dirs = []\n",
    "\n",
    "# df where to record dir which has no file.\n",
    "df_no_dirs = []\n",
    "\n",
    "# load data.\n",
    "for df_dir in df_dirs:\n",
    "    if os.path.exists(df_dir):\n",
    "        df_has_dirs.append(df_dir)\n",
    "        raw = mne.io.read_raw_brainvision(df_dir)\n",
    "    else:\n",
    "        df_no_dirs.append(df_dir)"
   ]
  },
  {
   "cell_type": "code",
   "execution_count": 21,
   "metadata": {},
   "outputs": [
    {
     "name": "stdout",
     "output_type": "stream",
     "text": [
      "[]\n"
     ]
    }
   ],
   "source": [
    "print(df_no_dirs)"
   ]
  },
  {
   "cell_type": "code",
   "execution_count": null,
   "metadata": {},
   "outputs": [],
   "source": []
  }
 ],
 "metadata": {
  "kernelspec": {
   "display_name": "Python 3.9.13 ('base')",
   "language": "python",
   "name": "python3"
  },
  "language_info": {
   "codemirror_mode": {
    "name": "ipython",
    "version": 3
   },
   "file_extension": ".py",
   "mimetype": "text/x-python",
   "name": "python",
   "nbconvert_exporter": "python",
   "pygments_lexer": "ipython3",
   "version": "3.9.13"
  },
  "orig_nbformat": 4,
  "vscode": {
   "interpreter": {
    "hash": "5179d32cf6ec497baf3f8a3ef987cc77c5d2dc691fdde20a56316522f61a7323"
   }
  }
 },
 "nbformat": 4,
 "nbformat_minor": 2
}
