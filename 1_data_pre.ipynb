{
 "cells": [
  {
   "cell_type": "code",
   "execution_count": 1,
   "metadata": {},
   "outputs": [
    {
     "name": "stdout",
     "output_type": "stream",
     "text": [
      "Python version is 3.9.13 (tags/v3.9.13:6de2ca5, May 17 2022, 16:36:42) [MSC v.1929 64 bit (AMD64)]\n",
      "MNE version is 0.23.3\n"
     ]
    }
   ],
   "source": [
    "%matplotlib inline\n",
    "import numpy as np\n",
    "import pandas as pd\n",
    "import seaborn as sns\n",
    "import matplotlib as mpl\n",
    "import matplotlib.pyplot as plt\n",
    "import os\n",
    "import re\n",
    "import sys\n",
    "import mne\n",
    "from mne.event import define_target_events\n",
    "from mne.channels import make_1020_channel_selections\n",
    "from mne.preprocessing import (ICA, create_eog_epochs, create_ecg_epochs, corrmap)\n",
    "import sklearn\n",
    "import os\n",
    "from glob import glob\n",
    "import sys\n",
    "import numpy as np\n",
    "import pandas as pd\n",
    "import matplotlib.pyplot as plt\n",
    "import seaborn as sns\n",
    "import scipy.stats as stats\n",
    "import statsmodels.api as sm\n",
    "from scipy.stats import ttest_1samp\n",
    "from statsmodels.stats.anova import AnovaRM\n",
    "\n",
    "\n",
    "print(\"Python version is\", sys.version)\n",
    "print(\"MNE version is\", mne.__version__)"
   ]
  },
  {
   "cell_type": "code",
   "execution_count": 300,
   "metadata": {},
   "outputs": [
    {
     "name": "stdout",
     "output_type": "stream",
     "text": [
      "Python version is 3.9.13 (tags/v3.9.13:6de2ca5, May 17 2022, 16:36:42) [MSC v.1929 64 bit (AMD64)]\n",
      "MNE version is 0.23.3\n",
      "                             Anova\n",
      "===============================================================\n",
      "                                  F Value Num DF  Den DF Pr > F\n",
      "---------------------------------------------------------------\n",
      "coherency                         52.4021 1.0000 15.0000 0.0000\n",
      "prioritization                     4.4880 1.0000 15.0000 0.0512\n",
      "stimulus                           2.7622 1.0000 15.0000 0.1173\n",
      "coherency:prioritization           0.0166 1.0000 15.0000 0.8991\n",
      "coherency:stimulus                 0.2978 1.0000 15.0000 0.5933\n",
      "prioritization:stimulus            0.2356 1.0000 15.0000 0.6344\n",
      "coherency:prioritization:stimulus  0.0001 1.0000 15.0000 0.9922\n",
      "===============================================================\n",
      "\n",
      "                             Anova\n",
      "===============================================================\n",
      "                                  F Value Num DF  Den DF Pr > F\n",
      "---------------------------------------------------------------\n",
      "coherency                         38.3087 1.0000 15.0000 0.0000\n",
      "prioritization                    12.9188 1.0000 15.0000 0.0027\n",
      "stimulus                           0.6752 1.0000 15.0000 0.4241\n",
      "coherency:prioritization           1.0767 1.0000 15.0000 0.3159\n",
      "coherency:stimulus                 2.4123 1.0000 15.0000 0.1412\n",
      "prioritization:stimulus            0.1468 1.0000 15.0000 0.7070\n",
      "coherency:prioritization:stimulus  0.9051 1.0000 15.0000 0.3565\n",
      "===============================================================\n",
      "\n"
     ]
    }
   ],
   "source": [
    "\n",
    "print(\"Python version is\", sys.version)\n",
    "print(\"MNE version is\", mne.__version__)\n",
    "\n",
    "## read data\n",
    "#subj_idx\n",
    "subjects = ['sub-001', \n",
    "                 'sub-003', \n",
    "                 'sub-004', #\n",
    "                 'sub-005', \n",
    "                 'sub-006', \n",
    "                 'sub-007', #\n",
    "                 'sub-008', \n",
    "                 'sub-009', #\n",
    "                 'sub-010', \n",
    "                 'sub-011', #\n",
    "                 'sub-012',\n",
    "                 'sub-013', #\n",
    "                 'sub-014', #\n",
    "                 'sub-015', \n",
    "                 'sub-016',\n",
    "                 'sub-017']\n",
    "# task\n",
    "tasks=[]\n",
    "for side in ['outside','inside']:\n",
    "    task='sourcedata-eeg_'+side+'-MRT'\n",
    "    tasks.append(task)\n",
    "# runs\n",
    "runs=[]\n",
    "for task in tasks:\n",
    "    if task == tasks[0]:\n",
    "        side = 'outside'\n",
    "        for i in range(1,3):\n",
    "            run = side+'MRT_run-0'+str(i)+'_beh.tsv'\n",
    "            runs.append(run)\n",
    "    else:\n",
    "        side='inside'\n",
    "        for i in range(1,6):\n",
    "            run = side+'MRT_run-0'+str(i)+'_beh.tsv'\n",
    "            runs.append(run)\n",
    "\n",
    "# df_dirs: path + subj_idx + task + datatype + run\n",
    "df_dirs=[]\n",
    "temp_dir =os.path.dirname(os.path.dirname(os.path.dirname(os.path.dirname(os.path.dirname(os.getcwd())))))\n",
    "BIDS_data=\"2_Data\\\\Ostwald2018\\\\BIDS_data\"\n",
    "datatype='beh'\n",
    "for subj_idx in subjects :\n",
    "    for task in tasks:\n",
    "        if task==tasks[0]:\n",
    "            for run_index in range(0,2):\n",
    "                run=runs[run_index]\n",
    "                run=subj_idx+'_task-pdm_acq-'+run\n",
    "                df_dir=os.path.join(temp_dir,BIDS_data,subj_idx,task,datatype,run)\n",
    "                df_dirs.append(df_dir)\n",
    "        else:\n",
    "            pass\n",
    "\n",
    "dfs=pd.DataFrame()\n",
    "for df_dir in df_dirs:\n",
    "    if os.path.exists(df_dir):\n",
    "        df=pd.read_csv(df_dir,sep='\\t')\n",
    "        subject=''.join(re.findall(r'BIDS_data\\\\(.+?)\\\\sourcedata',df_dir))\n",
    "        side=''.join(re.findall(r'\\\\sourcedata-eeg_(.+?)-MRT\\\\beh\\\\',df_dir))\n",
    "        run=''.join(re.findall(r'run-0(.+?)_beh',df_dir))\n",
    "        df['subject']=subject\n",
    "        df['side']=side\n",
    "        df['run']=int(run)\n",
    "        dfs=pd.concat([df,dfs])\n",
    "    else:\n",
    "        pass\n",
    "\n",
    "## clean data\n",
    "dfs['attention'] = dfs['prioritization_cue'].map({74:'left',75:'right',76:'double'},na_action=None)\n",
    "dfs['coherency']=dfs['condition'].map({1:'high',2:'high',3:'low',4:'low'})\n",
    "dfs['prioritization']=dfs['condition'].map({1:'yes',2:'no',3:'yes',4:'no'})\n",
    "\n",
    "car_images=[1,2,3,4,5,6,7,8,9,10,11,12,13,14,15,16,17,18,37,38,39,40,41,42,43,44,45,46,47,48,49,50,51,52,53,54]\n",
    "face_images=[19,20,21,22,23,24,25,26,27,28,29,30,31,32,33,34,35,36,55,56,57,58,59,60,61,62,63,64,65,66,67,68,69,70,71,72]\n",
    "dfs['category']=dfs['image_index'].isin(car_images).astype(int).map({1:'car', 0:'face'})\n",
    "\n",
    "bedata = dfs.loc[:,['response_time','response_corr','subject','attention','coherency','prioritization','category','run']]\n",
    "bedata.rename(columns={'response_time':'rt','response_corr':'response','subject':'subj_idx','category':'stimulus'},inplace = True)\n",
    "bedata.loc[(bedata['response']==1)&(bedata['stimulus']=='face'),'_response'] = 0 #face\n",
    "bedata.loc[(bedata['response']==1)&(bedata['stimulus']=='car'),'_response'] = 1 #car\n",
    "bedata.loc[(bedata['response']==0)&(bedata['stimulus']=='face'),'_response'] = 0\n",
    "bedata.loc[(bedata['response']==0)&(bedata['stimulus']=='car'),'_response'] = 1\n",
    "bedata['id']=bedata.index\n",
    "bedata = bedata.sort_values(by=['run','id'], axis=0, ascending=True)\n",
    "\n",
    "\n",
    "# cpp\n",
    "bedata['cpp_peak'] = np.nan\n",
    "bedata['cpp_slope'] = np.nan\n",
    "bedata['cpp_amplitude'] = np.nan\n",
    "\n",
    "# ANOVA\n",
    "model_aovrm2way = AnovaRM(bedata,\n",
    "                   'response',\n",
    "                   'subj_idx',\n",
    "                   within=['coherency','prioritization','stimulus'],\n",
    "                   aggregate_func='mean')\n",
    "res2way=model_aovrm2way.fit()\n",
    "print(res2way)\n",
    "model_aovrm2way = AnovaRM(bedata,\n",
    "                   'rt',\n",
    "                   'subj_idx',\n",
    "                   within=['coherency','prioritization','stimulus'],\n",
    "                   aggregate_func='mean')\n",
    "res2way=model_aovrm2way.fit()\n",
    "print(res2way)\n",
    "\n",
    "#event\n",
    "event_dict = {\n",
    "  'Response/car': 5,\n",
    "  'Response/face': 6,\n",
    "  'Stimulus/hc/p/left': 10,\n",
    "  'Stimulus/hc/p/right': 11,\n",
    "  'Stimulus/hc/np/left': 20,\n",
    "  'Stimulus/hc/np/right': 21,\n",
    "  'Stimulus/lc/p/left': 30,\n",
    "  'Stimulus/lc/p/right': 31,\n",
    "  'Stimulus/lc/np/left': 40,\n",
    "  'Stimulus/lc/np/right': 41,\n",
    "  'Cue/Left': 74,\n",
    "  'Cue/Right': 75,\n",
    "  'Cue/double': 76\n",
    "}\n",
    "\n",
    "cue_dict =  {\n",
    "  'Cue/Left': 74,\n",
    "  'Cue/Right': 75,\n",
    "  'Cue/double': 76\n",
    "}\n",
    "\n",
    "stimulus_dict = {\n",
    "  'Stimulus/hc/p/left': 10,\n",
    "  'Stimulus/hc/p/right': 11,\n",
    "  'Stimulus/hc/np/left': 20,\n",
    "  'Stimulus/hc/np/right': 21,\n",
    "  'Stimulus/lc/p/left': 30,\n",
    "  'Stimulus/lc/p/right': 31,\n",
    "  'Stimulus/lc/np/left': 40,\n",
    "  'Stimulus/lc/np/right': 41,\n",
    "}\n",
    "\n",
    "response_dict = {\n",
    "  'Response/car': 5,\n",
    "  'Response/face': 6,\n",
    "}\n"
   ]
  },
  {
   "cell_type": "code",
   "execution_count": null,
   "metadata": {},
   "outputs": [],
   "source": [
    "\n",
    "# extract feature\n",
    "for subject in subjects: # except 004\n",
    "    \n",
    "    # read data\n",
    "    side = 'sourcedata-eeg_outside-MRT'\n",
    "    \n",
    "    measures = ['eeg','beh']\n",
    "    \n",
    "    etask = os.path.join(subject + \"_task-pdm_acq-outsideMRT_eeg.vhdr\" )\n",
    "    \n",
    "    preprocessed = os.path.join(subject + \"_pred.fif\")\n",
    "    \n",
    "    edata_path = os.path.join(temp_dir, BIDS_data, subject, side, measures[0], etask)\n",
    "    \n",
    "    edata = mne.io.read_raw_brainvision(edata_path)\n",
    "\n",
    "    # preprocessing\n",
    "    edata.set_channel_types({'EOG':'eog'})   \n",
    "    \n",
    "    edata.set_channel_types({'ECG':'ecg'})\n",
    "    \n",
    "    edata.resample(512, npad=\"auto\")\n",
    "    \n",
    "    edata.filter(1, 30, fir_design='firwin', picks=['eeg'])\n",
    "    \n",
    "    edata.set_eeg_reference('average', projection=True).apply_proj()\n",
    "\n",
    "    # find events\n",
    "    events_from_annot, event_dict = mne.events_from_annotations(edata)\n",
    "\n",
    "    # ica remove artifact\n",
    "    ica = mne.preprocessing.ICA(n_components=50, random_state=97)\n",
    "    \n",
    "    ica.fit(edata) \n",
    "    \n",
    "    ica.exclude = []                                   \n",
    "    eog_indices, eog_scores = ica.find_bads_eog(edata) \n",
    "                                                                         \n",
    "    ecg_indices, ecg_scores = ica.find_bads_ecg(edata, method='ctps')\n",
    "                                                                   \n",
    "    ica.exclude = eog_indices + ecg_indices \n",
    "    \n",
    "    ica.apply(edata) \n",
    "    \n",
    "    # stimulus-locked epochs\n",
    "    epochs = mne.Epochs(edata, events_from_annot, event_id=stimulus_dict, tmin=-1, tmax=1,\n",
    "                    baseline = (None,0), preload=True, picks=['eeg'])\n",
    "\n",
    "    tname = os.path.join(os.path.dirname(os.getcwd()),'2_4_3_tmp_data',subject+\".fif\")\n",
    "\n",
    "    epochs.save(tname,overwrite=True)\n",
    "\n",
    "    # response-locked epochs\n",
    "    epochs_res = mne.Epochs(edata, events_from_annot, event_id=response_dict, tmin=-1, tmax=1,\n",
    "                     baseline = (None,0), preload=True, picks=['eeg'])\n",
    "\n",
    "    tname_res = os.path.join(os.path.dirname(os.getcwd()),'2_4_3_tmp_data',subject+\"_res.fif\")\n",
    "\n",
    "    epochs_res.save(tname_res,overwrite=True)\n",
    "\n",
    "    if subject != 'sub-004':\n",
    "\n",
    "        # epochs_baseline\n",
    "        channel = ['CPz','CP1','CP2']\n",
    "\n",
    "        time = [-0.2, 0]\n",
    "\n",
    "\n",
    "        # cpp peak\n",
    "        time = [-0.25, -0.1]\n",
    "\n",
    "        epochs_CPP = epochs_res.copy().pick_channels(channel)\n",
    "\n",
    "        epochs_CPP = epochs_CPP.crop(time[0],time[1])\n",
    "\n",
    "        times = epochs_CPP.times\n",
    "\n",
    "        epochs_CPP = epochs_CPP.get_data()\n",
    "\n",
    "        epochs_CPP = np.mean(epochs_CPP, axis = 1)\n",
    "\n",
    "        CPP_peak = np.amax(epochs_CPP, axis = 1)\n",
    "\n",
    "        # cpp slope\n",
    "        time = [-0.25, -0.1]\n",
    "\n",
    "        epochs_CPP = epochs_res.copy().pick_channels(channel)\n",
    "\n",
    "        epochs_CPP = epochs_CPP.crop(time[0],time[1])\n",
    "\n",
    "        times = epochs_CPP.times\n",
    "\n",
    "        epochs_CPP = epochs_CPP.get_data()\n",
    "\n",
    "        epochs_CPP = np.mean(epochs_CPP, axis = 1)\n",
    "\n",
    "        CPP_slopes = []\n",
    "        for i in range(epochs_CPP.shape[0]):\n",
    "            CPP_slope = np.polyfit(times,epochs_CPP[i,:],1)[0]\n",
    "            CPP_slopes = np.append(CPP_slopes,CPP_slope)\n",
    "\n",
    "        channel = ['CPz','CP1','CP2']\n",
    "\n",
    "        # cpp amplitude\n",
    "        time = [-0.1, -0]\n",
    "\n",
    "\n",
    "        epochs_CPP = epochs_res.copy().pick_channels(channel)\n",
    "\n",
    "        epochs_CPP = epochs_CPP.crop(time[0],time[1])\n",
    "\n",
    "        times = epochs_CPP.times\n",
    "\n",
    "        epochs_CPP = epochs_CPP.get_data()\n",
    "\n",
    "        epochs_CPP = np.mean(epochs_CPP, axis = 1) \n",
    "\n",
    "        CPP_amplitudes = np.mean(epochs_CPP, axis = 1)\n",
    "\n",
    "\n",
    "\n",
    "        # which trial has cpp\n",
    "        consecutives = []\n",
    "\n",
    "        for trial in range(epochs_CPP.shape[0]):\n",
    "            ps = []\n",
    "            for i in range(len(times)):\n",
    "                t,p = ttest_1samp(epochs_CPP[trial,:],0)\n",
    "                if p<=0.05:\n",
    "                    p = 1\n",
    "                else:\n",
    "                    p = 0\n",
    "                ps = np.append(ps,p)\n",
    "            start = 0\n",
    "            end = start + 15\n",
    "            consecutive = False\n",
    "            while (end <= len(times)) and (consecutive == False): \n",
    "                if np.sum(ps[start:end]) == 15:\n",
    "                    consecutive = True\n",
    "                else:\n",
    "                    start = start + 1\n",
    "                    end = start + 15\n",
    "            consecutives = np.append(consecutives,consecutive)\n",
    "\n",
    "        CPP_peak[np.where(consecutives == 0)] = -1\n",
    "\n",
    "        # cpp in bedata\n",
    "        where = np.array(np.where(bedata.loc[bedata['subj_idx']==subject,'rt'].isnull()))[0]\n",
    "\n",
    "        bedata[bedata['subj_idx']==subject].iloc[np.setdiff1d(np.arange(288), where),]['cpp_peak'] = CPP_peak\n",
    "\n",
    "        bedata[bedata['subj_idx']==subject].iloc[np.setdiff1d(np.arange(288), where),]['cpp_slopes'] = CPP_slopes\n",
    "\n",
    "        bedata[bedata['subj_idx']==subject].iloc[np.setdiff1d(np.arange(288), where),]['cpp_amplitudes'] = CPP_amplitudes\n",
    "    \n",
    "    else:\n",
    "        pass\n",
    "\n"
   ]
  },
  {
   "cell_type": "code",
   "execution_count": 184,
   "metadata": {},
   "outputs": [],
   "source": [
    "bedata['subj_idx']=bedata['subj_idx'].str.replace(r'sub-0',r'0')\n",
    "bedata = bedata.drop(bedata[bedata['cpp_peak']==-1].index)\n",
    "bedata = bedata.dropna(axis=0,how='any')\n",
    "\n",
    "bedata.to_csv('data.csv',index=False)"
   ]
  },
  {
   "cell_type": "code",
   "execution_count": 301,
   "metadata": {},
   "outputs": [
    {
     "name": "stdout",
     "output_type": "stream",
     "text": [
      "Reading d:\\yikang1020\\yikangsystem1020\\2_Projects\\202206_Centro-parietal positivity\\2_Study\\2_4_Analysis\\2_4_3_tmp_data\\sub-001.fif ...\n",
      "    Read a total of 1 projection items:\n",
      "        Average EEG reference (1 x 62) active\n",
      "    Found the data of interest:\n",
      "        t =   -1000.00 ...    1000.00 ms\n",
      "        0 CTF compensation matrices available\n"
     ]
    },
    {
     "name": "stderr",
     "output_type": "stream",
     "text": [
      "C:\\Users\\LIUYIK~1\\AppData\\Local\\Temp/ipykernel_1992/1452458755.py:9: RuntimeWarning: This filename (d:\\yikang1020\\yikangsystem1020\\2_Projects\\202206_Centro-parietal positivity\\2_Study\\2_4_Analysis\\2_4_3_tmp_data\\sub-001.fif) does not conform to MNE naming conventions. All epochs files should end with -epo.fif, -epo.fif.gz, _epo.fif or _epo.fif.gz\n",
      "  epochs = mne.read_epochs(edata_path)\n"
     ]
    },
    {
     "name": "stdout",
     "output_type": "stream",
     "text": [
      "Not setting metadata\n",
      "Not setting metadata\n",
      "288 matching events found\n",
      "No baseline correction applied\n",
      "Created an SSP operator (subspace dimension = 1)\n",
      "1 projection items activated\n",
      "Reading d:\\yikang1020\\yikangsystem1020\\2_Projects\\202206_Centro-parietal positivity\\2_Study\\2_4_Analysis\\2_4_3_tmp_data\\sub-001_res.fif ...\n",
      "    Read a total of 1 projection items:\n",
      "        Average EEG reference (1 x 62) active\n",
      "    Found the data of interest:\n",
      "        t =   -1000.00 ...    1000.00 ms\n",
      "        0 CTF compensation matrices available\n"
     ]
    },
    {
     "name": "stderr",
     "output_type": "stream",
     "text": [
      "C:\\Users\\LIUYIK~1\\AppData\\Local\\Temp/ipykernel_1992/1452458755.py:15: RuntimeWarning: This filename (d:\\yikang1020\\yikangsystem1020\\2_Projects\\202206_Centro-parietal positivity\\2_Study\\2_4_Analysis\\2_4_3_tmp_data\\sub-001_res.fif) does not conform to MNE naming conventions. All epochs files should end with -epo.fif, -epo.fif.gz, _epo.fif or _epo.fif.gz\n",
      "  epochs_res = mne.read_epochs(edata_path)\n"
     ]
    },
    {
     "name": "stdout",
     "output_type": "stream",
     "text": [
      "Not setting metadata\n",
      "Not setting metadata\n",
      "288 matching events found\n",
      "No baseline correction applied\n",
      "Created an SSP operator (subspace dimension = 1)\n",
      "1 projection items activated\n",
      "Reading d:\\yikang1020\\yikangsystem1020\\2_Projects\\202206_Centro-parietal positivity\\2_Study\\2_4_Analysis\\2_4_3_tmp_data\\sub-003.fif ...\n",
      "    Read a total of 1 projection items:\n",
      "        Average EEG reference (1 x 62) active\n",
      "    Found the data of interest:\n",
      "        t =   -1000.00 ...    1000.00 ms\n",
      "        0 CTF compensation matrices available\n"
     ]
    },
    {
     "name": "stderr",
     "output_type": "stream",
     "text": [
      "C:\\Users\\LIUYIK~1\\AppData\\Local\\Temp/ipykernel_1992/1452458755.py:9: RuntimeWarning: This filename (d:\\yikang1020\\yikangsystem1020\\2_Projects\\202206_Centro-parietal positivity\\2_Study\\2_4_Analysis\\2_4_3_tmp_data\\sub-003.fif) does not conform to MNE naming conventions. All epochs files should end with -epo.fif, -epo.fif.gz, _epo.fif or _epo.fif.gz\n",
      "  epochs = mne.read_epochs(edata_path)\n"
     ]
    },
    {
     "name": "stdout",
     "output_type": "stream",
     "text": [
      "Not setting metadata\n",
      "Not setting metadata\n",
      "288 matching events found\n",
      "No baseline correction applied\n",
      "Created an SSP operator (subspace dimension = 1)\n",
      "1 projection items activated\n",
      "Reading d:\\yikang1020\\yikangsystem1020\\2_Projects\\202206_Centro-parietal positivity\\2_Study\\2_4_Analysis\\2_4_3_tmp_data\\sub-003_res.fif ...\n",
      "    Read a total of 1 projection items:\n",
      "        Average EEG reference (1 x 62) active\n",
      "    Found the data of interest:\n",
      "        t =   -1000.00 ...    1000.00 ms\n",
      "        0 CTF compensation matrices available\n"
     ]
    },
    {
     "name": "stderr",
     "output_type": "stream",
     "text": [
      "C:\\Users\\LIUYIK~1\\AppData\\Local\\Temp/ipykernel_1992/1452458755.py:15: RuntimeWarning: This filename (d:\\yikang1020\\yikangsystem1020\\2_Projects\\202206_Centro-parietal positivity\\2_Study\\2_4_Analysis\\2_4_3_tmp_data\\sub-003_res.fif) does not conform to MNE naming conventions. All epochs files should end with -epo.fif, -epo.fif.gz, _epo.fif or _epo.fif.gz\n",
      "  epochs_res = mne.read_epochs(edata_path)\n"
     ]
    },
    {
     "name": "stdout",
     "output_type": "stream",
     "text": [
      "Not setting metadata\n",
      "Not setting metadata\n",
      "288 matching events found\n",
      "No baseline correction applied\n",
      "Created an SSP operator (subspace dimension = 1)\n",
      "1 projection items activated\n",
      "Reading d:\\yikang1020\\yikangsystem1020\\2_Projects\\202206_Centro-parietal positivity\\2_Study\\2_4_Analysis\\2_4_3_tmp_data\\sub-004.fif ...\n",
      "    Read a total of 1 projection items:\n",
      "        Average EEG reference (1 x 62) active\n",
      "    Found the data of interest:\n",
      "        t =   -1000.00 ...    1000.00 ms\n",
      "        0 CTF compensation matrices available\n"
     ]
    },
    {
     "name": "stderr",
     "output_type": "stream",
     "text": [
      "C:\\Users\\LIUYIK~1\\AppData\\Local\\Temp/ipykernel_1992/1452458755.py:9: RuntimeWarning: This filename (d:\\yikang1020\\yikangsystem1020\\2_Projects\\202206_Centro-parietal positivity\\2_Study\\2_4_Analysis\\2_4_3_tmp_data\\sub-004.fif) does not conform to MNE naming conventions. All epochs files should end with -epo.fif, -epo.fif.gz, _epo.fif or _epo.fif.gz\n",
      "  epochs = mne.read_epochs(edata_path)\n"
     ]
    },
    {
     "name": "stdout",
     "output_type": "stream",
     "text": [
      "Not setting metadata\n",
      "Not setting metadata\n",
      "282 matching events found\n",
      "No baseline correction applied\n",
      "Created an SSP operator (subspace dimension = 1)\n",
      "1 projection items activated\n",
      "Reading d:\\yikang1020\\yikangsystem1020\\2_Projects\\202206_Centro-parietal positivity\\2_Study\\2_4_Analysis\\2_4_3_tmp_data\\sub-004_res.fif ...\n",
      "    Read a total of 1 projection items:\n",
      "        Average EEG reference (1 x 62) active\n",
      "    Found the data of interest:\n",
      "        t =   -1000.00 ...    1000.00 ms\n",
      "        0 CTF compensation matrices available\n"
     ]
    },
    {
     "name": "stderr",
     "output_type": "stream",
     "text": [
      "C:\\Users\\LIUYIK~1\\AppData\\Local\\Temp/ipykernel_1992/1452458755.py:15: RuntimeWarning: This filename (d:\\yikang1020\\yikangsystem1020\\2_Projects\\202206_Centro-parietal positivity\\2_Study\\2_4_Analysis\\2_4_3_tmp_data\\sub-004_res.fif) does not conform to MNE naming conventions. All epochs files should end with -epo.fif, -epo.fif.gz, _epo.fif or _epo.fif.gz\n",
      "  epochs_res = mne.read_epochs(edata_path)\n"
     ]
    },
    {
     "name": "stdout",
     "output_type": "stream",
     "text": [
      "Not setting metadata\n",
      "Not setting metadata\n",
      "283 matching events found\n",
      "No baseline correction applied\n",
      "Created an SSP operator (subspace dimension = 1)\n",
      "1 projection items activated\n",
      "Reading d:\\yikang1020\\yikangsystem1020\\2_Projects\\202206_Centro-parietal positivity\\2_Study\\2_4_Analysis\\2_4_3_tmp_data\\sub-005.fif ...\n",
      "    Read a total of 1 projection items:\n",
      "        Average EEG reference (1 x 62) active\n",
      "    Found the data of interest:\n",
      "        t =   -1000.00 ...    1000.00 ms\n",
      "        0 CTF compensation matrices available\n"
     ]
    },
    {
     "name": "stderr",
     "output_type": "stream",
     "text": [
      "C:\\Users\\LIUYIK~1\\AppData\\Local\\Temp/ipykernel_1992/1452458755.py:9: RuntimeWarning: This filename (d:\\yikang1020\\yikangsystem1020\\2_Projects\\202206_Centro-parietal positivity\\2_Study\\2_4_Analysis\\2_4_3_tmp_data\\sub-005.fif) does not conform to MNE naming conventions. All epochs files should end with -epo.fif, -epo.fif.gz, _epo.fif or _epo.fif.gz\n",
      "  epochs = mne.read_epochs(edata_path)\n"
     ]
    },
    {
     "name": "stdout",
     "output_type": "stream",
     "text": [
      "Not setting metadata\n",
      "Not setting metadata\n",
      "288 matching events found\n",
      "No baseline correction applied\n",
      "Created an SSP operator (subspace dimension = 1)\n",
      "1 projection items activated\n",
      "Reading d:\\yikang1020\\yikangsystem1020\\2_Projects\\202206_Centro-parietal positivity\\2_Study\\2_4_Analysis\\2_4_3_tmp_data\\sub-005_res.fif ...\n",
      "    Read a total of 1 projection items:\n",
      "        Average EEG reference (1 x 62) active\n",
      "    Found the data of interest:\n",
      "        t =   -1000.00 ...    1000.00 ms\n",
      "        0 CTF compensation matrices available\n"
     ]
    },
    {
     "name": "stderr",
     "output_type": "stream",
     "text": [
      "C:\\Users\\LIUYIK~1\\AppData\\Local\\Temp/ipykernel_1992/1452458755.py:15: RuntimeWarning: This filename (d:\\yikang1020\\yikangsystem1020\\2_Projects\\202206_Centro-parietal positivity\\2_Study\\2_4_Analysis\\2_4_3_tmp_data\\sub-005_res.fif) does not conform to MNE naming conventions. All epochs files should end with -epo.fif, -epo.fif.gz, _epo.fif or _epo.fif.gz\n",
      "  epochs_res = mne.read_epochs(edata_path)\n"
     ]
    },
    {
     "name": "stdout",
     "output_type": "stream",
     "text": [
      "Not setting metadata\n",
      "Not setting metadata\n",
      "288 matching events found\n",
      "No baseline correction applied\n",
      "Created an SSP operator (subspace dimension = 1)\n",
      "1 projection items activated\n",
      "Reading d:\\yikang1020\\yikangsystem1020\\2_Projects\\202206_Centro-parietal positivity\\2_Study\\2_4_Analysis\\2_4_3_tmp_data\\sub-006.fif ...\n",
      "    Read a total of 1 projection items:\n",
      "        Average EEG reference (1 x 62) active\n",
      "    Found the data of interest:\n",
      "        t =   -1000.00 ...    1000.00 ms\n",
      "        0 CTF compensation matrices available\n"
     ]
    },
    {
     "name": "stderr",
     "output_type": "stream",
     "text": [
      "C:\\Users\\LIUYIK~1\\AppData\\Local\\Temp/ipykernel_1992/1452458755.py:9: RuntimeWarning: This filename (d:\\yikang1020\\yikangsystem1020\\2_Projects\\202206_Centro-parietal positivity\\2_Study\\2_4_Analysis\\2_4_3_tmp_data\\sub-006.fif) does not conform to MNE naming conventions. All epochs files should end with -epo.fif, -epo.fif.gz, _epo.fif or _epo.fif.gz\n",
      "  epochs = mne.read_epochs(edata_path)\n"
     ]
    },
    {
     "name": "stdout",
     "output_type": "stream",
     "text": [
      "Not setting metadata\n",
      "Not setting metadata\n",
      "288 matching events found\n",
      "No baseline correction applied\n",
      "Created an SSP operator (subspace dimension = 1)\n",
      "1 projection items activated\n",
      "Reading d:\\yikang1020\\yikangsystem1020\\2_Projects\\202206_Centro-parietal positivity\\2_Study\\2_4_Analysis\\2_4_3_tmp_data\\sub-006_res.fif ...\n",
      "    Read a total of 1 projection items:\n",
      "        Average EEG reference (1 x 62) active\n",
      "    Found the data of interest:\n",
      "        t =   -1000.00 ...    1000.00 ms\n",
      "        0 CTF compensation matrices available\n"
     ]
    },
    {
     "name": "stderr",
     "output_type": "stream",
     "text": [
      "C:\\Users\\LIUYIK~1\\AppData\\Local\\Temp/ipykernel_1992/1452458755.py:15: RuntimeWarning: This filename (d:\\yikang1020\\yikangsystem1020\\2_Projects\\202206_Centro-parietal positivity\\2_Study\\2_4_Analysis\\2_4_3_tmp_data\\sub-006_res.fif) does not conform to MNE naming conventions. All epochs files should end with -epo.fif, -epo.fif.gz, _epo.fif or _epo.fif.gz\n",
      "  epochs_res = mne.read_epochs(edata_path)\n"
     ]
    },
    {
     "name": "stdout",
     "output_type": "stream",
     "text": [
      "Not setting metadata\n",
      "Not setting metadata\n",
      "288 matching events found\n",
      "No baseline correction applied\n",
      "Created an SSP operator (subspace dimension = 1)\n",
      "1 projection items activated\n",
      "Reading d:\\yikang1020\\yikangsystem1020\\2_Projects\\202206_Centro-parietal positivity\\2_Study\\2_4_Analysis\\2_4_3_tmp_data\\sub-007.fif ...\n",
      "    Read a total of 1 projection items:\n",
      "        Average EEG reference (1 x 62) active\n",
      "    Found the data of interest:\n",
      "        t =   -1000.00 ...    1000.00 ms\n",
      "        0 CTF compensation matrices available\n"
     ]
    },
    {
     "name": "stderr",
     "output_type": "stream",
     "text": [
      "C:\\Users\\LIUYIK~1\\AppData\\Local\\Temp/ipykernel_1992/1452458755.py:9: RuntimeWarning: This filename (d:\\yikang1020\\yikangsystem1020\\2_Projects\\202206_Centro-parietal positivity\\2_Study\\2_4_Analysis\\2_4_3_tmp_data\\sub-007.fif) does not conform to MNE naming conventions. All epochs files should end with -epo.fif, -epo.fif.gz, _epo.fif or _epo.fif.gz\n",
      "  epochs = mne.read_epochs(edata_path)\n"
     ]
    },
    {
     "name": "stdout",
     "output_type": "stream",
     "text": [
      "Not setting metadata\n",
      "Not setting metadata\n",
      "288 matching events found\n",
      "No baseline correction applied\n",
      "Created an SSP operator (subspace dimension = 1)\n",
      "1 projection items activated\n",
      "Reading d:\\yikang1020\\yikangsystem1020\\2_Projects\\202206_Centro-parietal positivity\\2_Study\\2_4_Analysis\\2_4_3_tmp_data\\sub-007_res.fif ...\n",
      "    Read a total of 1 projection items:\n",
      "        Average EEG reference (1 x 62) active\n",
      "    Found the data of interest:\n",
      "        t =   -1000.00 ...    1000.00 ms\n",
      "        0 CTF compensation matrices available\n"
     ]
    },
    {
     "name": "stderr",
     "output_type": "stream",
     "text": [
      "C:\\Users\\LIUYIK~1\\AppData\\Local\\Temp/ipykernel_1992/1452458755.py:15: RuntimeWarning: This filename (d:\\yikang1020\\yikangsystem1020\\2_Projects\\202206_Centro-parietal positivity\\2_Study\\2_4_Analysis\\2_4_3_tmp_data\\sub-007_res.fif) does not conform to MNE naming conventions. All epochs files should end with -epo.fif, -epo.fif.gz, _epo.fif or _epo.fif.gz\n",
      "  epochs_res = mne.read_epochs(edata_path)\n"
     ]
    },
    {
     "name": "stdout",
     "output_type": "stream",
     "text": [
      "Not setting metadata\n",
      "Not setting metadata\n",
      "288 matching events found\n",
      "No baseline correction applied\n",
      "Created an SSP operator (subspace dimension = 1)\n",
      "1 projection items activated\n",
      "Reading d:\\yikang1020\\yikangsystem1020\\2_Projects\\202206_Centro-parietal positivity\\2_Study\\2_4_Analysis\\2_4_3_tmp_data\\sub-008.fif ...\n",
      "    Read a total of 1 projection items:\n",
      "        Average EEG reference (1 x 62) active\n",
      "    Found the data of interest:\n",
      "        t =   -1000.00 ...    1000.00 ms\n",
      "        0 CTF compensation matrices available\n"
     ]
    },
    {
     "name": "stderr",
     "output_type": "stream",
     "text": [
      "C:\\Users\\LIUYIK~1\\AppData\\Local\\Temp/ipykernel_1992/1452458755.py:9: RuntimeWarning: This filename (d:\\yikang1020\\yikangsystem1020\\2_Projects\\202206_Centro-parietal positivity\\2_Study\\2_4_Analysis\\2_4_3_tmp_data\\sub-008.fif) does not conform to MNE naming conventions. All epochs files should end with -epo.fif, -epo.fif.gz, _epo.fif or _epo.fif.gz\n",
      "  epochs = mne.read_epochs(edata_path)\n"
     ]
    },
    {
     "name": "stdout",
     "output_type": "stream",
     "text": [
      "Not setting metadata\n",
      "Not setting metadata\n",
      "288 matching events found\n",
      "No baseline correction applied\n",
      "Created an SSP operator (subspace dimension = 1)\n",
      "1 projection items activated\n",
      "Reading d:\\yikang1020\\yikangsystem1020\\2_Projects\\202206_Centro-parietal positivity\\2_Study\\2_4_Analysis\\2_4_3_tmp_data\\sub-008_res.fif ...\n",
      "    Read a total of 1 projection items:\n",
      "        Average EEG reference (1 x 62) active\n",
      "    Found the data of interest:\n",
      "        t =   -1000.00 ...    1000.00 ms\n",
      "        0 CTF compensation matrices available\n"
     ]
    },
    {
     "name": "stderr",
     "output_type": "stream",
     "text": [
      "C:\\Users\\LIUYIK~1\\AppData\\Local\\Temp/ipykernel_1992/1452458755.py:15: RuntimeWarning: This filename (d:\\yikang1020\\yikangsystem1020\\2_Projects\\202206_Centro-parietal positivity\\2_Study\\2_4_Analysis\\2_4_3_tmp_data\\sub-008_res.fif) does not conform to MNE naming conventions. All epochs files should end with -epo.fif, -epo.fif.gz, _epo.fif or _epo.fif.gz\n",
      "  epochs_res = mne.read_epochs(edata_path)\n"
     ]
    },
    {
     "name": "stdout",
     "output_type": "stream",
     "text": [
      "Not setting metadata\n",
      "Not setting metadata\n",
      "288 matching events found\n",
      "No baseline correction applied\n",
      "Created an SSP operator (subspace dimension = 1)\n",
      "1 projection items activated\n",
      "Reading d:\\yikang1020\\yikangsystem1020\\2_Projects\\202206_Centro-parietal positivity\\2_Study\\2_4_Analysis\\2_4_3_tmp_data\\sub-009.fif ...\n",
      "    Read a total of 1 projection items:\n",
      "        Average EEG reference (1 x 62) active\n",
      "    Found the data of interest:\n",
      "        t =   -1000.00 ...    1000.00 ms\n",
      "        0 CTF compensation matrices available\n"
     ]
    },
    {
     "name": "stderr",
     "output_type": "stream",
     "text": [
      "C:\\Users\\LIUYIK~1\\AppData\\Local\\Temp/ipykernel_1992/1452458755.py:9: RuntimeWarning: This filename (d:\\yikang1020\\yikangsystem1020\\2_Projects\\202206_Centro-parietal positivity\\2_Study\\2_4_Analysis\\2_4_3_tmp_data\\sub-009.fif) does not conform to MNE naming conventions. All epochs files should end with -epo.fif, -epo.fif.gz, _epo.fif or _epo.fif.gz\n",
      "  epochs = mne.read_epochs(edata_path)\n"
     ]
    },
    {
     "name": "stdout",
     "output_type": "stream",
     "text": [
      "Not setting metadata\n",
      "Not setting metadata\n",
      "288 matching events found\n",
      "No baseline correction applied\n",
      "Created an SSP operator (subspace dimension = 1)\n",
      "1 projection items activated\n",
      "Reading d:\\yikang1020\\yikangsystem1020\\2_Projects\\202206_Centro-parietal positivity\\2_Study\\2_4_Analysis\\2_4_3_tmp_data\\sub-009_res.fif ...\n",
      "    Read a total of 1 projection items:\n",
      "        Average EEG reference (1 x 62) active\n",
      "    Found the data of interest:\n",
      "        t =   -1000.00 ...    1000.00 ms\n",
      "        0 CTF compensation matrices available\n"
     ]
    },
    {
     "name": "stderr",
     "output_type": "stream",
     "text": [
      "C:\\Users\\LIUYIK~1\\AppData\\Local\\Temp/ipykernel_1992/1452458755.py:15: RuntimeWarning: This filename (d:\\yikang1020\\yikangsystem1020\\2_Projects\\202206_Centro-parietal positivity\\2_Study\\2_4_Analysis\\2_4_3_tmp_data\\sub-009_res.fif) does not conform to MNE naming conventions. All epochs files should end with -epo.fif, -epo.fif.gz, _epo.fif or _epo.fif.gz\n",
      "  epochs_res = mne.read_epochs(edata_path)\n"
     ]
    },
    {
     "name": "stdout",
     "output_type": "stream",
     "text": [
      "Not setting metadata\n",
      "Not setting metadata\n",
      "286 matching events found\n",
      "No baseline correction applied\n",
      "Created an SSP operator (subspace dimension = 1)\n",
      "1 projection items activated\n",
      "Reading d:\\yikang1020\\yikangsystem1020\\2_Projects\\202206_Centro-parietal positivity\\2_Study\\2_4_Analysis\\2_4_3_tmp_data\\sub-010.fif ...\n",
      "    Read a total of 1 projection items:\n",
      "        Average EEG reference (1 x 62) active\n",
      "    Found the data of interest:\n",
      "        t =   -1000.00 ...    1000.00 ms\n",
      "        0 CTF compensation matrices available\n"
     ]
    },
    {
     "name": "stderr",
     "output_type": "stream",
     "text": [
      "C:\\Users\\LIUYIK~1\\AppData\\Local\\Temp/ipykernel_1992/1452458755.py:9: RuntimeWarning: This filename (d:\\yikang1020\\yikangsystem1020\\2_Projects\\202206_Centro-parietal positivity\\2_Study\\2_4_Analysis\\2_4_3_tmp_data\\sub-010.fif) does not conform to MNE naming conventions. All epochs files should end with -epo.fif, -epo.fif.gz, _epo.fif or _epo.fif.gz\n",
      "  epochs = mne.read_epochs(edata_path)\n"
     ]
    },
    {
     "name": "stdout",
     "output_type": "stream",
     "text": [
      "Not setting metadata\n",
      "Not setting metadata\n",
      "288 matching events found\n",
      "No baseline correction applied\n",
      "Created an SSP operator (subspace dimension = 1)\n",
      "1 projection items activated\n",
      "Reading d:\\yikang1020\\yikangsystem1020\\2_Projects\\202206_Centro-parietal positivity\\2_Study\\2_4_Analysis\\2_4_3_tmp_data\\sub-010_res.fif ...\n",
      "    Read a total of 1 projection items:\n",
      "        Average EEG reference (1 x 62) active\n",
      "    Found the data of interest:\n",
      "        t =   -1000.00 ...    1000.00 ms\n",
      "        0 CTF compensation matrices available\n"
     ]
    },
    {
     "name": "stderr",
     "output_type": "stream",
     "text": [
      "C:\\Users\\LIUYIK~1\\AppData\\Local\\Temp/ipykernel_1992/1452458755.py:15: RuntimeWarning: This filename (d:\\yikang1020\\yikangsystem1020\\2_Projects\\202206_Centro-parietal positivity\\2_Study\\2_4_Analysis\\2_4_3_tmp_data\\sub-010_res.fif) does not conform to MNE naming conventions. All epochs files should end with -epo.fif, -epo.fif.gz, _epo.fif or _epo.fif.gz\n",
      "  epochs_res = mne.read_epochs(edata_path)\n"
     ]
    },
    {
     "name": "stdout",
     "output_type": "stream",
     "text": [
      "Not setting metadata\n",
      "Not setting metadata\n",
      "288 matching events found\n",
      "No baseline correction applied\n",
      "Created an SSP operator (subspace dimension = 1)\n",
      "1 projection items activated\n",
      "Reading d:\\yikang1020\\yikangsystem1020\\2_Projects\\202206_Centro-parietal positivity\\2_Study\\2_4_Analysis\\2_4_3_tmp_data\\sub-011.fif ...\n",
      "    Read a total of 1 projection items:\n",
      "        Average EEG reference (1 x 62) active\n",
      "    Found the data of interest:\n",
      "        t =   -1000.00 ...    1000.00 ms\n",
      "        0 CTF compensation matrices available\n"
     ]
    },
    {
     "name": "stderr",
     "output_type": "stream",
     "text": [
      "C:\\Users\\LIUYIK~1\\AppData\\Local\\Temp/ipykernel_1992/1452458755.py:9: RuntimeWarning: This filename (d:\\yikang1020\\yikangsystem1020\\2_Projects\\202206_Centro-parietal positivity\\2_Study\\2_4_Analysis\\2_4_3_tmp_data\\sub-011.fif) does not conform to MNE naming conventions. All epochs files should end with -epo.fif, -epo.fif.gz, _epo.fif or _epo.fif.gz\n",
      "  epochs = mne.read_epochs(edata_path)\n"
     ]
    },
    {
     "name": "stdout",
     "output_type": "stream",
     "text": [
      "Not setting metadata\n",
      "Not setting metadata\n",
      "288 matching events found\n",
      "No baseline correction applied\n",
      "Created an SSP operator (subspace dimension = 1)\n",
      "1 projection items activated\n",
      "Reading d:\\yikang1020\\yikangsystem1020\\2_Projects\\202206_Centro-parietal positivity\\2_Study\\2_4_Analysis\\2_4_3_tmp_data\\sub-011_res.fif ...\n",
      "    Read a total of 1 projection items:\n",
      "        Average EEG reference (1 x 62) active\n",
      "    Found the data of interest:\n",
      "        t =   -1000.00 ...    1000.00 ms\n",
      "        0 CTF compensation matrices available\n"
     ]
    },
    {
     "name": "stderr",
     "output_type": "stream",
     "text": [
      "C:\\Users\\LIUYIK~1\\AppData\\Local\\Temp/ipykernel_1992/1452458755.py:15: RuntimeWarning: This filename (d:\\yikang1020\\yikangsystem1020\\2_Projects\\202206_Centro-parietal positivity\\2_Study\\2_4_Analysis\\2_4_3_tmp_data\\sub-011_res.fif) does not conform to MNE naming conventions. All epochs files should end with -epo.fif, -epo.fif.gz, _epo.fif or _epo.fif.gz\n",
      "  epochs_res = mne.read_epochs(edata_path)\n"
     ]
    },
    {
     "name": "stdout",
     "output_type": "stream",
     "text": [
      "Not setting metadata\n",
      "Not setting metadata\n",
      "254 matching events found\n",
      "No baseline correction applied\n",
      "Created an SSP operator (subspace dimension = 1)\n",
      "1 projection items activated\n",
      "Reading d:\\yikang1020\\yikangsystem1020\\2_Projects\\202206_Centro-parietal positivity\\2_Study\\2_4_Analysis\\2_4_3_tmp_data\\sub-012.fif ...\n",
      "    Read a total of 1 projection items:\n",
      "        Average EEG reference (1 x 62) active\n",
      "    Found the data of interest:\n",
      "        t =   -1000.00 ...    1000.00 ms\n",
      "        0 CTF compensation matrices available\n"
     ]
    },
    {
     "name": "stderr",
     "output_type": "stream",
     "text": [
      "C:\\Users\\LIUYIK~1\\AppData\\Local\\Temp/ipykernel_1992/1452458755.py:9: RuntimeWarning: This filename (d:\\yikang1020\\yikangsystem1020\\2_Projects\\202206_Centro-parietal positivity\\2_Study\\2_4_Analysis\\2_4_3_tmp_data\\sub-012.fif) does not conform to MNE naming conventions. All epochs files should end with -epo.fif, -epo.fif.gz, _epo.fif or _epo.fif.gz\n",
      "  epochs = mne.read_epochs(edata_path)\n"
     ]
    },
    {
     "name": "stdout",
     "output_type": "stream",
     "text": [
      "Not setting metadata\n",
      "Not setting metadata\n",
      "288 matching events found\n",
      "No baseline correction applied\n",
      "Created an SSP operator (subspace dimension = 1)\n",
      "1 projection items activated\n",
      "Reading d:\\yikang1020\\yikangsystem1020\\2_Projects\\202206_Centro-parietal positivity\\2_Study\\2_4_Analysis\\2_4_3_tmp_data\\sub-012_res.fif ...\n",
      "    Read a total of 1 projection items:\n",
      "        Average EEG reference (1 x 62) active\n",
      "    Found the data of interest:\n",
      "        t =   -1000.00 ...    1000.00 ms\n",
      "        0 CTF compensation matrices available\n"
     ]
    },
    {
     "name": "stderr",
     "output_type": "stream",
     "text": [
      "C:\\Users\\LIUYIK~1\\AppData\\Local\\Temp/ipykernel_1992/1452458755.py:15: RuntimeWarning: This filename (d:\\yikang1020\\yikangsystem1020\\2_Projects\\202206_Centro-parietal positivity\\2_Study\\2_4_Analysis\\2_4_3_tmp_data\\sub-012_res.fif) does not conform to MNE naming conventions. All epochs files should end with -epo.fif, -epo.fif.gz, _epo.fif or _epo.fif.gz\n",
      "  epochs_res = mne.read_epochs(edata_path)\n"
     ]
    },
    {
     "name": "stdout",
     "output_type": "stream",
     "text": [
      "Not setting metadata\n",
      "Not setting metadata\n",
      "288 matching events found\n",
      "No baseline correction applied\n",
      "Created an SSP operator (subspace dimension = 1)\n",
      "1 projection items activated\n",
      "Reading d:\\yikang1020\\yikangsystem1020\\2_Projects\\202206_Centro-parietal positivity\\2_Study\\2_4_Analysis\\2_4_3_tmp_data\\sub-013.fif ...\n",
      "    Read a total of 1 projection items:\n",
      "        Average EEG reference (1 x 62) active\n",
      "    Found the data of interest:\n",
      "        t =   -1000.00 ...    1000.00 ms\n",
      "        0 CTF compensation matrices available\n"
     ]
    },
    {
     "name": "stderr",
     "output_type": "stream",
     "text": [
      "C:\\Users\\LIUYIK~1\\AppData\\Local\\Temp/ipykernel_1992/1452458755.py:9: RuntimeWarning: This filename (d:\\yikang1020\\yikangsystem1020\\2_Projects\\202206_Centro-parietal positivity\\2_Study\\2_4_Analysis\\2_4_3_tmp_data\\sub-013.fif) does not conform to MNE naming conventions. All epochs files should end with -epo.fif, -epo.fif.gz, _epo.fif or _epo.fif.gz\n",
      "  epochs = mne.read_epochs(edata_path)\n"
     ]
    },
    {
     "name": "stdout",
     "output_type": "stream",
     "text": [
      "Not setting metadata\n",
      "Not setting metadata\n",
      "288 matching events found\n",
      "No baseline correction applied\n",
      "Created an SSP operator (subspace dimension = 1)\n",
      "1 projection items activated\n",
      "Reading d:\\yikang1020\\yikangsystem1020\\2_Projects\\202206_Centro-parietal positivity\\2_Study\\2_4_Analysis\\2_4_3_tmp_data\\sub-013_res.fif ...\n",
      "    Read a total of 1 projection items:\n",
      "        Average EEG reference (1 x 62) active\n",
      "    Found the data of interest:\n",
      "        t =   -1000.00 ...    1000.00 ms\n",
      "        0 CTF compensation matrices available\n"
     ]
    },
    {
     "name": "stderr",
     "output_type": "stream",
     "text": [
      "C:\\Users\\LIUYIK~1\\AppData\\Local\\Temp/ipykernel_1992/1452458755.py:15: RuntimeWarning: This filename (d:\\yikang1020\\yikangsystem1020\\2_Projects\\202206_Centro-parietal positivity\\2_Study\\2_4_Analysis\\2_4_3_tmp_data\\sub-013_res.fif) does not conform to MNE naming conventions. All epochs files should end with -epo.fif, -epo.fif.gz, _epo.fif or _epo.fif.gz\n",
      "  epochs_res = mne.read_epochs(edata_path)\n"
     ]
    },
    {
     "name": "stdout",
     "output_type": "stream",
     "text": [
      "Not setting metadata\n",
      "Not setting metadata\n",
      "287 matching events found\n",
      "No baseline correction applied\n",
      "Created an SSP operator (subspace dimension = 1)\n",
      "1 projection items activated\n",
      "Reading d:\\yikang1020\\yikangsystem1020\\2_Projects\\202206_Centro-parietal positivity\\2_Study\\2_4_Analysis\\2_4_3_tmp_data\\sub-014.fif ...\n",
      "    Read a total of 1 projection items:\n",
      "        Average EEG reference (1 x 62) active\n",
      "    Found the data of interest:\n",
      "        t =   -1000.00 ...    1000.00 ms\n",
      "        0 CTF compensation matrices available\n"
     ]
    },
    {
     "name": "stderr",
     "output_type": "stream",
     "text": [
      "C:\\Users\\LIUYIK~1\\AppData\\Local\\Temp/ipykernel_1992/1452458755.py:9: RuntimeWarning: This filename (d:\\yikang1020\\yikangsystem1020\\2_Projects\\202206_Centro-parietal positivity\\2_Study\\2_4_Analysis\\2_4_3_tmp_data\\sub-014.fif) does not conform to MNE naming conventions. All epochs files should end with -epo.fif, -epo.fif.gz, _epo.fif or _epo.fif.gz\n",
      "  epochs = mne.read_epochs(edata_path)\n"
     ]
    },
    {
     "name": "stdout",
     "output_type": "stream",
     "text": [
      "Not setting metadata\n",
      "Not setting metadata\n",
      "288 matching events found\n",
      "No baseline correction applied\n",
      "Created an SSP operator (subspace dimension = 1)\n",
      "1 projection items activated\n",
      "Reading d:\\yikang1020\\yikangsystem1020\\2_Projects\\202206_Centro-parietal positivity\\2_Study\\2_4_Analysis\\2_4_3_tmp_data\\sub-014_res.fif ...\n",
      "    Read a total of 1 projection items:\n",
      "        Average EEG reference (1 x 62) active\n",
      "    Found the data of interest:\n",
      "        t =   -1000.00 ...    1000.00 ms\n",
      "        0 CTF compensation matrices available\n"
     ]
    },
    {
     "name": "stderr",
     "output_type": "stream",
     "text": [
      "C:\\Users\\LIUYIK~1\\AppData\\Local\\Temp/ipykernel_1992/1452458755.py:15: RuntimeWarning: This filename (d:\\yikang1020\\yikangsystem1020\\2_Projects\\202206_Centro-parietal positivity\\2_Study\\2_4_Analysis\\2_4_3_tmp_data\\sub-014_res.fif) does not conform to MNE naming conventions. All epochs files should end with -epo.fif, -epo.fif.gz, _epo.fif or _epo.fif.gz\n",
      "  epochs_res = mne.read_epochs(edata_path)\n"
     ]
    },
    {
     "name": "stdout",
     "output_type": "stream",
     "text": [
      "Not setting metadata\n",
      "Not setting metadata\n",
      "284 matching events found\n",
      "No baseline correction applied\n",
      "Created an SSP operator (subspace dimension = 1)\n",
      "1 projection items activated\n",
      "Reading d:\\yikang1020\\yikangsystem1020\\2_Projects\\202206_Centro-parietal positivity\\2_Study\\2_4_Analysis\\2_4_3_tmp_data\\sub-015.fif ...\n",
      "    Read a total of 1 projection items:\n",
      "        Average EEG reference (1 x 62) active\n",
      "    Found the data of interest:\n",
      "        t =   -1000.00 ...    1000.00 ms\n",
      "        0 CTF compensation matrices available\n"
     ]
    },
    {
     "name": "stderr",
     "output_type": "stream",
     "text": [
      "C:\\Users\\LIUYIK~1\\AppData\\Local\\Temp/ipykernel_1992/1452458755.py:9: RuntimeWarning: This filename (d:\\yikang1020\\yikangsystem1020\\2_Projects\\202206_Centro-parietal positivity\\2_Study\\2_4_Analysis\\2_4_3_tmp_data\\sub-015.fif) does not conform to MNE naming conventions. All epochs files should end with -epo.fif, -epo.fif.gz, _epo.fif or _epo.fif.gz\n",
      "  epochs = mne.read_epochs(edata_path)\n"
     ]
    },
    {
     "name": "stdout",
     "output_type": "stream",
     "text": [
      "Not setting metadata\n",
      "Not setting metadata\n",
      "288 matching events found\n",
      "No baseline correction applied\n",
      "Created an SSP operator (subspace dimension = 1)\n",
      "1 projection items activated\n",
      "Reading d:\\yikang1020\\yikangsystem1020\\2_Projects\\202206_Centro-parietal positivity\\2_Study\\2_4_Analysis\\2_4_3_tmp_data\\sub-015_res.fif ...\n",
      "    Read a total of 1 projection items:\n",
      "        Average EEG reference (1 x 62) active\n",
      "    Found the data of interest:\n",
      "        t =   -1000.00 ...    1000.00 ms\n",
      "        0 CTF compensation matrices available\n"
     ]
    },
    {
     "name": "stderr",
     "output_type": "stream",
     "text": [
      "C:\\Users\\LIUYIK~1\\AppData\\Local\\Temp/ipykernel_1992/1452458755.py:15: RuntimeWarning: This filename (d:\\yikang1020\\yikangsystem1020\\2_Projects\\202206_Centro-parietal positivity\\2_Study\\2_4_Analysis\\2_4_3_tmp_data\\sub-015_res.fif) does not conform to MNE naming conventions. All epochs files should end with -epo.fif, -epo.fif.gz, _epo.fif or _epo.fif.gz\n",
      "  epochs_res = mne.read_epochs(edata_path)\n"
     ]
    },
    {
     "name": "stdout",
     "output_type": "stream",
     "text": [
      "Not setting metadata\n",
      "Not setting metadata\n",
      "288 matching events found\n",
      "No baseline correction applied\n",
      "Created an SSP operator (subspace dimension = 1)\n",
      "1 projection items activated\n",
      "Reading d:\\yikang1020\\yikangsystem1020\\2_Projects\\202206_Centro-parietal positivity\\2_Study\\2_4_Analysis\\2_4_3_tmp_data\\sub-016.fif ...\n",
      "    Read a total of 1 projection items:\n",
      "        Average EEG reference (1 x 62) active\n",
      "    Found the data of interest:\n",
      "        t =   -1000.00 ...    1000.00 ms\n",
      "        0 CTF compensation matrices available\n"
     ]
    },
    {
     "name": "stderr",
     "output_type": "stream",
     "text": [
      "C:\\Users\\LIUYIK~1\\AppData\\Local\\Temp/ipykernel_1992/1452458755.py:9: RuntimeWarning: This filename (d:\\yikang1020\\yikangsystem1020\\2_Projects\\202206_Centro-parietal positivity\\2_Study\\2_4_Analysis\\2_4_3_tmp_data\\sub-016.fif) does not conform to MNE naming conventions. All epochs files should end with -epo.fif, -epo.fif.gz, _epo.fif or _epo.fif.gz\n",
      "  epochs = mne.read_epochs(edata_path)\n"
     ]
    },
    {
     "name": "stdout",
     "output_type": "stream",
     "text": [
      "Not setting metadata\n",
      "Not setting metadata\n",
      "288 matching events found\n",
      "No baseline correction applied\n",
      "Created an SSP operator (subspace dimension = 1)\n",
      "1 projection items activated\n",
      "Reading d:\\yikang1020\\yikangsystem1020\\2_Projects\\202206_Centro-parietal positivity\\2_Study\\2_4_Analysis\\2_4_3_tmp_data\\sub-016_res.fif ...\n",
      "    Read a total of 1 projection items:\n",
      "        Average EEG reference (1 x 62) active\n",
      "    Found the data of interest:\n",
      "        t =   -1000.00 ...    1000.00 ms\n",
      "        0 CTF compensation matrices available\n"
     ]
    },
    {
     "name": "stderr",
     "output_type": "stream",
     "text": [
      "C:\\Users\\LIUYIK~1\\AppData\\Local\\Temp/ipykernel_1992/1452458755.py:15: RuntimeWarning: This filename (d:\\yikang1020\\yikangsystem1020\\2_Projects\\202206_Centro-parietal positivity\\2_Study\\2_4_Analysis\\2_4_3_tmp_data\\sub-016_res.fif) does not conform to MNE naming conventions. All epochs files should end with -epo.fif, -epo.fif.gz, _epo.fif or _epo.fif.gz\n",
      "  epochs_res = mne.read_epochs(edata_path)\n"
     ]
    },
    {
     "name": "stdout",
     "output_type": "stream",
     "text": [
      "Not setting metadata\n",
      "Not setting metadata\n",
      "288 matching events found\n",
      "No baseline correction applied\n",
      "Created an SSP operator (subspace dimension = 1)\n",
      "1 projection items activated\n",
      "Reading d:\\yikang1020\\yikangsystem1020\\2_Projects\\202206_Centro-parietal positivity\\2_Study\\2_4_Analysis\\2_4_3_tmp_data\\sub-017.fif ...\n",
      "    Read a total of 1 projection items:\n",
      "        Average EEG reference (1 x 62) active\n",
      "    Found the data of interest:\n",
      "        t =   -1000.00 ...    1000.00 ms\n",
      "        0 CTF compensation matrices available\n"
     ]
    },
    {
     "name": "stderr",
     "output_type": "stream",
     "text": [
      "C:\\Users\\LIUYIK~1\\AppData\\Local\\Temp/ipykernel_1992/1452458755.py:9: RuntimeWarning: This filename (d:\\yikang1020\\yikangsystem1020\\2_Projects\\202206_Centro-parietal positivity\\2_Study\\2_4_Analysis\\2_4_3_tmp_data\\sub-017.fif) does not conform to MNE naming conventions. All epochs files should end with -epo.fif, -epo.fif.gz, _epo.fif or _epo.fif.gz\n",
      "  epochs = mne.read_epochs(edata_path)\n"
     ]
    },
    {
     "name": "stdout",
     "output_type": "stream",
     "text": [
      "Not setting metadata\n",
      "Not setting metadata\n",
      "288 matching events found\n",
      "No baseline correction applied\n",
      "Created an SSP operator (subspace dimension = 1)\n",
      "1 projection items activated\n",
      "Reading d:\\yikang1020\\yikangsystem1020\\2_Projects\\202206_Centro-parietal positivity\\2_Study\\2_4_Analysis\\2_4_3_tmp_data\\sub-017_res.fif ...\n",
      "    Read a total of 1 projection items:\n",
      "        Average EEG reference (1 x 62) active\n",
      "    Found the data of interest:\n",
      "        t =   -1000.00 ...    1000.00 ms\n",
      "        0 CTF compensation matrices available\n"
     ]
    },
    {
     "name": "stderr",
     "output_type": "stream",
     "text": [
      "C:\\Users\\LIUYIK~1\\AppData\\Local\\Temp/ipykernel_1992/1452458755.py:15: RuntimeWarning: This filename (d:\\yikang1020\\yikangsystem1020\\2_Projects\\202206_Centro-parietal positivity\\2_Study\\2_4_Analysis\\2_4_3_tmp_data\\sub-017_res.fif) does not conform to MNE naming conventions. All epochs files should end with -epo.fif, -epo.fif.gz, _epo.fif or _epo.fif.gz\n",
      "  epochs_res = mne.read_epochs(edata_path)\n"
     ]
    },
    {
     "name": "stdout",
     "output_type": "stream",
     "text": [
      "Not setting metadata\n",
      "Not setting metadata\n",
      "288 matching events found\n",
      "No baseline correction applied\n",
      "Created an SSP operator (subspace dimension = 1)\n",
      "1 projection items activated\n"
     ]
    }
   ],
   "source": [
    "for subject in subjects:\n",
    "\n",
    "\n",
    "    \n",
    "    tname = os.path.join(subject + \".fif\")\n",
    "    \n",
    "    edata_path = os.path.join(os.path.dirname(os.getcwd()),'2_4_3_tmp_data', tname)\n",
    "    \n",
    "    epochs = mne.read_epochs(edata_path)\n",
    "\n",
    "    tname = os.path.join(subject + \"_res.fif\")\n",
    "    \n",
    "    edata_path = os.path.join(os.path.dirname(os.getcwd()),'2_4_3_tmp_data', tname)\n",
    "    \n",
    "    epochs_res = mne.read_epochs(edata_path)\n",
    "\n",
    "    if subject != 'sub-004':\n",
    "\n",
    "        # epochs_baseline\n",
    "        channel = ['CPz','CP1','CP2']\n",
    "\n",
    "        time = [-0.2, 0]\n",
    "\n",
    "\n",
    "        # cpp peak\n",
    "        time = [-0.25, -0.1]\n",
    "\n",
    "        epochs_CPP = epochs_res.copy().pick_channels(channel)\n",
    "\n",
    "        epochs_CPP = epochs_CPP.crop(time[0],time[1])\n",
    "\n",
    "        times = epochs_CPP.times\n",
    "\n",
    "        epochs_CPP = epochs_CPP.get_data()\n",
    "\n",
    "        epochs_CPP = np.mean(epochs_CPP, axis = 1)\n",
    "\n",
    "        CPP_peak = np.amax(epochs_CPP, axis = 1)\n",
    "\n",
    "        # cpp slope\n",
    "        time = [-0.25, -0.1]\n",
    "\n",
    "        epochs_CPP = epochs_res.copy().pick_channels(channel)\n",
    "\n",
    "        epochs_CPP = epochs_CPP.crop(time[0],time[1])\n",
    "\n",
    "        times = epochs_CPP.times\n",
    "\n",
    "        epochs_CPP = epochs_CPP.get_data()\n",
    "\n",
    "        epochs_CPP = np.mean(epochs_CPP, axis = 1)\n",
    "\n",
    "        CPP_slopes = []\n",
    "        for i in range(epochs_CPP.shape[0]):\n",
    "            CPP_slope = np.polyfit(times,epochs_CPP[i,:],1)[0]\n",
    "            CPP_slopes = np.append(CPP_slopes,CPP_slope)\n",
    "\n",
    "        channel = ['CPz','CP1','CP2']\n",
    "\n",
    "        # cpp amplitude\n",
    "        time = [-0.1, -0]\n",
    "\n",
    "\n",
    "        epochs_CPP = epochs_res.copy().pick_channels(channel)\n",
    "\n",
    "        epochs_CPP = epochs_CPP.crop(time[0],time[1])\n",
    "\n",
    "        times = epochs_CPP.times\n",
    "\n",
    "        epochs_CPP = epochs_CPP.get_data()\n",
    "\n",
    "        epochs_CPP = np.mean(epochs_CPP, axis = 1) \n",
    "\n",
    "        CPP_amplitudes = np.mean(epochs_CPP, axis = 1)\n",
    "\n",
    "\n",
    "\n",
    "        # which trial has cpp\n",
    "        consecutives = []\n",
    "\n",
    "        for trial in range(epochs_CPP.shape[0]):\n",
    "            ps = []\n",
    "            for i in range(len(times)):\n",
    "                t,p = ttest_1samp(epochs_CPP[trial,:],0)\n",
    "                if p<=0.05:\n",
    "                    p = 1\n",
    "                else:\n",
    "                    p = 0\n",
    "                ps = np.append(ps,p)\n",
    "            start = 0\n",
    "            end = start + 15\n",
    "            consecutive = False\n",
    "            while (end <= len(times)) and (consecutive == False): \n",
    "                if np.sum(ps[start:end]) == 15:\n",
    "                    consecutive = True\n",
    "                else:\n",
    "                    start = start + 1\n",
    "                    end = start + 15\n",
    "            consecutives = np.append(consecutives,consecutive)\n",
    "\n",
    "        CPP_peak[np.where(consecutives == 0)] = -1\n",
    "        bedata.loc[bedata['subj_idx']==subject,'index'] = np.arange(288)\n",
    "        # cpp in bedata\n",
    "        where = np.array(np.where(bedata.loc[bedata['subj_idx']==subject,'rt'].isnull()))[0]\n",
    "\n",
    "        bedata.loc[((bedata['subj_idx']==subject)&(bedata.loc[:,'index'].isin(np.setdiff1d(np.arange(288), where)))),'cpp_peak'] = CPP_peak\n",
    "\n",
    "        bedata.loc[((bedata['subj_idx']==subject)&(bedata.loc[:,'index'].isin(np.setdiff1d(np.arange(288), where)))),'cpp_slope'] = CPP_slopes\n",
    "\n",
    "        bedata.loc[((bedata['subj_idx']==subject)&(bedata.loc[:,'index'].isin(np.setdiff1d(np.arange(288), where)))),'cpp_amplitude'] = CPP_amplitudes\n",
    "    \n",
    "    else:\n",
    "        pass"
   ]
  },
  {
   "cell_type": "code",
   "execution_count": 303,
   "metadata": {},
   "outputs": [],
   "source": [
    "bedata['subj_idx']=bedata['subj_idx'].str.replace(r'sub-0',r'0')\n",
    "x = bedata"
   ]
  },
  {
   "cell_type": "code",
   "execution_count": 325,
   "metadata": {},
   "outputs": [],
   "source": [
    "bedata = x"
   ]
  },
  {
   "cell_type": "code",
   "execution_count": 326,
   "metadata": {},
   "outputs": [],
   "source": [
    "\n",
    "bedata = bedata.reset_index(drop=True)"
   ]
  },
  {
   "cell_type": "code",
   "execution_count": 328,
   "metadata": {},
   "outputs": [],
   "source": [
    "bedata=bedata.drop(bedata[bedata['cpp_peak']==-1].index)"
   ]
  },
  {
   "cell_type": "code",
   "execution_count": 334,
   "metadata": {},
   "outputs": [],
   "source": [
    "bedata = bedata.dropna(axis=0,how='any').reset_index(drop=True)"
   ]
  },
  {
   "cell_type": "code",
   "execution_count": 336,
   "metadata": {},
   "outputs": [],
   "source": [
    "bedata.to_csv('data.csv',index=False)"
   ]
  },
  {
   "cell_type": "code",
   "execution_count": null,
   "metadata": {},
   "outputs": [],
   "source": []
  },
  {
   "cell_type": "code",
   "execution_count": null,
   "metadata": {},
   "outputs": [],
   "source": []
  }
 ],
 "metadata": {
  "kernelspec": {
   "display_name": "Python 3",
   "language": "python",
   "name": "python3"
  },
  "language_info": {
   "codemirror_mode": {
    "name": "ipython",
    "version": 3
   },
   "file_extension": ".py",
   "mimetype": "text/x-python",
   "name": "python",
   "nbconvert_exporter": "python",
   "pygments_lexer": "ipython3",
   "version": "3.10.6"
  },
  "vscode": {
   "interpreter": {
    "hash": "916dbcbb3f70747c44a77c7bcd40155683ae19c65e1c03b4aa3499c5328201f1"
   }
  }
 },
 "nbformat": 4,
 "nbformat_minor": 4
}
