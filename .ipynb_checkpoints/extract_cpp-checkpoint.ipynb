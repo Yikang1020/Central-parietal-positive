{
 "cells": [
  {
   "cell_type": "code",
   "execution_count": 258,
   "id": "52acf26d-4c2b-494d-a3cf-b5c6c16315c1",
   "metadata": {},
   "outputs": [],
   "source": [
    "import os\n",
    "import sys\n",
    "import numpy as np\n",
    "import pandas as pd\n",
    "import random\n",
    "import matplotlib.pyplot as plt\n",
    "import seaborn as sns"
   ]
  },
  {
   "cell_type": "code",
   "execution_count": 74,
   "id": "bbcf2eb4-c7b7-4fb6-b6c3-0368118899df",
   "metadata": {},
   "outputs": [],
   "source": [
    "def sin_wave(A, f, fs, phi, t):\n",
    "    '''\n",
    "    params A: amplitude\n",
    "    params f: frequency\n",
    "    params fs: frequency sample rate\n",
    "    params phi: phase\n",
    "    params t: time\n",
    "    '''\n",
    "    Ts = 1/fs #采样时间间隔\n",
    "    n = t/Ts\n",
    "    y = A*np.sin(2*np.pi*f*t + phi*(np.pi/180)) + random.random()\n",
    "    return y"
   ]
  },
  {
   "cell_type": "code",
   "execution_count": 267,
   "id": "43c511c3-0538-4ca4-bd61-9ec2e2218225",
   "metadata": {},
   "outputs": [],
   "source": [
    "fs = 512\n",
    "time = np.arange(-1,1,1/fs)\n",
    "chan1 = sin_wave(A = 1, f = 0.25, fs = fs, phi = 90, t = x)\n",
    "chan2 = sin_wave(A = 0.8, f = 0.2, fs = fs, phi = 100, t = x)\n",
    "chan3 = sin_wave(A = 0.9, f = 0.3, fs = fs, phi = 70, t = x)"
   ]
  },
  {
   "cell_type": "code",
   "execution_count": 131,
   "id": "c7441702-15bb-4acb-be40-c45ed3f6ca2c",
   "metadata": {},
   "outputs": [],
   "source": [
    "mat = np.array([[time,chan1],[time,chan2],[time,chan3]])\n",
    "\n",
    "mat.shape\n",
    "\n",
    "mat = np.mean(mat, axis = 0)\n",
    "\n",
    "mat = mat.transpose(1,0)"
   ]
  },
  {
   "cell_type": "code",
   "execution_count": 133,
   "id": "fad41304-4f06-4f0f-a0b6-4a9dc98410ac",
   "metadata": {},
   "outputs": [
    {
     "data": {
      "text/plain": [
       "[<matplotlib.lines.Line2D at 0x1498aabfac0>]"
      ]
     },
     "execution_count": 133,
     "metadata": {},
     "output_type": "execute_result"
    },
    {
     "data": {
      "image/png": "[encoded data removed]",
      "text/plain": [
       "<Figure size 432x288 with 1 Axes>"
      ]
     },
     "metadata": {
      "needs_background": "light"
     },
     "output_type": "display_data"
    }
   ],
   "source": [
    "plt.plot(mat[:,0],mat[:,1])"
   ]
  },
  {
   "cell_type": "code",
   "execution_count": 448,
   "id": "ae7178ed-4a94-4931-a6a7-4cd55ff53d2f",
   "metadata": {},
   "outputs": [],
   "source": [
    "def sliding_window(data, sw_width, start, end, step):\n",
    "    start = start - data[0,0]\n",
    "    end = end - data[0,0]\n",
    "    \n",
    "    n_start = round(start * fs)\n",
    "    \n",
    "    n_end = round(end * fs)\n",
    "    \n",
    "    n_sw_width = round(sw_width * fs)\n",
    "    \n",
    "    n_step = round(step * fs)\n",
    "    \n",
    "    slopes = np.array([])\n",
    "    \n",
    "    sw_end = (n_start + n_sw_width)/fs\n",
    "    \n",
    "    while sw_end <= end:\n",
    "\n",
    "        sw_sample = data[n_start:n_start + n_sw_width,1]\n",
    "\n",
    "        sw_time = data[n_start:n_start + n_sw_width,0]\n",
    "\n",
    "        slope = np.polyfit(sw_time,sw_sample,1)\n",
    "\n",
    "        slopes = np.append(slopes,slope[0])\n",
    "\n",
    "        n_start = n_start + n_step\n",
    "\n",
    "        n_end = n_start + n_step + n_sw_width \n",
    "\n",
    "        sw_end = n_end/fs\n",
    "    \n",
    "    return slopes"
   ]
  },
  {
   "cell_type": "code",
   "execution_count": 449,
   "id": "6d40a002-eba5-4903-9874-7d9cdeb4ca1e",
   "metadata": {},
   "outputs": [],
   "source": [
    "slopes = sliding_window(mat, sw_width = 0.1, start = -1, end = 1, step = 0.01)"
   ]
  },
  {
   "cell_type": "code",
   "execution_count": 450,
   "id": "ac386819-3da5-4055-a91b-6f4a85acce73",
   "metadata": {},
   "outputs": [],
   "source": [
    "def permutation(data, nsample, niter, p):\n",
    "    data = list(data)\n",
    "    \n",
    "    boost_slope_means = np.array([])\n",
    "    \n",
    "    for i in range(niter):\n",
    "        \n",
    "        boost_slope = random.sample(data, nsample)\n",
    "    \n",
    "        boost_slope_mean = np.mean(boost_slope)\n",
    "    \n",
    "        boost_slope_means = np.append(boost_slope_means,boost_slope_mean)   \n",
    "    \n",
    "    boost_slope_means_per = sorted(boost_slope_means)\n",
    "    \n",
    "    value_sig = boost_slope_means_per[round(niter - niter*p)]\n",
    "\n",
    "    data = np.array(data)\n",
    "    for i in range(len(data)):\n",
    "        if data[i] >= value_sig:\n",
    "            pass\n",
    "        else:\n",
    "            data[i] = np.nan\n",
    "    \n",
    "    return boost_slope_means,data"
   ]
  },
  {
   "cell_type": "code",
   "execution_count": 451,
   "id": "a634c497-6d2e-490c-975e-5171364ca45b",
   "metadata": {},
   "outputs": [],
   "source": [
    "boost_slope_means,slopes = permutation(data = slopes, nsample = 50, niter = 5000, p =0.05)"
   ]
  },
  {
   "cell_type": "code",
   "execution_count": 452,
   "id": "c84121d5-0689-4ee5-8671-31094098e455",
   "metadata": {},
   "outputs": [
    {
     "name": "stderr",
     "output_type": "stream",
     "text": [
      "D:\\anaconda\\lib\\site-packages\\seaborn\\distributions.py:2619: FutureWarning: `distplot` is a deprecated function and will be removed in a future version. Please adapt your code to use either `displot` (a figure-level function with similar flexibility) or `histplot` (an axes-level function for histograms).\n",
      "  warnings.warn(msg, FutureWarning)\n"
     ]
    },
    {
     "data": {
      "text/plain": [
       "<AxesSubplot:ylabel='Density'>"
      ]
     },
     "execution_count": 452,
     "metadata": {},
     "output_type": "execute_result"
    },
    {
     "data": {
      "image/png": "[encoded data removed]",
      "text/plain": [
       "<Figure size 432x288 with 1 Axes>"
      ]
     },
     "metadata": {
      "needs_background": "light"
     },
     "output_type": "display_data"
    }
   ],
   "source": [
    "sns.distplot(boost_slope_means, color = 'r', bins = 30, kde = True)"
   ]
  },
  {
   "cell_type": "code",
   "execution_count": 453,
   "id": "0d06d521-484d-43a3-b72c-bd84729319f4",
   "metadata": {},
   "outputs": [
    {
     "data": {
      "text/plain": [
       "array([1.28260588, 1.28530102, 1.28766795, 1.28970536, 1.29141204,\n",
       "       1.29278688, 1.29382885, 1.29453702, 1.29491053, 1.29494865,\n",
       "       1.29465072, 1.29401618, 1.29304456, 1.29173548, 1.29008869,\n",
       "       1.28810398, 1.28578127, 1.28312057, 1.28012199, 1.27678572,\n",
       "       1.27311206, 1.2691014 , 1.26475422, 1.26007111, 1.25505275,\n",
       "       1.2496999 , 1.24401343, 1.23799432, 1.23164361, 1.22496247,\n",
       "       1.21795214, 1.21061397, 1.20294939, 1.19495995, 1.18664725,\n",
       "       1.17801303, 1.16905909, 1.15978734, 1.15019978, 1.1402985 ,\n",
       "       1.13008567, 1.11956358, 1.10873457, 1.0976011 , 1.08616571,\n",
       "       1.07443103, 1.06239977, 1.05007474, 1.03745883, 1.024555  ,\n",
       "       1.01136633, 0.99789594, 0.98414708, 0.97012305, 0.95582723,\n",
       "       0.94126311, 0.92643423, 0.91134422, 0.89599678, 0.88039572,\n",
       "       0.86454487, 0.84844819, 0.83210967, 0.8155334 , 0.79872354,\n",
       "       0.7816843 , 0.76441997, 0.74693493, 0.72923359, 0.71132044,\n",
       "       0.69320006, 0.67487705, 0.6563561 , 0.63764196, 0.61873942,\n",
       "       0.59965335, 0.58038866, 0.56095033, 0.54134339, 0.5215729 ,\n",
       "       0.50164401, 0.48156189, 0.46133177, 0.44095893, 0.42044868,\n",
       "       0.39980639, 0.37903746, 0.35814734, 0.33714152, 0.31602552,\n",
       "       0.2948049 , 0.27348525,        nan,        nan,        nan,\n",
       "              nan,        nan,        nan,        nan,        nan,\n",
       "              nan,        nan,        nan,        nan,        nan,\n",
       "              nan,        nan,        nan,        nan,        nan,\n",
       "              nan,        nan,        nan,        nan,        nan,\n",
       "              nan,        nan,        nan,        nan,        nan,\n",
       "              nan,        nan,        nan,        nan,        nan,\n",
       "              nan,        nan,        nan,        nan,        nan,\n",
       "              nan,        nan,        nan,        nan,        nan,\n",
       "              nan,        nan,        nan,        nan,        nan,\n",
       "              nan,        nan,        nan,        nan,        nan,\n",
       "              nan,        nan,        nan,        nan,        nan,\n",
       "              nan,        nan,        nan,        nan,        nan,\n",
       "              nan,        nan,        nan,        nan,        nan,\n",
       "              nan,        nan,        nan,        nan,        nan,\n",
       "              nan,        nan,        nan,        nan,        nan,\n",
       "              nan,        nan,        nan,        nan,        nan,\n",
       "              nan,        nan,        nan,        nan,        nan,\n",
       "              nan,        nan,        nan,        nan,        nan,\n",
       "              nan,        nan,        nan,        nan,        nan,\n",
       "              nan,        nan,        nan,        nan])"
      ]
     },
     "execution_count": 453,
     "metadata": {},
     "output_type": "execute_result"
    }
   ],
   "source": [
    "slopes"
   ]
  },
  {
   "cell_type": "code",
   "execution_count": null,
   "id": "250529f2-6162-4a1d-81ae-a49fc7159994",
   "metadata": {},
   "outputs": [],
   "source": []
  }
 ],
 "metadata": {
  "kernelspec": {
   "display_name": "Python 3 (ipykernel)",
   "language": "python",
   "name": "python3"
  },
  "language_info": {
   "codemirror_mode": {
    "name": "ipython",
    "version": 3
   },
   "file_extension": ".py",
   "mimetype": "text/x-python",
   "name": "python",
   "nbconvert_exporter": "python",
   "pygments_lexer": "ipython3",
   "version": "3.8.8"
  }
 },
 "nbformat": 4,
 "nbformat_minor": 5
}
